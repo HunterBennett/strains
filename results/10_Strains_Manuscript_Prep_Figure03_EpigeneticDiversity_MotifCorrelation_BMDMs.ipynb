{
 "cells": [
  {
   "cell_type": "markdown",
   "metadata": {},
   "source": [
    "Hunter Bennett | Glass Lab | Kupffer Strains Project | 4  May 2021\n",
    "\n",
    "Here we will make manuscript level plots of motif correlation in poised (ATAC) and active (H3K27Ac) data across the strains."
   ]
  },
  {
   "cell_type": "code",
   "execution_count": 1,
   "metadata": {},
   "outputs": [],
   "source": [
    "### header ###\n",
    "__author__ = \"Hunter Bennett\"\n",
    "__license__ = \"BSD\"\n",
    "__email__ = \"hunter.r.bennett@gmail.com\"\n",
    "%load_ext autoreload\n",
    "%autoreload 2\n",
    "### imports ###\n",
    "import sys\n",
    "%matplotlib inline\n",
    "import os\n",
    "import re\n",
    "import glob\n",
    "import pandas as pd\n",
    "import numpy as np\n",
    "import matplotlib\n",
    "import matplotlib.pyplot as plt \n",
    "import seaborn as sns\n",
    "\n",
    "# import custom functions\n",
    "import sys\n",
    "sys.path.insert(0, '/home/h1bennet/code/')\n",
    "from hbUtils import ngs_qc, quantile_normalize_df\n",
    "from plotting_scripts import label_point, pca_rpkm_mat, get_diff_volcano\n",
    "from homer_preprocessing import read_annotated_peaks, import_homer_diffpeak, pull_comparisons_get_diff\n",
    "from gene_expression_plots import survey_strain_amln_gene_exp, survey_strain_ccl4_gene_exp"
   ]
  },
  {
   "cell_type": "code",
   "execution_count": 2,
   "metadata": {},
   "outputs": [],
   "source": [
    "#### PLOTTING PARAMETERS FOR MANUSCRIPT ####\n",
    "# # get matplotlib to save readable fonts\n",
    "matplotlib.rcParams['pdf.fonttype'] = 42\n",
    "matplotlib.rcParams['ps.fonttype'] = 42\n",
    "matplotlib.rcParams['font.size'] = 6\n",
    "matplotlib.rcParams['savefig.dpi'] = 500\n",
    "\n",
    "# line widths\n",
    "matplotlib.rcParams['axes.linewidth'] = 1\n",
    "matplotlib.rcParams['xtick.major.width'] = 1\n",
    "matplotlib.rcParams['ytick.major.width'] = 1\n",
    "\n",
    "# adjust defualt color for plots to black\n",
    "# normal default is a dark gray\n",
    "COLOR = 'black'\n",
    "matplotlib.rcParams['text.color'] = COLOR\n",
    "matplotlib.rcParams['axes.labelcolor'] = COLOR\n",
    "matplotlib.rcParams['xtick.color'] = COLOR\n",
    "matplotlib.rcParams['ytick.color'] = COLOR\n",
    "matplotlib.rcParams['axes.edgecolor'] = COLOR\n",
    "\n",
    "# conversion factor between inches and mm\n",
    "mm_conv = 25.4 # 25.4 mm = 1 inch\n",
    "\n",
    "#### PLOT PARAMETERS FOR THIS PLOT ####"
   ]
  },
  {
   "cell_type": "code",
   "execution_count": 3,
   "metadata": {},
   "outputs": [],
   "source": [
    "atacDirectory = '/home/h1bennet/strains/results/07_Strains_Control_BMDM_MAH_ATAC/'\n",
    "h3k27acDirectory = '/home/h1bennet/strains/results/07_Strains_Control_BMDM_MAH_H3K27Ac/'\n",
    "workingDirectory = '/home/h1bennet/strains/results/10_Strains_Manuscript_Prep/'\n",
    "if not os.path.isdir(workingDirectory):\n",
    "    os.mkdir(workingDirectory)\n",
    "os.chdir(workingDirectory)"
   ]
  },
  {
   "cell_type": "markdown",
   "metadata": {},
   "source": [
    "Make diretory for plots"
   ]
  },
  {
   "cell_type": "code",
   "execution_count": 4,
   "metadata": {},
   "outputs": [],
   "source": [
    "if not os.path.isdir('./motif_correlation/'):\n",
    "    os.mkdir('./motif_correlation/')"
   ]
  },
  {
   "cell_type": "markdown",
   "metadata": {},
   "source": [
    "# Aggregate results - Homer"
   ]
  },
  {
   "cell_type": "code",
   "execution_count": 5,
   "metadata": {},
   "outputs": [],
   "source": [
    "atac_poised_motif_pval_dict = {}\n",
    "for f in np.sort(glob.glob(atacDirectory+'/poised_enhancers/*/knownResults.txt')):\n",
    "    # read in signifance values using pandas\n",
    "    frame = pd.read_csv(f, sep='\\t', index_col=0)\n",
    "    \n",
    "    # remove duplicates\n",
    "    frame = frame[~frame.index.duplicated(keep='first')]\n",
    "    pval = frame.iloc[:, 2]\n",
    "    \n",
    "    # extract name of sample\n",
    "    sample = f.split('/')[-2]\n",
    "    \n",
    "    # store in dict\n",
    "    atac_poised_motif_pval_dict[sample] = pval    \n",
    "    \n",
    "# create data frame\n",
    "atac_poised_motif_pval_frame = pd.DataFrame(atac_poised_motif_pval_dict)\n",
    "\n",
    "# sort by average p value\n",
    "atac_poised_motif_pval_frame = atac_poised_motif_pval_frame.reindex(atac_poised_motif_pval_frame.mean(axis=1).sort_values().index.tolist())\n"
   ]
  },
  {
   "cell_type": "code",
   "execution_count": 6,
   "metadata": {},
   "outputs": [],
   "source": [
    "atac_differential_motif_pval_dict = {}\n",
    "for f in np.sort(glob.glob(atacDirectory+'/motif_calling/*nobg_nodenovo/knownResults.txt')):\n",
    "    \n",
    "    # read in signifance values using pandas\n",
    "    frame = pd.read_csv(f, sep='\\t', index_col=0)\n",
    "    \n",
    "    # remove duplicates\n",
    "    frame = frame[~frame.index.duplicated(keep='first')]\n",
    "    pval = frame.iloc[:, 2]\n",
    "    \n",
    "    # extract name of sample\n",
    "    sample = f.split('/')[-2]\n",
    "    \n",
    "    # store in dict\n",
    "    atac_differential_motif_pval_dict[sample] = pval    \n",
    "    \n",
    "# create data frame\n",
    "atac_differential_motif_pval_frame = pd.DataFrame(atac_differential_motif_pval_dict)\n",
    "\n",
    "# sort by average p value\n",
    "atac_differential_motif_pval_frame = atac_differential_motif_pval_frame.reindex(atac_differential_motif_pval_frame.mean(axis=1).sort_values().index.tolist())\n"
   ]
  },
  {
   "cell_type": "code",
   "execution_count": 7,
   "metadata": {},
   "outputs": [],
   "source": [
    "h3k27ac_active_motif_pval_dict = {}\n",
    "for f in np.sort(glob.glob(h3k27acDirectory+'/active_enhancers/*/knownResults.txt')):\n",
    "    # read in signifance values using pandas\n",
    "    frame = pd.read_csv(f, sep='\\t', index_col=0)\n",
    "    \n",
    "    # remove duplicates\n",
    "    frame = frame[~frame.index.duplicated(keep='first')]\n",
    "    pval = frame.iloc[:, 2]\n",
    "    \n",
    "    # extract name of sample\n",
    "    sample = f.split('/')[-2]\n",
    "    \n",
    "    # store in dict\n",
    "    h3k27ac_active_motif_pval_dict[sample] = pval    \n",
    "    \n",
    "# create data frame\n",
    "h3k27ac_active_motif_pval_frame = pd.DataFrame(h3k27ac_active_motif_pval_dict)\n",
    "\n",
    "# sort by average p value\n",
    "h3k27ac_active_motif_pval_frame = h3k27ac_active_motif_pval_frame.reindex(h3k27ac_active_motif_pval_frame.mean(axis=1).sort_values().index.tolist())\n"
   ]
  },
  {
   "cell_type": "code",
   "execution_count": 8,
   "metadata": {},
   "outputs": [],
   "source": [
    "h3k27ac_differential_motif_pval_dict = {}\n",
    "for f in np.sort(glob.glob(h3k27acDirectory+'/motif_calling/*nobg_nodenovo/knownResults.txt')):\n",
    "    \n",
    "    # read in signifance values using pandas\n",
    "    frame = pd.read_csv(f, sep='\\t', index_col=0)\n",
    "    \n",
    "    # remove duplicates\n",
    "    frame = frame[~frame.index.duplicated(keep='first')]\n",
    "    pval = frame.iloc[:, 2]\n",
    "    \n",
    "    # extract name of sample\n",
    "    sample = f.split('/')[-2]\n",
    "    \n",
    "    # store in dict\n",
    "    h3k27ac_differential_motif_pval_dict[sample] = pval    \n",
    "    \n",
    "# create data frame\n",
    "h3k27ac_differential_motif_pval_frame = pd.DataFrame(h3k27ac_differential_motif_pval_dict)\n",
    "\n",
    "# sort by average p value\n",
    "h3k27ac_differential_motif_pval_frame = h3k27ac_differential_motif_pval_frame.reindex(h3k27ac_differential_motif_pval_frame.mean(axis=1).sort_values().index.tolist())\n"
   ]
  },
  {
   "cell_type": "markdown",
   "metadata": {},
   "source": [
    "# Scatter plot comparing motif scores across strains\n",
    "\n",
    "Goal here is to get a sense for how motif scores (compared to randomly generated background) vary across strain active enhancers, and compare to when we only include strain differential peaks, ideally this should highlight increasing strain divergence of motif significance."
   ]
  },
  {
   "cell_type": "code",
   "execution_count": 9,
   "metadata": {},
   "outputs": [],
   "source": [
    "# set plotting thresholds\n",
    "lfcthresh = (1,2)\n",
    "dotsize = 0.5\n",
    "ax_max = 15.5\n",
    "tickstep = 3\n",
    "ticklabel_font_size = 6\n",
    "label_font_size  = 8"
   ]
  },
  {
   "cell_type": "code",
   "execution_count": 12,
   "metadata": {
    "scrolled": false
   },
   "outputs": [
    {
     "data": {
      "image/png": "[encoded data removed]",
      "text/plain": [
       "<Figure size 255.118x340.157 with 4 Axes>"
      ]
     },
     "metadata": {
      "needs_background": "light"
     },
     "output_type": "display_data"
    }
   ],
   "source": [
    "fig, axs = plt.subplots(2, 2, figsize=(90/mm_conv,120/mm_conv))\n",
    "plt.subplots_adjust(hspace=0.2, wspace=0.3)\n",
    "\n",
    "\n",
    "# ATAC general motifs\n",
    "# axs[0,0].scatter(np.log2(-atac_poised_motif_pval_frame['C57Bl6J_poised_distal_enhancer_motifs']+1),\n",
    "#            np.log2(-atac_poised_motif_pval_frame['AJ_poised_distal_enhancer_motifs']+1),\n",
    "#            s=0.5,\n",
    "#            c='#636363',\n",
    "#            label='A/J')\n",
    "axs[0,0].scatter(np.log2(-atac_poised_motif_pval_frame['C57Bl6J_poised_distal_enhancer_motifs']+1),\n",
    "           np.log2(-atac_poised_motif_pval_frame['BALBcJ_poised_distal_enhancer_motifs']+1),\n",
    "           s=0.5,\n",
    "           c='#e6550d',\n",
    "           label='BALB/cJ')\n",
    "\n",
    "# Hide the right and top spines\n",
    "axs[0,0].spines['right'].set_visible(False)\n",
    "axs[0,0].spines['top'].set_visible(False)\n",
    "\n",
    "#set max and min\n",
    "axs[0,0].set_xlim([0,ax_max]);\n",
    "axs[0,0].set_ylim([0,ax_max]);\n",
    "\n",
    "# set title\n",
    "axs[0,0].set_title('Poised Enhancers',\n",
    "                   fontsize=8)\n",
    "\n",
    "axs[0,0].legend(markerscale=3,\n",
    "          loc='upper left',\n",
    "          fontsize=6,\n",
    "          frameon=False)\n",
    "\n",
    "# set ticks\n",
    "axs[0,0].set_xticks(np.arange(0,ax_max,tickstep));\n",
    "axs[0,0].set_xticklabels(np.arange(0,ax_max,tickstep, dtype=int), fontsize=ticklabel_font_size);\n",
    "axs[0,0].set_yticks(np.arange(0,ax_max,tickstep));\n",
    "axs[0,0].set_yticklabels(np.arange(0,ax_max,tickstep, dtype=int), fontsize=ticklabel_font_size);\n",
    "\n",
    "# set axis labels\n",
    "# axs[0,0].set_xlabel('C57BL/6J Motif Enrichment', fontsize=label_font_size);\n",
    "axs[0,0].set_ylabel('Strain 2 Motif Enrichment', fontsize=label_font_size);\n",
    "\n",
    "\n",
    "# ATAC strain specific motifs\n",
    "# axs[1,0].scatter(np.log2(-atac_differential_motif_pval_frame['c57bl6j_intersection_distal_motifs_nobg_nodenovo']+1),\n",
    "#            np.log2(-atac_differential_motif_pval_frame['aj_intersection_distal_motifs_nobg_nodenovo']+1),\n",
    "#            s=0.5,\n",
    "#            c='#636363',\n",
    "#            label='A/J')\n",
    "axs[1,0].scatter(np.log2(-atac_differential_motif_pval_frame['c57bl6j_intersection_distal_motifs_nobg_nodenovo']+1),\n",
    "           np.log2(-atac_differential_motif_pval_frame['balbcj_intersection_distal_motifs_nobg_nodenovo']+1),\n",
    "           s=0.5,\n",
    "           c='#e6550d',\n",
    "           label='BALB/cJ')\n",
    "\n",
    "# Hide the right and top spines\n",
    "axs[1,0].spines['right'].set_visible(False)\n",
    "axs[1,0].spines['top'].set_visible(False)\n",
    "\n",
    "#set max and min\n",
    "axs[0,1].set_xlim([0,12]);\n",
    "axs[0,1].set_ylim([0,12]);\n",
    "\n",
    "# # set title\n",
    "# axs[1,0].set_title('Strain Specific\\nATAC-seq',\n",
    "#                    fontsize=8)\n",
    "\n",
    "axs[1,0].legend(markerscale=3,\n",
    "          loc='upper left',\n",
    "          fontsize=6,\n",
    "          frameon=False)\n",
    "\n",
    "# set ticks\n",
    "axs[1,0].set_xticks(np.arange(0,13,tickstep));\n",
    "axs[1,0].set_xticklabels(np.arange(0,13,tickstep, dtype=int), fontsize=ticklabel_font_size);\n",
    "axs[1,0].set_yticks(np.arange(0,13,tickstep));\n",
    "axs[1,0].set_yticklabels(np.arange(0,13,tickstep, dtype=int), fontsize=ticklabel_font_size);\n",
    "\n",
    "# set axis labels\n",
    "axs[1,0].set_xlabel('C57BL6/J Motif Enrichment', fontsize=label_font_size);\n",
    "axs[1,0].set_ylabel('Strain 2 Motif Enrichment', fontsize=label_font_size);\n",
    "\n",
    "\n",
    "# H3K27Ac general motifs\n",
    "# axs[0,1].scatter(np.log2(-h3k27ac_active_motif_pval_frame['C57Bl6J_active_distal_enhancer_motifs']+1),\n",
    "#            np.log2(-h3k27ac_active_motif_pval_frame['AJ_active_distal_enhancer_motifs']+1),\n",
    "#            s=0.5,\n",
    "#            c='#636363',\n",
    "#            label='A/J')\n",
    "axs[0,1].scatter(np.log2(-h3k27ac_active_motif_pval_frame['C57Bl6J_active_distal_enhancer_motifs']+1),\n",
    "           np.log2(-h3k27ac_active_motif_pval_frame['BALBcJ_active_distal_enhancer_motifs']+1),\n",
    "           s=0.5,\n",
    "           c='#e6550d',\n",
    "           label='BALB/cJ')\n",
    "\n",
    "# Hide the right and top spines\n",
    "axs[0,1].spines['right'].set_visible(False)\n",
    "axs[0,1].spines['top'].set_visible(False)\n",
    "\n",
    "#set max and min\n",
    "axs[0,1].set_xlim([0,ax_max]);\n",
    "axs[0,1].set_ylim([0,ax_max]);\n",
    "\n",
    "# set title\n",
    "axs[0,1].set_title('Active Enhancers',\n",
    "                   fontsize=8)\n",
    "\n",
    "axs[0,1].legend(markerscale=3,\n",
    "          loc='upper left',\n",
    "          fontsize=6,\n",
    "          frameon=False)\n",
    "\n",
    "# set ticks\n",
    "axs[0,1].set_xticks(np.arange(0,ax_max,tickstep));\n",
    "axs[0,1].set_xticklabels(np.arange(0,ax_max,tickstep, dtype=int), fontsize=ticklabel_font_size);\n",
    "axs[0,1].set_yticks(np.arange(0,ax_max,tickstep));\n",
    "axs[0,1].set_yticklabels(np.arange(0,ax_max,tickstep, dtype=int), fontsize=ticklabel_font_size);\n",
    "\n",
    "# set axis labels\n",
    "# axs[0,1].set_xlabel('C57BL/6J Motif Enrichment', fontsize=label_font_size);\n",
    "# axs[0,1].set_ylabel('Strain 2 Motif Enrichment', fontsize=label_font_size);\n",
    "\n",
    "\n",
    "# H3K27Ac strain specific motifs\n",
    "# axs[1,1].scatter(np.log2(-h3k27ac_differential_motif_pval_frame['c57bl6j_intersection_distal_motifs_nobg_nodenovo']+1),\n",
    "#            np.log2(-atac_differential_motif_pval_frame['aj_intersection_distal_motifs_nobg_nodenovo']+1),\n",
    "#            s=0.5,\n",
    "#            c='#636363',\n",
    "#            label='A/J')\n",
    "axs[1,1].scatter(np.log2(-h3k27ac_differential_motif_pval_frame['c57bl6j_intersection_distal_motifs_nobg_nodenovo']+1),\n",
    "           np.log2(-atac_differential_motif_pval_frame['balbcj_intersection_distal_motifs_nobg_nodenovo']+1),\n",
    "           s=0.5,\n",
    "           c='#e6550d',\n",
    "           label='BALB/cJ')\n",
    "\n",
    "# Hide the right and top spines\n",
    "axs[1,1].spines['right'].set_visible(False)\n",
    "axs[1,1].spines['top'].set_visible(False)\n",
    "\n",
    "#set max and min\n",
    "axs[1,1].set_xlim([0,12]);\n",
    "axs[1,1].set_ylim([0,12]);\n",
    "\n",
    "# # set title\n",
    "# axs[1,1].set_title('Strain Spec.\\nH3K27Ac ChIP-seq',\n",
    "#                    fontsize=8)\n",
    "\n",
    "axs[1,1].legend(markerscale=3,\n",
    "          loc='upper left',\n",
    "          fontsize=6,\n",
    "          frameon=False)\n",
    "\n",
    "# set ticks\n",
    "axs[1,1].set_xticks(np.arange(0,13,tickstep));\n",
    "axs[1,1].set_xticklabels(np.arange(0,13,tickstep, dtype=int), fontsize=ticklabel_font_size);\n",
    "axs[1,1].set_yticks(np.arange(0,13,tickstep));\n",
    "axs[1,1].set_yticklabels(np.arange(0,13,tickstep, dtype=int), fontsize=ticklabel_font_size);\n",
    "\n",
    "# set axis labels\n",
    "axs[1,1].set_xlabel('C57BL6/J Motif Enrichment', fontsize=label_font_size);\n",
    "# axs[1,1].set_ylabel('Strain 2 Motif Enrichment', fontsize=label_font_size);\n",
    "\n",
    "plt.savefig('./motif_correlation/atac_h3k27ac_motif_corr.pdf',\n",
    "            dpi=500,\n",
    "            bbox_inches='tight')"
   ]
  },
  {
   "cell_type": "markdown",
   "metadata": {},
   "source": [
    "# ATAC-only"
   ]
  },
  {
   "cell_type": "code",
   "execution_count": 77,
   "metadata": {},
   "outputs": [
    {
     "data": {
      "image/png": "[encoded data removed]",
      "text/plain": [
       "<Figure size 113.386x113.386 with 1 Axes>"
      ]
     },
     "metadata": {
      "needs_background": "light"
     },
     "output_type": "display_data"
    }
   ],
   "source": [
    "fig, ax = plt.subplots(figsize=(40/mm_conv,40/mm_conv))\n",
    "\n",
    "ax.scatter(np.log2(-atac_poised_motif_pval_frame['C57Bl6J_poised_distal_enhancer_motifs']+1),\n",
    "           np.log2(-atac_poised_motif_pval_frame['AJ_poised_distal_enhancer_motifs']+1),\n",
    "           s=0.5,\n",
    "           c='#636363',\n",
    "           label='A/J')\n",
    "ax.scatter(np.log2(-atac_poised_motif_pval_frame['C57Bl6J_poised_distal_enhancer_motifs']+1),\n",
    "           np.log2(-atac_poised_motif_pval_frame['BALBcJ_poised_distal_enhancer_motifs']+1),\n",
    "           s=0.5,\n",
    "           c='#e6550d',\n",
    "           label='BALB/cJ')\n",
    "\n",
    "# Hide the right and top spines\n",
    "ax.spines['right'].set_visible(False)\n",
    "ax.spines['top'].set_visible(False)\n",
    "\n",
    "#set max and min\n",
    "ax.set_xlim([0,ax_max]);\n",
    "ax.set_ylim([0,ax_max]);\n",
    "\n",
    "ax.legend(markerscale=3,\n",
    "          frameon=False)\n",
    "\n",
    "# set ticks\n",
    "ax.set_xticks(np.arange(0,ax_max,tickstep));\n",
    "ax.set_xticklabels(np.arange(0,ax_max,tickstep, dtype=int), fontsize=ticklabel_font_size);\n",
    "ax.set_yticks(np.arange(0,ax_max,tickstep));\n",
    "ax.set_yticklabels(np.arange(0,ax_max,tickstep, dtype=int), fontsize=ticklabel_font_size);\n",
    "\n",
    "# set axis labels\n",
    "ax.set_xlabel('C57BL/6J Motif Enrichment', fontsize=label_font_size);\n",
    "ax.set_ylabel('Strain 2 Motif Enrichment', fontsize=label_font_size);\n",
    "\n",
    "plt.savefig('./motif_correlation/atac_only_test.pdf',\n",
    "            dpi=500,\n",
    "            bbox_inches='tight')"
   ]
  },
  {
   "cell_type": "code",
   "execution_count": null,
   "metadata": {},
   "outputs": [],
   "source": []
  },
  {
   "cell_type": "markdown",
   "metadata": {},
   "source": [
    "# plot separately (probably a waste of space)"
   ]
  },
  {
   "cell_type": "code",
   "execution_count": 25,
   "metadata": {},
   "outputs": [
    {
     "data": {
      "text/plain": [
       "Text(0, 12, 'R^2=1.00')"
      ]
     },
     "execution_count": 25,
     "metadata": {},
     "output_type": "execute_result"
    },
    {
     "data": {
      "image/png": "[encoded data removed]",
      "text/plain": [
       "<Figure size 504x216 with 2 Axes>"
      ]
     },
     "metadata": {
      "needs_background": "light"
     },
     "output_type": "display_data"
    }
   ],
   "source": [
    "fig, (ax1, ax2) = plt.subplots(1, 2, figsize=(7,3))\n",
    "plt.subplots_adjust(wspace=.5)\n",
    "ax1.scatter(np.log2(-atac_poised_motif_pval_frame['C57Bl6J_poised_distal_enhancer_motifs']+1),\n",
    "           np.log2(-atac_poised_motif_pval_frame['AJ_poised_distal_enhancer_motifs']+1),\n",
    "           s=0.5,\n",
    "           c='r')\n",
    "ax1.set_xlabel('C57BL/6J')\n",
    "ax1.set_ylabel('AJ')\n",
    "ax1.text(0,12,\n",
    "         'R^2=%.2f' % atac_poised_motif_pval_frame.corr().loc['C57Bl6J_poised_distal_enhancer_motifs',\n",
    "                                                    'AJ_poised_distal_enhancer_motifs']**2)\n",
    "\n",
    "ax2.scatter(np.log2(-atac_poised_motif_pval_frame['C57Bl6J_poised_distal_enhancer_motifs']+1),\n",
    "           np.log2(-atac_poised_motif_pval_frame['BALBcJ_poised_distal_enhancer_motifs']+1),\n",
    "           s=0.5,\n",
    "           c='b')\n",
    "ax2.set_xlabel('C57BL/6J')\n",
    "ax2.set_ylabel('BALB/cJ')\n",
    "ax2.text(0,12,\n",
    "         'R^2=%.2f' % atac_poised_motif_pval_frame.corr().loc['C57Bl6J_poised_distal_enhancer_motifs',\n",
    "                                                    'BALBcJ_poised_distal_enhancer_motifs']**2)"
   ]
  },
  {
   "cell_type": "code",
   "execution_count": null,
   "metadata": {},
   "outputs": [],
   "source": []
  }
 ],
 "metadata": {
  "kernelspec": {
   "display_name": "dataviz",
   "language": "python",
   "name": "dataviz"
  },
  "language_info": {
   "codemirror_mode": {
    "name": "ipython",
    "version": 3
   },
   "file_extension": ".py",
   "mimetype": "text/x-python",
   "name": "python",
   "nbconvert_exporter": "python",
   "pygments_lexer": "ipython3",
   "version": "3.7.5"
  }
 },
 "nbformat": 4,
 "nbformat_minor": 2
}
