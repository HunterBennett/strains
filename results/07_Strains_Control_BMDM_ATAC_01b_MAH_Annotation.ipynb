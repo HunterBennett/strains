{
 "cells": [
  {
   "cell_type": "markdown",
   "metadata": {},
   "source": [
    "Hunter Bennett | Glass Lab | Kupffer Strains Project | 06 May 2021"
   ]
  },
  {
   "cell_type": "code",
   "execution_count": 1,
   "metadata": {},
   "outputs": [],
   "source": [
    "### header ###\n",
    "__author__ = \"Hunter Bennett\"\n",
    "__license__ = \"BSD\"\n",
    "__email__ = \"hunter.r.bennett@gmail.com\"\n",
    "%load_ext autoreload\n",
    "%autoreload 2\n",
    "### imports ###\n",
    "import sys\n",
    "%matplotlib inline\n",
    "import os\n",
    "import re\n",
    "import glob\n",
    "import pandas as pd\n",
    "import numpy as np\n",
    "import matplotlib\n",
    "import matplotlib.pyplot as plt \n",
    "import matplotlib_venn as venn\n",
    "import seaborn as sns\n",
    "matplotlib.rcParams['savefig.dpi'] = 200\n",
    "sns.set(font_scale=1)\n",
    "sns.set_context('talk')\n",
    "sns.set_style('white')\n",
    "\n",
    "# import custom functions\n",
    "import sys\n",
    "sys.path.insert(0, '/home/h1bennet/code/')\n",
    "from hbUtils import ngs_qc, quantile_normalize_df\n",
    "from plotting_scripts import label_point, pca_rpkm_mat\n",
    "from homer_preprocessing import read_annotated_peaks"
   ]
  },
  {
   "cell_type": "markdown",
   "metadata": {},
   "source": [
    "# Set working directory"
   ]
  },
  {
   "cell_type": "code",
   "execution_count": 2,
   "metadata": {},
   "outputs": [],
   "source": [
    "# dataDirectory = '/home/h1bennet/strains/data/ATAC/control_cohort2/'\n",
    "workingDirectory = '/home/h1bennet/strains/results/07_Strains_Control_BMDM_MAH_ATAC/'\n",
    "if not os.path.isdir(workingDirectory):\n",
    "    os.mkdir(workingDirectory)\n",
    "os.chdir(workingDirectory)\n"
   ]
  },
  {
   "cell_type": "markdown",
   "metadata": {},
   "source": [
    "# Initial QC - take a look at ATAC data on browser hub"
   ]
  },
  {
   "cell_type": "markdown",
   "metadata": {},
   "source": [
    "    makeMultiWigHub.pl hrb_strains_atac_control_young_cohort2_qc mm10 -force -color \\\n",
    "    252,146,114 251,106,74 222,45,38 165,15,21 \\\n",
    "    158,202,225 107,174,214 49,130,189 8,81,156 \\\n",
    "    161,217,155 116,196,118 49,163,84 0,109,44 \\\n",
    "    -d /data/mm10/BMDM/ATAC/C57_BMDM_ATAC_notx_BC_16_05_06/ \\\n",
    "    /data/mm10/BMDM/ATAC/C57_BMDM_ATAC_notx_BC_16_02_11_and_16_09_15/ \\\n",
    "    /data/mm10/BMDM/ATAC/BALB_BMDM_ATAC_notx_BC_16_05_06/ \\\n",
    "    /data/mm10/BMDM/ATAC/BALB_BMDM_ATAC_notx_BC_16_02_11_and_16_09_15"
   ]
  },
  {
   "cell_type": "markdown",
   "metadata": {},
   "source": [
    "temporary map f1"
   ]
  },
  {
   "cell_type": "code",
   "execution_count": 3,
   "metadata": {},
   "outputs": [
    {
     "name": "stdout",
     "output_type": "stream",
     "text": [
      "ls: cannot access /data/scratch/troutman/trim30_cb6f1j_atac_210406/tag_directories/: No such file or directory\r\n"
     ]
    }
   ],
   "source": [
    "!ls /data/scratch/troutman/trim30_cb6f1j_atac_210406/tag_directories/"
   ]
  },
  {
   "cell_type": "markdown",
   "metadata": {},
   "source": [
    "    makeMultiWigHub.pl hrb_strains_atac_f1_young_qc mm10 -force -color \\\n",
    "    158,154,200 128,125,186 106,81,163 74,20,134 \\\n",
    "    -d /data/scratch/troutman/trim30_cb6f1j_atac_210406/tag_directories/*"
   ]
  },
  {
   "cell_type": "markdown",
   "metadata": {},
   "source": [
    "# We will start by using O'young's script to get the IDR peaks for each condition\n",
    "____\n",
    "These are rather annoying to make in my opinion but for the sake of consistancy with Ty we will use these going forward. Their structure is as follows:\n",
    "* Column 1: Group ID\n",
    "* Column 2: Color for analysis\n",
    "* Column 3: absolute path to files on epiglass for each sample in group, separated by semicolon\n",
    "* Column 4: corresponding short name for each sample in group, separated by semicolon\n",
    "\n",
    "Colors\n",
    "* C57Bl6/J: #4daf4a\n",
    "* Balbc/J: #3773b8\n",
    "* AJ: #e41a1c\n",
    "\n",
    "The output of peakIDR.R includes many things, the main thing we use are the final .idr peak files for each group\n"
   ]
  },
  {
   "cell_type": "code",
   "execution_count": 4,
   "metadata": {},
   "outputs": [],
   "source": [
    "balb_paths = ['/data/mm10/BMDM/ATAC/BALBC_F_BMDM_ATAC_notx_MAH_l20171019/',\n",
    "              '/data/mm10/BMDM/ATAC/BALBC_F_BMDM_ATAC_notx_rep2_MAH_l20171117/']\n",
    "c57_paths = ['/data/mm10/BMDM/ATAC/C57Bl6_F_BMDM_ATAC_notx_rep1_MAH_l20180703/',\n",
    "             '/data/mm10/BMDM/ATAC/C57Bl6_F_BMDM_ATAC_notx_rep2_MAH_l20180703/']"
   ]
  },
  {
   "cell_type": "code",
   "execution_count": 5,
   "metadata": {},
   "outputs": [],
   "source": [
    "balb_ids = ['rep1', 'rep2']\n",
    "c57_ids = ['rep1', 'rep2']"
   ]
  },
  {
   "cell_type": "code",
   "execution_count": 6,
   "metadata": {},
   "outputs": [],
   "source": [
    "ids = ['balbcj_bmdm_atac',\n",
    "       'c57bl6j_bmdm_atac']\n",
    "colors = ['#377eb8',\n",
    "          '#4daf4a']\n",
    "paths = [';'.join(balb_paths),\n",
    "         ';'.join(c57_paths)]\n",
    "short_ids = [';'.join(balb_ids),\n",
    "             ';'.join(c57_ids)]"
   ]
  },
  {
   "cell_type": "code",
   "execution_count": 7,
   "metadata": {},
   "outputs": [],
   "source": [
    "pd.DataFrame([ids,colors,paths,short_ids]).T.to_csv('./sampleDef.txt',\n",
    "                                                    sep='\\t',\n",
    "                                                    header=False,\n",
    "                                                    index=False)"
   ]
  },
  {
   "cell_type": "markdown",
   "metadata": {},
   "source": [
    "# Run peakIDR.R"
   ]
  },
  {
   "cell_type": "markdown",
   "metadata": {},
   "source": [
    "    source activate r-ouyangPipe\n",
    "    \n",
    "    alignStats.R sampleDef.txt > qcStats.txt\n",
    "    \n",
    "    peakIDR.R sampleDef.txt"
   ]
  },
  {
   "cell_type": "markdown",
   "metadata": {},
   "source": []
  },
  {
   "cell_type": "code",
   "execution_count": 9,
   "metadata": {},
   "outputs": [],
   "source": [
    "# %%bash\n",
    "# # if directories don't exist, create them\n",
    "# if [ ! -d ./atac_peak_files/ ]; then mkdir ./atac_peak_files; fi\n",
    "# # move IDR peaks into atac_peak_folder\n",
    "# mv *bmdm*.idr ./atac_peak_files"
   ]
  },
  {
   "cell_type": "markdown",
   "metadata": {},
   "source": [
    "### convert to bed files"
   ]
  },
  {
   "cell_type": "markdown",
   "metadata": {},
   "source": [
    "    mkdir ./atac_bed_files\n",
    "    pos2bed.pl -o ./atac_bed_files/aj_kupffer_control_young.bed \\\n",
    "    -track \"AJ ATAC IDR peaks\" ./atac_peak_files/aj_kupffer_control_young.idr\n",
    "    \n",
    "    pos2bed.pl -o ./atac_bed_files/balbcj_kupffer_control_young.bed \\\n",
    "    -track \"BALBcJ ATAC IDR peaks\" ./atac_peak_files/balbcj_kupffer_control_young.idr\n",
    "\n",
    "    pos2bed.pl -o ./atac_bed_files/c57bl6j_kupffer_control_young.bed \\\n",
    "    -track \"C57BL6J ATAC IDR peaks\" ./atac_peak_files/c57bl6j_kupffer_control_young.idr"
   ]
  },
  {
   "cell_type": "markdown",
   "metadata": {},
   "source": [
    "### Merge peaks"
   ]
  },
  {
   "cell_type": "code",
   "execution_count": 10,
   "metadata": {},
   "outputs": [],
   "source": [
    "if not os.path.isdir('./merged_peaks/'):\n",
    "    os.mkdir('./merged_peaks/')"
   ]
  },
  {
   "cell_type": "code",
   "execution_count": 11,
   "metadata": {},
   "outputs": [],
   "source": [
    "with open('./mergePeaks_homer.sh', 'w') as f:\n",
    "    peakfiles = np.sort(glob.glob('./atac_peak_files/*idr'))\n",
    "    merge_peaks = ['mergePeaks', '-d', 'given',\n",
    "                   ' '.join(peakfiles), '>',\n",
    "                   './merged_peaks/idr_peaks_merged.txt', '\\n']\n",
    "    f.write(' '.join(merge_peaks))    \n",
    "f.close()"
   ]
  },
  {
   "cell_type": "markdown",
   "metadata": {},
   "source": [
    "# Annotate peaks"
   ]
  },
  {
   "cell_type": "code",
   "execution_count": 59,
   "metadata": {},
   "outputs": [],
   "source": [
    "# grab relevant tag directories\n",
    "tagdirs = ['/data/mm10/BMDM/ATAC/BALBC_F_BMDM_ATAC_notx_MAH_l20171019/',\n",
    "         '/data/mm10/BMDM/ATAC/BALBC_F_BMDM_ATAC_notx_rep2_MAH_l20171117/',\n",
    "         '/data/mm10/BMDM/ATAC/C57Bl6_F_BMDM_ATAC_notx_rep1_MAH_l20180703/',\n",
    "         '/data/mm10/BMDM/ATAC/C57Bl6_F_BMDM_ATAC_notx_rep2_MAH_l20180703/']\n",
    "\n",
    "drop_files = ['00_NCoRWT_Kupffer_ATAC_control_young_LN12aM_JSS_150812',\n",
    "              '00_NCoRWT_Kupffer_ATAC_control_young_NNaF_JSS_150811']\n",
    "\n",
    "# drop files if necessary\n",
    "tagdirs = pd.Series(tagdirs)[~pd.Series(tagdirs).str.contains('|'.join(drop_files))].tolist()"
   ]
  },
  {
   "cell_type": "code",
   "execution_count": 60,
   "metadata": {},
   "outputs": [
    {
     "data": {
      "text/plain": [
       "['/data/mm10/BMDM/ATAC/BALBC_F_BMDM_ATAC_notx_MAH_l20171019/',\n",
       " '/data/mm10/BMDM/ATAC/BALBC_F_BMDM_ATAC_notx_rep2_MAH_l20171117/',\n",
       " '/data/mm10/BMDM/ATAC/C57Bl6_F_BMDM_ATAC_notx_rep1_MAH_l20180703/',\n",
       " '/data/mm10/BMDM/ATAC/C57Bl6_F_BMDM_ATAC_notx_rep2_MAH_l20180703/']"
      ]
     },
     "execution_count": 60,
     "metadata": {},
     "output_type": "execute_result"
    }
   ],
   "source": [
    "tagdirs"
   ]
  },
  {
   "cell_type": "markdown",
   "metadata": {},
   "source": [
    "Create script to annotate peaks with HOMER - its possible that this is resizing the peaks and thats why downstream we dont have to do anything"
   ]
  },
  {
   "cell_type": "code",
   "execution_count": 61,
   "metadata": {},
   "outputs": [],
   "source": [
    "with open('./annotatePeaks_homer.sh', 'w') as f:\n",
    "    annotate_raw = ['annotatePeaks.pl', './merged_peaks/idr_peaks_merged.txt',\n",
    "                       'mm10', '-size 200', '-raw', '-d \\\\\\n',\n",
    "                       ' \\\\\\n'.join(tagdirs), '>',\n",
    "                       './merged_peaks/ann_raw_idr_peaks_merged.txt &\\n\\n']\n",
    "    \n",
    "    annotate_norm = ['annotatePeaks.pl', './merged_peaks/idr_peaks_merged.txt',\n",
    "                       'mm10', '-size 200', '-norm 1e7', '-d \\\\\\n',\n",
    "                       ' \\\\\\n'.join(tagdirs), '>',\n",
    "                       './merged_peaks/ann_norm_idr_peaks_merged.txt &\\n']\n",
    "    \n",
    "    f.write(' '.join(annotate_raw))    \n",
    "    f.write(' '.join(annotate_norm))\n",
    "    \n",
    "    f.close()"
   ]
  },
  {
   "cell_type": "markdown",
   "metadata": {},
   "source": [
    "# Summary plots"
   ]
  },
  {
   "cell_type": "code",
   "execution_count": 15,
   "metadata": {},
   "outputs": [],
   "source": [
    "# make folder for figures\n",
    "if not os.path.isdir('./figures'):\n",
    "    os.mkdir('./figures')"
   ]
  },
  {
   "cell_type": "markdown",
   "metadata": {},
   "source": [
    "### Read in annotation files"
   ]
  },
  {
   "cell_type": "code",
   "execution_count": 63,
   "metadata": {},
   "outputs": [
    {
     "data": {
      "text/plain": [
       "Index(['Chr', 'Start', 'End', 'Strand', 'Peak Score',\n",
       "       'Focus Ratio/Region Size', 'Annotation', 'Detailed Annotation',\n",
       "       'Distance to TSS', 'Nearest PromoterID', 'Entrez ID', 'Nearest Unigene',\n",
       "       'Nearest Refseq', 'Nearest Ensembl', 'Gene Name', 'Gene Alias',\n",
       "       'Gene Description', 'Gene Type',\n",
       "       '/data/mm10/BMDM/ATAC/BALBC_F_BMDM_ATAC_notx_MAH_l20171019/',\n",
       "       '/data/mm10/BMDM/ATAC/BALBC_F_BMDM_ATAC_notx_rep2_MAH_l20171117/',\n",
       "       '/data/mm10/BMDM/ATAC/C57Bl6_F_BMDM_ATAC_notx_rep1_MAH_l20180703/',\n",
       "       '/data/mm10/BMDM/ATAC/C57Bl6_F_BMDM_ATAC_notx_rep2_MAH_l20180703/'],\n",
       "      dtype='object')"
      ]
     },
     "execution_count": 63,
     "metadata": {},
     "output_type": "execute_result"
    }
   ],
   "source": [
    "df.columns"
   ]
  },
  {
   "cell_type": "code",
   "execution_count": 64,
   "metadata": {},
   "outputs": [],
   "source": [
    "# import annotation file\n",
    "df, mat = read_annotated_peaks('./merged_peaks/ann_norm_idr_peaks_merged.txt')\n",
    "\n",
    "# shorten columns to make labeling nicer\n",
    "mat.columns = mat.columns.str.split('/').str[-2]\n",
    "\n",
    "# quantile normalize data\n",
    "mat_quant = quantile_normalize_df(mat)"
   ]
  },
  {
   "cell_type": "markdown",
   "metadata": {},
   "source": [
    "Filter low tag peaks"
   ]
  },
  {
   "cell_type": "code",
   "execution_count": 65,
   "metadata": {},
   "outputs": [
    {
     "name": "stdout",
     "output_type": "stream",
     "text": [
      "64925 total peaks\n",
      "filtering low tag count peaks\n",
      "64508 total peaks\n"
     ]
    }
   ],
   "source": [
    "# use group based mat filter - have to set manually\n",
    "print(mat.shape[0], 'total peaks')\n",
    "print('filtering low tag count peaks')\n",
    "groups=[[0,1], [2,3]]\n",
    "peaks = []\n",
    "for group in groups:\n",
    "    peaks.extend(mat.loc[mat.iloc[:, group].mean(1) > 5, :].index.tolist())\n",
    "mat = mat.reindex(list(set(peaks)))\n",
    "mat = mat.dropna(how='all')\n",
    "mat_quant = mat_quant.reindex(list(set(peaks)))\n",
    "mat_quant = mat_quant.dropna(how='all')\n",
    "print(mat.shape[0], 'total peaks')"
   ]
  },
  {
   "cell_type": "markdown",
   "metadata": {},
   "source": [
    "### Mean variance plot"
   ]
  },
  {
   "cell_type": "code",
   "execution_count": 66,
   "metadata": {},
   "outputs": [
    {
     "data": {
      "image/png": "[encoded data removed]",
      "text/plain": [
       "<Figure size 432x288 with 1 Axes>"
      ]
     },
     "metadata": {
      "needs_background": "light"
     },
     "output_type": "display_data"
    }
   ],
   "source": [
    "ax = plt.scatter(mat.mean(), mat.var())\n",
    "plt.xlabel('Average Peak Tags')\n",
    "plt.ylabel('Peak Tag Variance')\n",
    "label_point(mat.mean(),\n",
    "            mat.var(),\n",
    "            mat_quant.columns.str.split('_').str[0],\n",
    "            plt.gca())\n",
    "\n",
    "plt.savefig('./figures/mean_variance_plot.png',\n",
    "            bbox_inches='tight')"
   ]
  },
  {
   "cell_type": "markdown",
   "metadata": {},
   "source": [
    "### Try with quantile normalized data"
   ]
  },
  {
   "cell_type": "code",
   "execution_count": 67,
   "metadata": {
    "scrolled": true
   },
   "outputs": [
    {
     "data": {
      "image/png": "[encoded data removed]",
      "text/plain": [
       "<Figure size 432x288 with 1 Axes>"
      ]
     },
     "metadata": {
      "needs_background": "light"
     },
     "output_type": "display_data"
    }
   ],
   "source": [
    "ax = plt.scatter(mat_quant.mean(), mat_quant.var())\n",
    "plt.xlabel('Average Peak Tags')\n",
    "plt.ylabel('Peak Tag Variance')\n",
    "label_point(mat_quant.mean(),\n",
    "            mat_quant.var(),\n",
    "            mat_quant.columns.str.split('_').str[0],\n",
    "            plt.gca())\n",
    "\n",
    "plt.savefig('./figures/mean_variance_plot_quantnorm.png',\n",
    "            bbox_inches='tight')"
   ]
  },
  {
   "cell_type": "markdown",
   "metadata": {},
   "source": [
    "### Scatter plot"
   ]
  },
  {
   "cell_type": "code",
   "execution_count": 68,
   "metadata": {},
   "outputs": [],
   "source": [
    "# g = sns.PairGrid(np.log2(mat+1), height=10)\n",
    "# g.map(plt.scatter);\n",
    "# plt.savefig('./figures/atac_corr_scatter.png', bbox_inches='tight')"
   ]
  },
  {
   "cell_type": "code",
   "execution_count": 69,
   "metadata": {},
   "outputs": [],
   "source": [
    "# g = sns.PairGrid(np.log2(mat_quant+1), height=10)\n",
    "# g.map(plt.scatter);\n",
    "# plt.savefig('./figures/atac_corr_scatter_quantnorm.png', bbox_inches='tight')"
   ]
  },
  {
   "cell_type": "markdown",
   "metadata": {},
   "source": [
    "### Correlation heatmap"
   ]
  },
  {
   "cell_type": "code",
   "execution_count": 70,
   "metadata": {
    "scrolled": false
   },
   "outputs": [
    {
     "data": {
      "image/png": "[encoded data removed]",
      "text/plain": [
       "<Figure size 720x720 with 4 Axes>"
      ]
     },
     "metadata": {
      "needs_background": "light"
     },
     "output_type": "display_data"
    }
   ],
   "source": [
    "cm = sns.clustermap(mat.corr(), cmap='RdBu_r')\n",
    "plt.setp(cm.ax_heatmap.yaxis.get_majorticklabels(), rotation=0);\n",
    "plt.savefig('./figures/atac_correlation_heatmap.png', bbox_inches='tight')"
   ]
  },
  {
   "cell_type": "code",
   "execution_count": 71,
   "metadata": {},
   "outputs": [
    {
     "data": {
      "image/png": "[encoded data removed]",
      "text/plain": [
       "<Figure size 720x720 with 4 Axes>"
      ]
     },
     "metadata": {
      "needs_background": "light"
     },
     "output_type": "display_data"
    }
   ],
   "source": [
    "cm = sns.clustermap(mat_quant.corr(), cmap='RdBu_r')\n",
    "plt.setp(cm.ax_heatmap.yaxis.get_majorticklabels(), rotation=0);\n",
    "plt.savefig('./figures/atac_correlation_heatmap_quantnorm.png', bbox_inches='tight')"
   ]
  },
  {
   "cell_type": "code",
   "execution_count": 72,
   "metadata": {},
   "outputs": [],
   "source": [
    "mat_distal = mat.reindex(df.loc[np.abs(df['Distance to TSS']) >= 3000.0].index.tolist())\n",
    "mat_distal.dropna(inplace=True)"
   ]
  },
  {
   "cell_type": "code",
   "execution_count": 73,
   "metadata": {},
   "outputs": [
    {
     "data": {
      "image/png": "[encoded data removed]",
      "text/plain": [
       "<Figure size 720x720 with 4 Axes>"
      ]
     },
     "metadata": {
      "needs_background": "light"
     },
     "output_type": "display_data"
    }
   ],
   "source": [
    "cm = sns.clustermap(mat_distal.corr(), cmap='RdBu_r')\n",
    "plt.setp(cm.ax_heatmap.yaxis.get_majorticklabels(), rotation=0);\n",
    "plt.savefig('./figures/atac_correlation_distal_heatmap.png', bbox_inches='tight')"
   ]
  },
  {
   "cell_type": "markdown",
   "metadata": {},
   "source": [
    "# Principal Component Analysis"
   ]
  },
  {
   "cell_type": "markdown",
   "metadata": {},
   "source": [
    "Create sample ID data frame for ease of plotting"
   ]
  },
  {
   "cell_type": "code",
   "execution_count": 74,
   "metadata": {},
   "outputs": [],
   "source": [
    "# this part must be done manually - use the sample ID fields to pick out\n",
    "# identifiers for each sample.\n",
    "samples = pd.Series(mat.columns.str.split('/').str[-1])\n",
    "group = samples.str.split('_').str[0]\n",
    "strain = samples.str.split('_').str[2]\n",
    "cell = samples.str.split('_').str[4]\n",
    "treatment = samples.str.split('_').str[6]\n",
    "treatment_time = samples.str.split('_').str[7]\n",
    "mouseid = samples.str.split('_').str[8]\n",
    "sampledate = samples.str.split('_').str[10]\n",
    "                                        \n",
    "samplesDF = pd.DataFrame([pd.Series(samples),\n",
    "                          pd.Series(group),\n",
    "                          pd.Series(strain),\n",
    "                          pd.Series(cell),\n",
    "                          pd.Series(treatment),\n",
    "                          pd.Series(treatment_time),\n",
    "                          pd.Series(mouseid),\n",
    "                          pd.Series(sampledate)],\n",
    "                         index=['mouse', 'group', 'strain', 'celltype',\n",
    "                                'treatment', 'treatment_time', 'mouse_id',\n",
    "                                'sample_date']).T"
   ]
  },
  {
   "cell_type": "code",
   "execution_count": 75,
   "metadata": {},
   "outputs": [
    {
     "data": {
      "text/html": [
       "<div>\n",
       "<style scoped>\n",
       "    .dataframe tbody tr th:only-of-type {\n",
       "        vertical-align: middle;\n",
       "    }\n",
       "\n",
       "    .dataframe tbody tr th {\n",
       "        vertical-align: top;\n",
       "    }\n",
       "\n",
       "    .dataframe thead th {\n",
       "        text-align: right;\n",
       "    }\n",
       "</style>\n",
       "<table border=\"1\" class=\"dataframe\">\n",
       "  <thead>\n",
       "    <tr style=\"text-align: right;\">\n",
       "      <th></th>\n",
       "      <th>mouse</th>\n",
       "      <th>group</th>\n",
       "      <th>strain</th>\n",
       "      <th>celltype</th>\n",
       "      <th>treatment</th>\n",
       "      <th>treatment_time</th>\n",
       "      <th>mouse_id</th>\n",
       "      <th>sample_date</th>\n",
       "    </tr>\n",
       "  </thead>\n",
       "  <tbody>\n",
       "    <tr>\n",
       "      <th>0</th>\n",
       "      <td>BALBC_F_BMDM_ATAC_notx_MAH_l20171019</td>\n",
       "      <td>BALBC</td>\n",
       "      <td>BMDM</td>\n",
       "      <td>notx</td>\n",
       "      <td>l20171019</td>\n",
       "      <td>NaN</td>\n",
       "      <td>NaN</td>\n",
       "      <td>NaN</td>\n",
       "    </tr>\n",
       "    <tr>\n",
       "      <th>1</th>\n",
       "      <td>BALBC_F_BMDM_ATAC_notx_rep2_MAH_l20171117</td>\n",
       "      <td>BALBC</td>\n",
       "      <td>BMDM</td>\n",
       "      <td>notx</td>\n",
       "      <td>MAH</td>\n",
       "      <td>l20171117</td>\n",
       "      <td>NaN</td>\n",
       "      <td>NaN</td>\n",
       "    </tr>\n",
       "    <tr>\n",
       "      <th>2</th>\n",
       "      <td>C57Bl6_F_BMDM_ATAC_notx_rep1_MAH_l20180703</td>\n",
       "      <td>C57Bl6</td>\n",
       "      <td>BMDM</td>\n",
       "      <td>notx</td>\n",
       "      <td>MAH</td>\n",
       "      <td>l20180703</td>\n",
       "      <td>NaN</td>\n",
       "      <td>NaN</td>\n",
       "    </tr>\n",
       "    <tr>\n",
       "      <th>3</th>\n",
       "      <td>C57Bl6_F_BMDM_ATAC_notx_rep2_MAH_l20180703</td>\n",
       "      <td>C57Bl6</td>\n",
       "      <td>BMDM</td>\n",
       "      <td>notx</td>\n",
       "      <td>MAH</td>\n",
       "      <td>l20180703</td>\n",
       "      <td>NaN</td>\n",
       "      <td>NaN</td>\n",
       "    </tr>\n",
       "  </tbody>\n",
       "</table>\n",
       "</div>"
      ],
      "text/plain": [
       "                                        mouse   group strain celltype  \\\n",
       "0        BALBC_F_BMDM_ATAC_notx_MAH_l20171019   BALBC   BMDM     notx   \n",
       "1   BALBC_F_BMDM_ATAC_notx_rep2_MAH_l20171117   BALBC   BMDM     notx   \n",
       "2  C57Bl6_F_BMDM_ATAC_notx_rep1_MAH_l20180703  C57Bl6   BMDM     notx   \n",
       "3  C57Bl6_F_BMDM_ATAC_notx_rep2_MAH_l20180703  C57Bl6   BMDM     notx   \n",
       "\n",
       "   treatment treatment_time mouse_id sample_date  \n",
       "0  l20171019            NaN      NaN         NaN  \n",
       "1        MAH      l20171117      NaN         NaN  \n",
       "2        MAH      l20180703      NaN         NaN  \n",
       "3        MAH      l20180703      NaN         NaN  "
      ]
     },
     "execution_count": 75,
     "metadata": {},
     "output_type": "execute_result"
    }
   ],
   "source": [
    "samplesDF"
   ]
  },
  {
   "cell_type": "markdown",
   "metadata": {},
   "source": [
    "### Look at PCA plots for all the samples"
   ]
  },
  {
   "cell_type": "code",
   "execution_count": 76,
   "metadata": {},
   "outputs": [
    {
     "data": {
      "image/png": "[encoded data removed]",
      "text/plain": [
       "<Figure size 622.025x504 with 1 Axes>"
      ]
     },
     "metadata": {
      "needs_background": "light"
     },
     "output_type": "display_data"
    }
   ],
   "source": [
    "pca, exp_var, pcs = pca_rpkm_mat(rpkm=mat,\n",
    "                                 group_labels=samplesDF.group,\n",
    "                                 plot_size=7,\n",
    "                                 n_pca=3)\n",
    "\n",
    "# label_point(pca.PC1,\n",
    "#             pca.PC2,\n",
    "#             samplesDF.mouse_id,\n",
    "#             plt.gca())\n",
    "\n",
    "plt.savefig('./figures/atac_pca1_pca2.png', bbox_inches='tight')"
   ]
  },
  {
   "cell_type": "code",
   "execution_count": 77,
   "metadata": {
    "scrolled": false
   },
   "outputs": [
    {
     "data": {
      "image/png": "[encoded data removed]",
      "text/plain": [
       "<Figure size 622.025x504 with 1 Axes>"
      ]
     },
     "metadata": {
      "needs_background": "light"
     },
     "output_type": "display_data"
    }
   ],
   "source": [
    "pca, exp_var, pcs = pca_rpkm_mat(rpkm=mat_quant,\n",
    "                                 group_labels=samplesDF.group,\n",
    "                                 plot_size=7,\n",
    "                                 n_pca=3)\n",
    "# label_point(pca.PC1,\n",
    "#             pca.PC2,\n",
    "#             samplesDF.mouse_id,\n",
    "#             plt.gca())\n",
    "\n",
    "plt.savefig('./figures/atac_pca1_pca2_quantnorm.png', bbox_inches='tight')"
   ]
  },
  {
   "cell_type": "code",
   "execution_count": 78,
   "metadata": {
    "scrolled": false
   },
   "outputs": [
    {
     "data": {
      "image/png": "[encoded data removed]",
      "text/plain": [
       "<Figure size 622.025x504 with 1 Axes>"
      ]
     },
     "metadata": {
      "needs_background": "light"
     },
     "output_type": "display_data"
    }
   ],
   "source": [
    "pca, exp_var, pcs = pca_rpkm_mat(rpkm=mat_distal,\n",
    "                                 group_labels=samplesDF.group,\n",
    "                                 plot_size=7,\n",
    "                                 n_pca=3)\n",
    "\n",
    "# label_point(pca.PC1,\n",
    "#             pca.PC2,\n",
    "#             samplesDF.mouse_id,\n",
    "#             plt.gca())\n",
    "\n",
    "plt.savefig('./figures/atac_distal_pca1_pca2.png', bbox_inches='tight')"
   ]
  },
  {
   "cell_type": "markdown",
   "metadata": {},
   "source": [
    "BALB4 has way more reads than the rest of the samples... in this case it has been normalized and looks fine compared to all the other samples. Not sure how this will effect differential peak calling..."
   ]
  },
  {
   "cell_type": "markdown",
   "metadata": {},
   "source": [
    "# Make Venn Diagram of Active Enhancers"
   ]
  },
  {
   "cell_type": "code",
   "execution_count": 79,
   "metadata": {},
   "outputs": [],
   "source": [
    "from matplotlib_venn import venn3"
   ]
  },
  {
   "cell_type": "code",
   "execution_count": 80,
   "metadata": {},
   "outputs": [],
   "source": [
    "groups = ['BALBcJ', 'C57Bl6J']\n",
    "columns = [[0,1],\n",
    "           [2,3]]\n",
    "\n",
    "avg_tags = {}\n",
    "\n",
    "for group, col in zip(groups, columns):\n",
    "    avg_tags[group] = mat.iloc[:, col].mean(1)\n",
    "    \n",
    "avg_tags_df = pd.DataFrame(avg_tags)"
   ]
  },
  {
   "cell_type": "code",
   "execution_count": 81,
   "metadata": {},
   "outputs": [],
   "source": [
    "thresh=16\n",
    "\n",
    "peak_dict = {}\n",
    "for col in avg_tags_df.columns:\n",
    "    peak_dict[col] = avg_tags_df.index[avg_tags_df[col]>thresh].tolist()"
   ]
  },
  {
   "cell_type": "code",
   "execution_count": 82,
   "metadata": {},
   "outputs": [
    {
     "data": {
      "text/plain": [
       "['Merged-chr15-86204117-2',\n",
       " 'Merged-chr18-5334431-2',\n",
       " 'Merged-chr16-36072065-2',\n",
       " 'Merged-chr10-24635545-2',\n",
       " 'Merged-chr7-130903846-2',\n",
       " 'Merged-chr2-167375382-2',\n",
       " 'Merged-chr8-95107446-1',\n",
       " 'Merged-chr4-32768260-2',\n",
       " 'Merged-chr19-37495408-2',\n",
       " 'Merged-chr9-108831753-2',\n",
       " 'Merged-chr7-66309753-2',\n",
       " 'Merged-chr11-115512920-2',\n",
       " 'Merged-chr1-84363376-2',\n",
       " 'Merged-chr8-121930221-2',\n",
       " 'Merged-chr8-4238764-2',\n",
       " 'Merged-chr9-110676781-2',\n",
       " 'Merged-chr1-89302775-2',\n",
       " 'Merged-chr15-73148921-2',\n",
       " 'Merged-chr18-80138539-1',\n",
       " 'Merged-chr8-77275783-1',\n",
       " 'Merged-chr2-181680090-2',\n",
       " 'Merged-chr10-117731393-2',\n",
       " 'Merged-chr1-153899857-2',\n",
       " 'Merged-chr15-83565665-2',\n",
       " 'Merged-chr19-9931290-2',\n",
       " 'Merged-chr9-123021377-2',\n",
       " 'Merged-chr4-43044058-2',\n",
       " 'Merged-chr1-191557328-2',\n",
       " 'Merged-chr19-45048250-2',\n",
       " 'Merged-chr3-30793328-2',\n",
       " 'Merged-chr16-52060441-2',\n",
       " 'Merged-chr5-65102872-2',\n",
       " 'Merged-chr8-71559080-2',\n",
       " 'Merged-chr7-16615319-2',\n",
       " 'Merged-chr1-77280872-2',\n",
       " 'Merged-chr12-41023989-2',\n",
       " 'Merged-chr17-80997389-2',\n",
       " 'Merged-chr10-93317042-1',\n",
       " 'Merged-chr10-93539980-2',\n",
       " 'Merged-chr6-35150311-1',\n",
       " 'Merged-chr5-134509183-2',\n",
       " 'Merged-chr6-146172411-2',\n",
       " 'Merged-chr14-67008521-1',\n",
       " 'Merged-chr3-152463614-1',\n",
       " 'Merged-chr7-106617121-1',\n",
       " 'Merged-chr4-107178469-2',\n",
       " 'Merged-chr1-92712656-1',\n",
       " 'Merged-chr2-28343655-2',\n",
       " 'Merged-chr18-62047154-2',\n",
       " 'Merged-chr4-140688476-2',\n",
       " 'Merged-chr3-104523756-2',\n",
       " 'Merged-chr15-25563834-1',\n",
       " 'Merged-chr13-38960540-2',\n",
       " 'Merged-chr1-36162868-2',\n",
       " 'Merged-chr5-117116065-2',\n",
       " 'Merged-chr2-6213235-2',\n",
       " 'Merged-chr9-57433471-2',\n",
       " 'Merged-chr7-16312412-1',\n",
       " 'Merged-chr14-22587936-1',\n",
       " 'Merged-chr1-185350017-2',\n",
       " 'Merged-chr16-25059352-1',\n",
       " 'Merged-chr1-165697730-2',\n",
       " 'Merged-chr12-74192715-2',\n",
       " 'Merged-chr14-73525290-1',\n",
       " 'Merged-chr10-99263211-2',\n",
       " 'Merged-chr17-57228210-2',\n",
       " 'Merged-chr18-9552394-1',\n",
       " 'Merged-chr4-99715635-2',\n",
       " 'Merged-chr4-143412696-2',\n",
       " 'Merged-chr2-71843511-2',\n",
       " 'Merged-chr8-70562895-1',\n",
       " 'Merged-chr7-143414467-1',\n",
       " 'Merged-chr12-52097760-2',\n",
       " 'Merged-chr11-88162276-2',\n",
       " 'Merged-chr2-163229248-2',\n",
       " 'Merged-chr2-148873179-1',\n",
       " 'Merged-chr11-6389235-2',\n",
       " 'Merged-chr13-102094386-2',\n",
       " 'Merged-chr5-29569151-2',\n",
       " 'Merged-chr18-60500663-1',\n",
       " 'Merged-chr11-101115787-2',\n",
       " 'Merged-chr11-3135047-2',\n",
       " 'Merged-chr19-55741692-2',\n",
       " 'Merged-chr10-85266357-1',\n",
       " 'Merged-chr9-109914462-2',\n",
       " 'Merged-chr17-32389347-2',\n",
       " 'Merged-chr12-85129779-1',\n",
       " 'Merged-chr2-130030048-1',\n",
       " 'Merged-chr4-45342543-1',\n",
       " 'Merged-chr12-85374711-1',\n",
       " 'Merged-chr6-146125213-1',\n",
       " 'Merged-chr2-71367706-2',\n",
       " 'Merged-chr2-119167700-2',\n",
       " 'Merged-chr1-65091793-1',\n",
       " 'Merged-chr10-127594677-1',\n",
       " 'Merged-chr13-46360977-2',\n",
       " 'Merged-chr6-30693819-2',\n",
       " 'Merged-chr10-60746721-1',\n",
       " 'Merged-chr7-73618298-1',\n",
       " 'Merged-chr7-3617330-2',\n",
       " 'Merged-chr2-79696149-2',\n",
       " 'Merged-chr18-88532880-2',\n",
       " 'Merged-chr2-24776377-1',\n",
       " 'Merged-chr13-94295055-1',\n",
       " 'Merged-chr14-121915894-1',\n",
       " 'Merged-chr10-21847195-2',\n",
       " 'Merged-chr15-58749256-2',\n",
       " 'Merged-chr8-115742801-2',\n",
       " 'Merged-chr19-11517560-2',\n",
       " 'Merged-chr3-81051711-2',\n",
       " 'Merged-chr7-19824272-2',\n",
       " 'Merged-chr12-111726322-2',\n",
       " 'Merged-chr5-142895247-2',\n",
       " 'Merged-chr7-130657972-2',\n",
       " 'Merged-chr9-108809883-2',\n",
       " 'Merged-chr19-41341793-2',\n",
       " 'Merged-chr7-102597674-1',\n",
       " 'Merged-chr15-67107220-1',\n",
       " 'Merged-chr18-46621669-2',\n",
       " 'Merged-chr8-3672066-1',\n",
       " 'Merged-chr14-47354229-2',\n",
       " 'Merged-chr14-73237962-2',\n",
       " 'Merged-chr15-100599019-2',\n",
       " 'Merged-chr13-40321316-1',\n",
       " 'Merged-chr2-163419247-1',\n",
       " 'Merged-chr2-128364366-2',\n",
       " 'Merged-chr4-119108674-2',\n",
       " 'Merged-chr5-53588652-2',\n",
       " 'Merged-chr17-46933141-2',\n",
       " 'Merged-chr10-81129510-2',\n",
       " 'Merged-chr15-86051290-2',\n",
       " 'Merged-chr1-192078611-2',\n",
       " 'Merged-chr5-134607315-2',\n",
       " 'Merged-chr3-142827022-1',\n",
       " 'Merged-chr18-6241509-2',\n",
       " 'Merged-chr3-89164750-2',\n",
       " 'Merged-chr7-101093360-2',\n",
       " 'Merged-chr12-73963745-2',\n",
       " 'Merged-chr12-100839395-2',\n",
       " 'Merged-chr8-128205007-2',\n",
       " 'Merged-chr2-128943890-1',\n",
       " 'Merged-chr9-70207223-2',\n",
       " 'Merged-chr14-20654990-2',\n",
       " 'Merged-chr5-65561278-2',\n",
       " 'Merged-chr6-134461315-1',\n",
       " 'Merged-chr2-133458887-2',\n",
       " 'Merged-chr9-41049484-1',\n",
       " 'Merged-chr18-83870899-2',\n",
       " 'Merged-chr4-66827619-2',\n",
       " 'Merged-chr2-167906949-2',\n",
       " 'Merged-chr7-28809199-2',\n",
       " 'Merged-chr13-48764025-1',\n",
       " 'Merged-chr9-118632557-2',\n",
       " 'Merged-chr15-27856381-3',\n",
       " 'Merged-chr14-55590193-1',\n",
       " 'Merged-chr11-32205361-2',\n",
       " 'Merged-chr11-63135347-1',\n",
       " 'Merged-chr13-43561219-2',\n",
       " 'Merged-chr11-76543520-1',\n",
       " 'Merged-chr10-111074146-2',\n",
       " 'Merged-chr7-80044427-2',\n",
       " 'Merged-chr2-38514610-2',\n",
       " 'Merged-chr7-67464802-2',\n",
       " 'Merged-chr13-52188793-2',\n",
       " 'Merged-chr4-8667291-2',\n",
       " 'Merged-chr14-120137936-2',\n",
       " 'Merged-chr6-115970135-1',\n",
       " 'Merged-chr14-47351090-2',\n",
       " 'Merged-chr9-57425357-2',\n",
       " 'Merged-chr1-93478441-2',\n",
       " 'Merged-chr3-149170405-1',\n",
       " 'Merged-chr17-66710763-2',\n",
       " 'Merged-chr7-113369360-2',\n",
       " 'Merged-chr15-101318321-2',\n",
       " 'Merged-chr15-100227869-3',\n",
       " 'Merged-chr16-23988806-2',\n",
       " 'Merged-chr6-88136290-2',\n",
       " 'Merged-chr17-72967119-2',\n",
       " 'Merged-chr1-74237079-2',\n",
       " 'Merged-chr13-88828490-2',\n",
       " 'Merged-chr7-101971316-1',\n",
       " 'Merged-chr2-31082820-2',\n",
       " 'Merged-chr17-33394653-2',\n",
       " 'Merged-chr9-61960980-2',\n",
       " 'Merged-chr6-38338152-1',\n",
       " 'Merged-chr3-69560127-2',\n",
       " 'Merged-chr13-9150022-1',\n",
       " 'Merged-chr4-53250509-2',\n",
       " 'Merged-chr5-64505395-2',\n",
       " 'Merged-chr2-180979949-1',\n",
       " 'Merged-chr10-80223371-2',\n",
       " 'Merged-chr11-119249136-2',\n",
       " 'Merged-chr14-22535575-1',\n",
       " 'Merged-chr11-51927326-2',\n",
       " 'Merged-chr11-20631731-1',\n",
       " 'Merged-chr8-82874356-2',\n",
       " 'Merged-chr6-67105525-1',\n",
       " 'Merged-chr10-95670060-1',\n",
       " 'Merged-chr17-31039843-2',\n",
       " 'Merged-chr17-47156401-2',\n",
       " 'Merged-chr16-21642167-2',\n",
       " 'Merged-chr11-98907739-2',\n",
       " 'Merged-chr17-35868357-2',\n",
       " 'Merged-chr3-105898529-2',\n",
       " 'Merged-chr9-54467711-2',\n",
       " 'Merged-chr1-165768477-1',\n",
       " 'Merged-chr7-25239372-2',\n",
       " 'Merged-chr10-60269018-2',\n",
       " 'Merged-chr5-3787711-2',\n",
       " 'Merged-chr15-73492401-1',\n",
       " 'Merged-chr4-134764007-2',\n",
       " 'Merged-chr19-10803952-2',\n",
       " 'Merged-chr2-152684216-1',\n",
       " 'Merged-chr8-72583211-2',\n",
       " 'Merged-chr4-135948385-2',\n",
       " 'Merged-chr10-115343217-2',\n",
       " 'Merged-chr3-88510132-2',\n",
       " 'Merged-chr15-3979526-2',\n",
       " 'Merged-chr2-29253722-2',\n",
       " 'Merged-chr8-33929792-1',\n",
       " 'Merged-chr7-139415673-1',\n",
       " 'Merged-chr7-19360576-1',\n",
       " 'Merged-chr17-26497461-1',\n",
       " 'Merged-chr14-74722081-2',\n",
       " 'Merged-chr16-37689466-2',\n",
       " 'Merged-chr6-83017287-2',\n",
       " 'Merged-chr11-64496859-2',\n",
       " 'Merged-chr5-64834474-2',\n",
       " 'Merged-chr2-3158881-1',\n",
       " 'Merged-chr9-121372165-1',\n",
       " 'Merged-chr4-134187224-2',\n",
       " 'Merged-chr8-125518545-2',\n",
       " 'Merged-chr7-126976111-2',\n",
       " 'Merged-chr4-47314116-2',\n",
       " 'Merged-chr10-13193153-2',\n",
       " 'Merged-chr12-87147553-2',\n",
       " 'Merged-chr18-80255253-2',\n",
       " 'Merged-chr14-51166308-2',\n",
       " 'Merged-chr15-94543632-2',\n",
       " 'Merged-chr2-94406647-2',\n",
       " 'Merged-chr2-168205482-2',\n",
       " 'Merged-chr14-30550049-2',\n",
       " 'Merged-chr1-71988277-2',\n",
       " 'Merged-chr6-134102590-2',\n",
       " 'Merged-chr13-42829187-2',\n",
       " 'Merged-chr4-32570176-2',\n",
       " 'Merged-chr2-164960794-1',\n",
       " 'Merged-chr18-58568481-1',\n",
       " 'Merged-chr10-10315845-1',\n",
       " 'Merged-chr17-6106609-2',\n",
       " 'Merged-chr7-139950019-1',\n",
       " 'Merged-chr1-9944153-2',\n",
       " 'Merged-chr2-20969017-1',\n",
       " 'Merged-chr12-35292142-2',\n",
       " 'Merged-chr5-139398509-2',\n",
       " 'Merged-chr9-43105948-2',\n",
       " 'Merged-chr2-74825812-1',\n",
       " 'Merged-chr10-91242814-2',\n",
       " 'Merged-chr11-32644229-2',\n",
       " 'Merged-chr3-51709375-1',\n",
       " 'Merged-chr13-108775130-2',\n",
       " 'Merged-chr10-80930499-2',\n",
       " 'Merged-chr18-31759852-2',\n",
       " 'Merged-chr2-50842077-2',\n",
       " 'Merged-chr6-83613397-2',\n",
       " 'Merged-chr4-155178453-2',\n",
       " 'Merged-chr5-31628732-1',\n",
       " 'Merged-chr19-29500521-1',\n",
       " 'Merged-chr18-61666542-1',\n",
       " 'Merged-chr18-23869161-2',\n",
       " 'Merged-chr8-121861510-2',\n",
       " 'Merged-chr1-132007498-2',\n",
       " 'Merged-chr6-92199623-2',\n",
       " 'Merged-chr15-34082767-2',\n",
       " 'Merged-chr12-104983581-2',\n",
       " 'Merged-chr1-91046426-2',\n",
       " 'Merged-chr8-25331398-2',\n",
       " 'Merged-chr11-75654870-2',\n",
       " 'Merged-chr2-167717430-2',\n",
       " 'Merged-chr2-157991263-1',\n",
       " 'Merged-chr6-89362562-2',\n",
       " 'Merged-chr11-76901689-1',\n",
       " 'Merged-chr5-72559681-2',\n",
       " 'Merged-chr11-102430420-2',\n",
       " 'Merged-chr11-109247082-2',\n",
       " 'Merged-chr18-34751662-2',\n",
       " 'Merged-chr7-45053160-2',\n",
       " 'Merged-chr4-132076860-2',\n",
       " 'Merged-chr4-40269887-1',\n",
       " 'Merged-chr1-87901113-2',\n",
       " 'Merged-chr18-34675870-2',\n",
       " 'Merged-chr3-65529387-2',\n",
       " 'Merged-chr5-143909539-1',\n",
       " 'Merged-chr4-63544764-2',\n",
       " 'Merged-chr3-94851900-1',\n",
       " 'Merged-chr4-133707140-2',\n",
       " 'Merged-chr14-25479920-1',\n",
       " 'Merged-chr5-135009203-2',\n",
       " 'Merged-chr13-107022472-2',\n",
       " 'Merged-chr4-126096598-2',\n",
       " 'Merged-chr17-80138998-2',\n",
       " 'Merged-chr8-69996459-2',\n",
       " 'Merged-chr6-5233931-1',\n",
       " 'Merged-chr10-89741201-2',\n",
       " 'Merged-chr1-172525334-2',\n",
       " 'Merged-chr9-115608617-2',\n",
       " 'Merged-chr7-126369918-1',\n",
       " 'Merged-chr12-69892625-1',\n",
       " 'Merged-chr7-123082431-2',\n",
       " 'Merged-chr11-117963549-2',\n",
       " 'Merged-chr9-124282260-2',\n",
       " 'Merged-chr10-58323443-2',\n",
       " 'Merged-chr16-38900212-1',\n",
       " 'Merged-chr7-123124084-2',\n",
       " 'Merged-chr2-148681122-2',\n",
       " 'Merged-chr17-27588486-1',\n",
       " 'Merged-chr16-17721338-2',\n",
       " 'Merged-chr5-144267770-2',\n",
       " 'Merged-chr12-112517174-2',\n",
       " 'Merged-chr9-7332000-2',\n",
       " 'Merged-chr8-125344083-2',\n",
       " 'Merged-chr2-3118322-2',\n",
       " 'Merged-chr6-125148688-2',\n",
       " 'Merged-chr4-135053787-2',\n",
       " 'Merged-chr14-104005392-2',\n",
       " 'Merged-chr13-37355809-2',\n",
       " 'Merged-chr17-87327117-2',\n",
       " 'Merged-chr1-120044864-1',\n",
       " 'Merged-chr17-29054092-2',\n",
       " 'Merged-chr2-46443276-2',\n",
       " 'Merged-chr11-8689043-2',\n",
       " 'Merged-chr15-73442557-2',\n",
       " 'Merged-chr19-21077960-2',\n",
       " 'Merged-chr10-81037348-2',\n",
       " 'Merged-chr9-106308758-2',\n",
       " 'Merged-chr5-31240823-2',\n",
       " 'Merged-chr16-22124434-1',\n",
       " 'Merged-chr3-84582702-2',\n",
       " 'Merged-chr12-85177310-2',\n",
       " 'Merged-chr7-101052061-1',\n",
       " 'Merged-chr2-117405684-2',\n",
       " 'Merged-chr8-26239744-2',\n",
       " 'Merged-chr2-32846387-2',\n",
       " 'Merged-chr1-89876856-2',\n",
       " 'Merged-chr2-32631883-1',\n",
       " 'Merged-chr6-54946721-1',\n",
       " 'Merged-chr11-70280630-2',\n",
       " 'Merged-chr15-80364072-2',\n",
       " 'Merged-chr10-120848882-1',\n",
       " 'Merged-chr11-3198206-2',\n",
       " 'Merged-chr8-83662514-2',\n",
       " 'Merged-chr7-25719074-2',\n",
       " 'Merged-chr3-84666188-2',\n",
       " 'Merged-chr11-4222451-2',\n",
       " 'Merged-chr18-37848784-1',\n",
       " 'Merged-chr2-160269522-1',\n",
       " 'Merged-chr14-118691109-2',\n",
       " 'Merged-chr8-26154080-1',\n",
       " 'Merged-chr11-71159604-2',\n",
       " 'Merged-chr1-153487672-2',\n",
       " 'Merged-chr1-166430017-2',\n",
       " 'Merged-chr17-5239070-2',\n",
       " 'Merged-chr2-146872896-2',\n",
       " 'Merged-chr4-134757063-1',\n",
       " 'Merged-chr9-64020681-1',\n",
       " 'Merged-chr17-27501016-1',\n",
       " 'Merged-chr9-123113173-2',\n",
       " 'Merged-chr13-36218568-1',\n",
       " 'Merged-chr15-36937241-1',\n",
       " 'Merged-chr13-44731026-1',\n",
       " 'Merged-chr10-77515884-2',\n",
       " 'Merged-chr3-99141364-2',\n",
       " 'Merged-chr14-75787049-2',\n",
       " 'Merged-chr8-125725202-2',\n",
       " 'Merged-chr1-192077472-1',\n",
       " 'Merged-chr8-75086242-2',\n",
       " 'Merged-chr5-108268810-2',\n",
       " 'Merged-chr7-102513236-2',\n",
       " 'Merged-chr1-156459829-2',\n",
       " 'Merged-chr9-3027466-1',\n",
       " 'Merged-chr3-52930390-1',\n",
       " 'Merged-chr1-131135335-2',\n",
       " 'Merged-chr7-98522752-2',\n",
       " 'Merged-chr18-66002736-2',\n",
       " 'Merged-chr19-3907094-2',\n",
       " 'Merged-chr11-50224595-2',\n",
       " 'Merged-chr6-28480176-2',\n",
       " 'Merged-chr3-27270300-2',\n",
       " 'Merged-chr10-61199782-1',\n",
       " 'Merged-chr16-17210232-2',\n",
       " 'Merged-chr16-33756141-2',\n",
       " 'Merged-chr6-67041394-1',\n",
       " 'Merged-chr10-60369606-2',\n",
       " 'Merged-chr17-80768189-2',\n",
       " 'Merged-chr9-61436280-2',\n",
       " 'Merged-chr14-74996723-1',\n",
       " 'Merged-chr11-46467095-2',\n",
       " 'Merged-chr2-77281262-2',\n",
       " 'Merged-chr10-94605667-2',\n",
       " 'Merged-chr1-72106827-2',\n",
       " 'Merged-chr1-120451700-1',\n",
       " 'Merged-chr1-191193754-2',\n",
       " 'Merged-chr3-109249063-2',\n",
       " 'Merged-chr8-95715870-2',\n",
       " 'Merged-chr5-122108289-2',\n",
       " 'Merged-chr8-61487718-1',\n",
       " 'Merged-chr18-38367433-2',\n",
       " 'Merged-chr7-45062747-1',\n",
       " 'Merged-chr1-134725421-1',\n",
       " 'Merged-chr11-51856067-2',\n",
       " 'Merged-chr10-98774966-2',\n",
       " 'Merged-chr1-86191033-2',\n",
       " 'Merged-chr6-56923909-2',\n",
       " 'Merged-chr11-83640368-2',\n",
       " 'Merged-chr5-3494570-2',\n",
       " 'Merged-chr10-51531002-2',\n",
       " 'Merged-chr10-128748432-2',\n",
       " 'Merged-chr8-14992907-2',\n",
       " 'Merged-chr11-75462524-2',\n",
       " 'Merged-chr7-4087777-2',\n",
       " 'Merged-chr1-149891229-1',\n",
       " 'Merged-chr18-34758805-2',\n",
       " 'Merged-chr15-64197988-2',\n",
       " 'Merged-chr17-78366288-1',\n",
       " 'Merged-chr7-45920698-2',\n",
       " 'Merged-chr1-64305620-2',\n",
       " 'Merged-chr19-47651014-1',\n",
       " 'Merged-chr17-31853694-2',\n",
       " 'Merged-chr4-150001487-2',\n",
       " 'Merged-chr2-128553017-2',\n",
       " 'Merged-chr14-50931037-2',\n",
       " 'Merged-chr2-30171442-1',\n",
       " 'Merged-chr12-8805526-2',\n",
       " 'Merged-chr10-44631789-2',\n",
       " 'Merged-chr12-55488953-2',\n",
       " 'Merged-chr2-144213973-2',\n",
       " 'Merged-chr11-83534878-1',\n",
       " 'Merged-chr15-79413967-2',\n",
       " 'Merged-chr2-127143490-2',\n",
       " 'Merged-chr18-65376227-2',\n",
       " 'Merged-chr4-115825445-2',\n",
       " 'Merged-chr9-106378212-2',\n",
       " 'Merged-chr10-127339073-2',\n",
       " 'Merged-chr2-84650771-2',\n",
       " 'Merged-chr16-25053091-2',\n",
       " 'Merged-chr13-49178024-1',\n",
       " 'Merged-chr1-172312272-2',\n",
       " 'Merged-chr5-65120123-2',\n",
       " 'Merged-chr11-90225301-2',\n",
       " 'Merged-chr11-88145923-1',\n",
       " 'Merged-chr13-58459039-2',\n",
       " 'Merged-chr15-25355472-2',\n",
       " 'Merged-chr6-145883209-2',\n",
       " 'Merged-chr6-57773960-2',\n",
       " 'Merged-chr1-119526278-2',\n",
       " 'Merged-chr5-127607747-2',\n",
       " 'Merged-chr4-59177728-2',\n",
       " 'Merged-chr9-45241584-2',\n",
       " 'Merged-chr15-81400154-2',\n",
       " 'Merged-chr1-86479268-2',\n",
       " 'Merged-chr8-115392501-2',\n",
       " 'Merged-chr11-70918111-2',\n",
       " 'Merged-chr11-43748043-2',\n",
       " 'Merged-chr13-30987875-2',\n",
       " 'Merged-chr15-34096536-2',\n",
       " 'Merged-chr12-69725000-2',\n",
       " 'Merged-chr17-43558053-2',\n",
       " 'Merged-chr6-113692718-2',\n",
       " 'Merged-chr3-100488464-1',\n",
       " 'Merged-chr18-53944375-1',\n",
       " 'Merged-chr4-99200151-2',\n",
       " 'Merged-chr11-102604203-2',\n",
       " 'Merged-chr12-12148070-2',\n",
       " 'Merged-chr11-79278781-2',\n",
       " 'Merged-chr4-129188992-2',\n",
       " 'Merged-chr15-77805817-1',\n",
       " 'Merged-chr19-16252900-2',\n",
       " 'Merged-chr1-179645863-2',\n",
       " 'Merged-chr1-89753726-1',\n",
       " 'Merged-chr13-24801242-2',\n",
       " 'Merged-chr5-3198569-2',\n",
       " 'Merged-chr11-70654609-2',\n",
       " 'Merged-chr1-178991655-2',\n",
       " 'Merged-chr4-133388306-2',\n",
       " 'Merged-chr7-27196224-2',\n",
       " 'Merged-chr10-86053004-1',\n",
       " 'Merged-chr14-61310576-2',\n",
       " 'Merged-chr8-11558310-2',\n",
       " 'Merged-chr5-33002935-2',\n",
       " 'Merged-chr19-11045139-2',\n",
       " 'Merged-chr19-4333983-2',\n",
       " 'Merged-chr16-22119100-2',\n",
       " 'Merged-chr1-85751730-2',\n",
       " 'Merged-chr10-127318265-2',\n",
       " 'Merged-chr5-122211146-1',\n",
       " 'Merged-chr2-148861175-1',\n",
       " 'Merged-chr15-58986665-1',\n",
       " 'Merged-chr15-103340309-2',\n",
       " 'Merged-chr18-77774081-2',\n",
       " 'Merged-chr1-38437855-2',\n",
       " 'Merged-chr18-74779107-2',\n",
       " 'Merged-chr10-31313528-1',\n",
       " 'Merged-chr19-10041485-1',\n",
       " 'Merged-chr10-80342973-2',\n",
       " 'Merged-chr11-115439565-2',\n",
       " 'Merged-chr16-90143907-2',\n",
       " 'Merged-chr4-46450963-2',\n",
       " 'Merged-chr4-119233251-1',\n",
       " 'Merged-chr1-154046175-1',\n",
       " 'Merged-chr7-139402937-2',\n",
       " 'Merged-chr12-25098896-2',\n",
       " 'Merged-chr18-5134456-2',\n",
       " 'Merged-chr13-4153112-1',\n",
       " 'Merged-chr2-73371765-2',\n",
       " 'Merged-chr2-129602001-2',\n",
       " 'Merged-chr8-71463708-2',\n",
       " 'Merged-chr10-93944369-1',\n",
       " 'Merged-chr7-90442826-2',\n",
       " 'Merged-chr8-84220268-2',\n",
       " 'Merged-chr11-80151758-1',\n",
       " 'Merged-chr1-45795485-2',\n",
       " 'Merged-chr5-21645859-2',\n",
       " 'Merged-chr8-72350245-2',\n",
       " 'Merged-chr5-66413659-1',\n",
       " 'Merged-chr3-96670204-2',\n",
       " 'Merged-chr13-98803899-2',\n",
       " 'Merged-chr14-20703017-2',\n",
       " 'Merged-chr4-53469255-2',\n",
       " 'Merged-chr3-130060800-2',\n",
       " 'Merged-chr8-128235738-1',\n",
       " 'Merged-chr2-102189633-2',\n",
       " 'Merged-chr2-103485159-2',\n",
       " 'Merged-chr2-91098384-2',\n",
       " 'Merged-chr5-139149956-2',\n",
       " 'Merged-chr5-9069027-2',\n",
       " 'Merged-chr11-118019179-1',\n",
       " 'Merged-chr2-130491825-2',\n",
       " 'Merged-chr18-4921508-2',\n",
       " 'Merged-chr5-33274081-2',\n",
       " 'Merged-chr2-27442375-2',\n",
       " 'Merged-chr2-157500578-2',\n",
       " 'Merged-chr11-107028125-2',\n",
       " 'Merged-chr16-12076508-1',\n",
       " 'Merged-chr4-34882996-1',\n",
       " 'Merged-chr16-20537485-2',\n",
       " 'Merged-chr17-70571002-2',\n",
       " 'Merged-chr7-25680850-2',\n",
       " 'Merged-chr11-29130734-2',\n",
       " 'Merged-chr18-4266473-1',\n",
       " 'Merged-chr2-135725573-2',\n",
       " 'Merged-chr6-137386556-2',\n",
       " 'Merged-chr15-81124511-1',\n",
       " 'Merged-chr11-11730295-2',\n",
       " 'Merged-chr11-88047579-2',\n",
       " 'Merged-chr2-136892128-2',\n",
       " 'Merged-chr2-158258198-2',\n",
       " 'Merged-chr7-100992147-2',\n",
       " 'Merged-chr3-51859351-2',\n",
       " 'Merged-chr9-51030378-2',\n",
       " 'Merged-chr9-75547369-2',\n",
       " 'Merged-chr11-120190090-2',\n",
       " 'Merged-chr1-171222663-2',\n",
       " 'Merged-chr19-7020267-2',\n",
       " 'Merged-chr9-64105430-2',\n",
       " 'Merged-chr13-107810614-2',\n",
       " 'Merged-chr16-57181393-1',\n",
       " 'Merged-chr3-105900875-2',\n",
       " 'Merged-chr10-120163716-2',\n",
       " 'Merged-chr2-75696601-2',\n",
       " 'Merged-chr19-6241524-2',\n",
       " 'Merged-chr8-85482056-2',\n",
       " 'Merged-chr5-23402232-1',\n",
       " 'Merged-chr12-85455431-2',\n",
       " 'Merged-chr14-14702989-2',\n",
       " 'Merged-chr15-59828517-2',\n",
       " 'Merged-chr2-152335545-2',\n",
       " 'Merged-chr2-181244178-2',\n",
       " 'Merged-chr9-110880167-2',\n",
       " 'Merged-chr6-66973302-2',\n",
       " 'Merged-chr11-102774083-2',\n",
       " 'Merged-chr5-144252360-2',\n",
       " 'Merged-chr2-25272411-2',\n",
       " 'Merged-chr8-115707310-2',\n",
       " 'Merged-chr5-36497292-1',\n",
       " 'Merged-chr10-41826715-1',\n",
       " 'Merged-chr14-59341367-2',\n",
       " 'Merged-chr2-180042523-2',\n",
       " 'Merged-chr4-149702859-2',\n",
       " 'Merged-chr15-4000707-1',\n",
       " 'Merged-chr14-55147089-1',\n",
       " 'Merged-chr9-110333344-2',\n",
       " 'Merged-chr4-11322176-2',\n",
       " 'Merged-chr8-13027844-2',\n",
       " 'Merged-chr6-52903423-2',\n",
       " 'Merged-chr3-115714949-2',\n",
       " 'Merged-chr11-95712178-2',\n",
       " 'Merged-chr14-25694121-2',\n",
       " 'Merged-chr8-13160914-1',\n",
       " 'Merged-chr2-156857506-2',\n",
       " 'Merged-chr7-123354577-2',\n",
       " 'Merged-chr2-19388922-1',\n",
       " 'Merged-chr11-78328363-2',\n",
       " 'Merged-chr11-54693910-2',\n",
       " 'Merged-chr14-61172931-2',\n",
       " 'Merged-chr14-25600485-1',\n",
       " 'Merged-chr2-130525655-2',\n",
       " 'Merged-chr8-83724906-2',\n",
       " 'Merged-chr11-79711128-2',\n",
       " 'Merged-chr2-164785855-2',\n",
       " 'Merged-chr5-114130784-2',\n",
       " 'Merged-chr4-132261221-2',\n",
       " 'Merged-chr9-44953055-1',\n",
       " 'Merged-chr6-136809299-2',\n",
       " 'Merged-chr11-22982106-2',\n",
       " 'Merged-chr8-79162919-2',\n",
       " 'Merged-chr1-64933148-2',\n",
       " 'Merged-chr11-20532357-1',\n",
       " 'Merged-chr7-102247142-2',\n",
       " 'Merged-chr10-128091104-2',\n",
       " 'Merged-chr4-95850550-2',\n",
       " 'Merged-chr13-34007433-2',\n",
       " 'Merged-chr7-79715831-1',\n",
       " 'Merged-chr5-142935784-2',\n",
       " 'Merged-chr3-139042700-2',\n",
       " 'Merged-chr2-154892911-2',\n",
       " 'Merged-chr19-46501271-1',\n",
       " 'Merged-chr9-102731283-2',\n",
       " 'Merged-chr11-120632791-3',\n",
       " 'Merged-chr4-107577378-1',\n",
       " 'Merged-chr9-59486810-2',\n",
       " 'Merged-chr6-39538487-2',\n",
       " 'Merged-chr4-97777730-1',\n",
       " 'Merged-chr4-145260258-1',\n",
       " 'Merged-chr8-31149912-2',\n",
       " 'Merged-chr17-25914081-2',\n",
       " 'Merged-chr5-100466820-2',\n",
       " 'Merged-chr12-99641526-2',\n",
       " 'Merged-chr3-69721938-2',\n",
       " 'Merged-chr13-34077990-2',\n",
       " 'Merged-chr1-54557691-2',\n",
       " 'Merged-chr5-107987178-2',\n",
       " 'Merged-chr4-43474160-2',\n",
       " 'Merged-chr17-56764793-1',\n",
       " 'Merged-chr8-70634256-2',\n",
       " 'Merged-chr5-33782819-2',\n",
       " 'Merged-chr13-64422156-2',\n",
       " 'Merged-chr8-70869689-2',\n",
       " 'Merged-chr1-52141692-1',\n",
       " 'Merged-chr11-121237129-2',\n",
       " 'Merged-chr16-50630625-2',\n",
       " 'Merged-chr4-102720122-1',\n",
       " 'Merged-chr8-11635853-2',\n",
       " 'Merged-chr2-166976549-2',\n",
       " 'Merged-chr13-36117420-1',\n",
       " 'Merged-chr3-103383343-2',\n",
       " 'Merged-chr3-51340781-2',\n",
       " 'Merged-chr7-98328571-2',\n",
       " 'Merged-chr18-57740400-1',\n",
       " 'Merged-chr16-10498297-1',\n",
       " 'Merged-chr16-85114137-2',\n",
       " 'Merged-chr15-7114106-2',\n",
       " 'Merged-chr5-52386192-1',\n",
       " 'Merged-chr9-45294302-2',\n",
       " 'Merged-chr6-50456312-2',\n",
       " 'Merged-chr10-99081705-2',\n",
       " 'Merged-chr17-71182471-2',\n",
       " 'Merged-chr13-38204879-2',\n",
       " 'Merged-chr14-19417854-2',\n",
       " 'Merged-chr9-64564517-2',\n",
       " 'Merged-chr1-160044542-2',\n",
       " 'Merged-chr15-76303837-2',\n",
       " 'Merged-chr15-50697915-2',\n",
       " 'Merged-chr8-34965731-2',\n",
       " 'Merged-chr6-13601833-2',\n",
       " 'Merged-chr9-108991697-2',\n",
       " 'Merged-chr16-8829395-1',\n",
       " 'Merged-chr10-118141644-2',\n",
       " 'Merged-chr16-11625006-1',\n",
       " 'Merged-chr9-31211880-2',\n",
       " 'Merged-chr1-108259503-1',\n",
       " 'Merged-chr5-138754502-2',\n",
       " 'Merged-chr16-3956637-1',\n",
       " 'Merged-chr5-103692280-2',\n",
       " 'Merged-chr5-38567082-1',\n",
       " 'Merged-chr9-108220583-1',\n",
       " 'Merged-chr4-97773326-2',\n",
       " 'Merged-chr7-27252087-1',\n",
       " 'Merged-chr15-80074948-2',\n",
       " 'Merged-chr5-142818069-1',\n",
       " 'Merged-chr7-107707918-2',\n",
       " 'Merged-chr14-31614002-1',\n",
       " 'Merged-chr1-191732864-1',\n",
       " 'Merged-chr11-83942086-2',\n",
       " 'Merged-chr9-119075519-2',\n",
       " 'Merged-chr16-96843023-2',\n",
       " 'Merged-chr11-49203531-2',\n",
       " 'Merged-chr3-10012479-2',\n",
       " 'Merged-chr8-122281864-2',\n",
       " 'Merged-chr13-104863630-1',\n",
       " 'Merged-chr13-110541695-1',\n",
       " 'Merged-chr4-43499689-2',\n",
       " 'Merged-chr3-146149833-1',\n",
       " 'Merged-chr15-67116913-2',\n",
       " 'Merged-chr7-12961848-2',\n",
       " 'Merged-chr7-132690926-2',\n",
       " 'Merged-chr1-39900767-2',\n",
       " 'Merged-chr15-74931833-2',\n",
       " 'Merged-chr5-149246190-2',\n",
       " 'Merged-chr17-83350824-2',\n",
       " 'Merged-chr5-140768527-2',\n",
       " 'Merged-chr10-62808458-1',\n",
       " 'Merged-chr3-103279689-2',\n",
       " 'Merged-chr4-131861135-1',\n",
       " 'Merged-chr8-36249122-1',\n",
       " 'Merged-chr6-94604735-2',\n",
       " 'Merged-chr11-98937567-2',\n",
       " 'Merged-chr14-101609097-2',\n",
       " 'Merged-chr10-81366242-2',\n",
       " 'Merged-chr10-94147895-2',\n",
       " 'Merged-chr17-34296224-2',\n",
       " 'Merged-chr3-10258488-2',\n",
       " 'Merged-chr5-112264228-1',\n",
       " 'Merged-chr12-17711549-2',\n",
       " 'Merged-chr1-150165058-2',\n",
       " 'Merged-chr3-19163119-2',\n",
       " 'Merged-chr8-123279973-1',\n",
       " 'Merged-chr18-67449155-1',\n",
       " 'Merged-chr5-137076293-2',\n",
       " 'Merged-chr8-66353215-2',\n",
       " 'Merged-chr8-22859402-2',\n",
       " 'Merged-chr7-142386934-1',\n",
       " 'Merged-chr2-30693421-2',\n",
       " 'Merged-chr17-3156358-2',\n",
       " 'Merged-chr2-49411884-2',\n",
       " 'Merged-chr19-44284270-2',\n",
       " 'Merged-chr4-151861975-2',\n",
       " 'Merged-chr4-40854130-1',\n",
       " 'Merged-chr3-148989582-2',\n",
       " 'Merged-chr2-129196447-2',\n",
       " 'Merged-chr5-104955444-1',\n",
       " 'Merged-chr1-37357318-1',\n",
       " 'Merged-chr12-78225893-1',\n",
       " 'Merged-chr2-166030433-2',\n",
       " 'Merged-chr1-173741806-2',\n",
       " 'Merged-chr16-23159885-1',\n",
       " 'Merged-chr2-91947958-2',\n",
       " 'Merged-chr15-66746667-2',\n",
       " 'Merged-chr10-81192645-2',\n",
       " 'Merged-chr11-109369313-2',\n",
       " 'Merged-chr1-172903548-1',\n",
       " 'Merged-chr16-17807632-2',\n",
       " 'Merged-chr13-55125092-1',\n",
       " 'Merged-chr16-92715630-2',\n",
       " 'Merged-chr10-60368091-2',\n",
       " 'Merged-chr9-108474762-2',\n",
       " 'Merged-chr19-6128195-2',\n",
       " 'Merged-chr11-97592054-2',\n",
       " 'Merged-chr7-127480544-2',\n",
       " 'Merged-chr12-59061467-2',\n",
       " 'Merged-chr4-135153680-2',\n",
       " 'Merged-chr6-115944193-1',\n",
       " 'Merged-chr1-153910592-2',\n",
       " 'Merged-chr2-153561243-2',\n",
       " 'Merged-chr3-9398447-1',\n",
       " 'Merged-chr17-34591632-2',\n",
       " 'Merged-chr5-69556934-2',\n",
       " 'Merged-chr11-106716794-2',\n",
       " 'Merged-chr17-21566431-1',\n",
       " 'Merged-chr19-3768880-2',\n",
       " 'Merged-chr1-162215958-1',\n",
       " 'Merged-chr14-66872726-2',\n",
       " 'Merged-chr11-76217610-2',\n",
       " 'Merged-chr13-91371043-2',\n",
       " 'Merged-chr13-13552234-2',\n",
       " 'Merged-chr13-99093491-1',\n",
       " 'Merged-chr15-97831640-1',\n",
       " 'Merged-chr4-141273006-2',\n",
       " 'Merged-chr6-113326835-2',\n",
       " 'Merged-chr2-116990338-2',\n",
       " 'Merged-chr10-116581084-2',\n",
       " 'Merged-chr17-33890795-2',\n",
       " 'Merged-chr9-110408328-2',\n",
       " 'Merged-chr7-68667866-1',\n",
       " 'Merged-chr9-80081167-2',\n",
       " 'Merged-chr10-80098842-1',\n",
       " 'Merged-chr5-135463566-2',\n",
       " 'Merged-chr2-32992299-2',\n",
       " 'Merged-chr7-25000112-1',\n",
       " 'Merged-chr7-101397338-2',\n",
       " 'Merged-chr12-45011648-2',\n",
       " 'Merged-chr7-102565544-2',\n",
       " 'Merged-chr4-56802434-2',\n",
       " 'Merged-chr7-110772621-1',\n",
       " 'Merged-chr6-49586717-1',\n",
       " 'Merged-chr5-134231570-2',\n",
       " 'Merged-chr5-115484473-2',\n",
       " 'Merged-chr11-105181329-2',\n",
       " 'Merged-chr13-98867950-2',\n",
       " 'Merged-chr5-138227520-2',\n",
       " 'Merged-chr17-70990624-2',\n",
       " 'Merged-chr19-5771053-2',\n",
       " 'Merged-chr14-25516846-2',\n",
       " 'Merged-chr13-38037212-2',\n",
       " 'Merged-chr4-59459507-1',\n",
       " 'Merged-chr5-31602602-2',\n",
       " 'Merged-chr2-131088580-2',\n",
       " 'Merged-chr17-14139127-1',\n",
       " 'Merged-chr2-158168052-2',\n",
       " 'Merged-chr8-122407776-2',\n",
       " 'Merged-chr3-116513072-2',\n",
       " 'Merged-chr6-131247386-2',\n",
       " 'Merged-chr6-8495333-1',\n",
       " 'Merged-chr1-171631646-2',\n",
       " 'Merged-chr11-70562472-1',\n",
       " 'Merged-chr9-57589459-2',\n",
       " 'Merged-chr11-29497150-2',\n",
       " 'Merged-chr12-117481258-1',\n",
       " 'Merged-chr15-80117343-2',\n",
       " 'Merged-chr6-39319203-2',\n",
       " 'Merged-chr4-106865533-2',\n",
       " 'Merged-chr7-144939772-2',\n",
       " 'Merged-chr8-111597536-1',\n",
       " 'Merged-chr9-61948198-2',\n",
       " 'Merged-chr3-95228264-2',\n",
       " 'Merged-chr7-80639991-2',\n",
       " 'Merged-chr2-71594745-1',\n",
       " 'Merged-chr6-118137275-1',\n",
       " 'Merged-chr2-158409805-2',\n",
       " 'Merged-chr4-62515625-2',\n",
       " 'Merged-chr5-76588715-2',\n",
       " 'Merged-chr4-134513009-1',\n",
       " 'Merged-chr17-13007868-2',\n",
       " 'Merged-chr1-131910422-2',\n",
       " 'Merged-chr4-144905242-2',\n",
       " 'Merged-chr2-73512257-2',\n",
       " 'Merged-chr18-36287621-2',\n",
       " 'Merged-chr1-84437756-2',\n",
       " 'Merged-chr15-64336445-2',\n",
       " 'Merged-chr13-49306977-2',\n",
       " 'Merged-chr9-121348252-2',\n",
       " 'Merged-chr5-63935770-2',\n",
       " 'Merged-chr5-34773616-2',\n",
       " 'Merged-chr8-83972855-2',\n",
       " 'Merged-chr10-95151265-2',\n",
       " 'Merged-chr14-16243377-2',\n",
       " 'Merged-chr17-33920405-2',\n",
       " 'Merged-chr7-99781569-2',\n",
       " 'Merged-chr14-25527123-1',\n",
       " 'Merged-chr1-13980468-2',\n",
       " 'Merged-chr14-21986176-2',\n",
       " 'Merged-chr12-116433944-2',\n",
       " 'Merged-chr13-73765444-2',\n",
       " 'Merged-chr17-29114118-2',\n",
       " 'Merged-chr4-154899228-2',\n",
       " 'Merged-chr12-110508131-1',\n",
       " 'Merged-chr16-13372218-1',\n",
       " 'Merged-chr13-74317353-2',\n",
       " 'Merged-chr7-99085395-1',\n",
       " 'Merged-chr9-107296613-2',\n",
       " 'Merged-chr4-139493167-2',\n",
       " 'Merged-chr4-97751286-2',\n",
       " 'Merged-chr7-73595321-2',\n",
       " 'Merged-chr17-26933127-2',\n",
       " 'Merged-chr6-39207537-1',\n",
       " 'Merged-chr14-47365205-1',\n",
       " 'Merged-chr2-58567316-2',\n",
       " 'Merged-chr18-7626899-2',\n",
       " 'Merged-chr12-115495639-1',\n",
       " 'Merged-chr13-49205556-2',\n",
       " 'Merged-chr15-78244105-2',\n",
       " 'Merged-chr19-37550461-2',\n",
       " 'Merged-chr12-71015782-2',\n",
       " 'Merged-chr17-73067587-2',\n",
       " 'Merged-chr9-77858605-2',\n",
       " 'Merged-chr1-195241735-1',\n",
       " 'Merged-chr1-63114438-3',\n",
       " 'Merged-chr1-39535711-2',\n",
       " 'Merged-chr10-94967420-2',\n",
       " 'Merged-chr3-109041096-1',\n",
       " 'Merged-chr19-4213572-2',\n",
       " 'Merged-chr13-39919764-1',\n",
       " 'Merged-chr6-125418962-2',\n",
       " 'Merged-chr12-69502533-1',\n",
       " 'Merged-chr9-116376219-2',\n",
       " 'Merged-chr12-111010060-1',\n",
       " 'Merged-chr8-124242376-2',\n",
       " 'Merged-chr13-14039647-2',\n",
       " 'Merged-chr12-26366122-2',\n",
       " 'Merged-chr5-125313499-2',\n",
       " 'Merged-chr11-100761890-1',\n",
       " 'Merged-chr8-79150725-2',\n",
       " 'Merged-chr5-136568135-2',\n",
       " 'Merged-chr8-84968807-1',\n",
       " 'Merged-chr9-110716958-1',\n",
       " 'Merged-chr2-73338640-1',\n",
       " 'Merged-chr1-193002485-1',\n",
       " 'Merged-chr9-89267274-2',\n",
       " 'Merged-chr1-93825307-2',\n",
       " 'Merged-chr11-83544427-2',\n",
       " 'Merged-chr11-61562642-1',\n",
       " 'Merged-chr11-19924295-2',\n",
       " 'Merged-chr13-9873596-2',\n",
       " 'Merged-chr6-37442351-1',\n",
       " 'Merged-chr6-88898779-2',\n",
       " 'Merged-chr4-151862554-1',\n",
       " 'Merged-chr11-82890575-2',\n",
       " 'Merged-chr15-86345042-2',\n",
       " 'Merged-chr13-110384767-2',\n",
       " 'Merged-chr5-18007267-2',\n",
       " 'Merged-chr11-97728502-2',\n",
       " 'Merged-chr11-121228825-2',\n",
       " 'Merged-chr3-135440327-2',\n",
       " 'Merged-chr19-8741552-3',\n",
       " 'Merged-chr1-15805953-1',\n",
       " 'Merged-chr15-102520697-2',\n",
       " 'Merged-chr5-121845909-2',\n",
       " 'Merged-chr15-78300946-2',\n",
       " 'Merged-chr5-143033097-2',\n",
       " 'Merged-chr18-54847117-2',\n",
       " 'Merged-chr2-78580210-2',\n",
       " 'Merged-chr11-34031574-2',\n",
       " 'Merged-chr7-68656527-1',\n",
       " 'Merged-chr15-57906877-2',\n",
       " 'Merged-chr9-44845964-1',\n",
       " 'Merged-chr17-71259894-2',\n",
       " 'Merged-chr9-108854132-2',\n",
       " 'Merged-chr17-74395585-2',\n",
       " 'Merged-chr14-25461600-2',\n",
       " 'Merged-chr11-79112027-1',\n",
       " 'Merged-chr9-60744508-2',\n",
       " 'Merged-chr6-125071828-1',\n",
       " 'Merged-chr12-69683800-1',\n",
       " 'Merged-chr12-111538702-2',\n",
       " 'Merged-chr11-117941674-1',\n",
       " 'Merged-chr15-64234566-2',\n",
       " 'Merged-chr15-83564518-2',\n",
       " 'Merged-chr6-89002105-1',\n",
       " 'Merged-chr13-112318338-1',\n",
       " 'Merged-chr7-27574328-2',\n",
       " 'Merged-chr16-43448680-2',\n",
       " 'Merged-chr8-120535177-1',\n",
       " 'Merged-chr8-18699326-2',\n",
       " 'Merged-chr15-66991899-2',\n",
       " 'Merged-chr9-95512084-2',\n",
       " 'Merged-chr3-152193844-2',\n",
       " 'Merged-chr3-152479014-2',\n",
       " 'Merged-chr18-62700095-1',\n",
       " 'Merged-chr3-104994011-2',\n",
       " 'Merged-chr2-32606981-2',\n",
       " 'Merged-chr14-26675972-2',\n",
       " 'Merged-chr2-132269420-2',\n",
       " 'Merged-chr12-31997057-2',\n",
       " 'Merged-chr4-116821602-2',\n",
       " 'Merged-chr1-40225008-2',\n",
       " 'Merged-chr11-78550856-2',\n",
       " 'Merged-chr3-21934935-2',\n",
       " 'Merged-chr7-16055746-1',\n",
       " 'Merged-chr15-97849606-3',\n",
       " 'Merged-chr9-60600512-1',\n",
       " 'Merged-chr3-95283007-2',\n",
       " 'Merged-chr5-31697828-2',\n",
       " 'Merged-chr15-25843162-2',\n",
       " 'Merged-chr10-81494859-1',\n",
       " 'Merged-chr5-5420177-3',\n",
       " 'Merged-chr12-4841616-2',\n",
       " 'Merged-chr18-46406148-1',\n",
       " 'Merged-chr17-29513390-2',\n",
       " 'Merged-chr15-95808062-2',\n",
       " 'Merged-chr4-138913935-2',\n",
       " 'Merged-chr1-36264301-2',\n",
       " 'Merged-chr8-72317820-2',\n",
       " 'Merged-chr9-22131382-2',\n",
       " 'Merged-chr7-118740664-2',\n",
       " 'Merged-chr5-140439326-2',\n",
       " 'Merged-chr1-88277615-2',\n",
       " 'Merged-chr12-83632255-2',\n",
       " 'Merged-chr5-122264491-2',\n",
       " 'Merged-chr8-11404025-1',\n",
       " 'Merged-chr5-103644385-2',\n",
       " 'Merged-chr7-127206804-2',\n",
       " 'Merged-chr5-53543621-1',\n",
       " 'Merged-chr16-91362812-1',\n",
       " 'Merged-chr19-18713087-2',\n",
       " 'Merged-chr1-135375293-1',\n",
       " 'Merged-chr3-65484625-2',\n",
       " 'Merged-chr6-51362832-2',\n",
       " 'Merged-chr17-26627503-2',\n",
       " 'Merged-chr9-123986299-2',\n",
       " 'Merged-chr11-106588947-1',\n",
       " 'Merged-chr1-155139016-2',\n",
       " 'Merged-chr4-135181981-2',\n",
       " 'Merged-chr11-6391747-2',\n",
       " 'Merged-chr5-52476396-2',\n",
       " 'Merged-chr6-115668246-1',\n",
       " 'Merged-chr16-31570969-2',\n",
       " 'Merged-chr10-79994592-2',\n",
       " 'Merged-chr8-35205812-1',\n",
       " 'Merged-chr10-25359870-2',\n",
       " 'Merged-chr5-124112087-2',\n",
       " 'Merged-chr7-24662686-1',\n",
       " ...]"
      ]
     },
     "execution_count": 82,
     "metadata": {},
     "output_type": "execute_result"
    }
   ],
   "source": [
    "peak_dict[col]"
   ]
  },
  {
   "cell_type": "code",
   "execution_count": null,
   "metadata": {},
   "outputs": [],
   "source": []
  },
  {
   "cell_type": "code",
   "execution_count": 83,
   "metadata": {},
   "outputs": [
    {
     "data": {
      "image/png": "[encoded data removed]",
      "text/plain": [
       "<Figure size 576x576 with 1 Axes>"
      ]
     },
     "metadata": {},
     "output_type": "display_data"
    }
   ],
   "source": [
    "fig, ax = plt.subplots(figsize=(8,8))\n",
    "\n",
    "# venn3 accepts a list with the following order\n",
    "# (100, 010, 110, 001, 101, 011, 111)\n",
    "# group1, group2, group1+2, group3, group1+3, group2+3, group3\n",
    "venn.venn2(subsets=[set(peak_dict['C57Bl6J']),\n",
    "                    set(peak_dict['BALBcJ'])],\n",
    "      set_colors=('#006d2c', '#08519c'),\n",
    "      set_labels=('C57Bl6J', 'BALBcJ'),\n",
    "      alpha=0.5,\n",
    "      ax=ax)\n",
    "ax.set_title('Poised Enhancers (ATAC Tags > %d)' % thresh);\n",
    "\n",
    "plt.savefig('./figures/venn3_poised_ATAC_peaks.png', bbox_inches='tight')"
   ]
  },
  {
   "cell_type": "markdown",
   "metadata": {},
   "source": [
    "# Write 'poised' enhancers out for analysis with HOMER\n",
    "___\n",
    "Should use the same threshold as venn diagram above"
   ]
  },
  {
   "cell_type": "code",
   "execution_count": 84,
   "metadata": {},
   "outputs": [],
   "source": [
    "if not os.path.isdir('./poised_enhancers/'):\n",
    "    os.mkdir('./poised_enhancers/')"
   ]
  },
  {
   "cell_type": "markdown",
   "metadata": {},
   "source": [
    "Select distal peaks"
   ]
  },
  {
   "cell_type": "code",
   "execution_count": 85,
   "metadata": {},
   "outputs": [],
   "source": [
    "df_distal = df.loc[np.abs(df['Distance to TSS']) > 3*10**3, :]"
   ]
  },
  {
   "cell_type": "markdown",
   "metadata": {},
   "source": [
    "if np.NaN get introduced into the matrix then it converts 'int' type columns to 'float' type columns, this is not ideal and interferes with downstream peak analysis so we create a dict to change the start and end columns back to integers just in case"
   ]
  },
  {
   "cell_type": "code",
   "execution_count": 86,
   "metadata": {},
   "outputs": [],
   "source": [
    "convert_dict = {'Start': int,\n",
    "                'End': int}"
   ]
  },
  {
   "cell_type": "code",
   "execution_count": 89,
   "metadata": {},
   "outputs": [],
   "source": [
    "for col in avg_tags_df.columns:\n",
    "    tmp = df.reindex(avg_tags_df.index[avg_tags_df[col]>thresh].tolist())\n",
    "    tmp = tmp.dropna(how='all').iloc[:, :5]\n",
    "    tmp = tmp.astype(convert_dict)\n",
    "    tmp.to_csv('./poised_enhancers/'+col+'_poised_enhancer_peaks.txt', sep='\\t')\n",
    "    \n",
    "    tmp = df_distal.reindex(avg_tags_df.index[avg_tags_df[col]>thresh].tolist())\n",
    "    tmp = tmp.dropna(how='all').iloc[:, :5]\n",
    "    tmp = tmp.astype(convert_dict)\n",
    "    tmp.to_csv('./poised_enhancers/'+col+'_poised_distal_enhancer_peaks.txt', sep='\\t')"
   ]
  },
  {
   "cell_type": "code",
   "execution_count": 88,
   "metadata": {
    "scrolled": false
   },
   "outputs": [
    {
     "name": "stdout",
     "output_type": "stream",
     "text": [
      "ls: cannot access merged_tagdirs: No such file or directory\r\n"
     ]
    }
   ],
   "source": [
    "!ls merged_tagdirs"
   ]
  },
  {
   "cell_type": "markdown",
   "metadata": {},
   "source": [
    "Colors chosen as second color from 3 class green, blue, and red on colorbrewer2.org"
   ]
  },
  {
   "cell_type": "markdown",
   "metadata": {},
   "source": [
    "    makeMultiWigHub.pl hrb_strains_viz_atac_merged_young_control_cohort2 mm10 \\\n",
    "    -color 222,45,38 49,130,189 49,163,84 \\\n",
    "    -force -d \\\n",
    "    ./merged_tagdirs/aj_Kupffer_ATAC_young_control/ \\\n",
    "    ./merged_tagdirs/balbcj_Kupffer_ATAC_young_control/ \\\n",
    "    ./merged_tagdirs/c57bl6j_Kupffer_ATAC_young_control/"
   ]
  },
  {
   "cell_type": "code",
   "execution_count": null,
   "metadata": {},
   "outputs": [],
   "source": []
  }
 ],
 "metadata": {
  "kernelspec": {
   "display_name": "dataviz",
   "language": "python",
   "name": "dataviz"
  },
  "language_info": {
   "codemirror_mode": {
    "name": "ipython",
    "version": 3
   },
   "file_extension": ".py",
   "mimetype": "text/x-python",
   "name": "python",
   "nbconvert_exporter": "python",
   "pygments_lexer": "ipython3",
   "version": "3.7.5"
  }
 },
 "nbformat": 4,
 "nbformat_minor": 2
}
