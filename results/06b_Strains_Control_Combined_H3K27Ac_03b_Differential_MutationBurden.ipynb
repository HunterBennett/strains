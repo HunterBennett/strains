{
 "cells": [
  {
   "cell_type": "markdown",
   "metadata": {},
   "source": [
    "Hunter Bennett | Glass Lab | Kupffer Strains Project | 19 April 2021\n",
    "\n",
    "In addition to calling differential peaks we want to examine the mutational burden in enhancers with different log2fc between strains (similar to analysis done in our other strains papers)"
   ]
  },
  {
   "cell_type": "code",
   "execution_count": 13,
   "metadata": {},
   "outputs": [
    {
     "name": "stdout",
     "output_type": "stream",
     "text": [
      "The autoreload extension is already loaded. To reload it, use:\n",
      "  %reload_ext autoreload\n"
     ]
    }
   ],
   "source": [
    "### header ###\n",
    "__author__ = \"Hunter Bennett\"\n",
    "__license__ = \"BSD\"\n",
    "__email__ = \"hunter.r.bennett@gmail.com\"\n",
    "%load_ext autoreload\n",
    "%autoreload 2\n",
    "### imports ###\n",
    "import sys\n",
    "%matplotlib inline\n",
    "import os\n",
    "import re\n",
    "import glob\n",
    "import pandas as pd\n",
    "import numpy as np\n",
    "import matplotlib\n",
    "import matplotlib.pyplot as plt \n",
    "import seaborn as sns\n",
    "matplotlib.rcParams['savefig.dpi'] = 200\n",
    "sns.set(font_scale=1)\n",
    "sns.set_context('talk')\n",
    "sns.set_style('white')\n",
    "\n",
    "# import custom functions\n",
    "import sys\n",
    "sys.path.insert(0, '/home/h1bennet/code/')\n",
    "from hbUtils import ngs_qc, quantile_normalize_df\n",
    "from plotting_scripts import label_point, pca_rpkm_mat, get_diff_volcano\n",
    "from homer_preprocessing import read_annotated_peaks, import_homer_diffpeak, pull_comparisons_get_diff"
   ]
  },
  {
   "cell_type": "code",
   "execution_count": 14,
   "metadata": {},
   "outputs": [],
   "source": [
    "dataDirectory = ''\n",
    "workingDirectory = '/home/h1bennet/strains/results/06b_Strains_Control_Combined_H3K27Ac/'\n",
    "if not os.path.isdir(workingDirectory):\n",
    "    os.mkdir(workingDirectory)\n",
    "os.chdir(workingDirectory)"
   ]
  },
  {
   "cell_type": "code",
   "execution_count": 15,
   "metadata": {},
   "outputs": [],
   "source": [
    "best_reps = ['/home/h1bennet/strains/data/H3K27Ac/control/02_aj_Kupffer_H3K27Ac_control_young_AJ10ABC_161208',\n",
    "             '/home/h1bennet/strains/data/H3K27Ac/control/02_aj_Kupffer_H3K27Ac_control_young_AJ11AB_161208',\n",
    "             '/home/h1bennet/strains/data/H3K27Ac/control_cohort2_untrimmed/tag_mouse_aj_Male_Kupffer_ChIP_H3K27ac_Chow_healthyoung_AJ1104_TDT_l20201212_GGCTTAAG_TCGTGACC_S29_L001.aj.bowtie2_shifted_from_AJ.sam',\n",
    "             '/home/h1bennet/strains/data/H3K27Ac/control/01_balbc_Kupffer_H3K27Ac_control_young_Balb10ABC_170915',\n",
    "             '/home/h1bennet/strains/data/H3K27Ac/control/01_balbc_Kupffer_H3K27Ac_control_young_Balb11AB_170915',\n",
    "             '/home/h1bennet/strains/data/H3K27Ac/control_cohort2_untrimmed/tag_mouse_balbcj_Male_Kupffer_ChIP_H3K27ac_Chow_healthyoung_BALB1104_TDT_l20201212_AATCCGGA_CTACAGTT_S30_L001.balbcj.bowtie2_shifted_from_BALBCJ.sam',\n",
    "             '/home/h1bennet/strains/data/H3K27Ac/control/00_C57_Kupffer_H3K27Ac_control_young_C571A_170915',\n",
    "             '/home/h1bennet/strains/data/H3K27Ac/control/00_C57_Kupffer_H3K27Ac_control_young_C572A_180423',\n",
    "             '/home/h1bennet/strains/data/H3K27Ac/control_cohort2_untrimmed/tag_mouse_c57bl6j_Male_Kupffer_ChIP_H3K27ac_Chow_healthyoung_C571104_TDT_l20201212_TAATACAG_ATATTCAC_S31_L001.c57bl6j.bowtie2_shifted_from_C57BL6J.sam']"
   ]
  },
  {
   "cell_type": "markdown",
   "metadata": {},
   "source": [
    "# Save differential peaks for MMARGE mutational burden analysis."
   ]
  },
  {
   "cell_type": "code",
   "execution_count": 16,
   "metadata": {},
   "outputs": [
    {
     "name": "stdout",
     "output_type": "stream",
     "text": [
      "annotatePeaks all peaks (86301, 27)\n",
      "getDiffExpression selected transcripts (84264, 36)\n",
      "annotatePeaks selected peaks (84264, 27)\n"
     ]
    }
   ],
   "source": [
    "diff_peak, peaks, peak_mat, peak_mat_quant = import_homer_diffpeak(\n",
    "    './merged_peaks/diff_output.txt',\n",
    "    './merged_peaks/ann_norm_kc_control_atac_peaks_all.txt')"
   ]
  },
  {
   "cell_type": "code",
   "execution_count": 17,
   "metadata": {},
   "outputs": [],
   "source": [
    "# pull out selected samples\n",
    "cols = np.append(np.asarray([True]*18, 'bool'), peak_mat.columns.str.contains('|'.join(best_reps)))\n",
    "tst = np.append(np.asarray([True]*18, 'bool'), peak_mat.columns.str.contains('|'.join(best_reps)))\n",
    "peaks = peaks.loc[:, tst]\n",
    "peak_mat = peak_mat.loc[:, peak_mat.columns.str.contains('|'.join(best_reps))]"
   ]
  },
  {
   "cell_type": "code",
   "execution_count": 18,
   "metadata": {},
   "outputs": [],
   "source": [
    "comp_dict = pull_comparisons_get_diff(diff_peak, seq_type='Peak')"
   ]
  },
  {
   "cell_type": "code",
   "execution_count": 19,
   "metadata": {
    "scrolled": true
   },
   "outputs": [
    {
     "data": {
      "text/plain": [
       "dict_keys(['aj vs. balbcj', 'aj vs. c57bl6j', 'balbcj vs. c57bl6j'])"
      ]
     },
     "execution_count": 19,
     "metadata": {},
     "output_type": "execute_result"
    }
   ],
   "source": [
    "comp_dict.keys()"
   ]
  },
  {
   "cell_type": "code",
   "execution_count": 20,
   "metadata": {},
   "outputs": [],
   "source": [
    "if not os.path.isdir('./marge_mutational_burden/'):\n",
    "    os.mkdir('./marge_mutational_burden/')"
   ]
  },
  {
   "cell_type": "code",
   "execution_count": 21,
   "metadata": {},
   "outputs": [],
   "source": [
    "pval = 0.05\n",
    "fcs = [1,2,4]\n",
    "peak_list_dict = {}"
   ]
  },
  {
   "cell_type": "code",
   "execution_count": 22,
   "metadata": {},
   "outputs": [],
   "source": [
    "for fc in fcs:   \n",
    "    for key in comp_dict.keys():\n",
    "        # select get diff data frame.\n",
    "        df = comp_dict[key]\n",
    "        deg = df.index[(df.loc[:, 'adj_pval'] < pval) & (np.abs(df.loc[:, 'log2fc']) >= fc)]\n",
    "        peak_list_dict[key+'_de_peaks_fc_'+str(fc)] = deg\n",
    "        \n",
    "        # add list for nonsig peaks\n",
    "        nondeg = df.index[(df.loc[:, 'adj_pval'] >= pval) & (np.abs(df.loc[:, 'log2fc']) < fc)]\n",
    "        peak_list_dict[key+'_nonsig'] = nondeg"
   ]
  },
  {
   "cell_type": "markdown",
   "metadata": {},
   "source": [
    "### Re-create 200bp ATAC-seq peaks"
   ]
  },
  {
   "cell_type": "code",
   "execution_count": 26,
   "metadata": {},
   "outputs": [],
   "source": [
    "atac_peaks = pd.read_csv('./merged_peaks/idr_peaks_merged.txt', sep='\\t', index_col=0)"
   ]
  },
  {
   "cell_type": "code",
   "execution_count": 27,
   "metadata": {},
   "outputs": [],
   "source": [
    "new_start = []\n",
    "new_end = []\n",
    "for index, row in atac_peaks.iterrows():\n",
    "    center = row.start + int(np.floor((row.end - row.start)/2))\n",
    "    new_start.append(center - 100)\n",
    "    new_end.append(center + 100)\n",
    "    \n",
    "atac_peaks_200bp = atac_peaks.iloc[:, :4].copy(deep=True)\n",
    "atac_peaks_200bp['start'] = new_start\n",
    "atac_peaks_200bp['end'] = new_end\n",
    "atac_peaks_200bp.index.rename('PeakID', inplace=True)"
   ]
  },
  {
   "cell_type": "code",
   "execution_count": 28,
   "metadata": {},
   "outputs": [
    {
     "name": "stdout",
     "output_type": "stream",
     "text": [
      "84264 peaks in differential peak file\n",
      "86301 peaks in ATAC-seq file\n",
      "\n",
      "56602 distal peaks in differential peak file\n",
      "56602 distal peaks in ATAC-seq file\n"
     ]
    }
   ],
   "source": [
    "diff_peak_distal = diff_peak.loc[np.abs(diff_peak.loc[:, 'Distance to TSS'])>3000, :]\n",
    "atac_peaks_200bp_distal = atac_peaks_200bp.reindex(diff_peak_distal.index).dropna(how='all')\n",
    "\n",
    "# print to check that this worked\n",
    "print(diff_peak.shape[0], 'peaks in differential peak file')\n",
    "print(atac_peaks_200bp.shape[0], 'peaks in ATAC-seq file')\n",
    "print()\n",
    "print(diff_peak_distal.shape[0], 'distal peaks in differential peak file')\n",
    "print(atac_peaks_200bp_distal.shape[0], 'distal peaks in ATAC-seq file')"
   ]
  },
  {
   "cell_type": "markdown",
   "metadata": {},
   "source": [
    "if np.NaN get introduced into the matrix then it converts 'int' type columns to 'float' type columns, this is not ideal and interferes with downstream peak analysis so we create a dict to change the start and end columns back to integers just in case"
   ]
  },
  {
   "cell_type": "code",
   "execution_count": 33,
   "metadata": {},
   "outputs": [],
   "source": [
    "convert_dict = {'start': int,\n",
    "                'end': int}\n",
    "\n",
    "for key in peak_list_dict.keys():\n",
    "    # save cell specific promoters\n",
    "    tmp = atac_peaks_200bp.reindex(peak_list_dict[key]).dropna(how='all')\n",
    "    tmp = tmp.astype(convert_dict)\n",
    "    tmp.to_csv('./marge_mutational_burden/'+key.replace(' vs. ','_vs_')+'.txt',\n",
    "               sep='\\t')"
   ]
  },
  {
   "cell_type": "markdown",
   "metadata": {},
   "source": [
    "Annoate mutations with MMARGE"
   ]
  },
  {
   "cell_type": "code",
   "execution_count": 40,
   "metadata": {},
   "outputs": [],
   "source": [
    "with open('./marge_annotate_mutations.sh', 'w') as f:\n",
    "    for peakfile in glob.glob('./marge_mutational_burden/aj*c57*.txt'):\n",
    "        anno_mut = ['MMARGE.pl annotate_mutations', '-file', peakfile,\n",
    "                    '-output', peakfile.replace('.txt', '_anno_muts.txt'),\n",
    "                    '-ind', 'aj\\n\\n']\n",
    "        f.write(' '.join(anno_mut))\n",
    "        \n",
    "    for peakfile in glob.glob('./marge_mutational_burden/balbcj*c57*.txt'):\n",
    "        anno_mut = ['MMARGE.pl annotate_mutations', '-file', peakfile,\n",
    "                    '-output', peakfile.replace('.txt', '_anno_muts.txt'),\n",
    "                    '-ind', 'balbcj\\n\\n']\n",
    "        f.write(' '.join(anno_mut))\n",
    "        \n",
    "    for peakfile in glob.glob('./marge_mutational_burden/aj*balbcj*.txt'):\n",
    "        anno_mut = ['MMARGE.pl annotate_mutations', '-file', peakfile,\n",
    "                    '-output', peakfile.replace('.txt', '_anno_muts.txt'),\n",
    "                    '-ind', 'balbcj\\n\\n']\n",
    "        f.write(' '.join(anno_mut))"
   ]
  },
  {
   "cell_type": "markdown",
   "metadata": {},
   "source": [
    "Calculate number of mutations in each file"
   ]
  },
  {
   "cell_type": "code",
   "execution_count": 41,
   "metadata": {},
   "outputs": [
    {
     "data": {
      "text/plain": [
       "array(['./marge_mutational_burden/aj_vs_c57bl6j_de_peaks_fc_1_anno_muts.txt'],\n",
       "      dtype='<U67')"
      ]
     },
     "execution_count": 41,
     "metadata": {},
     "output_type": "execute_result"
    }
   ],
   "source": [
    "np.sort(glob.glob('./marge_mutational_burden/*anno_muts.txt'))"
   ]
  },
  {
   "cell_type": "code",
   "execution_count": 42,
   "metadata": {},
   "outputs": [
    {
     "name": "stdout",
     "output_type": "stream",
     "text": [
      "Help on built-in function round in module builtins:\n",
      "\n",
      "round(number, ndigits=None)\n",
      "    Round a number to a given precision in decimal digits.\n",
      "    \n",
      "    The return value is an integer if ndigits is omitted or None.  Otherwise\n",
      "    the return value has the same type as the number.  ndigits may be negative.\n",
      "\n"
     ]
    }
   ],
   "source": [
    "help(round)"
   ]
  },
  {
   "cell_type": "code",
   "execution_count": 45,
   "metadata": {},
   "outputs": [],
   "source": [
    "mut_frac_dict = {}\n",
    "for peakfile in np.sort(glob.glob('./marge_mutational_burden/*anno_muts.txt')):\n",
    "    mutfile = pd.read_csv(peakfile, index_col=0, sep='\\t')\n",
    "     #print(mutfile.iloc[:, -1].isna().value_counts())\n",
    "    nomut = mutfile.iloc[:, -1].isna().sum()\n",
    "    total_peaks = mutfile.iloc[:, -1].shape[0]\n",
    "    mut_frac_dict[peakfile.split('/')[-1]] = round((total_peaks-nomut)/(total_peaks),\n",
    "                                                   ndigits=3)"
   ]
  },
  {
   "cell_type": "code",
   "execution_count": 46,
   "metadata": {},
   "outputs": [
    {
     "data": {
      "text/plain": [
       "aj_vs_balbcj_de_peaks_fc_1_anno_muts.txt         0.275\n",
       "aj_vs_balbcj_de_peaks_fc_2_anno_muts.txt         0.322\n",
       "aj_vs_balbcj_de_peaks_fc_4_anno_muts.txt         0.281\n",
       "aj_vs_balbcj_nonsig_anno_muts.txt                0.177\n",
       "aj_vs_c57bl6j_de_peaks_fc_1_anno_muts.txt        0.555\n",
       "aj_vs_c57bl6j_de_peaks_fc_2_anno_muts.txt        0.624\n",
       "aj_vs_c57bl6j_de_peaks_fc_4_anno_muts.txt        0.611\n",
       "aj_vs_c57bl6j_nonsig_anno_muts.txt               0.179\n",
       "balbcj_vs_c57bl6j_de_peaks_fc_1_anno_muts.txt    0.456\n",
       "balbcj_vs_c57bl6j_de_peaks_fc_2_anno_muts.txt    0.565\n",
       "balbcj_vs_c57bl6j_de_peaks_fc_4_anno_muts.txt    0.588\n",
       "balbcj_vs_c57bl6j_nonsig_anno_muts.txt           0.161\n",
       "dtype: float64"
      ]
     },
     "execution_count": 46,
     "metadata": {},
     "output_type": "execute_result"
    }
   ],
   "source": [
    "pd.Series(mut_frac_dict)"
   ]
  },
  {
   "cell_type": "markdown",
   "metadata": {},
   "source": [
    "This can be put into a fancy table for publication"
   ]
  },
  {
   "cell_type": "code",
   "execution_count": null,
   "metadata": {},
   "outputs": [],
   "source": []
  }
 ],
 "metadata": {
  "kernelspec": {
   "display_name": "dataviz",
   "language": "python",
   "name": "dataviz"
  },
  "language_info": {
   "codemirror_mode": {
    "name": "ipython",
    "version": 3
   },
   "file_extension": ".py",
   "mimetype": "text/x-python",
   "name": "python",
   "nbconvert_exporter": "python",
   "pygments_lexer": "ipython3",
   "version": "3.7.5"
  }
 },
 "nbformat": 4,
 "nbformat_minor": 2
}
