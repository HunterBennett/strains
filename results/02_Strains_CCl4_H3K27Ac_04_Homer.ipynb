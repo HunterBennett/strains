{
 "cells": [
  {
   "cell_type": "code",
   "execution_count": 1,
   "metadata": {},
   "outputs": [],
   "source": [
    "### header ###\n",
    "__author__ = \"Hunter Bennett\"\n",
    "__license__ = \"BSD\"\n",
    "__email__ = \"hunter.r.bennett@gmail.com\"\n",
    "%load_ext autoreload\n",
    "%autoreload 2\n",
    "### imports ###\n",
    "import sys\n",
    "%matplotlib inline\n",
    "import os\n",
    "import re\n",
    "import glob\n",
    "import pandas as pd\n",
    "import numpy as np\n",
    "import matplotlib\n",
    "import matplotlib.pyplot as plt \n",
    "import seaborn as sns\n",
    "matplotlib.rcParams['savefig.dpi'] = 200\n",
    "sns.set(font_scale=1)\n",
    "sns.set_context('talk')\n",
    "sns.set_style('white')\n",
    "\n",
    "# import custom functions\n",
    "import sys\n",
    "sys.path.insert(0, '/home/h1bennet/code/')\n",
    "from hbUtils import ngs_qc, quantile_normalize_df\n",
    "from plotting_scripts import label_point, pca_rpkm_mat, get_diff_volcano\n",
    "from homer_preprocessing import read_annotated_peaks, import_homer_diffpeak, pull_comparisons_get_diff\n",
    "from gene_expression_plots import survey_strain_amln_gene_exp, survey_strain_ccl4_gene_exp"
   ]
  },
  {
   "cell_type": "code",
   "execution_count": 2,
   "metadata": {},
   "outputs": [],
   "source": [
    "dataDirectory = ''\n",
    "workingDirectory = '/home/h1bennet/strains/results/02_Strains_CCl4_H3K27Ac/'\n",
    "if not os.path.isdir(workingDirectory):\n",
    "    os.mkdir(workingDirectory)\n",
    "os.chdir(workingDirectory)"
   ]
  },
  {
   "cell_type": "markdown",
   "metadata": {},
   "source": [
    "###  Import differential peaks from last time"
   ]
  },
  {
   "cell_type": "code",
   "execution_count": 3,
   "metadata": {},
   "outputs": [
    {
     "name": "stdout",
     "output_type": "stream",
     "text": [
      "annotatePeaks all peaks (43220, 30)\n",
      "getDiffExpression selected transcripts (42297, 33)\n",
      "annotatePeaks selected peaks (42297, 30)\n"
     ]
    }
   ],
   "source": [
    "diff_peak, peaks, peak_mat, peak_mat_quant = import_homer_diffpeak(\n",
    "    './merged_peaks/diff_output.txt',\n",
    "    './merged_peaks/ann_norm_kc_control_atac_peaks_all.txt')"
   ]
  },
  {
   "cell_type": "code",
   "execution_count": 4,
   "metadata": {
    "scrolled": true
   },
   "outputs": [
    {
     "name": "stderr",
     "output_type": "stream",
     "text": [
      "/gpfs/data01/glasslab/home/h1bennet/.conda/envs/dataviz/lib/python3.7/site-packages/pandas/core/indexing.py:1418: FutureWarning: \n",
      "Passing list-likes to .loc or [] with any missing label will raise\n",
      "KeyError in the future, you can use .reindex() as an alternative.\n",
      "\n",
      "See the documentation here:\n",
      "https://pandas.pydata.org/pandas-docs/stable/user_guide/indexing.html#deprecate-loc-reindex-listlike\n",
      "  return self._getitem_tuple(key)\n"
     ]
    }
   ],
   "source": [
    "comp_dict = pull_comparisons_get_diff(diff_peak)"
   ]
  },
  {
   "cell_type": "markdown",
   "metadata": {},
   "source": [
    "# Process for motif calling with Homer"
   ]
  },
  {
   "cell_type": "markdown",
   "metadata": {},
   "source": [
    "For motif calling its unclear whether it would be ideal to take all peaks activated in C57 compared to any other strain and look for motif enrichment or whether it would be better to look at motifs only in a pairwise fashion. I probably lean towards looking at any peak activated in C57 since they should be enriched for strain specific motifs."
   ]
  },
  {
   "cell_type": "code",
   "execution_count": 5,
   "metadata": {},
   "outputs": [],
   "source": [
    "if not os.path.isdir('./motif_calling/'):\n",
    "    os.mkdir('./motif_calling/')"
   ]
  },
  {
   "cell_type": "markdown",
   "metadata": {},
   "source": [
    "Ty pointed out that running annotatePeaks.pl on a peak file adjusts the peak size to what is being annotated :O so we have to pull the original coordinates out of the ATAC file. The ATAC peak file from O'young's pipeline has an average peak size of about 270 so they are a little bigger than the NFR we like for ATAC seq. I'm unsure whether the best thing to do here would be to make them all 200 bp based on the center of the peak or if we should just use the merged peak sizes"
   ]
  },
  {
   "cell_type": "markdown",
   "metadata": {},
   "source": [
    "# Correct merge-peaks shifting of atac peak files\n",
    "Make atac peak file with 200bp peaks set on center of current peak (rounding down if fractional center)"
   ]
  },
  {
   "cell_type": "code",
   "execution_count": 6,
   "metadata": {},
   "outputs": [],
   "source": [
    "atac_peaks = pd.read_csv('./merged_peaks/idr_peaks_merged.txt', sep='\\t', index_col=0)"
   ]
  },
  {
   "cell_type": "code",
   "execution_count": 7,
   "metadata": {},
   "outputs": [],
   "source": [
    "new_start = []\n",
    "new_end = []\n",
    "for index, row in atac_peaks.iterrows():\n",
    "    center = row.start + int(np.floor((row.end - row.start)/2))\n",
    "    new_start.append(center - 100)\n",
    "    new_end.append(center + 100)\n",
    "    \n",
    "atac_peaks_200bp = atac_peaks.iloc[:, :4].copy(deep=True)\n",
    "atac_peaks_200bp['start'] = new_start\n",
    "atac_peaks_200bp['end'] = new_end\n",
    "atac_peaks_200bp.index.rename('PeakID', inplace=True)"
   ]
  },
  {
   "cell_type": "code",
   "execution_count": 8,
   "metadata": {},
   "outputs": [
    {
     "name": "stdout",
     "output_type": "stream",
     "text": [
      "42297 peaks in differential peak file\n",
      "43220 peaks in ATAC-seq file\n",
      "\n",
      "23569 distal peaks in differential peak file\n",
      "23569 distal peaks in ATAC-seq file\n"
     ]
    }
   ],
   "source": [
    "diff_peak_distal = diff_peak.loc[np.abs(diff_peak.loc[:, 'Distance to TSS'])>3000, :]\n",
    "atac_peaks_200bp_distal = atac_peaks_200bp.reindex(diff_peak_distal.index).dropna(how='all')\n",
    "\n",
    "# print to check that this worked\n",
    "print(diff_peak.shape[0], 'peaks in differential peak file')\n",
    "print(atac_peaks_200bp.shape[0], 'peaks in ATAC-seq file')\n",
    "print()\n",
    "print(diff_peak_distal.shape[0], 'distal peaks in differential peak file')\n",
    "print(atac_peaks_200bp_distal.shape[0], 'distal peaks in ATAC-seq file')"
   ]
  },
  {
   "cell_type": "markdown",
   "metadata": {},
   "source": [
    "# Extract target peaks"
   ]
  },
  {
   "cell_type": "markdown",
   "metadata": {},
   "source": [
    "Set cutoffs"
   ]
  },
  {
   "cell_type": "code",
   "execution_count": 9,
   "metadata": {
    "scrolled": false
   },
   "outputs": [
    {
     "name": "stdout",
     "output_type": "stream",
     "text": [
      "Analyzing 00_c57 ...\n",
      "\n",
      "0\n",
      "For comp: 00_c57 vs. 01_balbc\n",
      "Union set at: 203 peaks\n",
      "Intersection set at: 203 peaks\n",
      "\n",
      "1\n",
      "For comp: 00_c57 vs. 02_aj\n",
      "Union set at: 312 peaks\n",
      "Intersection set at: 112 peaks\n",
      "\n",
      "2\n",
      "For comp: 01_balbc vs. 02_aj\n",
      "Union set at: 312 peaks\n",
      "Intersection set at: 112 peaks\n",
      "\n",
      "Analyzing 01_balbc ...\n",
      "\n",
      "0\n",
      "For comp: 00_c57 vs. 01_balbc\n",
      "Union set at: 297 peaks\n",
      "Intersection set at: 297 peaks\n",
      "\n",
      "1\n",
      "For comp: 00_c57 vs. 02_aj\n",
      "Union set at: 297 peaks\n",
      "Intersection set at: 297 peaks\n",
      "\n",
      "1\n",
      "For comp: 01_balbc vs. 02_aj\n",
      "Union set at: 793 peaks\n",
      "Intersection set at: 31 peaks\n",
      "\n",
      "Analyzing 02_aj ...\n",
      "\n",
      "0\n",
      "For comp: 00_c57 vs. 01_balbc\n",
      "Union set at: 793 peaks\n",
      "Intersection set at: 31 peaks\n",
      "\n",
      "0\n",
      "For comp: 00_c57 vs. 02_aj\n",
      "Union set at: 301 peaks\n",
      "Intersection set at: 301 peaks\n",
      "\n",
      "1\n",
      "For comp: 01_balbc vs. 02_aj\n",
      "Union set at: 754 peaks\n",
      "Intersection set at: 53 peaks\n",
      "\n"
     ]
    }
   ],
   "source": [
    "# initialize dict and list of cell types\n",
    "peak_lists = {}\n",
    "bg_lists = {}\n",
    "cells = ['00_c57',\n",
    "         '01_balbc',\n",
    "         '02_aj']\n",
    "\n",
    "# set pvalue and fc thresholds\n",
    "fc = np.log2(2)\n",
    "pval = 0.05\n",
    "\n",
    "for cell in cells:\n",
    "    print('Analyzing', cell, '...\\n')\n",
    "    \n",
    "    # set count\n",
    "    count = 0\n",
    "    \n",
    "    for key in comp_dict.keys():\n",
    "        \n",
    "        # select get diff data frame.\n",
    "        df = comp_dict[key]\n",
    "        \n",
    "        # check on counter\n",
    "        print(count)\n",
    "\n",
    "\n",
    "        # initialize lists if count == 0\n",
    "        if count == 0:\n",
    "            # fold change direction depends on the location of the cell in the comparison.\n",
    "            # if cell is in first position it is reference - so negative log2fc is higher in first position\n",
    "            if cell in key.split(' vs. ')[0]:\n",
    "                u = set(df.index[(df.loc[:, 'adj_pval'] <= pval) & (df.loc[:, 'log2fc'] < -fc)])\n",
    "                i = set(df.index[(df.loc[:, 'adj_pval'] <= pval) & (df.loc[:, 'log2fc'] < -fc)])\n",
    "                count = count + 1\n",
    "            # if cell is in second position it is comparison - so positive log2fc is higher in second position\n",
    "            elif cell in key.split(' vs. ')[1]:\n",
    "                u = set(df.index[(df.loc[:, 'adj_pval'] <= pval) & (df.loc[:, 'log2fc'] > fc)])\n",
    "                i = set(df.index[(df.loc[:, 'adj_pval'] <= pval) & (df.loc[:, 'log2fc'] > fc)])\n",
    "                count = count + 1\n",
    "\n",
    "        else:\n",
    "            # fold change direction depends on the location of the cell in the comparison.\n",
    "            # if cell is in first position it is reference - so negative log2fc is higher in first position\n",
    "            if cell in key.split(' vs. ')[0]:\n",
    "                u = u.union(df.index[(df.loc[:, 'adj_pval'] <= pval) & (df.loc[:, 'log2fc'] < -fc)])\n",
    "                i = i.intersection(df.index[(df.loc[:, 'adj_pval'] <= pval) & (df.loc[:, 'log2fc'] < -fc)])\n",
    "                count = count + 1\n",
    "            # if cell is in second position it is comparison - so positive log2fc is higher in second position\n",
    "            elif cell in key.split(' vs. ')[1]:\n",
    "                u = u.union(df.index[(df.loc[:, 'adj_pval'] <= pval) & (df.loc[:, 'log2fc'] > fc)])\n",
    "                i = i.intersection(df.index[(df.loc[:, 'adj_pval'] <= pval) & (df.loc[:, 'log2fc'] > fc)])\n",
    "                count = count + 1\n",
    "\n",
    "        \n",
    "        # summarize iteration\n",
    "        print('For comp:', key)\n",
    "        print('Union set at:', len(u), 'peaks')\n",
    "        print('Intersection set at:', len(i), 'peaks\\n')\n",
    "     \n",
    "    \n",
    "        # store lists\n",
    "        peak_lists[cell+'_union'] = u\n",
    "        peak_lists[cell+'_intersection'] = i"
   ]
  },
  {
   "cell_type": "markdown",
   "metadata": {},
   "source": [
    "# Save peaks for motif calling"
   ]
  },
  {
   "cell_type": "code",
   "execution_count": 10,
   "metadata": {},
   "outputs": [],
   "source": [
    "convert_dict = {'start': int,\n",
    "                'end': int}"
   ]
  },
  {
   "cell_type": "code",
   "execution_count": 11,
   "metadata": {},
   "outputs": [],
   "source": [
    "for df, txt in zip([atac_peaks_200bp, atac_peaks_200bp_distal], ['', '_distal']):\n",
    "    for key in peak_lists.keys():\n",
    "        # save cell specific promoters\n",
    "        tmp = df.reindex(peak_lists[key]).dropna(how='all')\n",
    "        tmp = tmp.astype(convert_dict)\n",
    "        tmp.to_csv('./motif_calling/'+key+'_act'+txt+'_peaks.txt',\n",
    "                   sep='\\t')\n",
    "        \n",
    "        # save specific background\n",
    "        tmp = df.loc[df.index.difference(peak_lists[key]), :]\n",
    "        tmp = tmp.astype(convert_dict)\n",
    "        tmp.to_csv('./motif_calling/'+key+'_bg'+txt+'_peaks.txt',\n",
    "                   sep='\\t')\n"
   ]
  },
  {
   "cell_type": "markdown",
   "metadata": {},
   "source": [
    "### Call motifs using homer"
   ]
  },
  {
   "cell_type": "code",
   "execution_count": 12,
   "metadata": {},
   "outputs": [],
   "source": [
    "strain_dict = {'c57': 'c57bl6j',\n",
    "               'balbc': 'balbcj',\n",
    "               'aj': 'aj'}"
   ]
  },
  {
   "cell_type": "code",
   "execution_count": 14,
   "metadata": {},
   "outputs": [],
   "source": [
    "with open('./findMotifs_homer.sh', 'w') as f:\n",
    "    for peakfile in np.sort(glob.glob('./motif_calling/*act*')):\n",
    "        strain = peakfile.split('/')[-1].split('_')[1]\n",
    "        call = ['/home/vlink/code/marge/bin/MMARGE.pl', 'denovo_motifs',\n",
    "                peakfile, 'mm10', peakfile.replace('_peaks.txt', '_motifs').replace('_act', ''),\n",
    "                '-bg', peakfile.replace('_act_', '_bg_'),\n",
    "                '-len 8,10,12,14,16', '-fg_strain', strain_dict[strain],\n",
    "                '-bg_strain', strain_dict[strain], '-p 24\\n\\n']\n",
    "        f.write(' '.join(call))"
   ]
  },
  {
   "cell_type": "markdown",
   "metadata": {},
   "source": [
    "# Aggregate results - Homer"
   ]
  },
  {
   "cell_type": "code",
   "execution_count": 9,
   "metadata": {
    "scrolled": true
   },
   "outputs": [
    {
     "data": {
      "text/plain": [
       "['./motif_calling/00_c57_intersection_distal_motifs/knownResults.txt']"
      ]
     },
     "execution_count": 9,
     "metadata": {},
     "output_type": "execute_result"
    }
   ],
   "source": [
    "glob.glob('./motif_calling/*motifs/knownResults.txt')"
   ]
  },
  {
   "cell_type": "code",
   "execution_count": 29,
   "metadata": {},
   "outputs": [],
   "source": [
    "known_motif_pval_dict = {}\n",
    "for f in np.sort(glob.glob('./motif_calling/*/knownResults.txt')):\n",
    "    # read in signifance values using pandas\n",
    "    frame = pd.read_csv(f, sep='\\t', index_col=0)\n",
    "    \n",
    "    # remove duplicates\n",
    "    frame = frame[~frame.index.duplicated(keep='first')]\n",
    "    pval = frame.iloc[:, 2]\n",
    "    \n",
    "    # extract name of sample\n",
    "    sample = f.split('/')[2]\n",
    "    \n",
    "    # store in dict\n",
    "    known_motif_pval_dict[sample] = pval    \n",
    "    \n",
    "# create data frame\n",
    "known_motif_pval_frame = pd.DataFrame(known_motif_pval_dict)\n",
    "\n",
    "# sort by average p value\n",
    "known_motif_pval_frame = known_motif_pval_frame.reindex(known_motif_pval_frame.mean(axis=1).sort_values().index.tolist())\n",
    "\n",
    "known_motif_pval_frame.to_csv('./homer_known_motifs_log.txt', sep='\\t')"
   ]
  },
  {
   "cell_type": "markdown",
   "metadata": {},
   "source": [
    "# Plot known motif results"
   ]
  },
  {
   "cell_type": "markdown",
   "metadata": {},
   "source": [
    "## Plot intersection motifs"
   ]
  },
  {
   "cell_type": "code",
   "execution_count": null,
   "metadata": {},
   "outputs": [],
   "source": [
    "tmp_frame = known_motif_pval_frame.loc[:, known_motif_pval_frame.columns.str.contains('intersection')]\n",
    "tmp_frame = tmp_frame.loc[:, ~tmp_frame.columns.str.contains('distal')]\n",
    "\n",
    "# sort by new mean\n",
    "tmp_frame = tmp_frame.reindex(tmp_frame.mean(axis=1).sort_values(ascending=True).index.tolist())\n",
    "\n",
    "\n",
    "sns.clustermap(\n",
    "    -tmp_frame.loc[(known_motif_pval_frame <=-5).any(axis=1), :].head(20),\n",
    "    cmap='Reds',\n",
    "    linewidths=1,\n",
    "    linecolor='k',\n",
    "    annot=True,\n",
    "    cbar_kws={'label': '-log10(pval)'},\n",
    "    col_cluster=False,\n",
    "    # square=True,\n",
    "    # center=0,\n",
    "    # ax=ax,\n",
    "    col_colors=['#31a354', '#3182bd', '#de2d26'],\n",
    "    figsize=(5,10))\n",
    "\n",
    "plt.savefig('./figures/known_motif_strain_specific_intersection_enhancers.png',\n",
    "            bbox_inches='tight')"
   ]
  },
  {
   "cell_type": "markdown",
   "metadata": {},
   "source": [
    "### Select motifs with highest score difference"
   ]
  },
  {
   "cell_type": "code",
   "execution_count": null,
   "metadata": {},
   "outputs": [],
   "source": [
    "sns.clustermap(\n",
    "    -tmp_frame.loc[(tmp_frame.max(1)-tmp_frame.min(1)).sort_values(ascending=False).index.tolist(), :].head(20),\n",
    "    cmap='Reds',\n",
    "    linewidths=1,\n",
    "    linecolor='k',\n",
    "    annot=True,\n",
    "    cbar_kws={'label': '-log10(pval)'},\n",
    "    col_cluster=False,\n",
    "    # square=True,\n",
    "    # center=0,\n",
    "    # ax=ax,\n",
    "    col_colors=['#31a354', '#3182bd', '#de2d26'],\n",
    "    figsize=(5,10))\n",
    "\n",
    "plt.savefig('./figures/known_motif_strain_specific_intersection_rankdiff_enhancers.png',\n",
    "            bbox_inches='tight')"
   ]
  },
  {
   "cell_type": "markdown",
   "metadata": {},
   "source": [
    "## Plot union motifs"
   ]
  },
  {
   "cell_type": "code",
   "execution_count": null,
   "metadata": {},
   "outputs": [],
   "source": [
    "tmp_frame = known_motif_pval_frame.loc[:, known_motif_pval_frame.columns.str.contains('union')]\n",
    "tmp_frame = tmp_frame.loc[:, ~tmp_frame.columns.str.contains('distal')]\n",
    "\n",
    "# sort by new mean\n",
    "tmp_frame = tmp_frame.reindex(tmp_frame.mean(axis=1).sort_values(ascending=True).index.tolist())\n",
    "\n",
    "\n",
    "sns.clustermap(\n",
    "    -tmp_frame.loc[(known_motif_pval_frame <=-5).any(axis=1), :].head(20),\n",
    "    cmap='Reds',\n",
    "    linewidths=1,\n",
    "    linecolor='k',\n",
    "    annot=True,\n",
    "    cbar_kws={'label': '-log10(pval)'},\n",
    "    col_cluster=False,\n",
    "    # square=True,\n",
    "    # center=0,\n",
    "    # ax=ax,\n",
    "    col_colors=['#31a354', '#3182bd', '#de2d26'],\n",
    "    figsize=(5,10))\n",
    "\n",
    "plt.savefig('./figures/known_motif_strain_specific_union_enhancers.png',\n",
    "            bbox_inches='tight')"
   ]
  },
  {
   "cell_type": "markdown",
   "metadata": {},
   "source": [
    "### Select motifs with highest score difference"
   ]
  },
  {
   "cell_type": "code",
   "execution_count": null,
   "metadata": {},
   "outputs": [],
   "source": [
    "sns.clustermap(\n",
    "    -tmp_frame.loc[(tmp_frame.max(1)-tmp_frame.min(1)).sort_values(ascending=False).index.tolist(), :].head(20),\n",
    "    cmap='Reds',\n",
    "    linewidths=1,\n",
    "    linecolor='k',\n",
    "    annot=True,\n",
    "    cbar_kws={'label': '-log10(pval)'},\n",
    "    col_cluster=False,\n",
    "    # square=True,\n",
    "    # center=0,\n",
    "    # ax=ax,\n",
    "    col_colors=['#31a354', '#3182bd', '#de2d26'],\n",
    "    figsize=(5,10))\n",
    "\n",
    "plt.savefig('./figures/known_motif_strain_specific_union_rankdiff_enhancers.png',\n",
    "            bbox_inches='tight')"
   ]
  },
  {
   "cell_type": "markdown",
   "metadata": {},
   "source": [
    "# Distal motifs"
   ]
  },
  {
   "cell_type": "markdown",
   "metadata": {},
   "source": [
    "## Plot intersection distal motifs"
   ]
  },
  {
   "cell_type": "code",
   "execution_count": null,
   "metadata": {},
   "outputs": [],
   "source": [
    "tmp_frame = known_motif_pval_frame.loc[:, known_motif_pval_frame.columns.str.contains('intersection')]\n",
    "tmp_frame = tmp_frame.loc[:, tmp_frame.columns.str.contains('distal')]\n",
    "\n",
    "# sort by new mean\n",
    "tmp_frame = tmp_frame.reindex(tmp_frame.mean(axis=1).sort_values(ascending=True).index.tolist())\n",
    "\n",
    "\n",
    "sns.clustermap(\n",
    "    -tmp_frame.loc[(known_motif_pval_frame <=-5).any(axis=1), :].head(20),\n",
    "    cmap='Reds',\n",
    "    linewidths=1,\n",
    "    linecolor='k',\n",
    "    annot=True,\n",
    "    cbar_kws={'label': '-log10(pval)'},\n",
    "    col_cluster=False,\n",
    "    # square=True,\n",
    "    # center=0,\n",
    "    # ax=ax,\n",
    "    col_colors=['#31a354', '#3182bd', '#de2d26'],\n",
    "    figsize=(5,10))\n",
    "\n",
    "plt.savefig('./figures/known_motif_strain_specific_intersection_distal_enhancers.png',\n",
    "            bbox_inches='tight')"
   ]
  },
  {
   "cell_type": "markdown",
   "metadata": {},
   "source": [
    "### Select motifs with highest score difference"
   ]
  },
  {
   "cell_type": "code",
   "execution_count": null,
   "metadata": {},
   "outputs": [],
   "source": [
    "sns.clustermap(\n",
    "    -tmp_frame.loc[(tmp_frame.max(1)-tmp_frame.min(1)).sort_values(ascending=False).index.tolist(), :].head(20),\n",
    "    cmap='Reds',\n",
    "    linewidths=1,\n",
    "    linecolor='k',\n",
    "    annot=True,\n",
    "    cbar_kws={'label': '-log10(pval)'},\n",
    "    col_cluster=False,\n",
    "    # square=True,\n",
    "    # center=0,\n",
    "    # ax=ax,\n",
    "    col_colors=['#31a354', '#3182bd', '#de2d26'],\n",
    "    figsize=(5,10))\n",
    "\n",
    "plt.savefig('./figures/known_motif_strain_specific_intersection_rankdiff_distal_enhancers.png',\n",
    "            bbox_inches='tight')"
   ]
  },
  {
   "cell_type": "markdown",
   "metadata": {},
   "source": [
    "## Plot union distal motifs"
   ]
  },
  {
   "cell_type": "code",
   "execution_count": null,
   "metadata": {},
   "outputs": [],
   "source": [
    "tmp_frame = known_motif_pval_frame.loc[:, known_motif_pval_frame.columns.str.contains('union')]\n",
    "tmp_frame = tmp_frame.loc[:, tmp_frame.columns.str.contains('distal')]\n",
    "\n",
    "# sort by new mean\n",
    "tmp_frame = tmp_frame.reindex(tmp_frame.mean(axis=1).sort_values(ascending=True).index.tolist())\n",
    "\n",
    "\n",
    "sns.clustermap(\n",
    "    -tmp_frame.loc[(known_motif_pval_frame <=-5).any(axis=1), :].head(20),\n",
    "    cmap='Reds',\n",
    "    linewidths=1,\n",
    "    linecolor='k',\n",
    "    annot=True,\n",
    "    cbar_kws={'label': '-log10(pval)'},\n",
    "    col_cluster=False,\n",
    "    # square=True,\n",
    "    # center=0,\n",
    "    # ax=ax,\n",
    "    col_colors=['#31a354', '#3182bd', '#de2d26'],\n",
    "    figsize=(5,10))\n",
    "\n",
    "plt.savefig('./figures/known_motif_strain_specific_union_distal_enhancers.png',\n",
    "            bbox_inches='tight')"
   ]
  },
  {
   "cell_type": "markdown",
   "metadata": {},
   "source": [
    "### Select motifs with highest score difference"
   ]
  },
  {
   "cell_type": "code",
   "execution_count": null,
   "metadata": {},
   "outputs": [],
   "source": [
    "sns.clustermap(\n",
    "    -tmp_frame.loc[(tmp_frame.max(1)-tmp_frame.min(1)).sort_values(ascending=False).index.tolist(), :].head(20),\n",
    "    cmap='Reds',\n",
    "    linewidths=1,\n",
    "    linecolor='k',\n",
    "    annot=True,\n",
    "    cbar_kws={'label': '-log10(pval)'},\n",
    "    col_cluster=False,\n",
    "    # square=True,\n",
    "    # center=0,\n",
    "    # ax=ax,\n",
    "    col_colors=['#31a354', '#3182bd', '#de2d26'],\n",
    "    figsize=(5,10))\n",
    "\n",
    "plt.savefig('./figures/known_motif_strain_specific_union_rankdiff_distal_enhancers.png',\n",
    "            bbox_inches='tight')"
   ]
  }
 ],
 "metadata": {
  "kernelspec": {
   "display_name": "dataviz",
   "language": "python",
   "name": "dataviz"
  },
  "language_info": {
   "codemirror_mode": {
    "name": "ipython",
    "version": 3
   },
   "file_extension": ".py",
   "mimetype": "text/x-python",
   "name": "python",
   "nbconvert_exporter": "python",
   "pygments_lexer": "ipython3",
   "version": "3.7.5"
  }
 },
 "nbformat": 4,
 "nbformat_minor": 2
}
