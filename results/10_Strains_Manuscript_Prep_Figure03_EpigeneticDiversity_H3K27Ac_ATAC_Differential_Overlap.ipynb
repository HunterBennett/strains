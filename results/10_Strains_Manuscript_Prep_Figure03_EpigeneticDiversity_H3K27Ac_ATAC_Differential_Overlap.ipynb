{
 "cells": [
  {
   "cell_type": "markdown",
   "metadata": {},
   "source": [
    "Hunter Bennett | Glass Lab | Kupffer Strains Project | May 03 2021  \n",
    "\n",
    "This notebook is for making fancier figure level plots describing differential gene expression for the strains NASH paper. It generates the following plots:\n",
    "1. Clustered heatmap of differential peaks"
   ]
  },
  {
   "cell_type": "code",
   "execution_count": 61,
   "metadata": {},
   "outputs": [
    {
     "name": "stdout",
     "output_type": "stream",
     "text": [
      "The autoreload extension is already loaded. To reload it, use:\n",
      "  %reload_ext autoreload\n"
     ]
    }
   ],
   "source": [
    "### header ###\n",
    "__author__ = \"Hunter Bennett\"\n",
    "__license__ = \"BSD\"\n",
    "__email__ = \"hunter.r.bennett@gmail.com\"\n",
    "%load_ext autoreload\n",
    "%autoreload 2\n",
    "### imports ###\n",
    "import sys\n",
    "%matplotlib inline\n",
    "import os\n",
    "import re\n",
    "import glob\n",
    "import pandas as pd\n",
    "import numpy as np\n",
    "import matplotlib\n",
    "import matplotlib.pyplot as plt \n",
    "from matplotlib_venn import venn2\n",
    "import seaborn as sns\n",
    "matplotlib.rcParams['savefig.dpi'] = 500\n",
    "\n",
    "# clustering packages\n",
    "import scipy\n",
    "import scipy.cluster.hierarchy as sch\n",
    "import scipy.spatial.distance as dist\n",
    "\n",
    "# import custom functions\n",
    "import sys\n",
    "sys.path.insert(0, '/home/h1bennet/code/')\n",
    "from hbUtils import ngs_qc, quantile_normalize_df\n",
    "from plotting_scripts import label_point, pca_rpkm_mat, get_diff_volcano\n",
    "from homer_preprocessing import read_annotated_peaks, import_homer_diffpeak, pull_comparisons_get_diff"
   ]
  },
  {
   "cell_type": "code",
   "execution_count": 5,
   "metadata": {},
   "outputs": [],
   "source": [
    "#### PLOTTING PARAMETERS FOR MANUSCRIPT ####\n",
    "# # get matplotlib to save readable fonts\n",
    "matplotlib.rcParams['pdf.fonttype'] = 42\n",
    "matplotlib.rcParams['ps.fonttype'] = 42\n",
    "matplotlib.rcParams['font.size'] = 8\n",
    "\n",
    "# line widths\n",
    "matplotlib.rcParams['axes.linewidth'] = 1\n",
    "matplotlib.rcParams['xtick.major.width'] = 1\n",
    "matplotlib.rcParams['ytick.major.width'] = 1\n",
    "\n",
    "# adjust defualt color for plots to black\n",
    "# normal default is a dark gray\n",
    "COLOR = 'black'\n",
    "matplotlib.rcParams['text.color'] = COLOR\n",
    "matplotlib.rcParams['axes.labelcolor'] = COLOR\n",
    "matplotlib.rcParams['xtick.color'] = COLOR\n",
    "matplotlib.rcParams['ytick.color'] = COLOR\n",
    "matplotlib.rcParams['axes.edgecolor'] = COLOR\n",
    "\n",
    "#### PLOT PARAMETERS FOR THIS PLOT ####"
   ]
  },
  {
   "cell_type": "code",
   "execution_count": 6,
   "metadata": {},
   "outputs": [],
   "source": [
    "atacDirectory = '/home/h1bennet/strains/results/06_Strains_Control_Cohort2_ATAC/'\n",
    "h3k27acDirectory = '/home/h1bennet/strains/results/06b_Strains_Control_Combined_H3K27Ac/'\n",
    "workingDirectory = '/home/h1bennet/strains/results/10_Strains_Manuscript_Prep/'\n",
    "if not os.path.isdir(workingDirectory):\n",
    "    os.mkdir(workingDirectory)\n",
    "os.chdir(workingDirectory)"
   ]
  },
  {
   "cell_type": "markdown",
   "metadata": {},
   "source": [
    "# Make folder for \"fancy figures\" for manuscript"
   ]
  },
  {
   "cell_type": "code",
   "execution_count": 7,
   "metadata": {},
   "outputs": [],
   "source": [
    "if not os.path.isdir('./h3k27ac_atac_differential_overlap/'):\n",
    "    os.mkdir('./h3k27ac_atac_differential_overlap/')"
   ]
  },
  {
   "cell_type": "markdown",
   "metadata": {},
   "source": [
    "### Import differential peaks"
   ]
  },
  {
   "cell_type": "code",
   "execution_count": 13,
   "metadata": {},
   "outputs": [
    {
     "name": "stdout",
     "output_type": "stream",
     "text": [
      "annotatePeaks all peaks (86301, 27)\n",
      "getDiffExpression selected transcripts (84264, 36)\n",
      "annotatePeaks selected peaks (84264, 27)\n"
     ]
    }
   ],
   "source": [
    "diff_peak, peaks, peak_mat, peak_mat_quant = import_homer_diffpeak(\n",
    "    h3k27acDirectory+'/merged_peaks/diff_output.txt',\n",
    "    h3k27acDirectory+'/merged_peaks/ann_norm_kc_control_atac_peaks_all.txt')"
   ]
  },
  {
   "cell_type": "code",
   "execution_count": 14,
   "metadata": {},
   "outputs": [
    {
     "name": "stdout",
     "output_type": "stream",
     "text": [
      "annotatePeaks all peaks (86301, 30)\n",
      "getDiffExpression selected transcripts (84264, 39)\n",
      "annotatePeaks selected peaks (84264, 30)\n"
     ]
    }
   ],
   "source": [
    "diff_peak_atac, peaks_atac, peak_mat_atac, peak_mat_quant_atac = import_homer_diffpeak(\n",
    "    atacDirectory+'/merged_peaks/diff_output.txt',\n",
    "    atacDirectory+'/merged_peaks/ann_norm_idr_peaks_merged.txt')"
   ]
  },
  {
   "cell_type": "code",
   "execution_count": null,
   "metadata": {},
   "outputs": [],
   "source": [
    "comp_dict = pull_comparisons_get_diff(diff_peak, seq_type='Peak')\n",
    "comp_dict_atac = pull_comparisons_get_diff(diff_peak_atac, seq_type='Peak')"
   ]
  },
  {
   "cell_type": "code",
   "execution_count": 46,
   "metadata": {},
   "outputs": [],
   "source": [
    "color_dict = {'aj': ('#de2d26', '#a50f15'),\n",
    "              'balbcj': ('#3182bd', '#08519c'),\n",
    "              'c57bl6j': ('#31a354', '#006d2c')}"
   ]
  },
  {
   "cell_type": "code",
   "execution_count": 60,
   "metadata": {},
   "outputs": [
    {
     "data": {
      "image/png": "[encoded data removed]",
      "text/plain": [
       "<Figure size 216x432 with 6 Axes>"
      ]
     },
     "metadata": {},
     "output_type": "display_data"
    }
   ],
   "source": [
    "fig, axs = plt.subplots(3, 2, figsize=(3,6))\n",
    "plt.subplots_adjust(hspace=0.0, wspace=.3)\n",
    "for comp, ax in zip(comp_dict.keys(), [axs[0],axs[1],axs[2]]):\n",
    "    up_strain = comp.split(' vs. ')[1]\n",
    "    dn_strain = comp.split(' vs. ')[0]\n",
    "    \n",
    "    de_h3k27 = comp_dict[comp]\n",
    "    de_atac = comp_dict_atac[comp]\n",
    "    \n",
    "    h3k27_up = de_h3k27.index[(((de_h3k27.adj_pval <= pval) & (de_h3k27.log2fc >= fc)) & (np.abs(de_h3k27.TSS_dist) >= 3000))].tolist()\n",
    "    h3k27_dn = de_h3k27.index[(((de_h3k27.adj_pval <= pval) & (de_h3k27.log2fc <= -fc)) & (np.abs(de_h3k27.TSS_dist) >= 3000))].tolist()\n",
    "    atac_up = de_atac.index[(((de_atac.adj_pval <= pval) & (de_atac.log2fc >= fc)) & (np.abs(de_atac.TSS_dist) >= 3000))].tolist()\n",
    "    atac_dn = de_atac.index[(((de_atac.adj_pval <= pval) & (de_atac.log2fc <= -fc)) & (np.abs(de_atac.TSS_dist) >= 3000))].tolist()\n",
    "    \n",
    "    venn2([set(atac_dn), set(h3k27_dn)],\n",
    "          set_labels=[dn_strain.upper()+'\\nATAC',\n",
    "                      dn_strain.upper()+'\\nK27Ac'],\n",
    "          set_colors=[color_dict[dn_strain][0],\n",
    "                      color_dict[dn_strain][1]],\n",
    "          alpha=0.8,\n",
    "          ax=ax[0])\n",
    "    \n",
    "    venn2([set(atac_up), set(h3k27_up)],\n",
    "          set_labels=[up_strain.upper()+'\\nATAC',\n",
    "                      up_strain.upper()+'\\nK27Ac'],\n",
    "          set_colors=[color_dict[up_strain][0],\n",
    "                      color_dict[up_strain][1]],\n",
    "          alpha=0.6,\n",
    "          ax=ax[1])\n",
    "    \n",
    "plt.savefig('./h3k27ac_atac_differential_overlap/venn2_pairwise_overlap.pdf',\n",
    "            bbox_inches='tight')"
   ]
  },
  {
   "cell_type": "code",
   "execution_count": null,
   "metadata": {},
   "outputs": [],
   "source": [
    "for comp in comp_dict.keys():\n",
    "    up_strain = comp.split(' vs. ')[1]\n",
    "    dn_strain = comp.split(' vs. ')[0]\n",
    "    \n",
    "    de_h3k27 = comp_dict[comp]\n",
    "    de_atac = comp_dict_atac[comp]\n",
    "    \n",
    "    h3k27_up = de_h3k27.index[(((de_h3k27.adj_pval <= pval) & (de_h3k27.log2fc >= fc)) & (np.abs(de_h3k27.TSS_dist) >= 3000))].tolist()\n",
    "    h3k27_dn = de_h3k27.index[(((de_h3k27.adj_pval <= pval) & (de_h3k27.log2fc <= -fc)) & (np.abs(de_h3k27.TSS_dist) >= 3000))].tolist()\n",
    "    atac_up = de_atac.index[(((de_atac.adj_pval <= pval) & (de_atac.log2fc >= fc)) & (np.abs(de_atac.TSS_dist) >= 3000))].tolist()\n",
    "    atac_dn = de_atac.index[(((de_atac.adj_pval <= pval) & (de_atac.log2fc <= -fc)) & (np.abs(de_atac.TSS_dist) >= 3000))].tolist()\n",
    "    \n",
    "    print(comp)\n",
    "    print('ATAC peaks up in %s: %i' % (dn_strain, len(set(atac_dn))))\n",
    "    print('H3K27Ac peaks up in %s: %i' % (dn_strain, len(set(h3k27_dn))))\n",
    "    print('N Shared: %i' % len( set(h3k27_dn).intersection(atac_dn) ))\n",
    "    print('Total Peaks: %i' % len( set(h3k27_dn).union(atac_dn) ))\n",
    "    print('Fraction Shared: %.2f' % (len(set(h3k27_dn).intersection(atac_dn)) / len(set(h3k27_dn).union(atac_dn))))\n",
    "    print(' ')\n",
    "    \n",
    "    print('ATAC peaks up in %s: %i' % (up_strain, len(set(atac_up))))\n",
    "    print('H3K27Ac peaks up in %s: %i' % (up_strain, len(set(h3k27_up))))\n",
    "    print('N Shared: %i' % len( set(h3k27_up).intersection(atac_up) ))\n",
    "    print('Total Peaks: %i' % len( set(h3k27_up).union(atac_up) ))\n",
    "    print('Fraction Shared: %.2f' % (len(set(h3k27_up).intersection(atac_up)) / len(set(h3k27_up).union(atac_up))))\n",
    "    print(' ')"
   ]
  }
 ],
 "metadata": {
  "kernelspec": {
   "display_name": "dataviz",
   "language": "python",
   "name": "dataviz"
  },
  "language_info": {
   "codemirror_mode": {
    "name": "ipython",
    "version": 3
   },
   "file_extension": ".py",
   "mimetype": "text/x-python",
   "name": "python",
   "nbconvert_exporter": "python",
   "pygments_lexer": "ipython3",
   "version": "3.7.5"
  }
 },
 "nbformat": 4,
 "nbformat_minor": 2
}
