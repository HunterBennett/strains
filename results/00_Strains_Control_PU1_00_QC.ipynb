{
 "cells": [
  {
   "cell_type": "markdown",
   "metadata": {},
   "source": [
    "Hunter Bennett | Glass Lab | Kupffer Strains Project | 10 March 2021"
   ]
  },
  {
   "cell_type": "code",
   "execution_count": 1,
   "metadata": {},
   "outputs": [],
   "source": [
    "### header ###\n",
    "__author__ = \"Hunter Bennett\"\n",
    "__license__ = \"BSD\"\n",
    "__email__ = \"hunter.r.bennett@gmail.com\"\n",
    "%load_ext autoreload\n",
    "%autoreload 2\n",
    "### imports ###\n",
    "import sys\n",
    "%matplotlib inline\n",
    "import os\n",
    "import re\n",
    "import glob\n",
    "import pandas as pd\n",
    "import numpy as np\n",
    "import matplotlib\n",
    "import matplotlib.pyplot as plt \n",
    "import seaborn as sns\n",
    "matplotlib.rcParams['savefig.dpi'] = 200\n",
    "sns.set(font_scale=1)\n",
    "sns.set_context('talk')\n",
    "sns.set_style('white')\n",
    "\n",
    "# import custom functions\n",
    "import sys\n",
    "sys.path.insert(0, '/home/h1bennet/code/')\n",
    "from hbUtils import ngs_qc, quantile_normalize_df"
   ]
  },
  {
   "cell_type": "markdown",
   "metadata": {},
   "source": [
    "Set working directory"
   ]
  },
  {
   "cell_type": "code",
   "execution_count": 1,
   "metadata": {},
   "outputs": [
    {
     "ename": "NameError",
     "evalue": "name 'os' is not defined",
     "output_type": "error",
     "traceback": [
      "\u001b[0;31m---------------------------------------------------------------------------\u001b[0m",
      "\u001b[0;31mNameError\u001b[0m                                 Traceback (most recent call last)",
      "\u001b[0;32m<ipython-input-1-92396bbf5381>\u001b[0m in \u001b[0;36m<module>\u001b[0;34m\u001b[0m\n\u001b[1;32m      3\u001b[0m \u001b[0;34m\u001b[0m\u001b[0m\n\u001b[1;32m      4\u001b[0m \u001b[0mworkingDirectory\u001b[0m \u001b[0;34m=\u001b[0m \u001b[0;34m'/home/h1bennet/strains/results/00_Strains_Control_PU1/'\u001b[0m\u001b[0;34m\u001b[0m\u001b[0;34m\u001b[0m\u001b[0m\n\u001b[0;32m----> 5\u001b[0;31m \u001b[0;32mif\u001b[0m \u001b[0;32mnot\u001b[0m \u001b[0mos\u001b[0m\u001b[0;34m.\u001b[0m\u001b[0mpath\u001b[0m\u001b[0;34m.\u001b[0m\u001b[0misdir\u001b[0m\u001b[0;34m(\u001b[0m\u001b[0mworkingDirectory\u001b[0m\u001b[0;34m)\u001b[0m\u001b[0;34m:\u001b[0m\u001b[0;34m\u001b[0m\u001b[0;34m\u001b[0m\u001b[0m\n\u001b[0m\u001b[1;32m      6\u001b[0m     \u001b[0mos\u001b[0m\u001b[0;34m.\u001b[0m\u001b[0mmkdir\u001b[0m\u001b[0;34m(\u001b[0m\u001b[0mworkingDirectory\u001b[0m\u001b[0;34m)\u001b[0m\u001b[0;34m\u001b[0m\u001b[0;34m\u001b[0m\u001b[0m\n\u001b[1;32m      7\u001b[0m \u001b[0mos\u001b[0m\u001b[0;34m.\u001b[0m\u001b[0mchdir\u001b[0m\u001b[0;34m(\u001b[0m\u001b[0mworkingDirectory\u001b[0m\u001b[0;34m)\u001b[0m\u001b[0;34m\u001b[0m\u001b[0;34m\u001b[0m\u001b[0m\n",
      "\u001b[0;31mNameError\u001b[0m: name 'os' is not defined"
     ]
    }
   ],
   "source": [
    "dataDirectory = '/home/h1bennet/strains/data/PU1/control/'\n",
    "inputDirectory = '/home/h1bennet/strains/data/input/'\n",
    "\n",
    "workingDirectory = '/home/h1bennet/strains/results/00_Strains_Control_PU1/'\n",
    "if not os.path.isdir(workingDirectory):\n",
    "    os.mkdir(workingDirectory)\n",
    "os.chdir(workingDirectory)"
   ]
  },
  {
   "cell_type": "markdown",
   "metadata": {},
   "source": [
    "# Quality control"
   ]
  },
  {
   "cell_type": "code",
   "execution_count": 4,
   "metadata": {},
   "outputs": [
    {
     "name": "stdout",
     "output_type": "stream",
     "text": [
      "/home/h1bennet/strains/data/PU1/control//\n",
      "./control_qc/\n"
     ]
    },
    {
     "data": {
      "text/plain": [
       "<Figure size 432x288 with 0 Axes>"
      ]
     },
     "metadata": {},
     "output_type": "display_data"
    }
   ],
   "source": [
    "qc = ngs_qc(dataDirectory, 'atac')"
   ]
  },
  {
   "cell_type": "code",
   "execution_count": 5,
   "metadata": {},
   "outputs": [
    {
     "data": {
      "text/html": [
       "<div>\n",
       "<style scoped>\n",
       "    .dataframe tbody tr th:only-of-type {\n",
       "        vertical-align: middle;\n",
       "    }\n",
       "\n",
       "    .dataframe tbody tr th {\n",
       "        vertical-align: top;\n",
       "    }\n",
       "\n",
       "    .dataframe thead th {\n",
       "        text-align: right;\n",
       "    }\n",
       "</style>\n",
       "<table border=\"1\" class=\"dataframe\">\n",
       "  <thead>\n",
       "    <tr style=\"text-align: right;\">\n",
       "      <th></th>\n",
       "      <th>uniquePositions</th>\n",
       "      <th>fragmentLengthEstimate</th>\n",
       "      <th>tagsPerBP</th>\n",
       "      <th>clonality</th>\n",
       "      <th>GC_Content</th>\n",
       "      <th>totalReads</th>\n",
       "      <th>uniquelyMappedReads</th>\n",
       "      <th>multiMappedReads</th>\n",
       "      <th>unmappedReads</th>\n",
       "      <th>uniquelyMappedFraction</th>\n",
       "      <th>mappedFraction</th>\n",
       "    </tr>\n",
       "  </thead>\n",
       "  <tbody>\n",
       "    <tr>\n",
       "      <th>aj_M_Tim4PKup_ChIP_PU1_Flavopiridol_TDTJSS_AJ10ABC_TDT_l20170915</th>\n",
       "      <td>13759772.0</td>\n",
       "      <td>227.0</td>\n",
       "      <td>0.006219</td>\n",
       "      <td>1.230</td>\n",
       "      <td>-1.000</td>\n",
       "      <td>20298123.0</td>\n",
       "      <td>15345563.0</td>\n",
       "      <td>4047990.0</td>\n",
       "      <td>904570.0</td>\n",
       "      <td>0.756009</td>\n",
       "      <td>0.955436</td>\n",
       "    </tr>\n",
       "    <tr>\n",
       "      <th>balb_M_Tim4PKup_ChIP_PU1_Flavopiridol_TDTJSS_BALB10ABC_TDT_l20170915</th>\n",
       "      <td>12598946.0</td>\n",
       "      <td>188.0</td>\n",
       "      <td>0.005218</td>\n",
       "      <td>1.127</td>\n",
       "      <td>-1.000</td>\n",
       "      <td>17125597.0</td>\n",
       "      <td>12879254.0</td>\n",
       "      <td>3520280.0</td>\n",
       "      <td>726063.0</td>\n",
       "      <td>0.752047</td>\n",
       "      <td>0.957604</td>\n",
       "    </tr>\n",
       "    <tr>\n",
       "      <th>balbcj_M_KupfferTim4Pos_PU1_ChIP_notx_TDTJSS_BALB11AB_s20161208</th>\n",
       "      <td>12574480.0</td>\n",
       "      <td>121.0</td>\n",
       "      <td>0.008093</td>\n",
       "      <td>1.752</td>\n",
       "      <td>-1.000</td>\n",
       "      <td>27778221.0</td>\n",
       "      <td>20555081.0</td>\n",
       "      <td>6083126.0</td>\n",
       "      <td>1140014.0</td>\n",
       "      <td>0.739971</td>\n",
       "      <td>0.958960</td>\n",
       "    </tr>\n",
       "    <tr>\n",
       "      <th>c57bl6j_Male_Tim4PosKupffer_ChIP_PU1_notx_TDTJSS_Pool_l20180423</th>\n",
       "      <td>16222962.0</td>\n",
       "      <td>174.0</td>\n",
       "      <td>0.007659</td>\n",
       "      <td>1.287</td>\n",
       "      <td>0.443</td>\n",
       "      <td>23626927.0</td>\n",
       "      <td>19321457.0</td>\n",
       "      <td>3873592.0</td>\n",
       "      <td>431878.0</td>\n",
       "      <td>0.817773</td>\n",
       "      <td>0.981721</td>\n",
       "    </tr>\n",
       "    <tr>\n",
       "      <th>mouse_C57Bl6_M_KupfferTim4Pos_ChIP_PU1_NoTx_JSSTDT_PC231A_JSS_l20180201_concat</th>\n",
       "      <td>11259198.0</td>\n",
       "      <td>145.0</td>\n",
       "      <td>0.004585</td>\n",
       "      <td>1.110</td>\n",
       "      <td>0.438</td>\n",
       "      <td>15225287.0</td>\n",
       "      <td>11647290.0</td>\n",
       "      <td>3060066.0</td>\n",
       "      <td>517931.0</td>\n",
       "      <td>0.764996</td>\n",
       "      <td>0.965982</td>\n",
       "    </tr>\n",
       "  </tbody>\n",
       "</table>\n",
       "</div>"
      ],
      "text/plain": [
       "                                                    uniquePositions  \\\n",
       "aj_M_Tim4PKup_ChIP_PU1_Flavopiridol_TDTJSS_AJ10...       13759772.0   \n",
       "balb_M_Tim4PKup_ChIP_PU1_Flavopiridol_TDTJSS_BA...       12598946.0   \n",
       "balbcj_M_KupfferTim4Pos_PU1_ChIP_notx_TDTJSS_BA...       12574480.0   \n",
       "c57bl6j_Male_Tim4PosKupffer_ChIP_PU1_notx_TDTJS...       16222962.0   \n",
       "mouse_C57Bl6_M_KupfferTim4Pos_ChIP_PU1_NoTx_JSS...       11259198.0   \n",
       "\n",
       "                                                    fragmentLengthEstimate  \\\n",
       "aj_M_Tim4PKup_ChIP_PU1_Flavopiridol_TDTJSS_AJ10...                   227.0   \n",
       "balb_M_Tim4PKup_ChIP_PU1_Flavopiridol_TDTJSS_BA...                   188.0   \n",
       "balbcj_M_KupfferTim4Pos_PU1_ChIP_notx_TDTJSS_BA...                   121.0   \n",
       "c57bl6j_Male_Tim4PosKupffer_ChIP_PU1_notx_TDTJS...                   174.0   \n",
       "mouse_C57Bl6_M_KupfferTim4Pos_ChIP_PU1_NoTx_JSS...                   145.0   \n",
       "\n",
       "                                                    tagsPerBP  clonality  \\\n",
       "aj_M_Tim4PKup_ChIP_PU1_Flavopiridol_TDTJSS_AJ10...   0.006219      1.230   \n",
       "balb_M_Tim4PKup_ChIP_PU1_Flavopiridol_TDTJSS_BA...   0.005218      1.127   \n",
       "balbcj_M_KupfferTim4Pos_PU1_ChIP_notx_TDTJSS_BA...   0.008093      1.752   \n",
       "c57bl6j_Male_Tim4PosKupffer_ChIP_PU1_notx_TDTJS...   0.007659      1.287   \n",
       "mouse_C57Bl6_M_KupfferTim4Pos_ChIP_PU1_NoTx_JSS...   0.004585      1.110   \n",
       "\n",
       "                                                    GC_Content  totalReads  \\\n",
       "aj_M_Tim4PKup_ChIP_PU1_Flavopiridol_TDTJSS_AJ10...      -1.000  20298123.0   \n",
       "balb_M_Tim4PKup_ChIP_PU1_Flavopiridol_TDTJSS_BA...      -1.000  17125597.0   \n",
       "balbcj_M_KupfferTim4Pos_PU1_ChIP_notx_TDTJSS_BA...      -1.000  27778221.0   \n",
       "c57bl6j_Male_Tim4PosKupffer_ChIP_PU1_notx_TDTJS...       0.443  23626927.0   \n",
       "mouse_C57Bl6_M_KupfferTim4Pos_ChIP_PU1_NoTx_JSS...       0.438  15225287.0   \n",
       "\n",
       "                                                    uniquelyMappedReads  \\\n",
       "aj_M_Tim4PKup_ChIP_PU1_Flavopiridol_TDTJSS_AJ10...           15345563.0   \n",
       "balb_M_Tim4PKup_ChIP_PU1_Flavopiridol_TDTJSS_BA...           12879254.0   \n",
       "balbcj_M_KupfferTim4Pos_PU1_ChIP_notx_TDTJSS_BA...           20555081.0   \n",
       "c57bl6j_Male_Tim4PosKupffer_ChIP_PU1_notx_TDTJS...           19321457.0   \n",
       "mouse_C57Bl6_M_KupfferTim4Pos_ChIP_PU1_NoTx_JSS...           11647290.0   \n",
       "\n",
       "                                                    multiMappedReads  \\\n",
       "aj_M_Tim4PKup_ChIP_PU1_Flavopiridol_TDTJSS_AJ10...         4047990.0   \n",
       "balb_M_Tim4PKup_ChIP_PU1_Flavopiridol_TDTJSS_BA...         3520280.0   \n",
       "balbcj_M_KupfferTim4Pos_PU1_ChIP_notx_TDTJSS_BA...         6083126.0   \n",
       "c57bl6j_Male_Tim4PosKupffer_ChIP_PU1_notx_TDTJS...         3873592.0   \n",
       "mouse_C57Bl6_M_KupfferTim4Pos_ChIP_PU1_NoTx_JSS...         3060066.0   \n",
       "\n",
       "                                                    unmappedReads  \\\n",
       "aj_M_Tim4PKup_ChIP_PU1_Flavopiridol_TDTJSS_AJ10...       904570.0   \n",
       "balb_M_Tim4PKup_ChIP_PU1_Flavopiridol_TDTJSS_BA...       726063.0   \n",
       "balbcj_M_KupfferTim4Pos_PU1_ChIP_notx_TDTJSS_BA...      1140014.0   \n",
       "c57bl6j_Male_Tim4PosKupffer_ChIP_PU1_notx_TDTJS...       431878.0   \n",
       "mouse_C57Bl6_M_KupfferTim4Pos_ChIP_PU1_NoTx_JSS...       517931.0   \n",
       "\n",
       "                                                    uniquelyMappedFraction  \\\n",
       "aj_M_Tim4PKup_ChIP_PU1_Flavopiridol_TDTJSS_AJ10...                0.756009   \n",
       "balb_M_Tim4PKup_ChIP_PU1_Flavopiridol_TDTJSS_BA...                0.752047   \n",
       "balbcj_M_KupfferTim4Pos_PU1_ChIP_notx_TDTJSS_BA...                0.739971   \n",
       "c57bl6j_Male_Tim4PosKupffer_ChIP_PU1_notx_TDTJS...                0.817773   \n",
       "mouse_C57Bl6_M_KupfferTim4Pos_ChIP_PU1_NoTx_JSS...                0.764996   \n",
       "\n",
       "                                                    mappedFraction  \n",
       "aj_M_Tim4PKup_ChIP_PU1_Flavopiridol_TDTJSS_AJ10...        0.955436  \n",
       "balb_M_Tim4PKup_ChIP_PU1_Flavopiridol_TDTJSS_BA...        0.957604  \n",
       "balbcj_M_KupfferTim4Pos_PU1_ChIP_notx_TDTJSS_BA...        0.958960  \n",
       "c57bl6j_Male_Tim4PosKupffer_ChIP_PU1_notx_TDTJS...        0.981721  \n",
       "mouse_C57Bl6_M_KupfferTim4Pos_ChIP_PU1_NoTx_JSS...        0.965982  "
      ]
     },
     "execution_count": 5,
     "metadata": {},
     "output_type": "execute_result"
    }
   ],
   "source": [
    "qc"
   ]
  },
  {
   "cell_type": "markdown",
   "metadata": {},
   "source": [
    "### Plot tag count distribution"
   ]
  },
  {
   "cell_type": "code",
   "execution_count": 6,
   "metadata": {},
   "outputs": [
    {
     "data": {
      "image/png": "[encoded data removed]",
      "text/plain": [
       "<Figure size 1080x720 with 6 Axes>"
      ]
     },
     "metadata": {
      "needs_background": "light"
     },
     "output_type": "display_data"
    }
   ],
   "source": [
    "tds = glob.glob(dataDirectory+'/*')\n",
    "tds = np.sort(tds)\n",
    "\n",
    "fig, axs = plt.subplots(2,3, figsize=(15, 10), sharex=True, sharey=True)\n",
    "\n",
    "for ax, td in zip(axs.flatten(), tds):\n",
    "    df = pd.read_csv(td+'/tagCountDistribution.txt', sep='\\t', index_col=0)\n",
    "    df.loc[1:10, :].plot.bar(ax=ax, legend=False)\n",
    "    ax.set_xlabel('Tags per position')\n",
    "    ax.set_ylabel('Fraction of Positions')\n",
    "    ax.set_title(td.split('/')[-1].split('_AL')[0], fontsize=8)"
   ]
  },
  {
   "cell_type": "markdown",
   "metadata": {},
   "source": [
    "### make browser hub (run on command line for now)"
   ]
  },
  {
   "cell_type": "markdown",
   "metadata": {},
   "source": [
    "|Colors:|      |\n",
    "|------|------|\n",
    "|AJ:| 228,26,28|  \n",
    "|Balb:| 55,126,184| \n",
    "|C57:| 77,175,74|\n"
   ]
  },
  {
   "cell_type": "markdown",
   "metadata": {},
   "source": [
    "    makeMultiWigHub.pl hrb_strains_qc_pu1_control mm10 -force -color \\\n",
    "    228,26,28 \\\n",
    "    55,126,184 55,126,184 \\\n",
    "    77,175,74 77,175,74 \\\n",
    "    -d /gpfs/data01/glasslab/home/h1bennet/strains/data/PU1/control/*"
   ]
  },
  {
   "cell_type": "markdown",
   "metadata": {},
   "source": [
    " Based on the browser tracks and the qc for these samples this experiment will probably need to be redone."
   ]
  },
  {
   "cell_type": "markdown",
   "metadata": {},
   "source": [
    "# Find peaks"
   ]
  },
  {
   "cell_type": "code",
   "execution_count": 15,
   "metadata": {},
   "outputs": [],
   "source": [
    "if not os.path.isdir('./peak_files'):\n",
    "    os.mkdir('./peak_files')"
   ]
  },
  {
   "cell_type": "code",
   "execution_count": 16,
   "metadata": {},
   "outputs": [],
   "source": [
    "# set input directory\n",
    "with open('./peakCalling_homer.sh', 'w') as f:\n",
    "    for tagdir in os.listdir(dataDirectory):\n",
    "        if 'C57' in tagdir:\n",
    "            inputdir='c57bl6j_M_Kupffer_ChIP_input_NoTx_JSSTDT_PC231B232APool_JSS_s20170713'\n",
    "        elif 'balb' in tagdir:\n",
    "            inputdir='balb_M_Tim4PKup_ChIP_input_Flavopiridol_TDTJSS_BALB10ABC_TDT_l20170915'\n",
    "        elif 'aj' in tagdir:\n",
    "            inputdir='aj_M_Tim4PKup_ChIP_input_Flavopiridol_TDTJSS_AJ10ABC_TDT_l20170915'\n",
    "        \n",
    "        find_peaks = ['findPeaks', dataDirectory + '/' + tagdir,\n",
    "                          '-i', inputDirectory + '/' + inputdir,\n",
    "                          '-style factor',\n",
    "                          '-o',\n",
    "                          workingDirectory + '/peak_files/' + tagdir + '_peaks.tsv',\n",
    "                          '&', '\\n']\n",
    "\n",
    "        # write commands to file\n",
    "        f.write(' '.join(find_peaks))"
   ]
  },
  {
   "cell_type": "code",
   "execution_count": 19,
   "metadata": {},
   "outputs": [],
   "source": [
    "peak_stats={}\n",
    "\n",
    "for td in np.sort(glob.glob('./peak_files/*')):\n",
    "\n",
    "    peak_dict = {'total_peaks': 0,\n",
    "                 'ip_eff': 0.0,\n",
    "                 'peaks_filt_input': 0,\n",
    "                 'peaks_filt_local': 0,\n",
    "                 'peaks_filt_clonal':0}\n",
    "\n",
    "    with open(td, 'r') as f:\n",
    "        for line in f.readlines():\n",
    "            if \"total peaks\" in line:\n",
    "                peak_dict['total_peaks'] = int(line.split(' = ')[-1])\n",
    "            if \"Approximate IP efficiency\" in line:\n",
    "                peak_dict['ip_eff'] = float(line.replace('%\\n', '').split(' = ')[-1])\n",
    "            if \"Putative peaks filtered by input\" in line:\n",
    "                peak_dict['peaks_filt_input'] = int(line.split(' = ')[-1])\n",
    "            if \"Putative peaks filtered by local signal\" in line:\n",
    "                peak_dict['peaks_filt_local'] = int(line.split(' = ')[-1])\n",
    "            if \"Putative peaks filtered for being too clonal\" in line:\n",
    "                peak_dict['peaks_filt_clonal'] = int(line.split(' = ')[-1])\n",
    "                \n",
    "    peak_stats[td] = peak_dict\n",
    "            \n",
    "df = pd.DataFrame(peak_stats).T"
   ]
  },
  {
   "cell_type": "code",
   "execution_count": 20,
   "metadata": {},
   "outputs": [
    {
     "data": {
      "text/html": [
       "<div>\n",
       "<style scoped>\n",
       "    .dataframe tbody tr th:only-of-type {\n",
       "        vertical-align: middle;\n",
       "    }\n",
       "\n",
       "    .dataframe tbody tr th {\n",
       "        vertical-align: top;\n",
       "    }\n",
       "\n",
       "    .dataframe thead th {\n",
       "        text-align: right;\n",
       "    }\n",
       "</style>\n",
       "<table border=\"1\" class=\"dataframe\">\n",
       "  <thead>\n",
       "    <tr style=\"text-align: right;\">\n",
       "      <th></th>\n",
       "      <th>total_peaks</th>\n",
       "      <th>ip_eff</th>\n",
       "      <th>peaks_filt_input</th>\n",
       "      <th>peaks_filt_local</th>\n",
       "      <th>peaks_filt_clonal</th>\n",
       "    </tr>\n",
       "  </thead>\n",
       "  <tbody>\n",
       "    <tr>\n",
       "      <th>./peak_files/aj_M_Tim4PKup_ChIP_PU1_Flavopiridol_TDTJSS_AJ10ABC_TDT_l20170915_peaks.tsv</th>\n",
       "      <td>21351.0</td>\n",
       "      <td>6.07</td>\n",
       "      <td>10957.0</td>\n",
       "      <td>2864.0</td>\n",
       "      <td>0.0</td>\n",
       "    </tr>\n",
       "    <tr>\n",
       "      <th>./peak_files/balb_M_Tim4PKup_ChIP_PU1_Flavopiridol_TDTJSS_BALB10ABC_TDT_l20170915_peaks.tsv</th>\n",
       "      <td>26646.0</td>\n",
       "      <td>8.77</td>\n",
       "      <td>8980.0</td>\n",
       "      <td>3559.0</td>\n",
       "      <td>1.0</td>\n",
       "    </tr>\n",
       "    <tr>\n",
       "      <th>./peak_files/balbcj_M_KupfferTim4Pos_PU1_ChIP_notx_TDTJSS_BALB11AB_s20161208_peaks.tsv</th>\n",
       "      <td>49554.0</td>\n",
       "      <td>21.14</td>\n",
       "      <td>8503.0</td>\n",
       "      <td>5679.0</td>\n",
       "      <td>0.0</td>\n",
       "    </tr>\n",
       "    <tr>\n",
       "      <th>./peak_files/c57bl6j_Male_Tim4PosKupffer_ChIP_PU1_notx_TDTJSS_Pool_l20180423_peaks.tsv</th>\n",
       "      <td>67368.0</td>\n",
       "      <td>40.99</td>\n",
       "      <td>12791.0</td>\n",
       "      <td>14552.0</td>\n",
       "      <td>5.0</td>\n",
       "    </tr>\n",
       "    <tr>\n",
       "      <th>./peak_files/mouse_C57Bl6_M_KupfferTim4Pos_ChIP_PU1_NoTx_JSSTDT_PC231A_JSS_l20180201_concat_peaks.tsv</th>\n",
       "      <td>54906.0</td>\n",
       "      <td>27.99</td>\n",
       "      <td>11445.0</td>\n",
       "      <td>9890.0</td>\n",
       "      <td>3.0</td>\n",
       "    </tr>\n",
       "  </tbody>\n",
       "</table>\n",
       "</div>"
      ],
      "text/plain": [
       "                                                    total_peaks  ip_eff  \\\n",
       "./peak_files/aj_M_Tim4PKup_ChIP_PU1_Flavopirido...      21351.0    6.07   \n",
       "./peak_files/balb_M_Tim4PKup_ChIP_PU1_Flavopiri...      26646.0    8.77   \n",
       "./peak_files/balbcj_M_KupfferTim4Pos_PU1_ChIP_n...      49554.0   21.14   \n",
       "./peak_files/c57bl6j_Male_Tim4PosKupffer_ChIP_P...      67368.0   40.99   \n",
       "./peak_files/mouse_C57Bl6_M_KupfferTim4Pos_ChIP...      54906.0   27.99   \n",
       "\n",
       "                                                    peaks_filt_input  \\\n",
       "./peak_files/aj_M_Tim4PKup_ChIP_PU1_Flavopirido...           10957.0   \n",
       "./peak_files/balb_M_Tim4PKup_ChIP_PU1_Flavopiri...            8980.0   \n",
       "./peak_files/balbcj_M_KupfferTim4Pos_PU1_ChIP_n...            8503.0   \n",
       "./peak_files/c57bl6j_Male_Tim4PosKupffer_ChIP_P...           12791.0   \n",
       "./peak_files/mouse_C57Bl6_M_KupfferTim4Pos_ChIP...           11445.0   \n",
       "\n",
       "                                                    peaks_filt_local  \\\n",
       "./peak_files/aj_M_Tim4PKup_ChIP_PU1_Flavopirido...            2864.0   \n",
       "./peak_files/balb_M_Tim4PKup_ChIP_PU1_Flavopiri...            3559.0   \n",
       "./peak_files/balbcj_M_KupfferTim4Pos_PU1_ChIP_n...            5679.0   \n",
       "./peak_files/c57bl6j_Male_Tim4PosKupffer_ChIP_P...           14552.0   \n",
       "./peak_files/mouse_C57Bl6_M_KupfferTim4Pos_ChIP...            9890.0   \n",
       "\n",
       "                                                    peaks_filt_clonal  \n",
       "./peak_files/aj_M_Tim4PKup_ChIP_PU1_Flavopirido...                0.0  \n",
       "./peak_files/balb_M_Tim4PKup_ChIP_PU1_Flavopiri...                1.0  \n",
       "./peak_files/balbcj_M_KupfferTim4Pos_PU1_ChIP_n...                0.0  \n",
       "./peak_files/c57bl6j_Male_Tim4PosKupffer_ChIP_P...                5.0  \n",
       "./peak_files/mouse_C57Bl6_M_KupfferTim4Pos_ChIP...                3.0  "
      ]
     },
     "execution_count": 20,
     "metadata": {},
     "output_type": "execute_result"
    }
   ],
   "source": [
    "df"
   ]
  },
  {
   "cell_type": "markdown",
   "metadata": {},
   "source": [
    "PU1 data may or may not be usable..."
   ]
  },
  {
   "cell_type": "markdown",
   "metadata": {},
   "source": [
    "### Write to files"
   ]
  },
  {
   "cell_type": "code",
   "execution_count": 21,
   "metadata": {},
   "outputs": [],
   "source": [
    "df.to_csv('./peak_table.txt', sep='\\t')"
   ]
  }
 ],
 "metadata": {
  "kernelspec": {
   "display_name": "dataviz",
   "language": "python",
   "name": "dataviz"
  },
  "language_info": {
   "codemirror_mode": {
    "name": "ipython",
    "version": 3
   },
   "file_extension": ".py",
   "mimetype": "text/x-python",
   "name": "python",
   "nbconvert_exporter": "python",
   "pygments_lexer": "ipython3",
   "version": "3.7.5"
  }
 },
 "nbformat": 4,
 "nbformat_minor": 2
}
