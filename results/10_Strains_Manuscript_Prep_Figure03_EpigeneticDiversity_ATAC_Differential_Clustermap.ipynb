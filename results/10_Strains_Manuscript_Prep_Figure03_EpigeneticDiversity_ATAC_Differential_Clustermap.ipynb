{
 "cells": [
  {
   "cell_type": "markdown",
   "metadata": {},
   "source": [
    "Hunter Bennett | Glass Lab | Kupffer Strains Project | May 03 2021  \n",
    "\n",
    "This notebook is for making fancier figure level plots describing differential gene expression for the strains NASH paper. It generates the following plots:\n",
    "1. Clustered heatmap of differential peaks"
   ]
  },
  {
   "cell_type": "code",
   "execution_count": 1,
   "metadata": {},
   "outputs": [],
   "source": [
    "### header ###\n",
    "__author__ = \"Hunter Bennett\"\n",
    "__license__ = \"BSD\"\n",
    "__email__ = \"hunter.r.bennett@gmail.com\"\n",
    "%load_ext autoreload\n",
    "%autoreload 2\n",
    "### imports ###\n",
    "import sys\n",
    "%matplotlib inline\n",
    "import os\n",
    "import re\n",
    "import glob\n",
    "import pandas as pd\n",
    "import numpy as np\n",
    "import matplotlib\n",
    "import matplotlib.pyplot as plt \n",
    "import seaborn as sns\n",
    "matplotlib.rcParams['savefig.dpi'] = 500\n",
    "\n",
    "# clustering packages\n",
    "import scipy\n",
    "import scipy.cluster.hierarchy as sch\n",
    "import scipy.spatial.distance as dist\n",
    "\n",
    "# import custom functions\n",
    "import sys\n",
    "sys.path.insert(0, '/home/h1bennet/code/')\n",
    "from hbUtils import ngs_qc, quantile_normalize_df\n",
    "from plotting_scripts import label_point, pca_rpkm_mat, get_diff_volcano\n",
    "from homer_preprocessing import read_annotated_peaks, import_homer_diffpeak, pull_comparisons_get_diff"
   ]
  },
  {
   "cell_type": "code",
   "execution_count": 2,
   "metadata": {},
   "outputs": [],
   "source": [
    "#### PLOTTING PARAMETERS FOR MANUSCRIPT ####\n",
    "# # get matplotlib to save readable fonts\n",
    "matplotlib.rcParams['pdf.fonttype'] = 42\n",
    "matplotlib.rcParams['ps.fonttype'] = 42\n",
    "matplotlib.rcParams['font.size'] = 8\n",
    "\n",
    "# line widths\n",
    "matplotlib.rcParams['axes.linewidth'] = 1\n",
    "matplotlib.rcParams['xtick.major.width'] = 1\n",
    "matplotlib.rcParams['ytick.major.width'] = 1\n",
    "\n",
    "# adjust defualt color for plots to black\n",
    "# normal default is a dark gray\n",
    "COLOR = 'black'\n",
    "matplotlib.rcParams['text.color'] = COLOR\n",
    "matplotlib.rcParams['axes.labelcolor'] = COLOR\n",
    "matplotlib.rcParams['xtick.color'] = COLOR\n",
    "matplotlib.rcParams['ytick.color'] = COLOR\n",
    "matplotlib.rcParams['axes.edgecolor'] = COLOR\n",
    "\n",
    "#### PLOT PARAMETERS FOR THIS PLOT ####"
   ]
  },
  {
   "cell_type": "code",
   "execution_count": 3,
   "metadata": {},
   "outputs": [],
   "source": [
    "atacDirectory = '/home/h1bennet/strains/results/06_Strains_Control_Cohort2_ATAC/'\n",
    "h3k27acDirectory = '/home/h1bennet/strains/results/06_Strains_Control_Cohort2_ATAC/'\n",
    "workingDirectory = '/home/h1bennet/strains/results/10_Strains_Manuscript_Prep/'\n",
    "if not os.path.isdir(workingDirectory):\n",
    "    os.mkdir(workingDirectory)\n",
    "os.chdir(workingDirectory)"
   ]
  },
  {
   "cell_type": "markdown",
   "metadata": {},
   "source": [
    "# Make folder for \"fancy figures\" for manuscript"
   ]
  },
  {
   "cell_type": "code",
   "execution_count": 4,
   "metadata": {},
   "outputs": [],
   "source": [
    "if not os.path.isdir('./atac_differential_clustermap/'):\n",
    "    os.mkdir('./atac_differential_clustermap/')"
   ]
  },
  {
   "cell_type": "markdown",
   "metadata": {},
   "source": [
    "### Import differential peaks"
   ]
  },
  {
   "cell_type": "code",
   "execution_count": 5,
   "metadata": {},
   "outputs": [
    {
     "name": "stdout",
     "output_type": "stream",
     "text": [
      "annotatePeaks all peaks (86301, 30)\n",
      "getDiffExpression selected transcripts (84264, 39)\n",
      "annotatePeaks selected peaks (84264, 30)\n"
     ]
    }
   ],
   "source": [
    "diff_peak, peaks, peak_mat, peak_mat_quant = import_homer_diffpeak(\n",
    "    h3k27acDirectory+'/merged_peaks/diff_output.txt',\n",
    "    h3k27acDirectory+'/merged_peaks/ann_norm_idr_peaks_merged.txt')"
   ]
  },
  {
   "cell_type": "code",
   "execution_count": 6,
   "metadata": {},
   "outputs": [],
   "source": [
    "comp_dict = pull_comparisons_get_diff(diff_peak, seq_type='Peak')"
   ]
  },
  {
   "cell_type": "code",
   "execution_count": 7,
   "metadata": {},
   "outputs": [],
   "source": [
    "# set conversion between inches and mm\n",
    "mm_conv = 25.4\n",
    "\n",
    "# set significance thresholds\n",
    "pval = 0.05\n",
    "fc = 1"
   ]
  },
  {
   "cell_type": "code",
   "execution_count": 8,
   "metadata": {},
   "outputs": [
    {
     "name": "stdout",
     "output_type": "stream",
     "text": [
      "9282\n"
     ]
    }
   ],
   "source": [
    "# grab differential enhancers for each comparison\n",
    "sig_peaks_id = []\n",
    "for comp in comp_dict:\n",
    "    de = comp_dict[comp]\n",
    "    sig_peaks_bool = (((de.adj_pval <= pval) & (np.abs(de.log2fc) >= fc)) & (np.abs(de.TSS_dist) >= 3000))\n",
    "    sig_peaks_id.extend(de.loc[sig_peaks_bool, :].index.tolist())\n",
    "\n",
    "sig_peaks_id = np.unique(sig_peaks_id)\n",
    "print(len(sig_peaks_id))\n",
    "sig_peaks = peak_mat.reindex(sig_peaks_id)\n",
    "sig_peaks.columns = sig_peaks.columns.str.split('/').str[-1].str.split(' Tag Count').str[0]\n"
   ]
  },
  {
   "cell_type": "markdown",
   "metadata": {},
   "source": [
    "### Z-score by row for plotting"
   ]
  },
  {
   "cell_type": "code",
   "execution_count": 9,
   "metadata": {},
   "outputs": [],
   "source": [
    "# z-score by row\n",
    "sd = np.std(sig_peaks, 1)\n",
    "mean = np.mean(sig_peaks, 1)\n",
    "z_frame = sig_peaks.subtract(mean, axis='rows').divide(sd, axis='rows')\n",
    "# z_frame.columns = z_frame.columns.str.split('_').str[0]"
   ]
  },
  {
   "cell_type": "markdown",
   "metadata": {},
   "source": [
    "### We will cluster the z-score peaks because this yields a visually appealing plot"
   ]
  },
  {
   "cell_type": "code",
   "execution_count": 10,
   "metadata": {},
   "outputs": [
    {
     "name": "stderr",
     "output_type": "stream",
     "text": [
      "/gpfs/data01/glasslab/home/h1bennet/.conda/envs/dataviz/lib/python3.7/site-packages/ipykernel_launcher.py:3: ClusterWarning: scipy.cluster: The symmetric non-negative hollow observation matrix looks suspiciously like an uncondensed distance matrix\n",
      "  This is separate from the ipykernel package so we can avoid doing imports until\n"
     ]
    }
   ],
   "source": [
    "d2 = dist.pdist(z_frame)\n",
    "D2 = dist.squareform(d2)\n",
    "Y2 = sch.linkage(D2, method='average', metric='euclidean') ### array-clustering metric - 'average', 'single', 'centroid', 'complete'\n",
    "Z2 = sch.dendrogram(Y2, no_plot=True)"
   ]
  },
  {
   "cell_type": "code",
   "execution_count": 19,
   "metadata": {},
   "outputs": [
    {
     "data": {
      "image/png": "[encoded data removed]",
      "text/plain": [
       "<Figure size 141.732x283.465 with 2 Axes>"
      ]
     },
     "metadata": {
      "needs_background": "light"
     },
     "output_type": "display_data"
    }
   ],
   "source": [
    "fig, ax = plt.subplots(1, 1, figsize=(50/mm_conv, 100/mm_conv))\n",
    "\n",
    "hm = sns.heatmap(z_frame.iloc[Z2['leaves'], :],\n",
    "               # z_score=0,\n",
    "                 xticklabels=0,\n",
    "                 yticklabels=0,\n",
    "                 vmin=-2,\n",
    "                 vmax=2,\n",
    "                 cmap='RdBu_r',\n",
    "                 cbar=False,\n",
    "                 ax=ax)\n",
    "\n",
    "ax.set_ylabel('', fontsize=10)  \n",
    "\n",
    "# # Create colorbar\n",
    "cmap = matplotlib.cm.RdBu_r\n",
    "norm = matplotlib.colors.Normalize(vmin=-2, vmax=2)\n",
    "cb = fig.colorbar(matplotlib.cm.ScalarMappable(norm=norm,  cmap='RdBu_r'),\n",
    "                  ax=ax,\n",
    "                  use_gridspec=True,\n",
    "                  orientation='horizontal',\n",
    "                  # location='bottom',\n",
    "                  shrink=1,\n",
    "                  pad=0.01,\n",
    "                  fraction=0.075,\n",
    "                  aspect=26)\n",
    "cb.ax.tick_params(labelsize=8)\n",
    "cb.set_label('ATAC\\nZ-Score', fontsize=10)\n",
    "plt.savefig('./atac_differential_clustermap/distal_peaks_clustered_heatmap.pdf',\n",
    "            dpi=500,\n",
    "            bbox_inches='tight')"
   ]
  },
  {
   "cell_type": "code",
   "execution_count": 15,
   "metadata": {},
   "outputs": [
    {
     "name": "stdout",
     "output_type": "stream",
     "text": [
      "Help on method colorbar in module matplotlib.figure:\n",
      "\n",
      "colorbar(mappable, cax=None, ax=None, use_gridspec=True, **kw) method of matplotlib.figure.Figure instance\n",
      "    Create a colorbar for a ScalarMappable instance, *mappable*.\n",
      "    \n",
      "    Documentation for the pyplot thin wrapper:\n",
      "    \n",
      "    \n",
      "    Add a colorbar to a plot.\n",
      "    \n",
      "    Function signatures for the :mod:`~matplotlib.pyplot` interface; all\n",
      "    but the first are also method signatures for the\n",
      "    :meth:`~matplotlib.figure.Figure.colorbar` method::\n",
      "    \n",
      "      colorbar(**kwargs)\n",
      "      colorbar(mappable, **kwargs)\n",
      "      colorbar(mappable, cax=cax, **kwargs)\n",
      "      colorbar(mappable, ax=ax, **kwargs)\n",
      "    \n",
      "    Parameters\n",
      "    ----------\n",
      "    mappable\n",
      "        The `matplotlib.cm.ScalarMappable` (i.e., `~matplotlib.image.Image`,\n",
      "        `~matplotlib.contour.ContourSet`, etc.) described by this colorbar.\n",
      "        This argument is mandatory for the `.Figure.colorbar` method but optional\n",
      "        for the `.pyplot.colorbar` function, which sets the default to the current\n",
      "        image.\n",
      "    \n",
      "        Note that one can create a `ScalarMappable` \"on-the-fly\" to generate\n",
      "        colorbars not attached to a previously drawn artist, e.g. ::\n",
      "    \n",
      "            fig.colorbar(cm.ScalarMappable(norm=norm, cmap=cmap), ax=ax)\n",
      "    \n",
      "    cax : :class:`~matplotlib.axes.Axes` object, optional\n",
      "        Axes into which the colorbar will be drawn.\n",
      "    \n",
      "    ax : :class:`~matplotlib.axes.Axes`, list of Axes, optional\n",
      "        Parent axes from which space for a new colorbar axes will be stolen.\n",
      "        If a list of axes is given they will all be resized to make room for the\n",
      "        colorbar axes.\n",
      "    \n",
      "    use_gridspec : bool, optional\n",
      "        If *cax* is ``None``, a new *cax* is created as an instance of Axes.  If\n",
      "        *ax* is an instance of Subplot and *use_gridspec* is ``True``, *cax* is\n",
      "        created as an instance of Subplot using the :mod:`~.gridspec` module.\n",
      "    \n",
      "    Returns\n",
      "    -------\n",
      "    colorbar : `~matplotlib.colorbar.Colorbar`\n",
      "        See also its base class, `~matplotlib.colorbar.ColorbarBase`.  Use\n",
      "        `~.ColorbarBase.set_label` to label the colorbar.\n",
      "    \n",
      "    Notes\n",
      "    -----\n",
      "    Additional keyword arguments are of two kinds:\n",
      "    \n",
      "      axes properties:\n",
      "    \n",
      "    \n",
      "        ============= ====================================================\n",
      "        Property      Description\n",
      "        ============= ====================================================\n",
      "        *orientation* vertical or horizontal\n",
      "        *fraction*    0.15; fraction of original axes to use for colorbar\n",
      "        *pad*         0.05 if vertical, 0.15 if horizontal; fraction\n",
      "                      of original axes between colorbar and new image axes\n",
      "        *shrink*      1.0; fraction by which to multiply the size of the colorbar\n",
      "        *aspect*      20; ratio of long to short dimensions\n",
      "        *anchor*      (0.0, 0.5) if vertical; (0.5, 1.0) if horizontal;\n",
      "                      the anchor point of the colorbar axes\n",
      "        *panchor*     (1.0, 0.5) if vertical; (0.5, 0.0) if horizontal;\n",
      "                      the anchor point of the colorbar parent axes. If\n",
      "                      False, the parent axes' anchor will be unchanged\n",
      "        ============= ====================================================\n",
      "    \n",
      "    \n",
      "      colorbar properties:\n",
      "    \n",
      "    \n",
      "        ============  ====================================================\n",
      "        Property      Description\n",
      "        ============  ====================================================\n",
      "        *extend*      [ 'neither' | 'both' | 'min' | 'max' ]\n",
      "                      If not 'neither', make pointed end(s) for out-of-\n",
      "                      range values.  These are set for a given colormap\n",
      "                      using the colormap set_under and set_over methods.\n",
      "        *extendfrac*  [ *None* | 'auto' | length | lengths ]\n",
      "                      If set to *None*, both the minimum and maximum\n",
      "                      triangular colorbar extensions with have a length of\n",
      "                      5% of the interior colorbar length (this is the\n",
      "                      default setting). If set to 'auto', makes the\n",
      "                      triangular colorbar extensions the same lengths as\n",
      "                      the interior boxes (when *spacing* is set to\n",
      "                      'uniform') or the same lengths as the respective\n",
      "                      adjacent interior boxes (when *spacing* is set to\n",
      "                      'proportional'). If a scalar, indicates the length\n",
      "                      of both the minimum and maximum triangular colorbar\n",
      "                      extensions as a fraction of the interior colorbar\n",
      "                      length. A two-element sequence of fractions may also\n",
      "                      be given, indicating the lengths of the minimum and\n",
      "                      maximum colorbar extensions respectively as a\n",
      "                      fraction of the interior colorbar length.\n",
      "        *extendrect*  bool\n",
      "                      If *False* the minimum and maximum colorbar extensions\n",
      "                      will be triangular (the default). If *True* the\n",
      "                      extensions will be rectangular.\n",
      "        *spacing*     [ 'uniform' | 'proportional' ]\n",
      "                      Uniform spacing gives each discrete color the same\n",
      "                      space; proportional makes the space proportional to\n",
      "                      the data interval.\n",
      "        *ticks*       [ None | list of ticks | Locator object ]\n",
      "                      If None, ticks are determined automatically from the\n",
      "                      input.\n",
      "        *format*      [ None | format string | Formatter object ]\n",
      "                      If None, the\n",
      "                      :class:`~matplotlib.ticker.ScalarFormatter` is used.\n",
      "                      If a format string is given, e.g., '%.3f', that is\n",
      "                      used. An alternative\n",
      "                      :class:`~matplotlib.ticker.Formatter` object may be\n",
      "                      given instead.\n",
      "        *drawedges*   bool\n",
      "                      Whether to draw lines at color boundaries.\n",
      "        ============  ====================================================\n",
      "    \n",
      "        The following will probably be useful only in the context of\n",
      "        indexed colors (that is, when the mappable has norm=NoNorm()),\n",
      "        or other unusual circumstances.\n",
      "    \n",
      "        ============   ===================================================\n",
      "        Property       Description\n",
      "        ============   ===================================================\n",
      "        *boundaries*   None or a sequence\n",
      "        *values*       None or a sequence which must be of length 1 less\n",
      "                       than the sequence of *boundaries*. For each region\n",
      "                       delimited by adjacent entries in *boundaries*, the\n",
      "                       color mapped to the corresponding value in values\n",
      "                       will be used.\n",
      "        ============   ===================================================\n",
      "    \n",
      "    \n",
      "    \n",
      "    If *mappable* is a :class:`~matplotlib.contours.ContourSet`, its *extend*\n",
      "    kwarg is included automatically.\n",
      "    \n",
      "    The *shrink* kwarg provides a simple way to scale the colorbar with respect\n",
      "    to the axes. Note that if *cax* is specified, it determines the size of the\n",
      "    colorbar and *shrink* and *aspect* kwargs are ignored.\n",
      "    \n",
      "    For more precise control, you can manually specify the positions of\n",
      "    the axes objects in which the mappable and the colorbar are drawn.  In\n",
      "    this case, do not use any of the axes properties kwargs.\n",
      "    \n",
      "    It is known that some vector graphics viewers (svg and pdf) renders white gaps\n",
      "    between segments of the colorbar.  This is due to bugs in the viewers, not\n",
      "    Matplotlib.  As a workaround, the colorbar can be rendered with overlapping\n",
      "    segments::\n",
      "    \n",
      "        cbar = colorbar()\n",
      "        cbar.solids.set_edgecolor(\"face\")\n",
      "        draw()\n",
      "    \n",
      "    However this has negative consequences in other circumstances, e.g. with\n",
      "    semi-transparent images (alpha < 1) and colorbar extensions; therefore, this\n",
      "    workaround is not used by default (see issue #1188).\n",
      "\n"
     ]
    }
   ],
   "source": [
    "help(fig.colorbar)"
   ]
  },
  {
   "cell_type": "code",
   "execution_count": 26,
   "metadata": {},
   "outputs": [
    {
     "data": {
      "image/png": "[encoded data removed]",
      "text/plain": [
       "<Figure size 141.732x283.465 with 2 Axes>"
      ]
     },
     "metadata": {
      "needs_background": "light"
     },
     "output_type": "display_data"
    }
   ],
   "source": [
    "fig, ax = plt.subplots(1, 1, figsize=(50/mm_conv, 100/mm_conv))\n",
    "\n",
    "hm = sns.heatmap(z_frame.iloc[Z2['leaves'], :],\n",
    "               # z_score=0,\n",
    "                 xticklabels=0,\n",
    "                 yticklabels=0,\n",
    "                 vmin=-2,\n",
    "                 vmax=2,\n",
    "                 cmap='RdBu_r',\n",
    "                 cbar=False,\n",
    "                 ax=ax)\n",
    "\n",
    "ax.set_ylabel('', fontsize=10)  \n",
    "\n",
    "# # Create colorbar\n",
    "cmap = matplotlib.cm.RdBu_r\n",
    "norm = matplotlib.colors.Normalize(vmin=-2, vmax=2)\n",
    "cb = fig.colorbar(matplotlib.cm.ScalarMappable(norm=norm,  cmap='RdBu_r'),\n",
    "                  ax=ax,\n",
    "                  use_gridspec=True,\n",
    "                  shrink=1,\n",
    "                  pad=0.05,\n",
    "                  fraction=0.075,\n",
    "                  aspect=26)\n",
    "cb.ax.tick_params(labelsize=8)\n",
    "cb.set_label('H3K27Ac\\nZ-Score', fontsize=10, rotation=90)\n",
    "# cbar.ax.set_ylabel(cbarlabel, rotation=-90, va=\"bottom\")\n",
    "\n",
    "plt.savefig('./h3k27ac_differential_clustermap/distal_peaks_clustered_heatmap.pdf',\n",
    "            dpi=500,\n",
    "            bbox_inches='tight')"
   ]
  },
  {
   "cell_type": "markdown",
   "metadata": {},
   "source": []
  },
  {
   "cell_type": "code",
   "execution_count": null,
   "metadata": {},
   "outputs": [],
   "source": []
  }
 ],
 "metadata": {
  "kernelspec": {
   "display_name": "dataviz",
   "language": "python",
   "name": "dataviz"
  },
  "language_info": {
   "codemirror_mode": {
    "name": "ipython",
    "version": 3
   },
   "file_extension": ".py",
   "mimetype": "text/x-python",
   "name": "python",
   "nbconvert_exporter": "python",
   "pygments_lexer": "ipython3",
   "version": "3.7.5"
  }
 },
 "nbformat": 4,
 "nbformat_minor": 2
}
