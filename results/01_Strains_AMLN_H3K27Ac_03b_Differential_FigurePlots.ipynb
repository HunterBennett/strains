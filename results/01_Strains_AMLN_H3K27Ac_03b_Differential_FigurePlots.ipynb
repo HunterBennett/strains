{
 "cells": [
  {
   "cell_type": "markdown",
   "metadata": {},
   "source": [
    "Hunter Bennett | Glass Lab | Kupffer Strains Project | February 24 2021  \n",
    "\n",
    "This notebook is for making fancier figure level plots describing differential gene expression for the strains NASH paper. It generates the following plots:\n",
    "1. Differential scatter plot similar to those make in Link et al. 2018 showing differential peaks at fc > 2 and fc > 4."
   ]
  },
  {
   "cell_type": "code",
   "execution_count": 29,
   "metadata": {},
   "outputs": [
    {
     "name": "stdout",
     "output_type": "stream",
     "text": [
      "The autoreload extension is already loaded. To reload it, use:\n",
      "  %reload_ext autoreload\n"
     ]
    }
   ],
   "source": [
    "### header ###\n",
    "__author__ = \"Hunter Bennett\"\n",
    "__license__ = \"BSD\"\n",
    "__email__ = \"hunter.r.bennett@gmail.com\"\n",
    "%load_ext autoreload\n",
    "%autoreload 2\n",
    "### imports ###\n",
    "import sys\n",
    "%matplotlib inline\n",
    "import os\n",
    "import re\n",
    "import glob\n",
    "import pandas as pd\n",
    "import numpy as np\n",
    "import matplotlib\n",
    "import matplotlib.pyplot as plt \n",
    "import seaborn as sns\n",
    "matplotlib.rcParams['savefig.dpi'] = 300\n",
    "sns.set(font_scale=1)\n",
    "sns.set_context('talk')\n",
    "sns.set_style('ticks')\n",
    "# get matplotlib to save readable fonts\n",
    "matplotlib.rcParams['pdf.fonttype'] = 42\n",
    "matplotlib.rcParams['ps.fonttype'] = 42\n",
    "\n",
    "# import custom functions\n",
    "import sys\n",
    "sys.path.insert(0, '/home/h1bennet/code/')\n",
    "from hbUtils import ngs_qc, quantile_normalize_df\n",
    "from plotting_scripts import label_point, pca_rpkm_mat, get_diff_volcano\n",
    "from homer_preprocessing import read_annotated_peaks, import_homer_diffpeak, pull_comparisons_get_diff"
   ]
  },
  {
   "cell_type": "code",
   "execution_count": 30,
   "metadata": {},
   "outputs": [],
   "source": [
    "dataDirectory = ''\n",
    "workingDirectory = '/home/h1bennet/strains/results/01_Strains_AMLN_H3K27Ac/'\n",
    "if not os.path.isdir(workingDirectory):\n",
    "    os.mkdir(workingDirectory)\n",
    "os.chdir(workingDirectory)"
   ]
  },
  {
   "cell_type": "markdown",
   "metadata": {},
   "source": [
    "# Make folder for \"fancy figures\" for manuscript"
   ]
  },
  {
   "cell_type": "code",
   "execution_count": 31,
   "metadata": {},
   "outputs": [],
   "source": [
    "if not os.path.isdir('./fancy_figures/'):\n",
    "    os.mkdir('./fancy_figures/')"
   ]
  },
  {
   "cell_type": "markdown",
   "metadata": {},
   "source": [
    "### Import differential peaks"
   ]
  },
  {
   "cell_type": "code",
   "execution_count": 32,
   "metadata": {},
   "outputs": [
    {
     "name": "stdout",
     "output_type": "stream",
     "text": [
      "annotatePeaks all peaks (61711, 25)\n",
      "getDiffExpression selected transcripts (60547, 33)\n",
      "annotatePeaks selected peaks (60547, 25)\n"
     ]
    }
   ],
   "source": [
    "diff_peak, peaks, peak_mat, peak_mat_quant = import_homer_diffpeak(\n",
    "    './merged_peaks/diff_output.txt',\n",
    "    './merged_peaks/ann_norm_kc_control_atac_peaks_all.txt')"
   ]
  },
  {
   "cell_type": "code",
   "execution_count": 33,
   "metadata": {},
   "outputs": [],
   "source": [
    "drop_samp = ['AJ15A']\n",
    "peaks = peaks.drop(\n",
    "    columns=peaks.columns[peaks.columns.str.contains('|'.join(drop_samp))])\n",
    "peak_mat = peak_mat.drop(\n",
    "    columns=peak_mat.columns[peak_mat.columns.str.contains('|'.join(drop_samp))])\n",
    "peak_mat_quant = peak_mat_quant.drop(\n",
    "    columns=peak_mat_quant.columns[peak_mat_quant.columns.str.contains('|'.join(drop_samp))])"
   ]
  },
  {
   "cell_type": "code",
   "execution_count": 34,
   "metadata": {},
   "outputs": [],
   "source": [
    "comp_dict = pull_comparisons_get_diff(diff_peak, seq_type='Peak')"
   ]
  },
  {
   "cell_type": "markdown",
   "metadata": {},
   "source": [
    "# Set parameters that don't change throughout plotting"
   ]
  },
  {
   "cell_type": "code",
   "execution_count": 65,
   "metadata": {},
   "outputs": [],
   "source": [
    "comps = ['00_c57 vs. 01_balbc',\n",
    "         '00_c57 vs. 02_aj',\n",
    "         '01_balbc vs. 02_aj']\n",
    "\n",
    "labels = [['C57BL/6J\\nlog2 (tag counts + 1)', 'BALB/cJ\\nlog2 (tag counts + 1)'],\n",
    "          ['C57BL/6J\\nlog2 (tag counts + 1)', 'AJ\\nlog2 (tag counts + 1)'],\n",
    "          ['BALB/cJ\\nlog2 (tag counts + 1)', 'AJ\\nlog2 (tag counts + 1)']]\n",
    "\n",
    "groups = [[[0,1],[2,3]],\n",
    "         [[0,1],[4,5]],\n",
    "         [[2,3],[4,5]]]\n",
    "\n",
    "cols = []\n",
    "for i in groups:\n",
    "    subcols = []\n",
    "    for j in i:\n",
    "        subcols.extend([k for k in j])\n",
    "    cols.append(subcols)\n",
    "\n",
    "# set plotting thresholds\n",
    "pthresh = 0.05\n",
    "lfcthresh = (1,2)\n",
    "dotsize = 0.5\n",
    "ax_max = 16\n",
    "n_yticks = 5\n",
    "ytickstep = 3"
   ]
  },
  {
   "cell_type": "markdown",
   "metadata": {},
   "source": [
    "# Strain specific coloring"
   ]
  },
  {
   "cell_type": "code",
   "execution_count": 66,
   "metadata": {},
   "outputs": [],
   "source": [
    "colors = [['#636363', '#6baed6', '#3182bd', '#74c476', '#31a354'],\n",
    "          ['#636363', '#fb6a4a', '#de2d26', '#74c476', '#31a354'],\n",
    "          ['#636363', '#fb6a4a', '#de2d26', '#6baed6', '#3182bd']]\n",
    "\n",
    "filename='h3k27ac_diffpeak_scatter_twothresh_sixcolor.pdf'"
   ]
  },
  {
   "cell_type": "code",
   "execution_count": 67,
   "metadata": {},
   "outputs": [],
   "source": [
    "fig, axs = plt.subplots(1,3, figsize=(11.5,3))\n",
    "plt.subplots_adjust(wspace=0.5)\n",
    "\n",
    "for key, col, group, labs, color, ax in zip(comps, cols, groups, labels, colors, axs.reshape(-1)):\n",
    "    \n",
    "    de = comp_dict[key]\n",
    "    de['logtpm'] = np.log2(peak_mat.iloc[:, col].mean(1)+1)\n",
    "    de['log10p'] = -np.log10(de.adj_pval + 10**(-50))\n",
    "    de['g0_mean'] = np.log2(peak_mat.iloc[:, group[0]].mean(1)+1)\n",
    "    de['g1_mean'] = np.log2(peak_mat.iloc[:, group[1]].mean(1)+1)\n",
    "    \n",
    "    # plot group by group scatter:\n",
    "    de_nonsig = de.reindex(de.index[de.adj_pval >= pthresh])\n",
    "    de_sig_up_fc1 = de.reindex(de.index[(de.adj_pval < pthresh) & (de.log2fc >= lfcthresh[0])])\n",
    "    de_sig_up_fc2 = de.reindex(de.index[(de.adj_pval < pthresh) & (de.log2fc >= lfcthresh[1])])\n",
    "    de_sig_dn_fc1 = de.reindex(de.index[(de.adj_pval < pthresh) & (de.log2fc <= -lfcthresh[0])])\n",
    "    de_sig_dn_fc2 = de.reindex(de.index[(de.adj_pval < pthresh) & (de.log2fc <= -lfcthresh[1])])\n",
    "    \n",
    "    for df, c, in zip([de_nonsig, de_sig_up_fc1, de_sig_up_fc2, de_sig_dn_fc1, de_sig_dn_fc2],\n",
    "                      color):\n",
    "        ax.scatter(\n",
    "            x=df.g0_mean,\n",
    "            y=df.g1_mean,\n",
    "            c=c,\n",
    "            s=dotsize)\n",
    "    \n",
    "    # set axis labels\n",
    "    ax.set_xlabel(labs[0], fontsize=10)\n",
    "    ax.set_ylabel(labs[1], fontsize=10)\n",
    "    \n",
    "    #set max and min\n",
    "    ax.set_xlim([0,ax_max])\n",
    "    ax.set_ylim([0,ax_max])\n",
    "    \n",
    "    # set ticks\n",
    "    ax.set_xticks(np.arange(0,ax_max,ytickstep))\n",
    "    ax.set_xticklabels(np.arange(0,ax_max,ytickstep),\n",
    "                       fontsize=8)\n",
    "    ax.set_yticks(np.arange(0,ax_max,ytickstep))\n",
    "    ax.set_yticklabels(np.arange(0,ax_max,ytickstep),\n",
    "                       fontsize=8)\n",
    "    \n",
    "    # Hide the right and top spines\n",
    "    ax.spines['right'].set_visible(False)\n",
    "    ax.spines['top'].set_visible(False)\n",
    "    \n",
    "    \n",
    "plt.savefig('./fancy_figures/'+filename, bbox_inches='tight')\n",
    "plt.close()"
   ]
  },
  {
   "cell_type": "markdown",
   "metadata": {},
   "source": [
    "# Non-specific coloring"
   ]
  },
  {
   "cell_type": "code",
   "execution_count": 68,
   "metadata": {},
   "outputs": [],
   "source": [
    "colors = [['#636363', '#fb6a4a', '#de2d26'],\n",
    "          ['#636363', '#fb6a4a', '#de2d26'],\n",
    "          ['#636363', '#fb6a4a', '#de2d26']]\n",
    "    \n",
    "filename='h3k27ac_diffpeak_scatter_twothresh_twocolor.pdf'"
   ]
  },
  {
   "cell_type": "code",
   "execution_count": 69,
   "metadata": {},
   "outputs": [],
   "source": [
    "fig, axs = plt.subplots(1,3, figsize=(11.5,3))\n",
    "plt.subplots_adjust(wspace=0.5)\n",
    "\n",
    "for key, col, group, labs, color, ax in zip(comps, cols, groups, labels, colors, axs.reshape(-1)):\n",
    "    \n",
    "    de = comp_dict[key]\n",
    "    de['logtpm'] = np.log2(peak_mat.iloc[:, col].mean(1)+1)\n",
    "    de['log10p'] = -np.log10(de.adj_pval + 10**(-50))\n",
    "    de['g0_mean'] = np.log2(peak_mat.iloc[:, group[0]].mean(1)+1)\n",
    "    de['g1_mean'] = np.log2(peak_mat.iloc[:, group[1]].mean(1)+1)\n",
    "       \n",
    "    # plot group by group scatter:\n",
    "    de_nonsig = de.reindex(de.index[de.adj_pval >= pthresh])\n",
    "    de_sig_fc1 = de.reindex(de.index[(de.adj_pval < pthresh) & (np.abs(de.log2fc) >= lfcthresh[0])])\n",
    "    de_sig_fc2 = de.reindex(de.index[(de.adj_pval < pthresh) & (np.abs(de.log2fc) >= lfcthresh[1])])\n",
    "    \n",
    "    for df, c in zip([de_nonsig, de_sig_fc1, de_sig_fc2],\n",
    "                     color):\n",
    "        ax.scatter(\n",
    "            x=df.g0_mean,\n",
    "            y=df.g1_mean,\n",
    "            c=c,\n",
    "            s=dotsize)\n",
    "     \n",
    "    # set axis labels\n",
    "    ax.set_xlabel(labs[0], fontsize=10)\n",
    "    ax.set_ylabel(labs[1], fontsize=10)\n",
    "    \n",
    "    #set max and min\n",
    "    ax.set_xlim([0,ax_max])\n",
    "    ax.set_ylim([0,ax_max])\n",
    "    \n",
    "    # set ticks\n",
    "    ax.set_xticks(np.arange(0,ax_max,ytickstep))\n",
    "    ax.set_xticklabels(np.arange(0,ax_max,ytickstep),\n",
    "                       fontsize=8)\n",
    "    ax.set_yticks(np.arange(0,ax_max,ytickstep))\n",
    "    ax.set_yticklabels(np.arange(0,ax_max,ytickstep),\n",
    "                       fontsize=8)\n",
    "    \n",
    "    # Hide the right and top spines\n",
    "    ax.spines['right'].set_visible(False)\n",
    "    ax.spines['top'].set_visible(False)\n",
    "    \n",
    "plt.savefig('./fancy_figures/'+filename, bbox_inches='tight')\n",
    "plt.close()"
   ]
  },
  {
   "cell_type": "markdown",
   "metadata": {},
   "source": [
    "# One logfc threshold"
   ]
  },
  {
   "cell_type": "code",
   "execution_count": 70,
   "metadata": {},
   "outputs": [],
   "source": [
    "colors = [['#636363', '#de2d26'],\n",
    "          ['#636363', '#de2d26'],\n",
    "          ['#636363', '#de2d26']]\n",
    "\n",
    "filename='h3k27ac_diffpeak_scatter_onethresh_onecolor.pdf'"
   ]
  },
  {
   "cell_type": "code",
   "execution_count": 71,
   "metadata": {},
   "outputs": [],
   "source": [
    "fig, axs = plt.subplots(1,3, figsize=(11.5,3))\n",
    "plt.subplots_adjust(wspace=0.5)\n",
    "\n",
    "for key, col, group, labs, color, ax in zip(comps, cols, groups, labels, colors, axs.reshape(-1)):\n",
    "\n",
    "    \n",
    "    de = comp_dict[key]\n",
    "    de['logtpm'] = np.log2(peak_mat.iloc[:, col].mean(1)+1)\n",
    "    de['log10p'] = -np.log10(de.adj_pval + 10**(-50))\n",
    "    de['g0_mean'] = np.log2(peak_mat.iloc[:, group[0]].mean(1)+1)\n",
    "    de['g1_mean'] = np.log2(peak_mat.iloc[:, group[1]].mean(1)+1)\n",
    "       \n",
    "    # plot group by group scatter:\n",
    "    de_nonsig = de.reindex(de.index[de.adj_pval >= pthresh])\n",
    "    de_sig_fc1 = de.reindex(de.index[(de.adj_pval < pthresh) & (np.abs(de.log2fc) >= lfcthresh[0])])\n",
    "    \n",
    "    for df, c in zip([de_nonsig, de_sig_fc1],\n",
    "                     color):\n",
    "        ax.scatter(\n",
    "            x=df.g0_mean,\n",
    "            y=df.g1_mean,\n",
    "            c=c,\n",
    "            s=dotsize)\n",
    "     \n",
    "    # set axis labels\n",
    "    ax.set_xlabel(labs[0], fontsize=10)\n",
    "    ax.set_ylabel(labs[1], fontsize=10)\n",
    "    \n",
    "    #set max and min\n",
    "    ax.set_xlim([0,ax_max])\n",
    "    ax.set_ylim([0,ax_max])\n",
    "    \n",
    "    # set ticks\n",
    "    ax.set_xticks(np.arange(0,ax_max,ytickstep))\n",
    "    ax.set_xticklabels(np.arange(0,ax_max,ytickstep),\n",
    "                       fontsize=8)\n",
    "    ax.set_yticks(np.arange(0,ax_max,ytickstep))\n",
    "    ax.set_yticklabels(np.arange(0,ax_max,ytickstep),\n",
    "                       fontsize=8)\n",
    "    \n",
    "    # Hide the right and top spines\n",
    "    ax.spines['right'].set_visible(False)\n",
    "    ax.spines['top'].set_visible(False)\n",
    "    \n",
    "plt.savefig('./fancy_figures/'+filename, bbox_inches='tight')\n",
    "plt.close()"
   ]
  },
  {
   "cell_type": "markdown",
   "metadata": {},
   "source": [
    "Try with rasterizing"
   ]
  },
  {
   "cell_type": "code",
   "execution_count": 72,
   "metadata": {},
   "outputs": [],
   "source": [
    "filename='h3k27ac_diffpeak_scatter_onethresh_onecolor_raster.pdf'"
   ]
  },
  {
   "cell_type": "code",
   "execution_count": 73,
   "metadata": {},
   "outputs": [
    {
     "data": {
      "image/png": "[encoded data removed]",
      "text/plain": [
       "<Figure size 828x216 with 3 Axes>"
      ]
     },
     "metadata": {},
     "output_type": "display_data"
    }
   ],
   "source": [
    "fig, axs = plt.subplots(1,3, figsize=(11.5,3))\n",
    "plt.subplots_adjust(wspace=0.3)\n",
    "\n",
    "for key, col, group, labs, color, ax in zip(comps, cols, groups, labels, colors, axs.reshape(-1)):\n",
    "\n",
    "    \n",
    "    de = comp_dict[key]\n",
    "    de['logtpm'] = np.log2(peak_mat.iloc[:, col].mean(1)+1)\n",
    "    de['log10p'] = -np.log10(de.adj_pval + 10**(-50))\n",
    "    de['g0_mean'] = np.log2(peak_mat.iloc[:, group[0]].mean(1)+1)\n",
    "    de['g1_mean'] = np.log2(peak_mat.iloc[:, group[1]].mean(1)+1)\n",
    "       \n",
    "    # plot group by group scatter:\n",
    "    de_nonsig = de.reindex(de.index[de.adj_pval >= pthresh])\n",
    "    de_sig_fc1 = de.reindex(de.index[(de.adj_pval < pthresh) & (np.abs(de.log2fc) >= lfcthresh[0])])\n",
    "    \n",
    "    for df, c in zip([de_nonsig, de_sig_fc1],\n",
    "                     color):\n",
    "        ax.scatter(\n",
    "            x=df.g0_mean,\n",
    "            y=df.g1_mean,\n",
    "            c=c,\n",
    "            s=dotsize,\n",
    "            rasterized=True)\n",
    "     \n",
    "    # set axis labels\n",
    "    ax.set_xlabel(labs[0], fontsize=10)\n",
    "    ax.set_ylabel(labs[1], fontsize=10)\n",
    "    \n",
    "    #set max and min\n",
    "    ax.set_xlim([0,ax_max])\n",
    "    ax.set_ylim([0,ax_max])\n",
    "    \n",
    "    # set ticks\n",
    "    ax.set_xticks(np.arange(0,ax_max,ytickstep))\n",
    "    ax.set_xticklabels(np.arange(0,ax_max,ytickstep),\n",
    "                       fontsize=8)\n",
    "    ax.set_yticks(np.arange(0,ax_max,ytickstep))\n",
    "    ax.set_yticklabels(np.arange(0,ax_max,ytickstep),\n",
    "                       fontsize=8)\n",
    "    \n",
    "    # Hide the right and top spines\n",
    "    ax.spines['right'].set_visible(False)\n",
    "    ax.spines['top'].set_visible(False)\n",
    "    \n",
    "plt.savefig('./fancy_figures/'+filename, bbox_inches='tight')\n",
    "# plt.close()"
   ]
  },
  {
   "cell_type": "code",
   "execution_count": null,
   "metadata": {},
   "outputs": [],
   "source": []
  }
 ],
 "metadata": {
  "kernelspec": {
   "display_name": "dataviz",
   "language": "python",
   "name": "dataviz"
  },
  "language_info": {
   "codemirror_mode": {
    "name": "ipython",
    "version": 3
   },
   "file_extension": ".py",
   "mimetype": "text/x-python",
   "name": "python",
   "nbconvert_exporter": "python",
   "pygments_lexer": "ipython3",
   "version": "3.7.5"
  }
 },
 "nbformat": 4,
 "nbformat_minor": 2
}
