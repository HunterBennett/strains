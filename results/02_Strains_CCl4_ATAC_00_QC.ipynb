{
 "cells": [
  {
   "cell_type": "code",
   "execution_count": 1,
   "metadata": {},
   "outputs": [],
   "source": [
    "### header ###\n",
    "__author__ = \"Hunter Bennett\"\n",
    "__license__ = \"BSD\"\n",
    "__email__ = \"hunter.r.bennett@gmail.com\"\n",
    "%load_ext autoreload\n",
    "%autoreload 2\n",
    "### imports ###\n",
    "import sys\n",
    "%matplotlib inline\n",
    "import os\n",
    "import re\n",
    "import glob\n",
    "import pandas as pd\n",
    "import numpy as np\n",
    "import matplotlib\n",
    "import matplotlib.pyplot as plt \n",
    "import seaborn as sns\n",
    "matplotlib.rcParams['savefig.dpi'] = 200\n",
    "sns.set(font_scale=1)\n",
    "sns.set_context('talk')\n",
    "sns.set_style('white')\n",
    "\n",
    "# import custom functions\n",
    "import sys\n",
    "sys.path.insert(0, '/home/h1bennet/code/')\n",
    "from hbUtils import ngs_qc, quantile_normalize_df"
   ]
  },
  {
   "cell_type": "markdown",
   "metadata": {},
   "source": [
    "Set working directory"
   ]
  },
  {
   "cell_type": "code",
   "execution_count": 2,
   "metadata": {},
   "outputs": [],
   "source": [
    "dataDirectory = '/gpfs/data01/glasslab/home/h1bennet/strains/data/ATAC/ccl4_6wk'\n",
    "workingDirectory = '/home/h1bennet/strains/results/200922_Strains_CCl4_6weeks_ATAC/'\n",
    "if not os.path.isdir(workingDirectory):\n",
    "    os.mkdir(workingDirectory)\n",
    "os.chdir(workingDirectory)"
   ]
  },
  {
   "cell_type": "markdown",
   "metadata": {},
   "source": [
    "# Quality control"
   ]
  },
  {
   "cell_type": "code",
   "execution_count": 3,
   "metadata": {},
   "outputs": [
    {
     "name": "stdout",
     "output_type": "stream",
     "text": [
      "/gpfs/data01/glasslab/home/h1bennet/strains/data/ATAC/ccl4_6wk/\n",
      "./ccl4_6wk_qc/\n"
     ]
    },
    {
     "data": {
      "text/plain": [
       "<Figure size 432x288 with 0 Axes>"
      ]
     },
     "metadata": {},
     "output_type": "display_data"
    }
   ],
   "source": [
    "qc = ngs_qc(dataDirectory, 'atac')"
   ]
  },
  {
   "cell_type": "code",
   "execution_count": 4,
   "metadata": {},
   "outputs": [
    {
     "data": {
      "text/html": [
       "<div>\n",
       "<style scoped>\n",
       "    .dataframe tbody tr th:only-of-type {\n",
       "        vertical-align: middle;\n",
       "    }\n",
       "\n",
       "    .dataframe tbody tr th {\n",
       "        vertical-align: top;\n",
       "    }\n",
       "\n",
       "    .dataframe thead th {\n",
       "        text-align: right;\n",
       "    }\n",
       "</style>\n",
       "<table border=\"1\" class=\"dataframe\">\n",
       "  <thead>\n",
       "    <tr style=\"text-align: right;\">\n",
       "      <th></th>\n",
       "      <th>uniquePositions</th>\n",
       "      <th>fragmentLengthEstimate</th>\n",
       "      <th>tagsPerBP</th>\n",
       "      <th>clonality</th>\n",
       "      <th>GC_Content</th>\n",
       "      <th>totalReads</th>\n",
       "      <th>uniquelyMappedReads</th>\n",
       "      <th>multiMappedReads</th>\n",
       "      <th>unmappedReads</th>\n",
       "      <th>uniquelyMappedFraction</th>\n",
       "      <th>mappedFraction</th>\n",
       "    </tr>\n",
       "  </thead>\n",
       "  <tbody>\n",
       "    <tr>\n",
       "      <th>00_NCoRWT_Kupffer_ATAC_CCl4_6wk_noRecovery_flavopiridol_LN156D_JSS_TDT_2016_06_06</th>\n",
       "      <td>12094765.0</td>\n",
       "      <td>68.0</td>\n",
       "      <td>0.005034</td>\n",
       "      <td>1.135</td>\n",
       "      <td>-1.0</td>\n",
       "      <td>19047527.0</td>\n",
       "      <td>13153409.0</td>\n",
       "      <td>5360539.0</td>\n",
       "      <td>533579.0</td>\n",
       "      <td>0.690557</td>\n",
       "      <td>0.971987</td>\n",
       "    </tr>\n",
       "    <tr>\n",
       "      <th>00_NCoRWT_Kupffer_ATAC_CCl4_6wk_noRecovery_flavopiridol_LN159A_JSS_TDT_2016_06_06</th>\n",
       "      <td>13370969.0</td>\n",
       "      <td>70.0</td>\n",
       "      <td>0.005981</td>\n",
       "      <td>1.219</td>\n",
       "      <td>-1.0</td>\n",
       "      <td>22655858.0</td>\n",
       "      <td>15754240.0</td>\n",
       "      <td>6356674.0</td>\n",
       "      <td>544944.0</td>\n",
       "      <td>0.695372</td>\n",
       "      <td>0.975947</td>\n",
       "    </tr>\n",
       "    <tr>\n",
       "      <th>01_balbc_Kupffer_ATAC_CCl4_6wk_noRecovery_flavopiridol_Balb10_TDT_JSS_2016_05_31</th>\n",
       "      <td>11245709.0</td>\n",
       "      <td>68.0</td>\n",
       "      <td>0.007123</td>\n",
       "      <td>1.724</td>\n",
       "      <td>-1.0</td>\n",
       "      <td>25268691.0</td>\n",
       "      <td>17231120.0</td>\n",
       "      <td>7274034.0</td>\n",
       "      <td>763537.0</td>\n",
       "      <td>0.681916</td>\n",
       "      <td>0.969783</td>\n",
       "    </tr>\n",
       "    <tr>\n",
       "      <th>01_balbc_Kupffer_ATAC_CCl4_6wk_noRecovery_flavopiridol_Balb7_TDT_JSS_2016_05_31</th>\n",
       "      <td>11741101.0</td>\n",
       "      <td>67.0</td>\n",
       "      <td>0.007906</td>\n",
       "      <td>1.833</td>\n",
       "      <td>-1.0</td>\n",
       "      <td>30946603.0</td>\n",
       "      <td>19893078.0</td>\n",
       "      <td>9520862.0</td>\n",
       "      <td>1532663.0</td>\n",
       "      <td>0.642819</td>\n",
       "      <td>0.950474</td>\n",
       "    </tr>\n",
       "    <tr>\n",
       "      <th>01_balbc_Kupffer_ATAC_CCl4_6wk_noRecovery_flavopiridol_Balb9_TDT_JSS_2016_05_31</th>\n",
       "      <td>10098760.0</td>\n",
       "      <td>67.0</td>\n",
       "      <td>0.006355</td>\n",
       "      <td>1.713</td>\n",
       "      <td>-1.0</td>\n",
       "      <td>23286604.0</td>\n",
       "      <td>15352629.0</td>\n",
       "      <td>7248076.0</td>\n",
       "      <td>685899.0</td>\n",
       "      <td>0.659290</td>\n",
       "      <td>0.970545</td>\n",
       "    </tr>\n",
       "    <tr>\n",
       "      <th>02_aj_Kupffer_ATAC_CCl4_6wk_noRecovery_flavopiridol_AJ11_TDT_JSS_2016_05_31</th>\n",
       "      <td>6359593.0</td>\n",
       "      <td>79.0</td>\n",
       "      <td>0.003818</td>\n",
       "      <td>1.634</td>\n",
       "      <td>-1.0</td>\n",
       "      <td>13669049.0</td>\n",
       "      <td>8931057.0</td>\n",
       "      <td>4417259.0</td>\n",
       "      <td>320733.0</td>\n",
       "      <td>0.653378</td>\n",
       "      <td>0.976536</td>\n",
       "    </tr>\n",
       "    <tr>\n",
       "      <th>02_aj_Kupffer_ATAC_CCl4_6wk_noRecovery_flavopiridol_AJ12_TDT_JSS_2016_05_31</th>\n",
       "      <td>11199434.0</td>\n",
       "      <td>67.0</td>\n",
       "      <td>0.008393</td>\n",
       "      <td>2.040</td>\n",
       "      <td>-1.0</td>\n",
       "      <td>29383959.0</td>\n",
       "      <td>20303118.0</td>\n",
       "      <td>8251107.0</td>\n",
       "      <td>829734.0</td>\n",
       "      <td>0.690959</td>\n",
       "      <td>0.971762</td>\n",
       "    </tr>\n",
       "    <tr>\n",
       "      <th>02_aj_Kupffer_ATAC_CCl4_6wk_noRecovery_flavopiridol_AJ8_TDT_JSS_2016_05_31</th>\n",
       "      <td>11377935.0</td>\n",
       "      <td>77.0</td>\n",
       "      <td>0.007766</td>\n",
       "      <td>1.858</td>\n",
       "      <td>-1.0</td>\n",
       "      <td>27914818.0</td>\n",
       "      <td>18081987.0</td>\n",
       "      <td>9220058.0</td>\n",
       "      <td>612773.0</td>\n",
       "      <td>0.647756</td>\n",
       "      <td>0.978048</td>\n",
       "    </tr>\n",
       "  </tbody>\n",
       "</table>\n",
       "</div>"
      ],
      "text/plain": [
       "                                                    uniquePositions  \\\n",
       "00_NCoRWT_Kupffer_ATAC_CCl4_6wk_noRecovery_flav...       12094765.0   \n",
       "00_NCoRWT_Kupffer_ATAC_CCl4_6wk_noRecovery_flav...       13370969.0   \n",
       "01_balbc_Kupffer_ATAC_CCl4_6wk_noRecovery_flavo...       11245709.0   \n",
       "01_balbc_Kupffer_ATAC_CCl4_6wk_noRecovery_flavo...       11741101.0   \n",
       "01_balbc_Kupffer_ATAC_CCl4_6wk_noRecovery_flavo...       10098760.0   \n",
       "02_aj_Kupffer_ATAC_CCl4_6wk_noRecovery_flavopir...        6359593.0   \n",
       "02_aj_Kupffer_ATAC_CCl4_6wk_noRecovery_flavopir...       11199434.0   \n",
       "02_aj_Kupffer_ATAC_CCl4_6wk_noRecovery_flavopir...       11377935.0   \n",
       "\n",
       "                                                    fragmentLengthEstimate  \\\n",
       "00_NCoRWT_Kupffer_ATAC_CCl4_6wk_noRecovery_flav...                    68.0   \n",
       "00_NCoRWT_Kupffer_ATAC_CCl4_6wk_noRecovery_flav...                    70.0   \n",
       "01_balbc_Kupffer_ATAC_CCl4_6wk_noRecovery_flavo...                    68.0   \n",
       "01_balbc_Kupffer_ATAC_CCl4_6wk_noRecovery_flavo...                    67.0   \n",
       "01_balbc_Kupffer_ATAC_CCl4_6wk_noRecovery_flavo...                    67.0   \n",
       "02_aj_Kupffer_ATAC_CCl4_6wk_noRecovery_flavopir...                    79.0   \n",
       "02_aj_Kupffer_ATAC_CCl4_6wk_noRecovery_flavopir...                    67.0   \n",
       "02_aj_Kupffer_ATAC_CCl4_6wk_noRecovery_flavopir...                    77.0   \n",
       "\n",
       "                                                    tagsPerBP  clonality  \\\n",
       "00_NCoRWT_Kupffer_ATAC_CCl4_6wk_noRecovery_flav...   0.005034      1.135   \n",
       "00_NCoRWT_Kupffer_ATAC_CCl4_6wk_noRecovery_flav...   0.005981      1.219   \n",
       "01_balbc_Kupffer_ATAC_CCl4_6wk_noRecovery_flavo...   0.007123      1.724   \n",
       "01_balbc_Kupffer_ATAC_CCl4_6wk_noRecovery_flavo...   0.007906      1.833   \n",
       "01_balbc_Kupffer_ATAC_CCl4_6wk_noRecovery_flavo...   0.006355      1.713   \n",
       "02_aj_Kupffer_ATAC_CCl4_6wk_noRecovery_flavopir...   0.003818      1.634   \n",
       "02_aj_Kupffer_ATAC_CCl4_6wk_noRecovery_flavopir...   0.008393      2.040   \n",
       "02_aj_Kupffer_ATAC_CCl4_6wk_noRecovery_flavopir...   0.007766      1.858   \n",
       "\n",
       "                                                    GC_Content  totalReads  \\\n",
       "00_NCoRWT_Kupffer_ATAC_CCl4_6wk_noRecovery_flav...        -1.0  19047527.0   \n",
       "00_NCoRWT_Kupffer_ATAC_CCl4_6wk_noRecovery_flav...        -1.0  22655858.0   \n",
       "01_balbc_Kupffer_ATAC_CCl4_6wk_noRecovery_flavo...        -1.0  25268691.0   \n",
       "01_balbc_Kupffer_ATAC_CCl4_6wk_noRecovery_flavo...        -1.0  30946603.0   \n",
       "01_balbc_Kupffer_ATAC_CCl4_6wk_noRecovery_flavo...        -1.0  23286604.0   \n",
       "02_aj_Kupffer_ATAC_CCl4_6wk_noRecovery_flavopir...        -1.0  13669049.0   \n",
       "02_aj_Kupffer_ATAC_CCl4_6wk_noRecovery_flavopir...        -1.0  29383959.0   \n",
       "02_aj_Kupffer_ATAC_CCl4_6wk_noRecovery_flavopir...        -1.0  27914818.0   \n",
       "\n",
       "                                                    uniquelyMappedReads  \\\n",
       "00_NCoRWT_Kupffer_ATAC_CCl4_6wk_noRecovery_flav...           13153409.0   \n",
       "00_NCoRWT_Kupffer_ATAC_CCl4_6wk_noRecovery_flav...           15754240.0   \n",
       "01_balbc_Kupffer_ATAC_CCl4_6wk_noRecovery_flavo...           17231120.0   \n",
       "01_balbc_Kupffer_ATAC_CCl4_6wk_noRecovery_flavo...           19893078.0   \n",
       "01_balbc_Kupffer_ATAC_CCl4_6wk_noRecovery_flavo...           15352629.0   \n",
       "02_aj_Kupffer_ATAC_CCl4_6wk_noRecovery_flavopir...            8931057.0   \n",
       "02_aj_Kupffer_ATAC_CCl4_6wk_noRecovery_flavopir...           20303118.0   \n",
       "02_aj_Kupffer_ATAC_CCl4_6wk_noRecovery_flavopir...           18081987.0   \n",
       "\n",
       "                                                    multiMappedReads  \\\n",
       "00_NCoRWT_Kupffer_ATAC_CCl4_6wk_noRecovery_flav...         5360539.0   \n",
       "00_NCoRWT_Kupffer_ATAC_CCl4_6wk_noRecovery_flav...         6356674.0   \n",
       "01_balbc_Kupffer_ATAC_CCl4_6wk_noRecovery_flavo...         7274034.0   \n",
       "01_balbc_Kupffer_ATAC_CCl4_6wk_noRecovery_flavo...         9520862.0   \n",
       "01_balbc_Kupffer_ATAC_CCl4_6wk_noRecovery_flavo...         7248076.0   \n",
       "02_aj_Kupffer_ATAC_CCl4_6wk_noRecovery_flavopir...         4417259.0   \n",
       "02_aj_Kupffer_ATAC_CCl4_6wk_noRecovery_flavopir...         8251107.0   \n",
       "02_aj_Kupffer_ATAC_CCl4_6wk_noRecovery_flavopir...         9220058.0   \n",
       "\n",
       "                                                    unmappedReads  \\\n",
       "00_NCoRWT_Kupffer_ATAC_CCl4_6wk_noRecovery_flav...       533579.0   \n",
       "00_NCoRWT_Kupffer_ATAC_CCl4_6wk_noRecovery_flav...       544944.0   \n",
       "01_balbc_Kupffer_ATAC_CCl4_6wk_noRecovery_flavo...       763537.0   \n",
       "01_balbc_Kupffer_ATAC_CCl4_6wk_noRecovery_flavo...      1532663.0   \n",
       "01_balbc_Kupffer_ATAC_CCl4_6wk_noRecovery_flavo...       685899.0   \n",
       "02_aj_Kupffer_ATAC_CCl4_6wk_noRecovery_flavopir...       320733.0   \n",
       "02_aj_Kupffer_ATAC_CCl4_6wk_noRecovery_flavopir...       829734.0   \n",
       "02_aj_Kupffer_ATAC_CCl4_6wk_noRecovery_flavopir...       612773.0   \n",
       "\n",
       "                                                    uniquelyMappedFraction  \\\n",
       "00_NCoRWT_Kupffer_ATAC_CCl4_6wk_noRecovery_flav...                0.690557   \n",
       "00_NCoRWT_Kupffer_ATAC_CCl4_6wk_noRecovery_flav...                0.695372   \n",
       "01_balbc_Kupffer_ATAC_CCl4_6wk_noRecovery_flavo...                0.681916   \n",
       "01_balbc_Kupffer_ATAC_CCl4_6wk_noRecovery_flavo...                0.642819   \n",
       "01_balbc_Kupffer_ATAC_CCl4_6wk_noRecovery_flavo...                0.659290   \n",
       "02_aj_Kupffer_ATAC_CCl4_6wk_noRecovery_flavopir...                0.653378   \n",
       "02_aj_Kupffer_ATAC_CCl4_6wk_noRecovery_flavopir...                0.690959   \n",
       "02_aj_Kupffer_ATAC_CCl4_6wk_noRecovery_flavopir...                0.647756   \n",
       "\n",
       "                                                    mappedFraction  \n",
       "00_NCoRWT_Kupffer_ATAC_CCl4_6wk_noRecovery_flav...        0.971987  \n",
       "00_NCoRWT_Kupffer_ATAC_CCl4_6wk_noRecovery_flav...        0.975947  \n",
       "01_balbc_Kupffer_ATAC_CCl4_6wk_noRecovery_flavo...        0.969783  \n",
       "01_balbc_Kupffer_ATAC_CCl4_6wk_noRecovery_flavo...        0.950474  \n",
       "01_balbc_Kupffer_ATAC_CCl4_6wk_noRecovery_flavo...        0.970545  \n",
       "02_aj_Kupffer_ATAC_CCl4_6wk_noRecovery_flavopir...        0.976536  \n",
       "02_aj_Kupffer_ATAC_CCl4_6wk_noRecovery_flavopir...        0.971762  \n",
       "02_aj_Kupffer_ATAC_CCl4_6wk_noRecovery_flavopir...        0.978048  "
      ]
     },
     "execution_count": 4,
     "metadata": {},
     "output_type": "execute_result"
    }
   ],
   "source": [
    "qc"
   ]
  },
  {
   "cell_type": "markdown",
   "metadata": {},
   "source": [
    "### Plot tag count distribution"
   ]
  },
  {
   "cell_type": "code",
   "execution_count": 5,
   "metadata": {},
   "outputs": [
    {
     "data": {
      "image/png": "[encoded data removed]",
      "text/plain": [
       "<Figure size 1080x720 with 9 Axes>"
      ]
     },
     "metadata": {
      "needs_background": "light"
     },
     "output_type": "display_data"
    }
   ],
   "source": [
    "tds = glob.glob(dataDirectory+'/*')\n",
    "tds = np.sort(tds)\n",
    "\n",
    "fig, axs = plt.subplots(3,3, figsize=(15, 10), sharex=True, sharey=True)\n",
    "\n",
    "for ax, td in zip(axs.flatten(), tds):\n",
    "    df = pd.read_csv(td+'/tagCountDistribution.txt', sep='\\t', index_col=0)\n",
    "    df.loc[1:10, :].plot.bar(ax=ax, legend=False)\n",
    "    ax.set_xlabel('Tags per position')\n",
    "    ax.set_ylabel('Fraction of Positions')\n",
    "    ax.set_title(td.split('/')[-1].split('_AL')[0], fontsize=8)"
   ]
  },
  {
   "cell_type": "markdown",
   "metadata": {},
   "source": [
    "### make browser hub (run on command line for now)"
   ]
  },
  {
   "cell_type": "markdown",
   "metadata": {},
   "source": [
    "|Colors:|      |\n",
    "|------|------|\n",
    "|AJ:| 228,26,28|  \n",
    "|Balb:| 55,126,184| \n",
    "|C57:| 77,175,74|\n",
    "\n"
   ]
  },
  {
   "cell_type": "code",
   "execution_count": 6,
   "metadata": {},
   "outputs": [
    {
     "ename": "SyntaxError",
     "evalue": "invalid syntax (<ipython-input-6-2a8ec57607b8>, line 1)",
     "output_type": "error",
     "traceback": [
      "\u001b[0;36m  File \u001b[0;32m\"<ipython-input-6-2a8ec57607b8>\"\u001b[0;36m, line \u001b[0;32m1\u001b[0m\n\u001b[0;31m    makeMultiWigHub.pl hrb_strains_atac_ccl4_6wks mm10 -force -color \\\u001b[0m\n\u001b[0m                                                ^\u001b[0m\n\u001b[0;31mSyntaxError\u001b[0m\u001b[0;31m:\u001b[0m invalid syntax\n"
     ]
    }
   ],
   "source": [
    "makeMultiWigHub.pl hrb_strains_atac_ccl4_6wks mm10 -force -color \\\n",
    "77,175,74 77,175,74 \\\n",
    "55,126,184 55,126,184 55,126,184 \\\n",
    "228,26,28 228,26,28 228,26,28 \\\n",
    "-d /gpfs/data01/glasslab/home/h1bennet/strains/data/ATAC/ccl4_6wk/*"
   ]
  },
  {
   "cell_type": "markdown",
   "metadata": {},
   "source": [
    "# Call Peaks"
   ]
  },
  {
   "cell_type": "code",
   "execution_count": 7,
   "metadata": {},
   "outputs": [
    {
     "name": "stderr",
     "output_type": "stream",
     "text": [
      "rm: cannot remove ‘./peakCalling_homer.sh’: No such file or directory\n"
     ]
    }
   ],
   "source": [
    "%%bash\n",
    "# delete the existing script file\n",
    "rm ./peakCalling_homer.sh\n",
    "# create a script file\n",
    "touch ./peakCalling_homer.sh\n",
    "\n",
    "# if directories don't exist, create them\n",
    "if [ ! -d ./atac_peak_files/ ]; then mkdir ./atac_peak_files; fi"
   ]
  },
  {
   "cell_type": "code",
   "execution_count": 8,
   "metadata": {},
   "outputs": [],
   "source": [
    "with open('./peakCalling_homer.sh', 'w') as f:\n",
    "    for tagdir in os.listdir(dataDirectory):\n",
    "        find_peaks_idr = ['findPeaks', dataDirectory + '/' + tagdir,\n",
    "                          '-L', '0', '-C', '0', '-fdr', '0.9', '-style',\n",
    "                          'factor', '-size', '200', '>',\n",
    "                          workingDirectory + '/atac_peak_files/' + tagdir + '_peaks.tsv',\n",
    "                          '&', '\\n']\n",
    "        find_peaks = ['findPeaks', dataDirectory + '/' + tagdir,\n",
    "                      '-style', 'factor', '-size', '200', '>',\n",
    "                      workingDirectory + '/atac_peak_files/' + tagdir + '_default_peaks.tsv',\n",
    "                      '&', '\\n']\n",
    "        # write commands to file\n",
    "        f.write(' '.join(find_peaks_idr))\n",
    "        f.write(' '.join(find_peaks))\n",
    "f.close()"
   ]
  },
  {
   "cell_type": "markdown",
   "metadata": {},
   "source": [
    "### compile peak stats for QC"
   ]
  },
  {
   "cell_type": "code",
   "execution_count": 9,
   "metadata": {},
   "outputs": [],
   "source": [
    "peak_stats={}\n",
    "\n",
    "for td in os.listdir('./atac_peak_files/'):\n",
    "\n",
    "    peak_dict = {'total_peaks': 0,\n",
    "                 'ip_eff': 0.0,\n",
    "                 'peaks_filt_input': 0,\n",
    "                 'peaks_filt_local': 0,\n",
    "                 'peaks_filt_clonal':0}\n",
    "\n",
    "    with open('./atac_peak_files/'+td, 'r') as f:\n",
    "        for line in f.readlines():\n",
    "            if \"total peaks\" in line:\n",
    "                peak_dict['total_peaks'] = int(line.split(' = ')[-1])\n",
    "            if \"Approximate IP efficiency\" in line:\n",
    "                peak_dict['ip_eff'] = float(line.replace('%\\n', '').split(' = ')[-1])\n",
    "            if \"Putative peaks filtered by input\" in line:\n",
    "                peak_dict['peaks_filt_input'] = int(line.split(' = ')[-1])\n",
    "            if \"Putative peaks filtered by local signal\" in line:\n",
    "                peak_dict['peaks_filt_local'] = int(line.split(' = ')[-1])\n",
    "            if \"Putative peaks filtered for being too clonal\" in line:\n",
    "                peak_dict['peaks_filt_clonal'] = int(line.split(' = ')[-1])\n",
    "                \n",
    "    peak_stats[td] = peak_dict\n",
    "            \n",
    "df = pd.DataFrame(peak_stats).T"
   ]
  },
  {
   "cell_type": "code",
   "execution_count": 10,
   "metadata": {},
   "outputs": [],
   "source": [
    "df.sort_index(inplace=True)"
   ]
  },
  {
   "cell_type": "markdown",
   "metadata": {},
   "source": [
    "### Save to file"
   ]
  },
  {
   "cell_type": "code",
   "execution_count": 11,
   "metadata": {},
   "outputs": [],
   "source": [
    "df.loc[df.index.str.contains('default'), :].to_csv('./default_peak_table.txt', sep='\\t')\n",
    "df.loc[~df.index.str.contains('default'), :].to_csv('./idr_peak_table.txt', sep='\\t')"
   ]
  },
  {
   "cell_type": "code",
   "execution_count": 12,
   "metadata": {},
   "outputs": [
    {
     "data": {
      "text/html": [
       "<div>\n",
       "<style scoped>\n",
       "    .dataframe tbody tr th:only-of-type {\n",
       "        vertical-align: middle;\n",
       "    }\n",
       "\n",
       "    .dataframe tbody tr th {\n",
       "        vertical-align: top;\n",
       "    }\n",
       "\n",
       "    .dataframe thead th {\n",
       "        text-align: right;\n",
       "    }\n",
       "</style>\n",
       "<table border=\"1\" class=\"dataframe\">\n",
       "  <thead>\n",
       "    <tr style=\"text-align: right;\">\n",
       "      <th></th>\n",
       "    </tr>\n",
       "  </thead>\n",
       "  <tbody>\n",
       "  </tbody>\n",
       "</table>\n",
       "</div>"
      ],
      "text/plain": [
       "Empty DataFrame\n",
       "Columns: []\n",
       "Index: []"
      ]
     },
     "execution_count": 12,
     "metadata": {},
     "output_type": "execute_result"
    }
   ],
   "source": [
    "df.loc[df.index.str.contains('default'), :]"
   ]
  },
  {
   "cell_type": "code",
   "execution_count": null,
   "metadata": {},
   "outputs": [],
   "source": []
  }
 ],
 "metadata": {
  "kernelspec": {
   "display_name": "dataviz",
   "language": "python",
   "name": "dataviz"
  },
  "language_info": {
   "codemirror_mode": {
    "name": "ipython",
    "version": 3
   },
   "file_extension": ".py",
   "mimetype": "text/x-python",
   "name": "python",
   "nbconvert_exporter": "python",
   "pygments_lexer": "ipython3",
   "version": "3.7.5"
  }
 },
 "nbformat": 4,
 "nbformat_minor": 2
}
