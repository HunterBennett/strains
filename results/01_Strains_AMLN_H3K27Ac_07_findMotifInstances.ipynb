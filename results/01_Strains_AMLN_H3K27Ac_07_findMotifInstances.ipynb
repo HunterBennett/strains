{
 "cells": [
  {
   "cell_type": "code",
   "execution_count": 1,
   "metadata": {},
   "outputs": [],
   "source": [
    "### header ###\n",
    "__author__ = \"Hunter Bennett\"\n",
    "__license__ = \"BSD\"\n",
    "__email__ = \"hunter.r.bennett@gmail.com\"\n",
    "%load_ext autoreload\n",
    "%autoreload 2\n",
    "### imports ###\n",
    "import sys\n",
    "%matplotlib inline\n",
    "import os\n",
    "import re\n",
    "import glob\n",
    "import pandas as pd\n",
    "import numpy as np\n",
    "import matplotlib\n",
    "import matplotlib.pyplot as plt \n",
    "import seaborn as sns\n",
    "matplotlib.rcParams['savefig.dpi'] = 200\n",
    "sns.set(font_scale=1)\n",
    "sns.set_context('talk')\n",
    "sns.set_style('white')\n",
    "\n",
    "# import custom functions\n",
    "import sys\n",
    "sys.path.insert(0, '/home/h1bennet/code/')\n",
    "from hbUtils import ngs_qc, quantile_normalize_df\n",
    "from plotting_scripts import label_point, pca_rpkm_mat, get_diff_volcano\n",
    "from homer_preprocessing import read_annotated_peaks, import_homer_diffpeak, pull_comparisons_get_diff\n",
    "from gene_expression_plots import survey_strain_amln_gene_exp, survey_strain_ccl4_gene_exp"
   ]
  },
  {
   "cell_type": "code",
   "execution_count": 2,
   "metadata": {},
   "outputs": [],
   "source": [
    "dataDirectory = ''\n",
    "workingDirectory = '/home/h1bennet/strains/results/01_Strains_AMLN_H3K27Ac/'\n",
    "if not os.path.isdir(workingDirectory):\n",
    "    os.mkdir(workingDirectory)\n",
    "os.chdir(workingDirectory)"
   ]
  },
  {
   "cell_type": "code",
   "execution_count": 3,
   "metadata": {},
   "outputs": [],
   "source": [
    "if not os.path.isdir('./motif_scanning/'):\n",
    "    os.mkdir('./motif_scanning/')"
   ]
  },
  {
   "cell_type": "code",
   "execution_count": 4,
   "metadata": {
    "scrolled": true
   },
   "outputs": [
    {
     "data": {
      "text/plain": [
       "array(['./motif_calling/00_c57_intersection_act_distal_peaks.txt',\n",
       "       './motif_calling/00_c57_intersection_act_peaks.txt',\n",
       "       './motif_calling/00_c57_union_act_distal_peaks.txt',\n",
       "       './motif_calling/00_c57_union_act_peaks.txt',\n",
       "       './motif_calling/01_balbc_intersection_act_distal_peaks.txt',\n",
       "       './motif_calling/01_balbc_intersection_act_peaks.txt',\n",
       "       './motif_calling/01_balbc_union_act_distal_peaks.txt',\n",
       "       './motif_calling/01_balbc_union_act_peaks.txt',\n",
       "       './motif_calling/02_aj_intersection_act_distal_peaks.txt',\n",
       "       './motif_calling/02_aj_intersection_act_peaks.txt',\n",
       "       './motif_calling/02_aj_union_act_distal_peaks.txt',\n",
       "       './motif_calling/02_aj_union_act_peaks.txt'], dtype='<U58')"
      ]
     },
     "execution_count": 4,
     "metadata": {},
     "output_type": "execute_result"
    }
   ],
   "source": [
    "np.sort(glob.glob('./motif_calling/*act*'))"
   ]
  },
  {
   "cell_type": "markdown",
   "metadata": {},
   "source": [
    "# Homer motifs can be found here:\n",
    "    /bioinformatics/homer/motifs   \n",
    "\n",
    "### Look for instances of the TFE3 motif in balb specific peaks\n",
    "\n",
    "    findMotifsGenome.pl ./motif_calling/01_balbc_intersection_act_peaks.txt \\\n",
    "    mm10 ./motif_scanning/ -find /bioinformatics/homer/motifs/tfe3.motif \\\n",
    "    > ./motif_scanning/01_balbc_intersection_act_peaks_TFE3.txt\n",
    "    \n",
    "    findMotifsGenome.pl ./motif_calling/01_balbc_intersection_act_peaks.txt \\\n",
    "    mm10 ./motif_scanning/ -find /bioinformatics/homer/motifs/mitf.motif \\\n",
    "    > ./motif_scanning/01_balbc_intersection_act_peaks_MITF.txt\n",
    "    \n",
    "    findMotifsGenome.pl ./motif_calling/00_c57_intersection_act_peaks.txt \\\n",
    "    mm10 ./motif_scanning/ -find /bioinformatics/homer/motifs/tfe3.motif \\\n",
    "    > ./motif_scanning/00_c57_intersection_act_peaks_TFE3.txt\n",
    "\n",
    "    findMotifsGenome.pl ./motif_calling/00_c57_intersection_act_peaks.txt \\\n",
    "    mm10 ./motif_scanning/ -find /bioinformatics/homer/motifs/mitf.motif \\\n",
    "    > ./motif_scanning/00_c57_intersection_act_peaks_MITF.txt\n",
    "    \n",
    "### Annotate peaks style\n",
    "\n",
    "    annotatePeaks.pl ./motif_calling/01_balbc_intersection_act_peaks.txt \\\n",
    "    mm10 -m /bioinformatics/homer/motifs/tfe3.motif \\\n",
    "    > ./motif_scanning/01_balbc_intersection_act_peaks_annoTFE3.txt\n",
    "    \n",
    "    annotatePeaks.pl ./motif_calling/01_balbc_intersection_act_peaks.txt \\\n",
    "    mm10 -m /bioinformatics/homer/motifs/mitf.motif \\\n",
    "    > ./motif_scanning/01_balbc_intersection_act_peaks_annoMITF.txt\n",
    "    \n",
    "    annotatePeaks.pl ./motif_calling/00_c57_intersection_act_peaks.txt \\\n",
    "    mm10 -m /bioinformatics/homer/motifs/tfe3.motif \\\n",
    "    > ./motif_scanning/00_c57_intersection_act_peaks_annoTFE3.txt\n",
    "    \n",
    "    annotatePeaks.pl ./motif_calling/00_c57_intersection_act_peaks.txt \\\n",
    "    mm10 -m /bioinformatics/homer/motifs/mitf.motif \\\n",
    "    > ./motif_scanning/00_c57_intersection_act_peaks_annoMITF.txt"
   ]
  },
  {
   "cell_type": "markdown",
   "metadata": {},
   "source": [
    "### Look for instances of strain mutations in balb specific peaks\n",
    "\n",
    "    MMARGE.pl annotate_mutations -file ./motif_scanning/01_balbc_intersection_act_peaks_annoMITF.txt \\\n",
    "    -ind balbcj, aj\n",
    "    \n",
    "    MMARGE.pl annotate_mutations -file ./motif_scanning/00_c57_intersection_act_peaks_annoMITF.txt \\\n",
    "    -ind balbcj, aj"
   ]
  },
  {
   "cell_type": "markdown",
   "metadata": {},
   "source": [
    "### Extract sequences from promising areas of genome"
   ]
  },
  {
   "cell_type": "code",
   "execution_count": 6,
   "metadata": {},
   "outputs": [],
   "source": [
    "if not os.path.isdir('./motif_sequences/'):\n",
    "    os.mkdir('./motif_sequences/')"
   ]
  },
  {
   "cell_type": "markdown",
   "metadata": {},
   "source": [
    "    MMARGE.pl extract_sequences -file ./motif_scanning/01_balbc_intersection_act_peaks_annoMITF.txt \\\n",
    "    -ind c57bl6j balbcj aj\n",
    "    \n",
    "    mv sequences.txt ./motif_sequences/01_balbc_intersection_act_peaks_sequences.txt"
   ]
  },
  {
   "cell_type": "code",
   "execution_count": null,
   "metadata": {},
   "outputs": [],
   "source": []
  }
 ],
 "metadata": {
  "kernelspec": {
   "display_name": "dataviz",
   "language": "python",
   "name": "dataviz"
  },
  "language_info": {
   "codemirror_mode": {
    "name": "ipython",
    "version": 3
   },
   "file_extension": ".py",
   "mimetype": "text/x-python",
   "name": "python",
   "nbconvert_exporter": "python",
   "pygments_lexer": "ipython3",
   "version": "3.7.5"
  }
 },
 "nbformat": 4,
 "nbformat_minor": 2
}
