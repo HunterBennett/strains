{
 "cells": [
  {
   "cell_type": "markdown",
   "metadata": {},
   "source": [
    "Hunter Bennett | Glass Lab | Kupffer Strains Project | April 27 2021  \n",
    "\n",
    "This series of notebooks is for manuscript preparation of \"final\" figures for import into Adobe Illustrator.\n",
    "\n",
    "This notebook in particular prepares the ATAC and H3K27Ac scatter plots as one large figure."
   ]
  },
  {
   "cell_type": "code",
   "execution_count": 2,
   "metadata": {},
   "outputs": [],
   "source": [
    "### header ###\n",
    "__author__ = \"Hunter Bennett\"\n",
    "__license__ = \"BSD\"\n",
    "__email__ = \"hunter.r.bennett@gmail.com\"\n",
    "%load_ext autoreload\n",
    "%autoreload 2\n",
    "### imports ###\n",
    "import sys\n",
    "%matplotlib inline\n",
    "import os\n",
    "import re\n",
    "import glob\n",
    "import pandas as pd\n",
    "import numpy as np\n",
    "import matplotlib\n",
    "import matplotlib.pyplot as plt \n",
    "import seaborn as sns\n",
    "\n",
    "# import custom functions\n",
    "import sys\n",
    "sys.path.insert(0, '/home/h1bennet/code/')\n",
    "from hbUtils import ngs_qc, quantile_normalize_df\n",
    "from plotting_scripts import label_point, pca_rpkm_mat, get_diff_volcano\n",
    "from homer_preprocessing import read_annotated_peaks, import_homer_diffpeak, pull_comparisons_get_diff"
   ]
  },
  {
   "cell_type": "code",
   "execution_count": 3,
   "metadata": {},
   "outputs": [],
   "source": [
    "#### PLOTTING PARAMETERS FOR MANUSCRIPT ####\n",
    "# # get matplotlib to save readable fonts\n",
    "matplotlib.rcParams['pdf.fonttype'] = 42\n",
    "matplotlib.rcParams['ps.fonttype'] = 42\n",
    "matplotlib.rcParams['font.size'] = 6\n",
    "matplotlib.rcParams['savefig.dpi'] = 500\n",
    "\n",
    "# line widths\n",
    "matplotlib.rcParams['axes.linewidth'] = 1\n",
    "matplotlib.rcParams['xtick.major.width'] = 1\n",
    "matplotlib.rcParams['ytick.major.width'] = 1\n",
    "\n",
    "# adjust defualt color for plots to black\n",
    "# normal default is a dark gray\n",
    "COLOR = 'black'\n",
    "matplotlib.rcParams['text.color'] = COLOR\n",
    "matplotlib.rcParams['axes.labelcolor'] = COLOR\n",
    "matplotlib.rcParams['xtick.color'] = COLOR\n",
    "matplotlib.rcParams['ytick.color'] = COLOR\n",
    "matplotlib.rcParams['axes.edgecolor'] = COLOR\n",
    "\n",
    "#### PLOT PARAMETERS FOR THIS PLOT ####"
   ]
  },
  {
   "cell_type": "code",
   "execution_count": 4,
   "metadata": {},
   "outputs": [],
   "source": [
    "atacDirectory = '/home/h1bennet/strains/results/06_Strains_Control_Cohort2_ATAC/'\n",
    "h3k27acDirectory = '/home/h1bennet/strains/results/06b_Strains_Control_Combined_H3K27Ac/'\n",
    "workingDirectory = '/home/h1bennet/strains/results/10_Strains_Manuscript_Prep/'\n",
    "if not os.path.isdir(workingDirectory):\n",
    "    os.mkdir(workingDirectory)\n",
    "os.chdir(workingDirectory)"
   ]
  },
  {
   "cell_type": "markdown",
   "metadata": {},
   "source": [
    "# Make folder for these figures"
   ]
  },
  {
   "cell_type": "code",
   "execution_count": 6,
   "metadata": {},
   "outputs": [],
   "source": [
    "if not os.path.isdir('./epigenetic_scatter_figure/'):\n",
    "    os.mkdir('./epigenetic_scatter_figure/')"
   ]
  },
  {
   "cell_type": "markdown",
   "metadata": {},
   "source": [
    "# Import strains rna-seq data"
   ]
  },
  {
   "cell_type": "code",
   "execution_count": null,
   "metadata": {},
   "outputs": [],
   "source": [
    "tpm_mat_control = pd.read_csv('/home/ttroutman/strainsKupffer/rnaKupfferNASH/rnaQuan/rawT.txt',\n",
    "                      sep='\\t', index_col=0)\n",
    "tpm_mat = tpm_mat.loc[:, tpm_mat.columns.str.contains('control')]"
   ]
  },
  {
   "cell_type": "markdown",
   "metadata": {},
   "source": [
    "### Import differential peaks for h3k27ac and atac"
   ]
  },
  {
   "cell_type": "code",
   "execution_count": 16,
   "metadata": {
    "scrolled": true
   },
   "outputs": [
    {
     "name": "stdout",
     "output_type": "stream",
     "text": [
      "annotatePeaks all peaks (86301, 30)\n",
      "getDiffExpression selected transcripts (84264, 39)\n",
      "annotatePeaks selected peaks (84264, 30)\n"
     ]
    }
   ],
   "source": [
    "atac_diff_peak, atac_peaks, atac_peak_mat, atac_peak_mat_quant = import_homer_diffpeak(\n",
    "    atacDirectory+'/merged_peaks/diff_output.txt',\n",
    "    atacDirectory+'/merged_peaks/ann_norm_idr_peaks_merged.txt')"
   ]
  },
  {
   "cell_type": "code",
   "execution_count": 17,
   "metadata": {},
   "outputs": [],
   "source": [
    "atac_comp_dict = pull_comparisons_get_diff(atac_diff_peak, seq_type='Peak')"
   ]
  },
  {
   "cell_type": "code",
   "execution_count": 18,
   "metadata": {},
   "outputs": [
    {
     "name": "stdout",
     "output_type": "stream",
     "text": [
      "annotatePeaks all peaks (86301, 27)\n",
      "getDiffExpression selected transcripts (84264, 36)\n",
      "annotatePeaks selected peaks (84264, 27)\n"
     ]
    }
   ],
   "source": [
    "h3k27ac_diff_peak, h3k27ac_peaks, h3k27ac_peak_mat, h3k27ac_peak_mat_quant = import_homer_diffpeak(\n",
    "    h3k27acDirectory+'/merged_peaks/diff_output.txt',\n",
    "    h3k27acDirectory+'/merged_peaks/ann_norm_kc_control_atac_peaks_all.txt')"
   ]
  },
  {
   "cell_type": "code",
   "execution_count": 19,
   "metadata": {},
   "outputs": [],
   "source": [
    "h3k27ac_comp_dict = pull_comparisons_get_diff(h3k27ac_diff_peak, seq_type='Peak')"
   ]
  },
  {
   "cell_type": "markdown",
   "metadata": {},
   "source": [
    "# Set parameters that don't change throughout plotting"
   ]
  },
  {
   "cell_type": "code",
   "execution_count": 20,
   "metadata": {},
   "outputs": [],
   "source": [
    "comps = ['aj vs. balbcj',\n",
    "         'aj vs. c57bl6j',\n",
    "         'balbcj vs. c57bl6j']\n",
    "\n",
    "labels = [['A/J\\nlog2(tag counts + 1)', 'BALB/cJ\\nlog2(tag counts + 1)'],\n",
    "          ['A/J\\nlog2(tag counts + 1)', 'C57BL/6J\\nlog2(tag counts + 1)'],\n",
    "          ['BALB/cJ\\nlog2(tag counts + 1)', 'C57BL/6J\\nlog2(tag counts + 1)']]\n",
    "\n",
    "h3k27ac_groups = [[[0,1,2],[3,4,5]],\n",
    "                  [[0,1,2],[6,7,8]],\n",
    "                  [[3,4,5],[6,7,8]]]\n",
    "\n",
    "atac_groups = [[[0,1,2,3],[4,5,6,7]],\n",
    "               [[0,1,2,3],[8,9,10,11]],\n",
    "               [[4,5,6,7],[8,9,10,11]]]\n",
    "\n",
    "h3k27ac_cols = []\n",
    "for i in h3k27ac_groups:\n",
    "    subcols = []\n",
    "    for j in i:\n",
    "        subcols.extend([k for k in j])\n",
    "    h3k27ac_cols.append(subcols)\n",
    "    \n",
    "atac_cols = []\n",
    "for i in atac_groups:\n",
    "    subcols = []\n",
    "    for j in i:\n",
    "        subcols.extend([k for k in j])\n",
    "    atac_cols.append(subcols)\n",
    "\n",
    "# set plotting thresholds\n",
    "pthresh = 0.05\n",
    "lfcthresh = (1,2)\n",
    "dotsize = 0.5\n",
    "ax_max = 16\n",
    "n_yticks = 5\n",
    "ytickstep = 3\n",
    "ticklabel_font_size = 6\n",
    "label_font_size  = 6"
   ]
  },
  {
   "cell_type": "code",
   "execution_count": 21,
   "metadata": {},
   "outputs": [],
   "source": [
    "colors = [['#636363', '#de2d26'],\n",
    "          ['#636363', '#de2d26'],\n",
    "          ['#636363', '#de2d26']]\n",
    "\n",
    "filename='diffpeak_scatter_onethresh_onecolor_rasterize.pdf'"
   ]
  },
  {
   "cell_type": "code",
   "execution_count": 22,
   "metadata": {},
   "outputs": [],
   "source": [
    "mm_conv = 25.4"
   ]
  },
  {
   "cell_type": "code",
   "execution_count": 33,
   "metadata": {},
   "outputs": [
    {
     "data": {
      "image/png": "[encoded data removed]",
      "text/plain": [
       "<Figure size 340.157x226.772 with 6 Axes>"
      ]
     },
     "metadata": {},
     "output_type": "display_data"
    }
   ],
   "source": [
    "fig, axs = plt.subplots(2,3, figsize=(120/mm_conv,80/mm_conv))\n",
    "plt.subplots_adjust(wspace=0.6, hspace=0.6)\n",
    "\n",
    "peak_mat = atac_peak_mat\n",
    "comp_dict = atac_comp_dict\n",
    "groups = atac_groups\n",
    "cols = atac_cols\n",
    "\n",
    "for key, col, group, labs, color, ax in zip(comps, cols, groups, labels, colors, axs.reshape(-1)[:3]):\n",
    "\n",
    "    de = comp_dict[key]\n",
    "    de['logtpm'] = np.log2(peak_mat.iloc[:, col].mean(1)+1)\n",
    "    de['log10p'] = -np.log10(de.adj_pval + 10**(-50))\n",
    "    de['g0_mean'] = np.log2(peak_mat.iloc[:, group[0]].mean(1)+1)\n",
    "    de['g1_mean'] = np.log2(peak_mat.iloc[:, group[1]].mean(1)+1)\n",
    "       \n",
    "    # plot group by group scatter:\n",
    "    de_nonsig = de.reindex(de.index[de.adj_pval >= pthresh])\n",
    "    de_sig_fc1 = de.reindex(de.index[(de.adj_pval < pthresh) & (np.abs(de.log2fc) >= lfcthresh[0])])\n",
    "    \n",
    "    for df, c in zip([de_nonsig, de_sig_fc1],\n",
    "                     color):\n",
    "        ax.scatter(\n",
    "            x=df.g0_mean,\n",
    "            y=df.g1_mean,\n",
    "            c=c,\n",
    "            s=dotsize,\n",
    "            rasterized=True)\n",
    "        \n",
    "    # Hide the right and top spines\n",
    "    ax.spines['right'].set_visible(False)\n",
    "    ax.spines['top'].set_visible(False)\n",
    "     \n",
    "    # set axis labels\n",
    "    ax.set_xlabel(labs[0], fontsize=label_font_size)\n",
    "    ax.set_ylabel(labs[1], fontsize=label_font_size)\n",
    "    \n",
    "    #set max and min\n",
    "    ax.set_xlim([0,ax_max])\n",
    "    ax.set_ylim([0,ax_max])\n",
    "    \n",
    "    # set ticks\n",
    "    ax.set_xticks(np.arange(0,ax_max,ytickstep))\n",
    "    ax.set_xticklabels(np.arange(0,ax_max,ytickstep), fontsize=ticklabel_font_size)\n",
    "    ax.set_yticks(np.arange(0,ax_max,ytickstep))\n",
    "    ax.set_yticklabels(np.arange(0,ax_max,ytickstep), fontsize=ticklabel_font_size)\n",
    "    \n",
    "    \n",
    "    \n",
    "peak_mat = h3k27ac_peak_mat\n",
    "comp_dict = h3k27ac_comp_dict\n",
    "groups = h3k27ac_groups\n",
    "cols = h3k27ac_cols\n",
    "\n",
    "for key, col, group, labs, color, ax in zip(comps, cols, groups, labels, colors, axs.reshape(-1)[3:]):\n",
    "\n",
    "    de = comp_dict[key]\n",
    "    de['logtpm'] = np.log2(peak_mat.iloc[:, col].mean(1)+1)\n",
    "    de['log10p'] = -np.log10(de.adj_pval + 10**(-50))\n",
    "    de['g0_mean'] = np.log2(peak_mat.iloc[:, group[0]].mean(1)+1)\n",
    "    de['g1_mean'] = np.log2(peak_mat.iloc[:, group[1]].mean(1)+1)\n",
    "       \n",
    "    # plot group by group scatter:\n",
    "    de_nonsig = de.reindex(de.index[de.adj_pval >= pthresh])\n",
    "    de_sig_fc1 = de.reindex(de.index[(de.adj_pval < pthresh) & (np.abs(de.log2fc) >= lfcthresh[0])])\n",
    "    \n",
    "    for df, c in zip([de_nonsig, de_sig_fc1],\n",
    "                     color):\n",
    "        ax.scatter(\n",
    "            x=df.g0_mean,\n",
    "            y=df.g1_mean,\n",
    "            c=c,\n",
    "            s=dotsize,\n",
    "            rasterized=True)\n",
    "        \n",
    "    # Hide the right and top spines\n",
    "    ax.spines['right'].set_visible(False)\n",
    "    ax.spines['top'].set_visible(False)\n",
    "     \n",
    "    # set axis labels\n",
    "    ax.set_xlabel(labs[0], fontsize=label_font_size)\n",
    "    ax.set_ylabel(labs[1], fontsize=label_font_size)\n",
    "    \n",
    "    \n",
    "    #set max and min\n",
    "    ax.set_xlim([0,ax_max])\n",
    "    ax.set_ylim([0,ax_max])\n",
    "    \n",
    "    # set ticks\n",
    "    ax.set_xticks(np.arange(0,ax_max,ytickstep))\n",
    "    ax.set_xticklabels(np.arange(0,ax_max,ytickstep), fontsize=ticklabel_font_size)\n",
    "    ax.set_yticks(np.arange(0,ax_max,ytickstep))\n",
    "    ax.set_yticklabels(np.arange(0,ax_max,ytickstep), fontsize=ticklabel_font_size)\n",
    "    \n",
    "    \n",
    "plt.savefig('./epigenetic_scatter_figure/'+filename, bbox_inches='tight')\n",
    "# plt.close()"
   ]
  },
  {
   "cell_type": "code",
   "execution_count": null,
   "metadata": {},
   "outputs": [],
   "source": []
  }
 ],
 "metadata": {
  "kernelspec": {
   "display_name": "dataviz",
   "language": "python",
   "name": "dataviz"
  },
  "language_info": {
   "codemirror_mode": {
    "name": "ipython",
    "version": 3
   },
   "file_extension": ".py",
   "mimetype": "text/x-python",
   "name": "python",
   "nbconvert_exporter": "python",
   "pygments_lexer": "ipython3",
   "version": "3.7.5"
  }
 },
 "nbformat": 4,
 "nbformat_minor": 2
}
