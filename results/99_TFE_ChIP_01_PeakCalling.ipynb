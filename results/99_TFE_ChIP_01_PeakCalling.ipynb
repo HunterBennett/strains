{
 "cells": [
  {
   "cell_type": "markdown",
   "metadata": {},
   "source": [
    "Hunter Bennett | Glass Lab | Kupffer Strains Project | 25 Feb 2021  "
   ]
  },
  {
   "cell_type": "code",
   "execution_count": 109,
   "metadata": {},
   "outputs": [
    {
     "name": "stdout",
     "output_type": "stream",
     "text": [
      "The autoreload extension is already loaded. To reload it, use:\n",
      "  %reload_ext autoreload\n"
     ]
    }
   ],
   "source": [
    "### header ###\n",
    "__author__ = \"Hunter Bennett\"\n",
    "__license__ = \"BSD\"\n",
    "__email__ = \"hunter.r.bennett@gmail.com\"\n",
    "%load_ext autoreload\n",
    "%autoreload 2\n",
    "### imports ###\n",
    "import sys\n",
    "%matplotlib inline\n",
    "import os\n",
    "import re\n",
    "import glob\n",
    "import pandas as pd\n",
    "import numpy as np\n",
    "import matplotlib\n",
    "import matplotlib.pyplot as plt \n",
    "import seaborn as sns\n",
    "matplotlib.rcParams['savefig.dpi'] = 200\n",
    "sns.set(font_scale=1)\n",
    "sns.set_context('talk')\n",
    "sns.set_style('white')\n",
    "\n",
    "# import custom functions\n",
    "import sys\n",
    "sys.path.insert(0, '/home/h1bennet/code/')\n",
    "from hbUtils import ngs_qc, quantile_normalize_df\n",
    "from plotting_scripts import label_point, pca_rpkm_mat\n",
    "from homer_preprocessing import read_annotated_peaks"
   ]
  },
  {
   "cell_type": "markdown",
   "metadata": {},
   "source": [
    "# Set working directory"
   ]
  },
  {
   "cell_type": "code",
   "execution_count": 110,
   "metadata": {},
   "outputs": [],
   "source": [
    "dataDirectory = '/data/scratch/nspann/'\n",
    "inputDirectory = '/data/scratch/nspann/NJS_input_210204/tag_directories'\n",
    "workingDirectory = '/home/h1bennet/strains/results/99_TFE_Family_ChIP_PeakCalling_test'\n",
    "if not os.path.isdir(workingDirectory):\n",
    "    os.mkdir(workingDirectory)\n",
    "os.chdir(workingDirectory)\n"
   ]
  },
  {
   "cell_type": "markdown",
   "metadata": {},
   "source": [
    "# We will start by using O'young's script to get the IDR peaks for each condition\n",
    "____\n",
    "These are rather annoying to make in my opinion but for the sake of consistancy with Ty we will use these going forward. Their structure is as follows:\n",
    "* Column 1: Group ID\n",
    "* Column 2: Color for analysis\n",
    "* Column 3: absolute path to files on epiglass for each sample in group, separated by semicolon\n",
    "* Column 4: corresponding short name for each sample in group, separated by semicolon\n",
    "\n",
    "Colors\n",
    "* C57Bl6/J: #4daf4a\n",
    "* Balbc/J: #3773b8\n",
    "* AJ: #e41a1c\n",
    "\n",
    "The output of peakIDR.R includes many things, the main thing we use are the final .idr peak files for each group\n"
   ]
  },
  {
   "cell_type": "code",
   "execution_count": 111,
   "metadata": {},
   "outputs": [],
   "source": [
    "mitf_vv = np.sort(glob.glob(dataDirectory+'NJS_AM91201MTIF_210204/tag_directories/*veh*veh*'))\n",
    "mitf_vl = np.sort(glob.glob(dataDirectory+'NJS_AM91201MTIF_210204/tag_directories/*veh*LPS*'))\n",
    "mitf_vm = np.sort(glob.glob(dataDirectory+'NJS_AM91201MTIF_210204/tag_directories/*veh*MSU*'))\n",
    "mitf_jv = np.sort(glob.glob(dataDirectory+'NJS_AM91201MTIF_210204/tag_directories/*JNKin*veh*'))\n",
    "mitf_jl = np.sort(glob.glob(dataDirectory+'NJS_AM91201MTIF_210204/tag_directories/*JNKin*LPS*'))\n",
    "mitf_jm = np.sort(glob.glob(dataDirectory+'NJS_AM91201MTIF_210204/tag_directories/*JNKin*MSU*'))"
   ]
  },
  {
   "cell_type": "code",
   "execution_count": 112,
   "metadata": {},
   "outputs": [],
   "source": [
    "tfeb_vv = np.sort(glob.glob(dataDirectory+'NJS_mixTfeB_210204/tag_directories/*veh*veh*'))\n",
    "tfeb_vl = np.sort(glob.glob(dataDirectory+'NJS_mixTfeB_210204/tag_directories/*veh*LPS*'))\n",
    "tfeb_vm = np.sort(glob.glob(dataDirectory+'NJS_mixTfeB_210204/tag_directories/*veh*MSU*'))\n",
    "tfeb_jv = np.sort(glob.glob(dataDirectory+'NJS_mixTfeB_210204/tag_directories/*JNKin*veh*'))\n",
    "tfeb_jl = np.sort(glob.glob(dataDirectory+'NJS_mixTfeB_210204/tag_directories/*JNKin*LPS*'))\n",
    "tfeb_jm = np.sort(glob.glob(dataDirectory+'NJS_mixTfeB_210204/tag_directories/*JNKin*MSU*'))"
   ]
  },
  {
   "cell_type": "code",
   "execution_count": 113,
   "metadata": {},
   "outputs": [],
   "source": [
    "tfec_vv = np.sort(glob.glob(dataDirectory+'NJS_mixTfeC_210204/tag_directories/*veh*veh*'))\n",
    "tfec_vl = np.sort(glob.glob(dataDirectory+'NJS_mixTfeC_210204/tag_directories/*veh*LPS*'))\n",
    "tfec_vm = np.sort(glob.glob(dataDirectory+'NJS_mixTfeC_210204/tag_directories/*veh*MSU*'))\n",
    "tfec_jv = np.sort(glob.glob(dataDirectory+'NJS_mixTfeC_210204/tag_directories/*JNKin*veh*'))\n",
    "tfec_jl = np.sort(glob.glob(dataDirectory+'NJS_mixTfeC_210204/tag_directories/*JNKin*LPS*'))\n",
    "tfec_jm = np.sort(glob.glob(dataDirectory+'NJS_mixTfeC_210204/tag_directories/*JNKin*MSU*'))"
   ]
  },
  {
   "cell_type": "code",
   "execution_count": 114,
   "metadata": {},
   "outputs": [],
   "source": [
    "tfe3_vv = np.sort(glob.glob(dataDirectory+'NJS_mixTfe3_210204/tag_directories/*veh*veh*'))\n",
    "tfe3_vl = np.sort(glob.glob(dataDirectory+'NJS_mixTfe3_210204/tag_directories/*veh*LPS*'))\n",
    "tfe3_vm = np.sort(glob.glob(dataDirectory+'NJS_mixTfe3_210204/tag_directories/*veh*MSU*'))\n",
    "tfe3_jv = np.sort(glob.glob(dataDirectory+'NJS_mixTfe3_210204/tag_directories/*JNKin*veh*'))\n",
    "tfe3_jl = np.sort(glob.glob(dataDirectory+'NJS_mixTfe3_210204/tag_directories/*JNKin*LPS*'))\n",
    "tfe3_jm = np.sort(glob.glob(dataDirectory+'NJS_mixTfe3_210204/tag_directories/*JNKin*MSU*'))"
   ]
  },
  {
   "cell_type": "code",
   "execution_count": 115,
   "metadata": {},
   "outputs": [
    {
     "name": "stdout",
     "output_type": "stream",
     "text": [
      "mouse_C57Bl6_M_BMDM_RLNR1ChIP_input_JNKin_1h_LPS_5h_16i_NJS_l20210128_GCCGCAAC_TCATGTCT\r\n",
      "mouse_C57Bl6_M_BMDM_RLNR1ChIP_input_JNKin_1h_MSU_5h_13i_NJS_l20210128_TTATATCT_GTCTGCAC\r\n",
      "mouse_C57Bl6_M_BMDM_RLNR1ChIP_input_JNKin_1h_veh_1h_4i_NJS_l20210128_ACTGTATC_TGCTATTA\r\n",
      "mouse_C57Bl6_M_BMDM_RLNR1ChIP_input_veh_1h_LPS_5h_7i_NJS_l20210128_CTGTGGCG_CACTAGCC\r\n",
      "mouse_C57Bl6_M_BMDM_RLNR1ChIP_input_veh_1h_MSU_5h_10i_NJS_l20210128_TGTAATCA_AATCTCCA\r\n",
      "mouse_C57Bl6_M_BMDM_RLNR1ChIP_input_veh_1h_veh_5h_1i_NJS_l20210128_CTACCAGG_CAACTGAT\r\n"
     ]
    }
   ],
   "source": [
    "!ls /data/scratch/nspann/NJS_input_210204/tag_directories/"
   ]
  },
  {
   "cell_type": "code",
   "execution_count": 116,
   "metadata": {},
   "outputs": [],
   "source": [
    "paths = [';'.join(mitf_vv),\n",
    "         ';'.join(mitf_vl),\n",
    "         ';'.join(mitf_jv),\n",
    "         ';'.join(mitf_jl),\n",
    "         ';'.join(tfeb_vv),\n",
    "         ';'.join(tfeb_vl),\n",
    "         ';'.join(tfeb_jv),\n",
    "         ';'.join(tfeb_jl),\n",
    "#          ';'.join(tfec_vv),\n",
    "#          ';'.join(tfec_vl),\n",
    "#          ';'.join(tfec_jv),\n",
    "#          ';'.join(tfec_jl),\n",
    "         ';'.join(tfe3_vv),\n",
    "         ';'.join(tfe3_vl),\n",
    "         ';'.join(tfe3_jv),\n",
    "         ';'.join(tfe3_jl)]"
   ]
  },
  {
   "cell_type": "code",
   "execution_count": 117,
   "metadata": {},
   "outputs": [],
   "source": [
    "input_vv = inputDirectory+'/mouse_C57Bl6_M_BMDM_RLNR1ChIP_input_veh_1h_veh_5h_1i_NJS_l20210128_CTACCAGG_CAACTGAT'\n",
    "input_vl = inputDirectory+'/mouse_C57Bl6_M_BMDM_RLNR1ChIP_input_veh_1h_LPS_5h_7i_NJS_l20210128_CTGTGGCG_CACTAGCC'\n",
    "input_jv = inputDirectory+'/mouse_C57Bl6_M_BMDM_RLNR1ChIP_input_JNKin_1h_veh_1h_4i_NJS_l20210128_ACTGTATC_TGCTATTA'\n",
    "input_jl = inputDirectory+'/mouse_C57Bl6_M_BMDM_RLNR1ChIP_input_JNKin_1h_LPS_5h_16i_NJS_l20210128_GCCGCAAC_TCATGTCT'"
   ]
  },
  {
   "cell_type": "code",
   "execution_count": 118,
   "metadata": {},
   "outputs": [],
   "source": [
    "ids = ['mitf_bmdm_veh1h_veh5h',\n",
    "       'mitf_bmdm_veh1h_LPS5h',\n",
    "       'mitf_bmdm_JNKin1h_veh5h',\n",
    "       'mitf_bmdm_JNKin1h_LPS5h',\n",
    "       'tfeb_bmdm_veh1h_veh5h',\n",
    "       'tfeb_bmdm_veh1h_LPS5h',\n",
    "       'tfeb_bmdm_JNKin1h_veh5h',\n",
    "       'tfeb_bmdm_JNKin1h_LPS5h',\n",
    "#        'tfec_bmdm_veh1h_veh5h',\n",
    "#        'tfec_bmdm_veh1h_LPS5h',\n",
    "#        'tfec_bmdm_JNKin1h_veh5h',\n",
    "#        'tfec_bmdm_JNKin1h_LPS5h',\n",
    "       'tfe3_bmdm_veh1h_veh5h',\n",
    "       'tfe3_bmdm_veh1h_LPS5h',\n",
    "       'tfe3_bmdm_JNKin1h_veh5h',\n",
    "       'tfe3_bmdm_JNKin1h_LPS5h']\n",
    "\n",
    "#set colors iteratively\n",
    "n = 4\n",
    "cmaps = 'Reds', 'Blues', 'Greens'\n",
    "colors = []\n",
    "for c in cmaps:\n",
    "    cmap = matplotlib.cm.get_cmap(c)\n",
    "    for i in np.linspace(0.4, 0.9, num = n):\n",
    "        colors.append(matplotlib.colors.rgb2hex(cmap(i)))\n",
    "\n",
    "\n",
    "paths = [';'.join(mitf_vv),\n",
    "         ';'.join(mitf_vl),\n",
    "         ';'.join(mitf_jv),\n",
    "         ';'.join(mitf_jl),\n",
    "         ';'.join(tfeb_vv),\n",
    "         ';'.join(tfeb_vl),\n",
    "         ';'.join(tfeb_jv),\n",
    "         ';'.join(tfeb_jl),\n",
    "#          ';'.join(tfec_vv),\n",
    "#          ';'.join(tfec_vl),\n",
    "#          ';'.join(tfec_jv),\n",
    "#          ';'.join(tfec_jl),\n",
    "         ';'.join(tfe3_vv),\n",
    "         ';'.join(tfe3_vl),\n",
    "         ';'.join(tfe3_jv),\n",
    "         ';'.join(tfe3_jl)]\n",
    "\n",
    "inputs = [input_vv+';'+input_vv,\n",
    "          input_vl+';'+input_vl,\n",
    "          input_jv+';'+input_jv,\n",
    "          input_jl+';'+input_jl] * 3\n",
    "\n",
    "short_ids = ['%s_rep1;%s_rep2' % (i, i) for i in ids]"
   ]
  },
  {
   "cell_type": "code",
   "execution_count": 119,
   "metadata": {},
   "outputs": [],
   "source": [
    "pd.DataFrame([ids,colors,paths,short_ids,inputs]).T.to_csv('./sampleDef.txt',\n",
    "                                                    sep='\\t',\n",
    "                                                    header=False,\n",
    "                                                    index=False)"
   ]
  },
  {
   "cell_type": "markdown",
   "metadata": {},
   "source": [
    "Delete tfeb_bmdm_veh1h_veh5h since it only has one replicate.\n",
    "\n",
    "Run the following command in the\n",
    "\n",
    "    source activate r-ouyangPipe\n",
    "\n",
    "    peakIDR.R sampleDef.txt"
   ]
  },
  {
   "cell_type": "code",
   "execution_count": 121,
   "metadata": {},
   "outputs": [],
   "source": [
    "%%bash\n",
    "# if directories don't exist, create them\n",
    "if [ ! -d ./atac_peak_files/ ]; then mkdir ./atac_peak_files; fi\n",
    "# move IDR peaks into atac_peak_folder\n",
    "mv *bmdm*.idr ./atac_peak_files"
   ]
  },
  {
   "cell_type": "markdown",
   "metadata": {},
   "source": [
    "### Merge peaks"
   ]
  },
  {
   "cell_type": "code",
   "execution_count": 124,
   "metadata": {},
   "outputs": [],
   "source": [
    "if not os.path.isdir('./merged_peaks/'):\n",
    "    os.mkdir('./merged_peaks/')"
   ]
  },
  {
   "cell_type": "code",
   "execution_count": 125,
   "metadata": {},
   "outputs": [
    {
     "name": "stderr",
     "output_type": "stream",
     "text": [
      "\tMax distance to merge: direct overlap required (-d given)\n",
      "\tMerging peaks... \n",
      "\tComparing ./atac_peak_files/mitf_bmdm_JNKin1h_LPS5h.idr (11588 total) and ./atac_peak_files/mitf_bmdm_JNKin1h_LPS5h.idr (11588 total)\n",
      "\tComparing ./atac_peak_files/mitf_bmdm_JNKin1h_LPS5h.idr (11588 total) and ./atac_peak_files/mitf_bmdm_JNKin1h_veh5h.idr (16302 total)\n",
      "\tComparing ./atac_peak_files/mitf_bmdm_JNKin1h_LPS5h.idr (11588 total) and ./atac_peak_files/mitf_bmdm_veh1h_LPS5h.idr (21156 total)\n",
      "\tComparing ./atac_peak_files/mitf_bmdm_JNKin1h_LPS5h.idr (11588 total) and ./atac_peak_files/mitf_bmdm_veh1h_veh5h.idr (14446 total)\n",
      "\tComparing ./atac_peak_files/mitf_bmdm_JNKin1h_veh5h.idr (16302 total) and ./atac_peak_files/mitf_bmdm_JNKin1h_LPS5h.idr (11588 total)\n",
      "\tComparing ./atac_peak_files/mitf_bmdm_JNKin1h_veh5h.idr (16302 total) and ./atac_peak_files/mitf_bmdm_JNKin1h_veh5h.idr (16302 total)\n",
      "\tComparing ./atac_peak_files/mitf_bmdm_JNKin1h_veh5h.idr (16302 total) and ./atac_peak_files/mitf_bmdm_veh1h_LPS5h.idr (21156 total)\n",
      "\tComparing ./atac_peak_files/mitf_bmdm_JNKin1h_veh5h.idr (16302 total) and ./atac_peak_files/mitf_bmdm_veh1h_veh5h.idr (14446 total)\n",
      "\tComparing ./atac_peak_files/mitf_bmdm_veh1h_LPS5h.idr (21156 total) and ./atac_peak_files/mitf_bmdm_JNKin1h_LPS5h.idr (11588 total)\n",
      "\tComparing ./atac_peak_files/mitf_bmdm_veh1h_LPS5h.idr (21156 total) and ./atac_peak_files/mitf_bmdm_JNKin1h_veh5h.idr (16302 total)\n",
      "\tComparing ./atac_peak_files/mitf_bmdm_veh1h_LPS5h.idr (21156 total) and ./atac_peak_files/mitf_bmdm_veh1h_LPS5h.idr (21156 total)\n",
      "\tComparing ./atac_peak_files/mitf_bmdm_veh1h_LPS5h.idr (21156 total) and ./atac_peak_files/mitf_bmdm_veh1h_veh5h.idr (14446 total)\n",
      "\tComparing ./atac_peak_files/mitf_bmdm_veh1h_veh5h.idr (14446 total) and ./atac_peak_files/mitf_bmdm_JNKin1h_LPS5h.idr (11588 total)\n",
      "\tComparing ./atac_peak_files/mitf_bmdm_veh1h_veh5h.idr (14446 total) and ./atac_peak_files/mitf_bmdm_JNKin1h_veh5h.idr (16302 total)\n",
      "\tComparing ./atac_peak_files/mitf_bmdm_veh1h_veh5h.idr (14446 total) and ./atac_peak_files/mitf_bmdm_veh1h_LPS5h.idr (21156 total)\n",
      "\tComparing ./atac_peak_files/mitf_bmdm_veh1h_veh5h.idr (14446 total) and ./atac_peak_files/mitf_bmdm_veh1h_veh5h.idr (14446 total)\n",
      "\n",
      "./atac_peak_files/mitf_bmdm_JNKin1h_LPS5h.idr\t./atac_peak_files/mitf_bmdm_JNKin1h_veh5h.idr\t./atac_peak_files/mitf_bmdm_veh1h_LPS5h.idr\t./atac_peak_files/mitf_bmdm_veh1h_veh5h.idr\tTotal\tName\n",
      "\t\t\tX\t1768\t./atac_peak_files/mitf_bmdm_veh1h_veh5h.idr\n",
      "\t\tX\t\t6842\t./atac_peak_files/mitf_bmdm_veh1h_LPS5h.idr\n",
      "\t\tX\tX\t1052\t./atac_peak_files/mitf_bmdm_veh1h_LPS5h.idr|./atac_peak_files/mitf_bmdm_veh1h_veh5h.idr\n",
      "\tX\t\t\t2597\t./atac_peak_files/mitf_bmdm_JNKin1h_veh5h.idr\n",
      "\tX\t\tX\t1826\t./atac_peak_files/mitf_bmdm_JNKin1h_veh5h.idr|./atac_peak_files/mitf_bmdm_veh1h_veh5h.idr\n",
      "\tX\tX\t\t1385\t./atac_peak_files/mitf_bmdm_JNKin1h_veh5h.idr|./atac_peak_files/mitf_bmdm_veh1h_LPS5h.idr\n",
      "\tX\tX\tX\t2475\t./atac_peak_files/mitf_bmdm_JNKin1h_veh5h.idr|./atac_peak_files/mitf_bmdm_veh1h_LPS5h.idr|./atac_peak_files/mitf_bmdm_veh1h_veh5h.idr\n",
      "X\t\t\t\t996\t./atac_peak_files/mitf_bmdm_JNKin1h_LPS5h.idr\n",
      "X\t\t\tX\t205\t./atac_peak_files/mitf_bmdm_JNKin1h_LPS5h.idr|./atac_peak_files/mitf_bmdm_veh1h_veh5h.idr\n",
      "X\t\tX\t\t1772\t./atac_peak_files/mitf_bmdm_JNKin1h_LPS5h.idr|./atac_peak_files/mitf_bmdm_veh1h_LPS5h.idr\n",
      "X\t\tX\tX\t604\t./atac_peak_files/mitf_bmdm_JNKin1h_LPS5h.idr|./atac_peak_files/mitf_bmdm_veh1h_LPS5h.idr|./atac_peak_files/mitf_bmdm_veh1h_veh5h.idr\n",
      "X\tX\t\t\t336\t./atac_peak_files/mitf_bmdm_JNKin1h_LPS5h.idr|./atac_peak_files/mitf_bmdm_JNKin1h_veh5h.idr\n",
      "X\tX\t\tX\t658\t./atac_peak_files/mitf_bmdm_JNKin1h_LPS5h.idr|./atac_peak_files/mitf_bmdm_JNKin1h_veh5h.idr|./atac_peak_files/mitf_bmdm_veh1h_veh5h.idr\n",
      "X\tX\tX\t\t1177\t./atac_peak_files/mitf_bmdm_JNKin1h_LPS5h.idr|./atac_peak_files/mitf_bmdm_JNKin1h_veh5h.idr|./atac_peak_files/mitf_bmdm_veh1h_LPS5h.idr\n",
      "X\tX\tX\tX\t5832\t./atac_peak_files/mitf_bmdm_JNKin1h_LPS5h.idr|./atac_peak_files/mitf_bmdm_JNKin1h_veh5h.idr|./atac_peak_files/mitf_bmdm_veh1h_LPS5h.idr|./atac_peak_files/mitf_bmdm_veh1h_veh5h.idr\n",
      "\tMax distance to merge: direct overlap required (-d given)\n",
      "\tMerging peaks... \n",
      "\tComparing ./atac_peak_files/tfe3_bmdm_JNKin1h_LPS5h.idr (14244 total) and ./atac_peak_files/tfe3_bmdm_JNKin1h_LPS5h.idr (14244 total)\n",
      "\tComparing ./atac_peak_files/tfe3_bmdm_JNKin1h_LPS5h.idr (14244 total) and ./atac_peak_files/tfe3_bmdm_JNKin1h_veh5h.idr (20129 total)\n",
      "\tComparing ./atac_peak_files/tfe3_bmdm_JNKin1h_LPS5h.idr (14244 total) and ./atac_peak_files/tfe3_bmdm_veh1h_LPS5h.idr (15166 total)\n",
      "\tComparing ./atac_peak_files/tfe3_bmdm_JNKin1h_LPS5h.idr (14244 total) and ./atac_peak_files/tfe3_bmdm_veh1h_veh5h.idr (15835 total)\n",
      "\tComparing ./atac_peak_files/tfe3_bmdm_JNKin1h_veh5h.idr (20129 total) and ./atac_peak_files/tfe3_bmdm_JNKin1h_LPS5h.idr (14244 total)\n",
      "\tComparing ./atac_peak_files/tfe3_bmdm_JNKin1h_veh5h.idr (20129 total) and ./atac_peak_files/tfe3_bmdm_JNKin1h_veh5h.idr (20129 total)\n",
      "\tComparing ./atac_peak_files/tfe3_bmdm_JNKin1h_veh5h.idr (20129 total) and ./atac_peak_files/tfe3_bmdm_veh1h_LPS5h.idr (15166 total)\n",
      "\tComparing ./atac_peak_files/tfe3_bmdm_JNKin1h_veh5h.idr (20129 total) and ./atac_peak_files/tfe3_bmdm_veh1h_veh5h.idr (15835 total)\n",
      "\tComparing ./atac_peak_files/tfe3_bmdm_veh1h_LPS5h.idr (15166 total) and ./atac_peak_files/tfe3_bmdm_JNKin1h_LPS5h.idr (14244 total)\n",
      "\tComparing ./atac_peak_files/tfe3_bmdm_veh1h_LPS5h.idr (15166 total) and ./atac_peak_files/tfe3_bmdm_JNKin1h_veh5h.idr (20129 total)\n",
      "\tComparing ./atac_peak_files/tfe3_bmdm_veh1h_LPS5h.idr (15166 total) and ./atac_peak_files/tfe3_bmdm_veh1h_LPS5h.idr (15166 total)\n",
      "\tComparing ./atac_peak_files/tfe3_bmdm_veh1h_LPS5h.idr (15166 total) and ./atac_peak_files/tfe3_bmdm_veh1h_veh5h.idr (15835 total)\n",
      "\tComparing ./atac_peak_files/tfe3_bmdm_veh1h_veh5h.idr (15835 total) and ./atac_peak_files/tfe3_bmdm_JNKin1h_LPS5h.idr (14244 total)\n",
      "\tComparing ./atac_peak_files/tfe3_bmdm_veh1h_veh5h.idr (15835 total) and ./atac_peak_files/tfe3_bmdm_JNKin1h_veh5h.idr (20129 total)\n",
      "\tComparing ./atac_peak_files/tfe3_bmdm_veh1h_veh5h.idr (15835 total) and ./atac_peak_files/tfe3_bmdm_veh1h_LPS5h.idr (15166 total)\n",
      "\tComparing ./atac_peak_files/tfe3_bmdm_veh1h_veh5h.idr (15835 total) and ./atac_peak_files/tfe3_bmdm_veh1h_veh5h.idr (15835 total)\n",
      "\n",
      "./atac_peak_files/tfe3_bmdm_JNKin1h_LPS5h.idr\t./atac_peak_files/tfe3_bmdm_JNKin1h_veh5h.idr\t./atac_peak_files/tfe3_bmdm_veh1h_LPS5h.idr\t./atac_peak_files/tfe3_bmdm_veh1h_veh5h.idr\tTotal\tName\n",
      "\t\t\tX\t2126\t./atac_peak_files/tfe3_bmdm_veh1h_veh5h.idr\n",
      "\t\tX\t\t3428\t./atac_peak_files/tfe3_bmdm_veh1h_LPS5h.idr\n",
      "\t\tX\tX\t704\t./atac_peak_files/tfe3_bmdm_veh1h_LPS5h.idr|./atac_peak_files/tfe3_bmdm_veh1h_veh5h.idr\n",
      "\tX\t\t\t5373\t./atac_peak_files/tfe3_bmdm_JNKin1h_veh5h.idr\n",
      "\tX\t\tX\t2694\t./atac_peak_files/tfe3_bmdm_JNKin1h_veh5h.idr|./atac_peak_files/tfe3_bmdm_veh1h_veh5h.idr\n",
      "\tX\tX\t\t972\t./atac_peak_files/tfe3_bmdm_JNKin1h_veh5h.idr|./atac_peak_files/tfe3_bmdm_veh1h_LPS5h.idr\n",
      "\tX\tX\tX\t1822\t./atac_peak_files/tfe3_bmdm_JNKin1h_veh5h.idr|./atac_peak_files/tfe3_bmdm_veh1h_LPS5h.idr|./atac_peak_files/tfe3_bmdm_veh1h_veh5h.idr\n",
      "X\t\t\t\t2576\t./atac_peak_files/tfe3_bmdm_JNKin1h_LPS5h.idr\n",
      "X\t\t\tX\t534\t./atac_peak_files/tfe3_bmdm_JNKin1h_LPS5h.idr|./atac_peak_files/tfe3_bmdm_veh1h_veh5h.idr\n",
      "X\t\tX\t\t1255\t./atac_peak_files/tfe3_bmdm_JNKin1h_LPS5h.idr|./atac_peak_files/tfe3_bmdm_veh1h_LPS5h.idr\n",
      "X\t\tX\tX\t620\t./atac_peak_files/tfe3_bmdm_JNKin1h_LPS5h.idr|./atac_peak_files/tfe3_bmdm_veh1h_LPS5h.idr|./atac_peak_files/tfe3_bmdm_veh1h_veh5h.idr\n",
      "X\tX\t\t\t1103\t./atac_peak_files/tfe3_bmdm_JNKin1h_LPS5h.idr|./atac_peak_files/tfe3_bmdm_JNKin1h_veh5h.idr\n",
      "X\tX\t\tX\t1792\t./atac_peak_files/tfe3_bmdm_JNKin1h_LPS5h.idr|./atac_peak_files/tfe3_bmdm_JNKin1h_veh5h.idr|./atac_peak_files/tfe3_bmdm_veh1h_veh5h.idr\n",
      "X\tX\tX\t\t827\t./atac_peak_files/tfe3_bmdm_JNKin1h_LPS5h.idr|./atac_peak_files/tfe3_bmdm_JNKin1h_veh5h.idr|./atac_peak_files/tfe3_bmdm_veh1h_LPS5h.idr\n",
      "X\tX\tX\tX\t5533\t./atac_peak_files/tfe3_bmdm_JNKin1h_LPS5h.idr|./atac_peak_files/tfe3_bmdm_JNKin1h_veh5h.idr|./atac_peak_files/tfe3_bmdm_veh1h_LPS5h.idr|./atac_peak_files/tfe3_bmdm_veh1h_veh5h.idr\n",
      "\tMax distance to merge: direct overlap required (-d given)\n",
      "\tMerging peaks... \n",
      "\tComparing ./atac_peak_files/tfeb_bmdm_JNKin1h_LPS5h.idr (10985 total) and ./atac_peak_files/tfeb_bmdm_JNKin1h_LPS5h.idr (10985 total)\n",
      "\tComparing ./atac_peak_files/tfeb_bmdm_JNKin1h_LPS5h.idr (10985 total) and ./atac_peak_files/tfeb_bmdm_JNKin1h_veh5h.idr (15846 total)\n",
      "\tComparing ./atac_peak_files/tfeb_bmdm_JNKin1h_LPS5h.idr (10985 total) and ./atac_peak_files/tfeb_bmdm_veh1h_LPS5h.idr (12599 total)\n",
      "\tComparing ./atac_peak_files/tfeb_bmdm_JNKin1h_veh5h.idr (15846 total) and ./atac_peak_files/tfeb_bmdm_JNKin1h_LPS5h.idr (10985 total)\n",
      "\tComparing ./atac_peak_files/tfeb_bmdm_JNKin1h_veh5h.idr (15846 total) and ./atac_peak_files/tfeb_bmdm_JNKin1h_veh5h.idr (15846 total)\n",
      "\tComparing ./atac_peak_files/tfeb_bmdm_JNKin1h_veh5h.idr (15846 total) and ./atac_peak_files/tfeb_bmdm_veh1h_LPS5h.idr (12599 total)\n",
      "\tComparing ./atac_peak_files/tfeb_bmdm_veh1h_LPS5h.idr (12599 total) and ./atac_peak_files/tfeb_bmdm_JNKin1h_LPS5h.idr (10985 total)\n",
      "\tComparing ./atac_peak_files/tfeb_bmdm_veh1h_LPS5h.idr (12599 total) and ./atac_peak_files/tfeb_bmdm_JNKin1h_veh5h.idr (15846 total)\n",
      "\tComparing ./atac_peak_files/tfeb_bmdm_veh1h_LPS5h.idr (12599 total) and ./atac_peak_files/tfeb_bmdm_veh1h_LPS5h.idr (12599 total)\n",
      "\n",
      "./atac_peak_files/tfeb_bmdm_JNKin1h_LPS5h.idr\t./atac_peak_files/tfeb_bmdm_JNKin1h_veh5h.idr\t./atac_peak_files/tfeb_bmdm_veh1h_LPS5h.idr\tTotal\tName\n",
      "\t\tX\t3864\t./atac_peak_files/tfeb_bmdm_veh1h_LPS5h.idr\n",
      "\tX\t\t6885\t./atac_peak_files/tfeb_bmdm_JNKin1h_veh5h.idr\n",
      "\tX\tX\t2361\t./atac_peak_files/tfeb_bmdm_JNKin1h_veh5h.idr|./atac_peak_files/tfeb_bmdm_veh1h_LPS5h.idr\n",
      "X\t\t\t2579\t./atac_peak_files/tfeb_bmdm_JNKin1h_LPS5h.idr\n",
      "X\t\tX\t1786\t./atac_peak_files/tfeb_bmdm_JNKin1h_LPS5h.idr|./atac_peak_files/tfeb_bmdm_veh1h_LPS5h.idr\n",
      "X\tX\t\t2017\t./atac_peak_files/tfeb_bmdm_JNKin1h_LPS5h.idr|./atac_peak_files/tfeb_bmdm_JNKin1h_veh5h.idr\n",
      "X\tX\tX\t4547\t./atac_peak_files/tfeb_bmdm_JNKin1h_LPS5h.idr|./atac_peak_files/tfeb_bmdm_JNKin1h_veh5h.idr|./atac_peak_files/tfeb_bmdm_veh1h_LPS5h.idr\n"
     ]
    }
   ],
   "source": [
    "%%bash\n",
    "if [ ! -d ./merged_peaks/ ]; then mkdir ./merged_peaks; fi\n",
    "\n",
    "mergePeaks -d given ./atac_peak_files/mitf_bmdm* > ./merged_peaks/mitf_bmdm_merged.txt\n",
    "mergePeaks -d given ./atac_peak_files/tfe3_bmdm* > ./merged_peaks/tfe3_bmdm_merged.txt\n",
    "mergePeaks -d given ./atac_peak_files/tfeb_bmdm* > ./merged_peaks/tfeb_bmdm_merged.txt"
   ]
  },
  {
   "cell_type": "code",
   "execution_count": null,
   "metadata": {},
   "outputs": [],
   "source": []
  }
 ],
 "metadata": {
  "kernelspec": {
   "display_name": "dataviz",
   "language": "python",
   "name": "dataviz"
  },
  "language_info": {
   "codemirror_mode": {
    "name": "ipython",
    "version": 3
   },
   "file_extension": ".py",
   "mimetype": "text/x-python",
   "name": "python",
   "nbconvert_exporter": "python",
   "pygments_lexer": "ipython3",
   "version": "3.7.5"
  }
 },
 "nbformat": 4,
 "nbformat_minor": 2
}
