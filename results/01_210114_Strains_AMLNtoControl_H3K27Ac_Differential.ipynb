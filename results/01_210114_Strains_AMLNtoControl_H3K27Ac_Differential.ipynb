{
 "cells": [
  {
   "cell_type": "code",
   "execution_count": 1,
   "metadata": {},
   "outputs": [],
   "source": [
    "### header ###\n",
    "__author__ = \"Hunter Bennett\"\n",
    "__license__ = \"BSD\"\n",
    "__email__ = \"hunter.r.bennett@gmail.com\"\n",
    "%load_ext autoreload\n",
    "%autoreload 2\n",
    "### imports ###\n",
    "import sys\n",
    "%matplotlib inline\n",
    "import os\n",
    "import re\n",
    "import glob\n",
    "import pandas as pd\n",
    "import numpy as np\n",
    "import matplotlib\n",
    "import matplotlib.pyplot as plt \n",
    "import seaborn as sns\n",
    "matplotlib.rcParams['savefig.dpi'] = 200\n",
    "sns.set(font_scale=1)\n",
    "sns.set_context('talk')\n",
    "sns.set_style('white')\n",
    "\n",
    "# import custom functions\n",
    "import sys\n",
    "sys.path.insert(0, '/home/h1bennet/code/')\n",
    "from hbUtils import ngs_qc, quantile_normalize_df\n",
    "from plotting_scripts import label_point, pca_rpkm_mat, get_diff_volcano\n",
    "from homer_preprocessing import read_annotated_peaks, import_homer_diffpeak, pull_comparisons_get_diff"
   ]
  },
  {
   "cell_type": "code",
   "execution_count": 2,
   "metadata": {},
   "outputs": [],
   "source": [
    "dataDirectory = ''\n",
    "workingDirectory = '/home/h1bennet/strains/results/01_Strains_AMLNtoControl_H3K27Ac/'\n",
    "if not os.path.isdir(workingDirectory):\n",
    "    os.mkdir(workingDirectory)\n",
    "os.chdir(workingDirectory)"
   ]
  },
  {
   "cell_type": "markdown",
   "metadata": {},
   "source": [
    "### Read in raw gene expression files"
   ]
  },
  {
   "cell_type": "markdown",
   "metadata": {},
   "source": [
    "write raw peak files for each strain"
   ]
  },
  {
   "cell_type": "code",
   "execution_count": 3,
   "metadata": {},
   "outputs": [],
   "source": [
    "best_reps = [\n",
    "    '00_C57_Kupffer_H3K27Ac_control_young_C571A_170915',\n",
    "    '00_C57_Kupffer_H3K27Ac_control_young_C572A_180423',\n",
    "    '01_balbc_Kupffer_H3K27Ac_control_young_Balb10ABC_170915',\n",
    "    '01_balbc_Kupffer_H3K27Ac_control_young_Balb11AB_170915',\n",
    "    '02_aj_Kupffer_H3K27Ac_control_young_AJ10ABC_161208',\n",
    "    '02_aj_Kupffer_H3K27Ac_control_young_AJ11AB_161208',\n",
    "    '00_C57_Kupffer_H3K27Ac_AMLNDiet_20weeks_C579A_180423',\n",
    "    '00_C57_Kupffer_H3K27Ac_AMLNDiet_20weeks_C579C_180423',\n",
    "    '01_balbc_Kupffer_H3K27Ac_AMLNDiet_30weeks_Balb14D_180423',\n",
    "    '01_balbc_Kupffer_H3K27Ac_AMLNDiet_30weeks_Balb6AB_180423',\n",
    "    '02_aj_Kupffer_H3K27Ac_AMLNDiet_30weeks_AJ15B_180423',\n",
    "    '02_aj_Kupffer_H3K27Ac_AMLNDiet_30weeks_AJ6A_180423']"
   ]
  },
  {
   "cell_type": "code",
   "execution_count": 4,
   "metadata": {},
   "outputs": [],
   "source": [
    "df, mat = read_annotated_peaks('./ann_raw_kc_amln_atac_peaks_all.txt')"
   ]
  },
  {
   "cell_type": "markdown",
   "metadata": {},
   "source": [
    "Check that we are selecting the proper samples and the column order since we need this info for running get diff expressssion."
   ]
  },
  {
   "cell_type": "code",
   "execution_count": 5,
   "metadata": {},
   "outputs": [
    {
     "name": "stdout",
     "output_type": "stream",
     "text": [
      "C57\n",
      "Index(['Chr', 'Start', 'End', 'Strand', 'Peak Score',\n",
      "       'Focus Ratio/Region Size', 'Annotation', 'Detailed Annotation',\n",
      "       'Distance to TSS', 'Nearest PromoterID', 'Entrez ID', 'Nearest Unigene',\n",
      "       'Nearest Refseq', 'Nearest Ensembl', 'Gene Name', 'Gene Alias',\n",
      "       'Gene Description', 'Gene Type',\n",
      "       '/gpfs/data01/glasslab/home/h1bennet/strains/data/H3K27Ac/control/00_C57_Kupffer_H3K27Ac_control_young_C571A_170915',\n",
      "       '/gpfs/data01/glasslab/home/h1bennet/strains/data/H3K27Ac/control/00_C57_Kupffer_H3K27Ac_control_young_C572A_180423',\n",
      "       '/gpfs/data01/glasslab/home/h1bennet/strains/data/H3K27Ac/AMLN_30week/00_C57_Kupffer_H3K27Ac_AMLNDiet_20weeks_C579A_180423',\n",
      "       '/gpfs/data01/glasslab/home/h1bennet/strains/data/H3K27Ac/AMLN_30week/00_C57_Kupffer_H3K27Ac_AMLNDiet_20weeks_C579C_180423'],\n",
      "      dtype='object')\n",
      "balbc\n",
      "Index(['Chr', 'Start', 'End', 'Strand', 'Peak Score',\n",
      "       'Focus Ratio/Region Size', 'Annotation', 'Detailed Annotation',\n",
      "       'Distance to TSS', 'Nearest PromoterID', 'Entrez ID', 'Nearest Unigene',\n",
      "       'Nearest Refseq', 'Nearest Ensembl', 'Gene Name', 'Gene Alias',\n",
      "       'Gene Description', 'Gene Type',\n",
      "       '/gpfs/data01/glasslab/home/h1bennet/strains/data/H3K27Ac/control/01_balbc_Kupffer_H3K27Ac_control_young_Balb10ABC_170915',\n",
      "       '/gpfs/data01/glasslab/home/h1bennet/strains/data/H3K27Ac/control/01_balbc_Kupffer_H3K27Ac_control_young_Balb11AB_170915',\n",
      "       '/gpfs/data01/glasslab/home/h1bennet/strains/data/H3K27Ac/AMLN_30week/01_balbc_Kupffer_H3K27Ac_AMLNDiet_30weeks_Balb14D_180423',\n",
      "       '/gpfs/data01/glasslab/home/h1bennet/strains/data/H3K27Ac/AMLN_30week/01_balbc_Kupffer_H3K27Ac_AMLNDiet_30weeks_Balb6AB_180423'],\n",
      "      dtype='object')\n",
      "aj\n",
      "Index(['Chr', 'Start', 'End', 'Strand', 'Peak Score',\n",
      "       'Focus Ratio/Region Size', 'Annotation', 'Detailed Annotation',\n",
      "       'Distance to TSS', 'Nearest PromoterID', 'Entrez ID', 'Nearest Unigene',\n",
      "       'Nearest Refseq', 'Nearest Ensembl', 'Gene Name', 'Gene Alias',\n",
      "       'Gene Description', 'Gene Type',\n",
      "       '/gpfs/data01/glasslab/home/h1bennet/strains/data/H3K27Ac/control/02_aj_Kupffer_H3K27Ac_control_young_AJ10ABC_161208',\n",
      "       '/gpfs/data01/glasslab/home/h1bennet/strains/data/H3K27Ac/control/02_aj_Kupffer_H3K27Ac_control_young_AJ11AB_161208',\n",
      "       '/gpfs/data01/glasslab/home/h1bennet/strains/data/H3K27Ac/AMLN_30week/02_aj_Kupffer_H3K27Ac_AMLNDiet_30weeks_AJ15B_180423',\n",
      "       '/gpfs/data01/glasslab/home/h1bennet/strains/data/H3K27Ac/AMLN_30week/02_aj_Kupffer_H3K27Ac_AMLNDiet_30weeks_AJ6A_180423'],\n",
      "      dtype='object')\n"
     ]
    }
   ],
   "source": [
    "strains = ['C57', 'balbc', 'aj']\n",
    "df, mat = read_annotated_peaks('./ann_raw_kc_amln_atac_peaks_all.txt')\n",
    "df.index.rename('PeakID')\n",
    "# drop bad qc samples\n",
    "tst = np.append(np.asarray([True]*18, 'bool'), mat.columns.str.contains('|'.join(best_reps)))\n",
    "df = df.loc[:, tst]\n",
    "mat = mat.loc[:, mat.columns.str.contains('|'.join(best_reps))]\n",
    "\n",
    "for strain in strains:\n",
    "    print(strain)\n",
    "    # pull out selected strain\n",
    "    tst = np.append(np.asarray([True]*18, 'bool'), mat.columns.str.contains(strain))\n",
    "    # print(tst)\n",
    "    tmp = df.loc[:, tst]\n",
    "    print(tmp.columns)\n",
    "    tmp.to_csv('./'+strain+'_ann_raw_kc_amln_atac_peaks_all.txt', sep='\\t')"
   ]
  },
  {
   "cell_type": "markdown",
   "metadata": {},
   "source": [
    "#### Run getDifferentialExpression for all samples"
   ]
  },
  {
   "cell_type": "code",
   "execution_count": 6,
   "metadata": {
    "scrolled": true
   },
   "outputs": [],
   "source": [
    "# %%bash\n",
    "# source activate deseq_36\n",
    "# getDiffExpression.pl ./C57_ann_raw_kc_amln_atac_peaks_all.txt \\\n",
    "# 00_c57_control 00_c57_control \\\n",
    "# 01_c57_amln 01_c57_amln \\\n",
    "# -peaks > ./C57_diff_output.txt\n"
   ]
  },
  {
   "cell_type": "code",
   "execution_count": 7,
   "metadata": {},
   "outputs": [],
   "source": [
    "# %%bash\n",
    "# source activate deseq_36\n",
    "# getDiffExpression.pl ./balbc_ann_raw_kc_amln_atac_peaks_all.txt \\\n",
    "# 00_balbc_control 00_balbc_control \\\n",
    "# 01_balbc_amln 01_balbc_amln \\\n",
    "# -peaks > ./balbc_diff_output.txt"
   ]
  },
  {
   "cell_type": "code",
   "execution_count": 8,
   "metadata": {},
   "outputs": [],
   "source": [
    "# %%bash\n",
    "# source activate deseq_36\n",
    "# getDiffExpression.pl ./aj_ann_raw_kc_amln_atac_peaks_all.txt \\\n",
    "# 00_aj_control 00_aj_control \\\n",
    "# 00_aj_amln 00_aj_amln \\\n",
    "# -peaks > ./aj_diff_output.txt"
   ]
  },
  {
   "cell_type": "markdown",
   "metadata": {},
   "source": [
    "# Scatter plot of differentially acetylated enhancers"
   ]
  },
  {
   "cell_type": "markdown",
   "metadata": {},
   "source": [
    "## C57"
   ]
  },
  {
   "cell_type": "code",
   "execution_count": 9,
   "metadata": {
    "scrolled": true
   },
   "outputs": [
    {
     "name": "stdout",
     "output_type": "stream",
     "text": [
      "annotatePeaks all peaks (49106, 31)\n",
      "getDiffExpression selected transcripts (48031, 25)\n",
      "annotatePeaks selected peaks (48031, 31)\n"
     ]
    }
   ],
   "source": [
    "diff_peak, peaks, peak_mat, peak_mat_quant = import_homer_diffpeak(\n",
    "    './C57_diff_output.txt',\n",
    "    './ann_norm_kc_amln_atac_peaks_all.txt')"
   ]
  },
  {
   "cell_type": "code",
   "execution_count": 10,
   "metadata": {},
   "outputs": [
    {
     "data": {
      "text/plain": [
       "dict_keys(['00_c57_control vs. 01_c57_amln'])"
      ]
     },
     "execution_count": 10,
     "metadata": {},
     "output_type": "execute_result"
    }
   ],
   "source": [
    "comp_dict = pull_comparisons_get_diff(diff_peak, seq_type='Peak')\n",
    "comp_dict.keys()"
   ]
  },
  {
   "cell_type": "code",
   "execution_count": 11,
   "metadata": {},
   "outputs": [],
   "source": [
    "comps = ['00_c57_control vs. 01_c57_amln']\n",
    "\n",
    "cols = [[0,1,6,7]]\n",
    "\n",
    "groups = [[[0,1],[6,7]]]\n",
    "\n",
    "colors = [['#74c476', '#006d2c']]"
   ]
  },
  {
   "cell_type": "code",
   "execution_count": 12,
   "metadata": {},
   "outputs": [
    {
     "name": "stdout",
     "output_type": "stream",
     "text": [
      "00_c57_control vs. 01_c57_amln\n",
      "N genes downregulated 2489\n",
      "N genes upregulated 3119\n",
      "\n"
     ]
    },
    {
     "data": {
      "image/png": "[encoded data removed]",
      "text/plain": [
       "<Figure size 288x288 with 1 Axes>"
      ]
     },
     "metadata": {
      "needs_background": "light"
     },
     "output_type": "display_data"
    }
   ],
   "source": [
    "for key, col, group, color in zip(comps, cols, groups, colors):\n",
    "#     print(key)\n",
    "#     print('mean calculated using tag dirs:')\n",
    "#     for colid in peak_mat.iloc[:, col].columns.tolist():\n",
    "#         print(colid)\n",
    "#     print('')\n",
    "    de = comp_dict[key]\n",
    "    de['logtpm'] = np.log2(peak_mat.iloc[:, col].mean(1)+1)\n",
    "    de['log10p'] = -np.log10(de.adj_pval + 10**(-50))\n",
    "    de['g0_mean'] = np.log2(peak_mat.iloc[:, group[0]].mean(1)+1)\n",
    "    de['g1_mean'] = np.log2(peak_mat.iloc[:, group[1]].mean(1)+1)\n",
    "    dot_colors = []\n",
    "    dot_sizes = []\n",
    "    for index, row in de.iterrows():\n",
    "        if (row.adj_pval <= 0.05) & (-row.log2fc < 0):\n",
    "            dot_colors.append(color[1])\n",
    "            dot_sizes.append(row.log10p)\n",
    "        elif (row.adj_pval <= 0.05) & (-row.log2fc > 0):\n",
    "            dot_colors.append(color[0])\n",
    "            dot_sizes.append(row.log10p)\n",
    "        else:\n",
    "            dot_colors.append('grey')\n",
    "            dot_sizes.append(0.5)\n",
    "    print(key)\n",
    "    print('N genes downregulated', np.sum((de.adj_pval <= 0.05) & (de.log2fc < -1)))\n",
    "    print('N genes upregulated', np.sum((de.adj_pval <= 0.05) & (de.log2fc > 1)))\n",
    "    print('')\n",
    "    fig, axs = plt.subplots(1, 2, figsize=(10,6))\n",
    "    plt.subplots_adjust(wspace=0.5)\n",
    "\n",
    "    axs[0].set_xlim(left=-np.ceil(np.max(np.abs(de.log2fc))),\n",
    "                right=np.ceil(np.max(np.abs(de.log2fc))))\n",
    "    axs[0].scatter(\n",
    "        x=de.log2fc,\n",
    "        y=de.logtpm,\n",
    "        s=dot_sizes, #de.log10p+0.05,\n",
    "        c=dot_colors)\n",
    "\n",
    "    axs[0].set_ylabel('Mean Log2(TPM)')\n",
    "    axs[0].set_xlabel('Log2FC')\n",
    "\n",
    "    # plot group by group scatter:\n",
    "    axs[1].scatter(\n",
    "        x=de.g0_mean,\n",
    "        y=de.g1_mean,\n",
    "        s=dot_sizes, #de.log10p+0.05,\n",
    "        c=dot_colors)\n",
    "    \n",
    "    axs[1].set_xlabel(key.split(' vs. ')[0] + ' Mean Tags')\n",
    "    axs[1].set_ylabel(key.split(' vs. ')[1] + ' Mean Tags')\n",
    "    \n",
    "    #set max and min\n",
    "    countmax = np.max([np.max(de.g0_mean), np.max(de.g1_mean)])\n",
    "    axs[1].set_xlim([0,np.ceil(countmax)])\n",
    "    axs[1].set_ylim([0,np.ceil(countmax)])\n",
    "                      \n",
    "    plt.savefig('./figures/'+key+'_MAPlot_scatter.png', bbox_inches='tight')\n",
    "    plt.close()\n",
    "    \n",
    "    fig, ax = plt.subplots(figsize=(4,4))\n",
    "    \n",
    "        # plot group by group scatter:\n",
    "    ax.scatter(\n",
    "        x=de.g0_mean,\n",
    "        y=de.g1_mean,\n",
    "        s=dot_sizes, #de.log10p+0.05,\n",
    "        c=dot_colors)\n",
    "    \n",
    "    ax.set_xlabel(key.split(' vs. ')[0] + ' Mean Tags')\n",
    "    ax.set_ylabel(key.split(' vs. ')[1] + ' Mean Tags')\n",
    "    \n",
    "    #set max and min\n",
    "    countmax = np.max([np.max(de.g0_mean), np.max(de.g1_mean)])\n",
    "    ax.set_xlim([0,np.ceil(countmax)])\n",
    "    ax.set_ylim([0,np.ceil(countmax)])\n",
    "    \n",
    "#     ax.text(0.5,15,\n",
    "#         s='%d %s spec peaks' % (np.sum((de.adj_pval <= 0.05) & (de.log2fc > 1)), key.split(' vs. ')[1]),\n",
    "#         fontsize=12,\n",
    "#         c=color[1])\n",
    "#     ax.text(15,0.5,\n",
    "#         s='%d %s spec peaks' % (np.sum((de.adj_pval <= 0.05) & (de.log2fc < -1)), key.split(' vs. ')[0]),\n",
    "#         fontsize=12,\n",
    "#         c=color[0],\n",
    "#         rotation=-90)\n",
    "    \n",
    "    plt.savefig('./figures/'+key+'_scatter_notext.png', bbox_inches='tight')\n",
    "    # plt.close()"
   ]
  },
  {
   "cell_type": "markdown",
   "metadata": {},
   "source": [
    "## AJ"
   ]
  },
  {
   "cell_type": "code",
   "execution_count": 13,
   "metadata": {},
   "outputs": [
    {
     "name": "stdout",
     "output_type": "stream",
     "text": [
      "annotatePeaks all peaks (49106, 31)\n",
      "getDiffExpression selected transcripts (48031, 25)\n",
      "annotatePeaks selected peaks (48031, 31)\n"
     ]
    },
    {
     "data": {
      "text/plain": [
       "dict_keys(['00_aj_control vs. 00_aj_amln'])"
      ]
     },
     "execution_count": 13,
     "metadata": {},
     "output_type": "execute_result"
    }
   ],
   "source": [
    "diff_peak, peaks, peak_mat, peak_mat_quant = import_homer_diffpeak(\n",
    "    './aj_diff_output.txt',\n",
    "    './ann_norm_kc_amln_atac_peaks_all.txt')\n",
    "comp_dict = pull_comparisons_get_diff(diff_peak, seq_type='Peak')\n",
    "comp_dict.keys()"
   ]
  },
  {
   "cell_type": "code",
   "execution_count": 14,
   "metadata": {},
   "outputs": [],
   "source": [
    "comps = ['00_aj_control vs. 00_aj_amln']\n",
    "\n",
    "cols = [[4,5,10,11]]\n",
    "\n",
    "groups = [[[4,5],[10,11]]]\n",
    "\n",
    "colors = [['#fb6a4a', '#a50f15']]"
   ]
  },
  {
   "cell_type": "code",
   "execution_count": 15,
   "metadata": {
    "scrolled": false
   },
   "outputs": [
    {
     "name": "stdout",
     "output_type": "stream",
     "text": [
      "00_aj_control vs. 00_aj_amln\n",
      "N genes downregulated 1038\n",
      "N genes upregulated 1608\n",
      "\n"
     ]
    },
    {
     "data": {
      "image/png": "[encoded data removed]",
      "text/plain": [
       "<Figure size 288x288 with 1 Axes>"
      ]
     },
     "metadata": {
      "needs_background": "light"
     },
     "output_type": "display_data"
    }
   ],
   "source": [
    "for key, col, group, color in zip(comps, cols, groups, colors):\n",
    "#     print(key)\n",
    "#     print('mean calculated using tag dirs:')\n",
    "#     for colid in peak_mat.iloc[:, col].columns.tolist():\n",
    "#         print(colid)\n",
    "#     print('')\n",
    "    de = comp_dict[key]\n",
    "    de['logtpm'] = np.log2(peak_mat.iloc[:, col].mean(1)+1)\n",
    "    de['log10p'] = -np.log10(de.adj_pval + 10**(-50))\n",
    "    de['g0_mean'] = np.log2(peak_mat.iloc[:, group[0]].mean(1)+1)\n",
    "    de['g1_mean'] = np.log2(peak_mat.iloc[:, group[1]].mean(1)+1)\n",
    "    dot_colors = []\n",
    "    dot_sizes = []\n",
    "    for index, row in de.iterrows():\n",
    "        if (row.adj_pval <= 0.05) & (-row.log2fc < 0):\n",
    "            dot_colors.append(color[1])\n",
    "            dot_sizes.append(row.log10p)\n",
    "        elif (row.adj_pval <= 0.05) & (-row.log2fc > 0):\n",
    "            dot_colors.append(color[0])\n",
    "            dot_sizes.append(row.log10p)\n",
    "        else:\n",
    "            dot_colors.append('grey')\n",
    "            dot_sizes.append(0.5)\n",
    "    print(key)\n",
    "    print('N genes downregulated', np.sum((de.adj_pval <= 0.05) & (de.log2fc < -1)))\n",
    "    print('N genes upregulated', np.sum((de.adj_pval <= 0.05) & (de.log2fc > 1)))\n",
    "    print('')\n",
    "    fig, axs = plt.subplots(1, 2, figsize=(10,6))\n",
    "    plt.subplots_adjust(wspace=0.5)\n",
    "\n",
    "    axs[0].set_xlim(left=-np.ceil(np.max(np.abs(de.log2fc))),\n",
    "                right=np.ceil(np.max(np.abs(de.log2fc))))\n",
    "    axs[0].scatter(\n",
    "        x=de.log2fc,\n",
    "        y=de.logtpm,\n",
    "        s=dot_sizes, #de.log10p+0.05,\n",
    "        c=dot_colors)\n",
    "\n",
    "    axs[0].set_ylabel('Mean Log2(TPM)')\n",
    "    axs[0].set_xlabel('Log2FC')\n",
    "\n",
    "    # plot group by group scatter:\n",
    "    axs[1].scatter(\n",
    "        x=de.g0_mean,\n",
    "        y=de.g1_mean,\n",
    "        s=dot_sizes, #de.log10p+0.05,\n",
    "        c=dot_colors)\n",
    "    \n",
    "    axs[1].set_xlabel(key.split(' vs. ')[0] + ' Mean Tags')\n",
    "    axs[1].set_ylabel(key.split(' vs. ')[1] + ' Mean Tags')\n",
    "    \n",
    "    #set max and min\n",
    "    countmax = np.max([np.max(de.g0_mean), np.max(de.g1_mean)])\n",
    "    axs[1].set_xlim([0,np.ceil(countmax)])\n",
    "    axs[1].set_ylim([0,np.ceil(countmax)])\n",
    "                      \n",
    "    plt.savefig('./figures/'+key+'_MAPlot_scatter.png', bbox_inches='tight')\n",
    "    plt.close()\n",
    "    \n",
    "    fig, ax = plt.subplots(figsize=(4,4))\n",
    "    \n",
    "        # plot group by group scatter:\n",
    "    ax.scatter(\n",
    "        x=de.g0_mean,\n",
    "        y=de.g1_mean,\n",
    "        s=dot_sizes, #de.log10p+0.05,\n",
    "        c=dot_colors)\n",
    "    \n",
    "    ax.set_xlabel(key.split(' vs. ')[0] + ' Mean Tags')\n",
    "    ax.set_ylabel(key.split(' vs. ')[1] + ' Mean Tags')\n",
    "    \n",
    "    #set max and min\n",
    "    countmax = np.max([np.max(de.g0_mean), np.max(de.g1_mean)])\n",
    "    ax.set_xlim([0,np.ceil(countmax)])\n",
    "    ax.set_ylim([0,np.ceil(countmax)])\n",
    "    \n",
    "#     ax.text(0.5,15,\n",
    "#         s='%d %s spec peaks' % (np.sum((de.adj_pval <= 0.05) & (de.log2fc > 1)), key.split(' vs. ')[1]),\n",
    "#         fontsize=12,\n",
    "#         c=color[1])\n",
    "#     ax.text(15,0.5,\n",
    "#         s='%d %s spec peaks' % (np.sum((de.adj_pval <= 0.05) & (de.log2fc < -1)), key.split(' vs. ')[0]),\n",
    "#         fontsize=12,\n",
    "#         c=color[0],\n",
    "#         rotation=-90)\n",
    "    \n",
    "    plt.savefig('./figures/'+key+'_scatter_notext.png', bbox_inches='tight')\n",
    "    # plt.close()"
   ]
  },
  {
   "cell_type": "markdown",
   "metadata": {},
   "source": [
    "## BALBc"
   ]
  },
  {
   "cell_type": "code",
   "execution_count": 16,
   "metadata": {},
   "outputs": [
    {
     "name": "stdout",
     "output_type": "stream",
     "text": [
      "annotatePeaks all peaks (49106, 31)\n",
      "getDiffExpression selected transcripts (48031, 25)\n",
      "annotatePeaks selected peaks (48031, 31)\n"
     ]
    },
    {
     "data": {
      "text/plain": [
       "dict_keys(['00_balbc_control vs. 01_balbc_amln'])"
      ]
     },
     "execution_count": 16,
     "metadata": {},
     "output_type": "execute_result"
    }
   ],
   "source": [
    "diff_peak, peaks, peak_mat, peak_mat_quant = import_homer_diffpeak(\n",
    "    './balbc_diff_output.txt',\n",
    "    './ann_norm_kc_amln_atac_peaks_all.txt')\n",
    "comp_dict = pull_comparisons_get_diff(diff_peak, seq_type='Peak')\n",
    "comp_dict.keys()"
   ]
  },
  {
   "cell_type": "code",
   "execution_count": 17,
   "metadata": {},
   "outputs": [],
   "source": [
    "comps = ['00_balbc_control vs. 01_balbc_amln']\n",
    "\n",
    "cols = [[2,3,8,9]]\n",
    "\n",
    "groups = [[[2,3],[8,9]]]\n",
    "\n",
    "colors = [['#6baed6', '#08519c']]"
   ]
  },
  {
   "cell_type": "code",
   "execution_count": 18,
   "metadata": {
    "scrolled": true
   },
   "outputs": [
    {
     "name": "stdout",
     "output_type": "stream",
     "text": [
      "00_balbc_control vs. 01_balbc_amln\n",
      "N genes downregulated 90\n",
      "N genes upregulated 107\n",
      "\n"
     ]
    },
    {
     "data": {
      "image/png": "[encoded data removed]",
      "text/plain": [
       "<Figure size 288x288 with 1 Axes>"
      ]
     },
     "metadata": {
      "needs_background": "light"
     },
     "output_type": "display_data"
    }
   ],
   "source": [
    "for key, col, group, color in zip(comps, cols, groups, colors):\n",
    "#     print(key)\n",
    "#     print('mean calculated using tag dirs:')\n",
    "#     for colid in peak_mat.iloc[:, col].columns.tolist():\n",
    "#         print(colid)\n",
    "#     print('')\n",
    "    de = comp_dict[key]\n",
    "    de['logtpm'] = np.log2(peak_mat.iloc[:, col].mean(1)+1)\n",
    "    de['log10p'] = -np.log10(de.adj_pval + 10**(-50))\n",
    "    de['g0_mean'] = np.log2(peak_mat.iloc[:, group[0]].mean(1)+1)\n",
    "    de['g1_mean'] = np.log2(peak_mat.iloc[:, group[1]].mean(1)+1)\n",
    "    dot_colors = []\n",
    "    dot_sizes = []\n",
    "    for index, row in de.iterrows():\n",
    "        if (row.adj_pval <= 0.05) & (-row.log2fc < 0):\n",
    "            dot_colors.append(color[1])\n",
    "            dot_sizes.append(row.log10p)\n",
    "        elif (row.adj_pval <= 0.05) & (-row.log2fc > 0):\n",
    "            dot_colors.append(color[0])\n",
    "            dot_sizes.append(row.log10p)\n",
    "        else:\n",
    "            dot_colors.append('grey')\n",
    "            dot_sizes.append(0.5)\n",
    "    print(key)\n",
    "    print('N genes downregulated', np.sum((de.adj_pval <= 0.05) & (de.log2fc < -1)))\n",
    "    print('N genes upregulated', np.sum((de.adj_pval <= 0.05) & (de.log2fc > 1)))\n",
    "    print('')\n",
    "    fig, axs = plt.subplots(1, 2, figsize=(10,6))\n",
    "    plt.subplots_adjust(wspace=0.5)\n",
    "\n",
    "    axs[0].set_xlim(left=-np.ceil(np.max(np.abs(de.log2fc))),\n",
    "                right=np.ceil(np.max(np.abs(de.log2fc))))\n",
    "    axs[0].scatter(\n",
    "        x=de.log2fc,\n",
    "        y=de.logtpm,\n",
    "        s=dot_sizes, #de.log10p+0.05,\n",
    "        c=dot_colors)\n",
    "\n",
    "    axs[0].set_ylabel('Mean Log2(TPM)')\n",
    "    axs[0].set_xlabel('Log2FC')\n",
    "\n",
    "    # plot group by group scatter:\n",
    "    axs[1].scatter(\n",
    "        x=de.g0_mean,\n",
    "        y=de.g1_mean,\n",
    "        s=dot_sizes, #de.log10p+0.05,\n",
    "        c=dot_colors)\n",
    "    \n",
    "    axs[1].set_xlabel(key.split(' vs. ')[0] + ' Mean Tags')\n",
    "    axs[1].set_ylabel(key.split(' vs. ')[1] + ' Mean Tags')\n",
    "    \n",
    "    #set max and min\n",
    "    countmax = np.max([np.max(de.g0_mean), np.max(de.g1_mean)])\n",
    "    axs[1].set_xlim([0,np.ceil(countmax)])\n",
    "    axs[1].set_ylim([0,np.ceil(countmax)])\n",
    "                      \n",
    "    plt.savefig('./figures/'+key+'_MAPlot_scatter.png', bbox_inches='tight')\n",
    "    plt.close()\n",
    "    \n",
    "    fig, ax = plt.subplots(figsize=(4,4))\n",
    "    \n",
    "        # plot group by group scatter:\n",
    "    ax.scatter(\n",
    "        x=de.g0_mean,\n",
    "        y=de.g1_mean,\n",
    "        s=dot_sizes, #de.log10p+0.05,\n",
    "        c=dot_colors)\n",
    "    \n",
    "    ax.set_xlabel(key.split(' vs. ')[0] + ' Mean Tags')\n",
    "    ax.set_ylabel(key.split(' vs. ')[1] + ' Mean Tags')\n",
    "    \n",
    "    #set max and min\n",
    "    countmax = np.max([np.max(de.g0_mean), np.max(de.g1_mean)])\n",
    "    ax.set_xlim([0,np.ceil(countmax)])\n",
    "    ax.set_ylim([0,np.ceil(countmax)])\n",
    "    \n",
    "#     ax.text(0.5,15,\n",
    "#         s='%d %s spec peaks' % (np.sum((de.adj_pval <= 0.05) & (de.log2fc > 1)), key.split(' vs. ')[1]),\n",
    "#         fontsize=12,\n",
    "#         c=color[1])\n",
    "#     ax.text(15,0.5,\n",
    "#         s='%d %s spec peaks' % (np.sum((de.adj_pval <= 0.05) & (de.log2fc < -1)), key.split(' vs. ')[0]),\n",
    "#         fontsize=12,\n",
    "#         c=color[0],\n",
    "#         rotation=-90)\n",
    "    \n",
    "    plt.savefig('./figures/'+key+'_scatter_notext.png', bbox_inches='tight')\n",
    "    # plt.close()"
   ]
  },
  {
   "cell_type": "markdown",
   "metadata": {},
   "source": [
    "# Plot venn diagram of upregulated and downregulated peaks"
   ]
  },
  {
   "cell_type": "code",
   "execution_count": 19,
   "metadata": {},
   "outputs": [],
   "source": [
    "from matplotlib_venn import venn3"
   ]
  },
  {
   "cell_type": "markdown",
   "metadata": {},
   "source": [
    "## Extract all peaks that have significant differences in acetylation\n",
    "\n",
    "Iterate through the three DESeq2 outputs and select differential peaks, store in the peak dict for processing"
   ]
  },
  {
   "cell_type": "code",
   "execution_count": 20,
   "metadata": {},
   "outputs": [
    {
     "name": "stdout",
     "output_type": "stream",
     "text": [
      "annotatePeaks all peaks (49106, 31)\n",
      "getDiffExpression selected transcripts (48031, 25)\n",
      "annotatePeaks selected peaks (48031, 31)\n",
      "annotatePeaks all peaks (49106, 31)\n",
      "getDiffExpression selected transcripts (48031, 25)\n",
      "annotatePeaks selected peaks (48031, 31)\n",
      "annotatePeaks all peaks (49106, 31)\n",
      "getDiffExpression selected transcripts (48031, 25)\n",
      "annotatePeaks selected peaks (48031, 31)\n"
     ]
    }
   ],
   "source": [
    "# set p value and log2fcs\n",
    "padj = 0.05\n",
    "log2fc = 1\n",
    "\n",
    "peak_dict = {}\n",
    "\n",
    "for i in glob.glob('./*diff_output.txt'):\n",
    "    diff_peak, peaks, peak_mat, peak_mat_quant = import_homer_diffpeak(\n",
    "        i,\n",
    "        './ann_norm_kc_amln_atac_peaks_all.txt')\n",
    "    \n",
    "    # extract distal peaks only\n",
    "    diff_peak = diff_peak.loc[np.abs(diff_peak.loc[:, 'Distance to TSS']) >= 3000, :]\n",
    "    \n",
    "    # log2fc is in position -3, adj p value is in position -1\n",
    "    # positive peaks are up in NASH, negative peaks are down in NASH\n",
    "    act = diff_peak.loc[(diff_peak.iloc[:, -3] >= log2fc) & (diff_peak.iloc[:, -1] < padj), :].index.tolist()\n",
    "    rep = diff_peak.loc[(diff_peak.iloc[:, -3] <= -log2fc) & (diff_peak.iloc[:, -1] < padj), :].index.tolist()\n",
    "    \n",
    "    # activated peaks stored in the [0] position.\n",
    "    peak_dict[i.split('_')[0].replace('./','')] = [act, rep]"
   ]
  },
  {
   "cell_type": "markdown",
   "metadata": {},
   "source": [
    "### Venn diagram for activated peaks\n",
    "Generate the set values manually because I'm not a good enough programmer to do this on my own."
   ]
  },
  {
   "cell_type": "code",
   "execution_count": 25,
   "metadata": {},
   "outputs": [],
   "source": [
    "if not os.path.isdir('./strain_private_peaks/'):\n",
    "    os.mkdir('./strain_private_peaks/')"
   ]
  },
  {
   "cell_type": "code",
   "execution_count": 21,
   "metadata": {},
   "outputs": [],
   "source": [
    "all3 = set(peak_dict['C57'][0]).intersection(set(peak_dict['balbc'][0]).intersection(peak_dict['aj'][0]))\n",
    "C57_balbc = set(peak_dict['C57'][0]).intersection(set(peak_dict['balbc'][0]).difference(all3))\n",
    "C57_aj = set(peak_dict['C57'][0]).intersection(set(peak_dict['aj'][0]).difference(all3))\n",
    "balbc_aj = set(peak_dict['balbc'][0]).intersection(peak_dict['aj'][0]).difference(all3)\n",
    "C57_private = set(peak_dict['C57'][0]).difference(set(all3).union(set(C57_balbc).union(C57_aj)))\n",
    "balbc_private = set(peak_dict['balbc'][0]).difference(set(all3).union(set(C57_balbc).union(balbc_aj)))\n",
    "aj_private = set(peak_dict['aj'][0]).difference(set(all3).union(set(C57_aj).union(balbc_aj)))"
   ]
  },
  {
   "cell_type": "markdown",
   "metadata": {},
   "source": [
    "add column with browser coordinates"
   ]
  },
  {
   "cell_type": "code",
   "execution_count": 42,
   "metadata": {},
   "outputs": [
    {
     "name": "stdout",
     "output_type": "stream",
     "text": [
      "annotatePeaks all peaks (49106, 31)\n",
      "getDiffExpression selected transcripts (48031, 25)\n",
      "annotatePeaks selected peaks (48031, 31)\n"
     ]
    }
   ],
   "source": [
    "diff_peak, peaks, peak_mat, peak_mat_quant = import_homer_diffpeak(\n",
    "    './C57_diff_output.txt',\n",
    "    './ann_norm_kc_amln_atac_peaks_all.txt')"
   ]
  },
  {
   "cell_type": "code",
   "execution_count": 43,
   "metadata": {},
   "outputs": [],
   "source": [
    "diff_peak.loc[:, 'browser'] = [i+':'+str(j)+'-'+str(k) for i,j,k in zip(diff_peak.Chr, diff_peak.Start, diff_peak.End)]"
   ]
  },
  {
   "cell_type": "code",
   "execution_count": 46,
   "metadata": {},
   "outputs": [],
   "source": [
    "diff_peak.loc[C57_private, :].to_csv('./strain_private_peaks/c57_act_peaks_private.txt',\n",
    "                                 sep='\\t')"
   ]
  },
  {
   "cell_type": "code",
   "execution_count": 27,
   "metadata": {
    "scrolled": false
   },
   "outputs": [
    {
     "data": {
      "image/png": "[encoded data removed]",
      "text/plain": [
       "<Figure size 576x576 with 1 Axes>"
      ]
     },
     "metadata": {},
     "output_type": "display_data"
    }
   ],
   "source": [
    "fig, ax = plt.subplots(figsize=(8,8))\n",
    "\n",
    "# venn3 accepts a list with the following order\n",
    "# (100, 010, 110, 001, 101, 011, 111)\n",
    "# group1, group2, group1+2, group3, group1+3, group2+3, group3\n",
    "venn3(subsets=(len(C57_private),\n",
    "               len(balbc_private),\n",
    "               len(C57_balbc),\n",
    "               len(aj_private),\n",
    "               len(C57_aj),\n",
    "               len(balbc_aj),\n",
    "               len(all3)),\n",
    "     ax=ax,\n",
    "     set_colors=('#006d2c', '#08519c', '#a50f15'),\n",
    "     set_labels=('C57', 'BALBC', 'AJ'),\n",
    "     alpha=0.5)\n",
    "ax.set_title('NASH Activated H3K27Ac Peaks');\n",
    "\n",
    "plt.savefig('./figures/venn3_activated_peaks.png', bbox_inches='tight')"
   ]
  },
  {
   "cell_type": "code",
   "execution_count": 28,
   "metadata": {},
   "outputs": [],
   "source": [
    "all3 = set(peak_dict['C57'][1]).intersection(set(peak_dict['balbc'][1]).intersection(peak_dict['aj'][1]))\n",
    "C57_balbc = set(peak_dict['C57'][1]).intersection(set(peak_dict['balbc'][1]).difference(all3))\n",
    "C57_aj = set(peak_dict['C57'][1]).intersection(set(peak_dict['aj'][1]).difference(all3))\n",
    "balbc_aj = set(peak_dict['balbc'][1]).intersection(peak_dict['aj'][1]).difference(all3)\n",
    "C57_private = set(peak_dict['C57'][1]).difference(set(all3).union(set(C57_balbc).union(C57_aj)))\n",
    "balbc_private = set(peak_dict['balbc'][1]).difference(set(all3).union(set(C57_balbc).union(balbc_aj)))\n",
    "aj_private = set(peak_dict['aj'][1]).difference(set(all3).union(set(C57_aj).union(balbc_aj)))"
   ]
  },
  {
   "cell_type": "code",
   "execution_count": 29,
   "metadata": {},
   "outputs": [
    {
     "data": {
      "image/png": "[encoded data removed]",
      "text/plain": [
       "<Figure size 576x576 with 1 Axes>"
      ]
     },
     "metadata": {},
     "output_type": "display_data"
    }
   ],
   "source": [
    "fig, ax = plt.subplots(figsize=(8,8))\n",
    "\n",
    "# venn3 accepts a list with the following order\n",
    "# (100, 010, 110, 001, 101, 011, 111)\n",
    "# group1, group2, group1+2, group3, group1+3, group2+3, group3\n",
    "venn3(subsets=(len(C57_private),\n",
    "               len(balbc_private),\n",
    "               len(C57_balbc),\n",
    "               len(aj_private),\n",
    "               len(C57_aj),\n",
    "               len(balbc_aj),\n",
    "               len(all3)),\n",
    "     ax=ax,\n",
    "     set_colors=('#006d2c', '#08519c', '#a50f15'),\n",
    "     set_labels=('C57', 'BALBC', 'AJ'),\n",
    "     alpha=0.5)\n",
    "ax.set_title('NASH Repressed H3K27Ac Peaks');\n",
    "\n",
    "plt.savefig('./figures/venn3_repressed_peaks.png', bbox_inches='tight')"
   ]
  }
 ],
 "metadata": {
  "kernelspec": {
   "display_name": "dataviz",
   "language": "python",
   "name": "dataviz"
  },
  "language_info": {
   "codemirror_mode": {
    "name": "ipython",
    "version": 3
   },
   "file_extension": ".py",
   "mimetype": "text/x-python",
   "name": "python",
   "nbconvert_exporter": "python",
   "pygments_lexer": "ipython3",
   "version": "3.7.5"
  }
 },
 "nbformat": 4,
 "nbformat_minor": 2
}
