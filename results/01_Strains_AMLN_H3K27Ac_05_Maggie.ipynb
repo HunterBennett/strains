{
 "cells": [
  {
   "cell_type": "markdown",
   "metadata": {},
   "source": [
    "Hunter Bennett | Glass Lab | Kupffer Strains Project | 09 February 2021"
   ]
  },
  {
   "cell_type": "code",
   "execution_count": 2,
   "metadata": {},
   "outputs": [],
   "source": [
    "### header ###\n",
    "__author__ = \"Hunter Bennett\"\n",
    "__license__ = \"BSD\"\n",
    "__email__ = \"hunter.r.bennett@gmail.com\"\n",
    "%load_ext autoreload\n",
    "%autoreload 2\n",
    "### imports ###\n",
    "import sys\n",
    "%matplotlib inline\n",
    "import os\n",
    "import re\n",
    "import glob\n",
    "import pandas as pd\n",
    "import numpy as np\n",
    "import matplotlib\n",
    "import matplotlib.pyplot as plt \n",
    "import seaborn as sns\n",
    "matplotlib.rcParams['savefig.dpi'] = 200\n",
    "sns.set(font_scale=1)\n",
    "sns.set_context('talk')\n",
    "sns.set_style('white')\n",
    "\n",
    "# import custom functions\n",
    "import sys\n",
    "sys.path.insert(0, '/home/h1bennet/code/')\n",
    "from hbUtils import ngs_qc, quantile_normalize_df\n",
    "from plotting_scripts import label_point, pca_rpkm_mat, get_diff_volcano\n",
    "from homer_preprocessing import read_annotated_peaks, import_homer_diffpeak, pull_comparisons_get_diff\n",
    "from gene_expression_plots import survey_strain_amln_gene_exp, survey_strain_ccl4_gene_exp"
   ]
  },
  {
   "cell_type": "code",
   "execution_count": 3,
   "metadata": {},
   "outputs": [],
   "source": [
    "dataDirectory = ''\n",
    "workingDirectory = '/home/h1bennet/strains/results/01_Strains_AMLN_H3K27Ac/'\n",
    "if not os.path.isdir(workingDirectory):\n",
    "    os.mkdir(workingDirectory)\n",
    "os.chdir(workingDirectory)"
   ]
  },
  {
   "cell_type": "markdown",
   "metadata": {},
   "source": [
    "#  Import differential peaks from last time"
   ]
  },
  {
   "cell_type": "code",
   "execution_count": 4,
   "metadata": {},
   "outputs": [
    {
     "name": "stdout",
     "output_type": "stream",
     "text": [
      "annotatePeaks all peaks (61711, 25)\n",
      "getDiffExpression selected transcripts (60547, 33)\n",
      "annotatePeaks selected peaks (60547, 25)\n"
     ]
    }
   ],
   "source": [
    "diff_peak, peaks, peak_mat, peak_mat_quant = import_homer_diffpeak(\n",
    "    './merged_peaks/diff_output.txt',\n",
    "    './merged_peaks/ann_norm_kc_control_atac_peaks_all.txt')"
   ]
  },
  {
   "cell_type": "code",
   "execution_count": 5,
   "metadata": {},
   "outputs": [
    {
     "name": "stderr",
     "output_type": "stream",
     "text": [
      "/gpfs/data01/glasslab/home/h1bennet/.conda/envs/dataviz/lib/python3.7/site-packages/pandas/core/indexing.py:1418: FutureWarning: \n",
      "Passing list-likes to .loc or [] with any missing label will raise\n",
      "KeyError in the future, you can use .reindex() as an alternative.\n",
      "\n",
      "See the documentation here:\n",
      "https://pandas.pydata.org/pandas-docs/stable/user_guide/indexing.html#deprecate-loc-reindex-listlike\n",
      "  return self._getitem_tuple(key)\n"
     ]
    }
   ],
   "source": [
    "comp_dict = pull_comparisons_get_diff(diff_peak)"
   ]
  },
  {
   "cell_type": "markdown",
   "metadata": {},
   "source": [
    "# Correct merge-peaks shifting of atac peak files\n",
    "Make atac peak file with 200bp peaks set on center of current peak (rounding down if fractional center)"
   ]
  },
  {
   "cell_type": "code",
   "execution_count": 6,
   "metadata": {},
   "outputs": [],
   "source": [
    "atac_peaks = pd.read_csv('./merged_peaks/idr_peaks_merged.txt', sep='\\t', index_col=0)"
   ]
  },
  {
   "cell_type": "code",
   "execution_count": 7,
   "metadata": {},
   "outputs": [],
   "source": [
    "new_start = []\n",
    "new_end = []\n",
    "for index, row in atac_peaks.iterrows():\n",
    "    center = row.start + int(np.floor((row.end - row.start)/2))\n",
    "    new_start.append(center - 100)\n",
    "    new_end.append(center + 100)\n",
    "    \n",
    "atac_peaks_200bp = atac_peaks.iloc[:, :4].copy(deep=True)\n",
    "atac_peaks_200bp['start'] = new_start\n",
    "atac_peaks_200bp['end'] = new_end\n",
    "atac_peaks_200bp.index.rename('PeakID', inplace=True)"
   ]
  },
  {
   "cell_type": "code",
   "execution_count": 8,
   "metadata": {},
   "outputs": [
    {
     "name": "stdout",
     "output_type": "stream",
     "text": [
      "60547 peaks in differential peak file\n",
      "61711 peaks in ATAC-seq file\n",
      "\n",
      "36392 distal peaks in differential peak file\n",
      "36392 distal peaks in ATAC-seq file\n"
     ]
    }
   ],
   "source": [
    "diff_peak_distal = diff_peak.loc[np.abs(diff_peak.loc[:, 'Distance to TSS'])>3000, :]\n",
    "atac_peaks_200bp_distal = atac_peaks_200bp.reindex(diff_peak_distal.index).dropna(how='all')\n",
    "\n",
    "# print to check that this worked\n",
    "print(diff_peak.shape[0], 'peaks in differential peak file')\n",
    "print(atac_peaks_200bp.shape[0], 'peaks in ATAC-seq file')\n",
    "print()\n",
    "print(diff_peak_distal.shape[0], 'distal peaks in differential peak file')\n",
    "print(atac_peaks_200bp_distal.shape[0], 'distal peaks in ATAC-seq file')"
   ]
  },
  {
   "cell_type": "markdown",
   "metadata": {},
   "source": [
    "# Process in  Maggie"
   ]
  },
  {
   "cell_type": "markdown",
   "metadata": {},
   "source": [
    "Here we just want to take peaks that are increased specifically in one strain when compared to another, but i would prefer to do this all in one go so that we can pool our power. Perhaps we can start by doing everything relevant to C57 - this would introduce duplicate peaks which could affect our overall power"
   ]
  },
  {
   "cell_type": "markdown",
   "metadata": {},
   "source": [
    "To do this part it helps to have some understanding of the diffpeak file that homer puts out... the columns at the end are \"group1 vs group2\" with p value and log2fold change. The log2fold change here looks like this:  \\\n",
    "\n",
    "$\\log2(\\frac{group2 tags}{group1 tags})$  \n",
    "\n",
    "So in this case things that are higher in group 1 will be negative and things that are higher in group 2 will be positive. Since C57 is group 1 in this case it all negative peaks will be up in C57"
   ]
  },
  {
   "cell_type": "code",
   "execution_count": 9,
   "metadata": {},
   "outputs": [],
   "source": [
    "if not os.path.isdir('./differential_peaks/'):\n",
    "    os.mkdir('./differential_peaks/')"
   ]
  },
  {
   "cell_type": "code",
   "execution_count": 10,
   "metadata": {},
   "outputs": [],
   "source": [
    "comps = ['00_c57 vs. 01_balbc', '00_c57 vs. 02_aj', '01_balbc vs. 02_aj']"
   ]
  },
  {
   "cell_type": "code",
   "execution_count": 11,
   "metadata": {},
   "outputs": [
    {
     "name": "stdout",
     "output_type": "stream",
     "text": [
      " analysis\n",
      "3777 peaks upregualted in c57 relative to balbc\n",
      "2725 peaks upregualted in balbc relative to c57\n",
      "3014 peaks upregualted in c57 relative to aj\n",
      "2248 peaks upregualted in aj relative to c57\n",
      "1117 peaks upregualted in balbc relative to aj\n",
      "1209 peaks upregualted in aj relative to balbc\n",
      "_distal analysis\n",
      "2969 peaks upregualted in c57 relative to balbc\n",
      "2003 peaks upregualted in balbc relative to c57\n",
      "2389 peaks upregualted in c57 relative to aj\n",
      "1702 peaks upregualted in aj relative to c57\n",
      "819 peaks upregualted in balbc relative to aj\n",
      "875 peaks upregualted in aj relative to balbc\n"
     ]
    }
   ],
   "source": [
    "# set cutoffs\n",
    "fc = 1\n",
    "pval = 0.05\n",
    "\n",
    "for df, text in zip([diff_peak, diff_peak_distal], ['', '_distal']):\n",
    "    print(text, 'analysis')\n",
    "    for comp in comps:\n",
    "        # extract strains\n",
    "        s1 = comp.split(' vs. ')[0].split('_')[1]\n",
    "        s2 = comp.split(' vs. ')[1].split('_')[1]\n",
    "\n",
    "        # write group 2 activated\n",
    "        g1 = df.loc[(df.loc[:, comp+' adj. p-value'] <=pval) & (df.loc[:, comp+' Log2 Fold Change'] < -fc)].index.tolist()\n",
    "        print(len(g1), 'peaks upregualted in', s1, 'relative to', s2)\n",
    "        atac_peaks_200bp.loc[g1, :].to_csv('./differential_peaks/'+s1+'_spec_'+s2+'_200bp'+text+'.txt', sep='\\t')\n",
    "\n",
    "        g2 = df.loc[(df.loc[:, comp+' adj. p-value'] <=pval) & (df.loc[:, comp+' Log2 Fold Change'] > fc)].index.tolist()\n",
    "        print(len(g2), 'peaks upregualted in', s2, 'relative to', s1)\n",
    "        atac_peaks_200bp.loc[g2, :].to_csv('./differential_peaks/'+s2+'_spec_'+s1+'_200bp'+text+'.txt', sep='\\t')"
   ]
  },
  {
   "cell_type": "markdown",
   "metadata": {},
   "source": [
    "## Extract sequences for maggie"
   ]
  },
  {
   "cell_type": "code",
   "execution_count": 12,
   "metadata": {},
   "outputs": [],
   "source": [
    "if not os.path.isdir('./differential_fasta/'):\n",
    "    os.mkdir('./differential_fasta/')"
   ]
  },
  {
   "cell_type": "code",
   "execution_count": 13,
   "metadata": {},
   "outputs": [
    {
     "name": "stderr",
     "output_type": "stream",
     "text": [
      "./differential_fasta/balbc_spec_c57_ref_200bp.fa\n",
      "Saving peaks from ./differential_peaks/balbc_spec_c57_200bp.txt\n",
      "Loading shift vectors\n",
      "OUTPUT FILE: ./differential_fasta/balbc_spec_c57_ref_200bp.fa\n",
      "./differential_fasta/balbc_spec_c57_mut_200bp.fa\n",
      "Saving peaks from ./differential_peaks/balbc_spec_c57_200bp.txt\n",
      "Loading shift vectors\n",
      "OUTPUT FILE: ./differential_fasta/balbc_spec_c57_mut_200bp.fa\n",
      "./differential_fasta/c57_spec_balbc_ref_200bp.fa\n",
      "Saving peaks from ./differential_peaks/c57_spec_balbc_200bp.txt\n",
      "Loading shift vectors\n",
      "OUTPUT FILE: ./differential_fasta/c57_spec_balbc_ref_200bp.fa\n",
      "./differential_fasta/c57_spec_balbc_mut_200bp.fa\n",
      "Saving peaks from ./differential_peaks/c57_spec_balbc_200bp.txt\n",
      "Loading shift vectors\n",
      "OUTPUT FILE: ./differential_fasta/c57_spec_balbc_mut_200bp.fa\n",
      "./differential_fasta/balbc_spec_c57_ref_200bp_distal.fa\n",
      "Saving peaks from ./differential_peaks/balbc_spec_c57_200bp_distal.txt\n",
      "Loading shift vectors\n",
      "OUTPUT FILE: ./differential_fasta/balbc_spec_c57_ref_200bp_distal.fa\n",
      "./differential_fasta/balbc_spec_c57_mut_200bp_distal.fa\n",
      "Saving peaks from ./differential_peaks/balbc_spec_c57_200bp_distal.txt\n",
      "Loading shift vectors\n",
      "OUTPUT FILE: ./differential_fasta/balbc_spec_c57_mut_200bp_distal.fa\n",
      "./differential_fasta/c57_spec_balbc_ref_200bp_distal.fa\n",
      "Saving peaks from ./differential_peaks/c57_spec_balbc_200bp_distal.txt\n",
      "Loading shift vectors\n",
      "OUTPUT FILE: ./differential_fasta/c57_spec_balbc_ref_200bp_distal.fa\n",
      "./differential_fasta/c57_spec_balbc_mut_200bp_distal.fa\n",
      "Saving peaks from ./differential_peaks/c57_spec_balbc_200bp_distal.txt\n",
      "Loading shift vectors\n",
      "OUTPUT FILE: ./differential_fasta/c57_spec_balbc_mut_200bp_distal.fa\n",
      "./differential_fasta/balbc_spec_aj_ref_200bp.fa\n",
      "Saving peaks from ./differential_peaks/balbc_spec_aj_200bp.txt\n",
      "Loading shift vectors\n",
      "OUTPUT FILE: ./differential_fasta/balbc_spec_aj_ref_200bp.fa\n",
      "./differential_fasta/balbc_spec_aj_mut_200bp.fa\n",
      "Saving peaks from ./differential_peaks/balbc_spec_aj_200bp.txt\n",
      "Loading shift vectors\n",
      "OUTPUT FILE: ./differential_fasta/balbc_spec_aj_mut_200bp.fa\n",
      "./differential_fasta/aj_spec_balbc_ref_200bp.fa\n",
      "Saving peaks from ./differential_peaks/aj_spec_balbc_200bp.txt\n",
      "Loading shift vectors\n",
      "OUTPUT FILE: ./differential_fasta/aj_spec_balbc_ref_200bp.fa\n",
      "./differential_fasta/aj_spec_balbc_mut_200bp.fa\n",
      "Saving peaks from ./differential_peaks/aj_spec_balbc_200bp.txt\n",
      "Loading shift vectors\n",
      "OUTPUT FILE: ./differential_fasta/aj_spec_balbc_mut_200bp.fa\n",
      "./differential_fasta/balbc_spec_aj_ref_200bp_distal.fa\n",
      "Saving peaks from ./differential_peaks/balbc_spec_aj_200bp_distal.txt\n",
      "Loading shift vectors\n",
      "OUTPUT FILE: ./differential_fasta/balbc_spec_aj_ref_200bp_distal.fa\n",
      "./differential_fasta/balbc_spec_aj_mut_200bp_distal.fa\n",
      "Saving peaks from ./differential_peaks/balbc_spec_aj_200bp_distal.txt\n",
      "Loading shift vectors\n",
      "OUTPUT FILE: ./differential_fasta/balbc_spec_aj_mut_200bp_distal.fa\n",
      "./differential_fasta/aj_spec_balbc_ref_200bp_distal.fa\n",
      "Saving peaks from ./differential_peaks/aj_spec_balbc_200bp_distal.txt\n",
      "Loading shift vectors\n",
      "OUTPUT FILE: ./differential_fasta/aj_spec_balbc_ref_200bp_distal.fa\n",
      "./differential_fasta/aj_spec_balbc_mut_200bp_distal.fa\n",
      "Saving peaks from ./differential_peaks/aj_spec_balbc_200bp_distal.txt\n",
      "Loading shift vectors\n",
      "OUTPUT FILE: ./differential_fasta/aj_spec_balbc_mut_200bp_distal.fa\n",
      "./differential_fasta/c57_spec_aj_ref_200bp.fa\n",
      "Saving peaks from ./differential_peaks/c57_spec_aj_200bp.txt\n",
      "Loading shift vectors\n",
      "OUTPUT FILE: ./differential_fasta/c57_spec_aj_ref_200bp.fa\n",
      "./differential_fasta/c57_spec_aj_mut_200bp.fa\n",
      "Saving peaks from ./differential_peaks/c57_spec_aj_200bp.txt\n",
      "Loading shift vectors\n",
      "OUTPUT FILE: ./differential_fasta/c57_spec_aj_mut_200bp.fa\n",
      "./differential_fasta/aj_spec_c57_ref_200bp.fa\n",
      "Saving peaks from ./differential_peaks/aj_spec_c57_200bp.txt\n",
      "Loading shift vectors\n",
      "OUTPUT FILE: ./differential_fasta/aj_spec_c57_ref_200bp.fa\n",
      "./differential_fasta/aj_spec_c57_mut_200bp.fa\n",
      "Saving peaks from ./differential_peaks/aj_spec_c57_200bp.txt\n",
      "Loading shift vectors\n",
      "OUTPUT FILE: ./differential_fasta/aj_spec_c57_mut_200bp.fa\n",
      "./differential_fasta/c57_spec_aj_ref_200bp_distal.fa\n",
      "Saving peaks from ./differential_peaks/c57_spec_aj_200bp_distal.txt\n",
      "Loading shift vectors\n",
      "OUTPUT FILE: ./differential_fasta/c57_spec_aj_ref_200bp_distal.fa\n",
      "./differential_fasta/c57_spec_aj_mut_200bp_distal.fa\n",
      "Saving peaks from ./differential_peaks/c57_spec_aj_200bp_distal.txt\n",
      "Loading shift vectors\n",
      "OUTPUT FILE: ./differential_fasta/c57_spec_aj_mut_200bp_distal.fa\n",
      "./differential_fasta/aj_spec_c57_ref_200bp_distal.fa\n",
      "Saving peaks from ./differential_peaks/aj_spec_c57_200bp_distal.txt\n",
      "Loading shift vectors\n",
      "OUTPUT FILE: ./differential_fasta/aj_spec_c57_ref_200bp_distal.fa\n",
      "./differential_fasta/aj_spec_c57_mut_200bp_distal.fa\n",
      "Saving peaks from ./differential_peaks/aj_spec_c57_200bp_distal.txt\n",
      "Loading shift vectors\n",
      "OUTPUT FILE: ./differential_fasta/aj_spec_c57_mut_200bp_distal.fa\n"
     ]
    }
   ],
   "source": [
    "%%bash\n",
    "\n",
    "### c57 vs balb\n",
    "/home/vlink/code/marge/bin/MMARGE.pl extract_sequences -ind BALBCJ -file ./differential_peaks/balbc_spec_c57_200bp.txt -output ./differential_fasta/balbc_spec_c57_ref_200bp.fa\n",
    "/home/vlink/code/marge/bin/MMARGE.pl extract_sequences -ind C57BL6J -file ./differential_peaks/balbc_spec_c57_200bp.txt -output ./differential_fasta/balbc_spec_c57_mut_200bp.fa\n",
    "\n",
    "/home/vlink/code/marge/bin/MMARGE.pl extract_sequences -ind C57BL6J -file ./differential_peaks/c57_spec_balbc_200bp.txt -output ./differential_fasta/c57_spec_balbc_ref_200bp.fa\n",
    "/home/vlink/code/marge/bin/MMARGE.pl extract_sequences -ind BALBCJ -file ./differential_peaks/c57_spec_balbc_200bp.txt -output ./differential_fasta/c57_spec_balbc_mut_200bp.fa\n",
    "\n",
    "# distal\n",
    "\n",
    "/home/vlink/code/marge/bin/MMARGE.pl extract_sequences -ind BALBCJ -file ./differential_peaks/balbc_spec_c57_200bp_distal.txt -output ./differential_fasta/balbc_spec_c57_ref_200bp_distal.fa\n",
    "/home/vlink/code/marge/bin/MMARGE.pl extract_sequences -ind C57BL6J -file ./differential_peaks/balbc_spec_c57_200bp_distal.txt -output ./differential_fasta/balbc_spec_c57_mut_200bp_distal.fa\n",
    "\n",
    "/home/vlink/code/marge/bin/MMARGE.pl extract_sequences -ind C57BL6J -file ./differential_peaks/c57_spec_balbc_200bp_distal.txt -output ./differential_fasta/c57_spec_balbc_ref_200bp_distal.fa\n",
    "/home/vlink/code/marge/bin/MMARGE.pl extract_sequences -ind BALBCJ -file ./differential_peaks/c57_spec_balbc_200bp_distal.txt -output ./differential_fasta/c57_spec_balbc_mut_200bp_distal.fa\n",
    "\n",
    "### balb vs aj\n",
    "\n",
    "/home/vlink/code/marge/bin/MMARGE.pl extract_sequences -ind BALBCJ -file ./differential_peaks/balbc_spec_aj_200bp.txt -output ./differential_fasta/balbc_spec_aj_ref_200bp.fa\n",
    "/home/vlink/code/marge/bin/MMARGE.pl extract_sequences -ind AJ -file ./differential_peaks/balbc_spec_aj_200bp.txt -output ./differential_fasta/balbc_spec_aj_mut_200bp.fa\n",
    "\n",
    "/home/vlink/code/marge/bin/MMARGE.pl extract_sequences -ind AJ -file ./differential_peaks/aj_spec_balbc_200bp.txt -output ./differential_fasta/aj_spec_balbc_ref_200bp.fa\n",
    "/home/vlink/code/marge/bin/MMARGE.pl extract_sequences -ind BALBCJ -file ./differential_peaks/aj_spec_balbc_200bp.txt -output ./differential_fasta/aj_spec_balbc_mut_200bp.fa\n",
    "\n",
    "# distal\n",
    "\n",
    "/home/vlink/code/marge/bin/MMARGE.pl extract_sequences -ind BALBCJ -file ./differential_peaks/balbc_spec_aj_200bp_distal.txt -output ./differential_fasta/balbc_spec_aj_ref_200bp_distal.fa\n",
    "/home/vlink/code/marge/bin/MMARGE.pl extract_sequences -ind AJ -file ./differential_peaks/balbc_spec_aj_200bp_distal.txt -output ./differential_fasta/balbc_spec_aj_mut_200bp_distal.fa\n",
    "\n",
    "/home/vlink/code/marge/bin/MMARGE.pl extract_sequences -ind AJ -file ./differential_peaks/aj_spec_balbc_200bp_distal.txt -output ./differential_fasta/aj_spec_balbc_ref_200bp_distal.fa\n",
    "/home/vlink/code/marge/bin/MMARGE.pl extract_sequences -ind BALBCJ -file ./differential_peaks/aj_spec_balbc_200bp_distal.txt -output ./differential_fasta/aj_spec_balbc_mut_200bp_distal.fa\n",
    "\n",
    "### c57 vs aj\n",
    "\n",
    "/home/vlink/code/marge/bin/MMARGE.pl extract_sequences -ind C57BL6J -file ./differential_peaks/c57_spec_aj_200bp.txt -output ./differential_fasta/c57_spec_aj_ref_200bp.fa\n",
    "/home/vlink/code/marge/bin/MMARGE.pl extract_sequences -ind AJ -file ./differential_peaks/c57_spec_aj_200bp.txt -output ./differential_fasta/c57_spec_aj_mut_200bp.fa\n",
    "\n",
    "/home/vlink/code/marge/bin/MMARGE.pl extract_sequences -ind AJ -file ./differential_peaks/aj_spec_c57_200bp.txt -output ./differential_fasta/aj_spec_c57_ref_200bp.fa\n",
    "/home/vlink/code/marge/bin/MMARGE.pl extract_sequences -ind C57BL6J -file ./differential_peaks/aj_spec_c57_200bp.txt -output ./differential_fasta/aj_spec_c57_mut_200bp.fa\n",
    "\n",
    "# distal\n",
    "\n",
    "/home/vlink/code/marge/bin/MMARGE.pl extract_sequences -ind C57BL6J -file ./differential_peaks/c57_spec_aj_200bp_distal.txt -output ./differential_fasta/c57_spec_aj_ref_200bp_distal.fa\n",
    "/home/vlink/code/marge/bin/MMARGE.pl extract_sequences -ind AJ -file ./differential_peaks/c57_spec_aj_200bp_distal.txt -output ./differential_fasta/c57_spec_aj_mut_200bp_distal.fa\n",
    "\n",
    "/home/vlink/code/marge/bin/MMARGE.pl extract_sequences -ind AJ -file ./differential_peaks/aj_spec_c57_200bp_distal.txt -output ./differential_fasta/aj_spec_c57_ref_200bp_distal.fa\n",
    "/home/vlink/code/marge/bin/MMARGE.pl extract_sequences -ind C57BL6J -file ./differential_peaks/aj_spec_c57_200bp_distal.txt -output ./differential_fasta/aj_spec_c57_mut_200bp_distal.fa\n"
   ]
  },
  {
   "cell_type": "markdown",
   "metadata": {},
   "source": [
    "# Try running maggie with aggregated peaks"
   ]
  },
  {
   "cell_type": "code",
   "execution_count": 14,
   "metadata": {},
   "outputs": [],
   "source": [
    "if not os.path.isdir('./maggie_output/'):\n",
    "    os.mkdir('./maggie_output/')"
   ]
  },
  {
   "cell_type": "markdown",
   "metadata": {},
   "source": [
    "all c57 involved comparisons"
   ]
  },
  {
   "cell_type": "code",
   "execution_count": 15,
   "metadata": {},
   "outputs": [
    {
     "ename": "SyntaxError",
     "evalue": "invalid syntax (<ipython-input-15-d0c4f1445f97>, line 1)",
     "output_type": "error",
     "traceback": [
      "\u001b[0;36m  File \u001b[0;32m\"<ipython-input-15-d0c4f1445f97>\"\u001b[0;36m, line \u001b[0;32m1\u001b[0m\n\u001b[0;31m    home/h1bennet/anaconda3/envs/maggie/bin/python(~/maggie/bin/maggie_fasta_input.py, ./differential_fasta/balbc_spec_c57_ref_200bp.fa,./differential_fasta/c57_spec_balbc_ref_200bp.fa,./differential_fasta/aj_spec_c57_ref_200bp.fa,./differential_fasta/c57_spec_aj_ref_200bp.fa, ./differential_fasta/balbc_spec_c57_mut_200bp.fa,./differential_fasta/c57_spec_balbc_mut_200bp.fa,./differential_fasta/aj_spec_c57_mut_200bp.fa,./differential_fasta/c57_spec_aj_mut_200bp.fa, -o, ./maggie_output/c57_vs_all_200bp/, -p, 20)\u001b[0m\n\u001b[0m                                                    ^\u001b[0m\n\u001b[0;31mSyntaxError\u001b[0m\u001b[0;31m:\u001b[0m invalid syntax\n"
     ]
    }
   ],
   "source": [
    "/home/h1bennet/anaconda3/envs/maggie/bin/python ~/maggie/bin/maggie_fasta_input.py \\\n",
    "./differential_fasta/balbc_spec_c57_ref_200bp.fa,./differential_fasta/c57_spec_balbc_ref_200bp.fa,./differential_fasta/aj_spec_c57_ref_200bp.fa,./differential_fasta/c57_spec_aj_ref_200bp.fa \\\n",
    "./differential_fasta/balbc_spec_c57_mut_200bp.fa,./differential_fasta/c57_spec_balbc_mut_200bp.fa,./differential_fasta/aj_spec_c57_mut_200bp.fa,./differential_fasta/c57_spec_aj_mut_200bp.fa \\\n",
    "-o ./maggie_output/c57_vs_all_200bp/ \\\n",
    "-p 20"
   ]
  },
  {
   "cell_type": "code",
   "execution_count": null,
   "metadata": {},
   "outputs": [],
   "source": [
    "/home/h1bennet/anaconda3/envs/maggie/bin/python ~/maggie/bin/maggie_fasta_input.py \\\n",
    "./differential_fasta/balbc_spec_c57_ref_200bp_distal.fa,./differential_fasta/c57_spec_balbc_ref_200bp_distal.fa,./differential_fasta/aj_spec_c57_ref_200bp_distal.fa,./differential_fasta/c57_spec_aj_ref_200bp_distal.fa \\\n",
    "./differential_fasta/balbc_spec_c57_mut_200bp_distal.fa,./differential_fasta/c57_spec_balbc_mut_200bp_distal.fa,./differential_fasta/aj_spec_c57_mut_200bp_distal.fa,./differential_fasta/c57_spec_aj_mut_200bp_distal.fa \\\n",
    "-o ./maggie_output/c57_vs_all_200bp_distal/ \\\n",
    "-p 20"
   ]
  },
  {
   "cell_type": "markdown",
   "metadata": {},
   "source": [
    "all comparisons"
   ]
  },
  {
   "cell_type": "code",
   "execution_count": null,
   "metadata": {},
   "outputs": [],
   "source": [
    "/home/h1bennet/anaconda3/envs/maggie/bin/python ~/maggie/bin/maggie_fasta_input.py \\\n",
    "./differential_fasta/balbc_spec_c57_ref_200bp.fa,./differential_fasta/c57_spec_balbc_ref_200bp.fa,./differential_fasta/aj_spec_c57_ref_200bp.fa,./differential_fasta/c57_spec_aj_ref_200bp.fa,./differential_fasta/balbc_spec_aj_ref_200bp.fa,./differential_fasta/aj_spec_balbc_ref_200bp.fa \\\n",
    "./differential_fasta/balbc_spec_c57_mut_200bp.fa,./differential_fasta/c57_spec_balbc_mut_200bp.fa,./differential_fasta/aj_spec_c57_mut_200bp.fa,./differential_fasta/c57_spec_aj_mut_200bp.fa,./differential_fasta/balbc_spec_aj_mut_200bp.fa,./differential_fasta/aj_spec_balbc_mut_200bp.fa \\\n",
    "-o ./maggie_output/all_200bp/ \\\n",
    "-p 20"
   ]
  },
  {
   "cell_type": "code",
   "execution_count": null,
   "metadata": {},
   "outputs": [],
   "source": [
    "/home/h1bennet/anaconda3/envs/maggie/bin/python ~/maggie/bin/maggie_fasta_input.py \\\n",
    "./differential_fasta/balbc_spec_c57_ref_200bp_distal.fa,./differential_fasta/c57_spec_balbc_ref_200bp_distal.fa,./differential_fasta/aj_spec_c57_ref_200bp_distal.fa,./differential_fasta/c57_spec_aj_ref_200bp_distal.fa,./differential_fasta/balbc_spec_aj_ref_200bp_distal.fa,./differential_fasta/aj_spec_balbc_ref_200bp_distal.fa \\\n",
    "./differential_fasta/balbc_spec_c57_mut_200bp_distal.fa,./differential_fasta/c57_spec_balbc_mut_200bp_distal.fa,./differential_fasta/aj_spec_c57_mut_200bp_distal.fa,./differential_fasta/c57_spec_aj_mut_200bp_distal.fa,./differential_fasta/balbc_spec_aj_mut_200bp_distal.fa,./differential_fasta/aj_spec_balbc_mut_200bp_distal.fa \\\n",
    "-o ./maggie_output/all_200bp_distal/ \\\n",
    "-p 20"
   ]
  },
  {
   "cell_type": "markdown",
   "metadata": {},
   "source": [
    "# Aggregate results MAGGIE"
   ]
  },
  {
   "cell_type": "markdown",
   "metadata": {},
   "source": [
    "## Pull results into data frame"
   ]
  },
  {
   "cell_type": "code",
   "execution_count": 16,
   "metadata": {},
   "outputs": [],
   "source": [
    "maggie_merged_pval_dict = {}\n",
    "for f in glob.glob('./maggie_output/*/maggie_output_merged.tsv'):\n",
    "    # read in signifance values using pandas\n",
    "    frame = pd.read_csv(f, sep='\\t', index_col=0)\n",
    "\n",
    "    # remove duplicates\n",
    "    # frame = frame[~frame.index.duplicated(keep='first')]\n",
    "    pval = frame.loc[:, 'Median p-val']\n",
    "\n",
    "    # extract name of sample\n",
    "    sample = f.split('/')[2]\n",
    "\n",
    "    # store in dict\n",
    "    maggie_merged_pval_dict[sample] = pval    \n",
    "    \n",
    "# create data frame\n",
    "maggie_merged_pval_frame = pd.DataFrame(maggie_merged_pval_dict)\n",
    "\n",
    "# sort by average p value\n",
    "maggie_merged_pval_frame = maggie_merged_pval_frame.reindex(maggie_merged_pval_frame.mean(axis=1).sort_values().index.tolist())\n",
    "\n",
    "maggie_merged_pval_frame.to_csv('./maggie_all_merged_log.txt', sep='\\t')\n",
    "\n",
    "# filter for plotting\n",
    "frame = maggie_merged_pval_frame\n",
    "\n",
    "# select only samples with pval < 10-10\n",
    "filtered_frame = frame.loc[(np.abs(frame) > 2).any(1), :]\n",
    "\n",
    "# replace NaN with 0\n",
    "# filtered_frame = filtered_frame.replace(np.nan, 0)\n",
    "\n",
    "# sort\n",
    "filtered_frame = filtered_frame.reindex(filtered_frame.mean(1).sort_values(ascending=False).index.tolist())\n",
    "\n",
    "# fix index\n",
    "filtered_frame.index = filtered_frame.index.str.split('$').str[0]"
   ]
  },
  {
   "cell_type": "markdown",
   "metadata": {},
   "source": [
    "### Plot active predicted motifs"
   ]
  },
  {
   "cell_type": "code",
   "execution_count": 21,
   "metadata": {},
   "outputs": [
    {
     "data": {
      "text/plain": [
       "<matplotlib.axes._subplots.AxesSubplot at 0x7fbccc44f950>"
      ]
     },
     "execution_count": 21,
     "metadata": {},
     "output_type": "execute_result"
    },
    {
     "data": {
      "image/png": "[encoded data removed]",
      "text/plain": [
       "<Figure size 288x720 with 2 Axes>"
      ]
     },
     "metadata": {
      "needs_background": "light"
     },
     "output_type": "display_data"
    }
   ],
   "source": [
    "fig, ax = plt.subplots(figsize=(4,10))\n",
    "# sort by new mean\n",
    "tmp_frame = filtered_frame.reindex(\n",
    "    filtered_frame.mean(axis=1).sort_values(ascending=False).index.tolist())\n",
    "\n",
    "\n",
    "sns.heatmap(\n",
    "    tmp_frame.head(20),\n",
    "    cmap='Reds',\n",
    "    linewidths=1,\n",
    "    linecolor='k',\n",
    "    annot=True,\n",
    "    cbar_kws={'label': '-log10(pval)'},\n",
    "    # col_cluster=False,\n",
    "    # square=True,\n",
    "    # center=0,\n",
    "    ax=ax,\n",
    "    # col_colors=['#31a354', '#3182bd', '#de2d26']\n",
    "    )"
   ]
  },
  {
   "cell_type": "code",
   "execution_count": 26,
   "metadata": {},
   "outputs": [],
   "source": [
    "tmp_frame = filtered_frame.loc[\n",
    "    filtered_frame.mean(axis=1).sort_values(ascending=True).index.tolist(), :]"
   ]
  },
  {
   "cell_type": "code",
   "execution_count": 34,
   "metadata": {},
   "outputs": [
    {
     "data": {
      "text/plain": [
       "['ZEB1',\n",
       " 'HLTF',\n",
       " 'Sox6',\n",
       " 'Sox2',\n",
       " 'Nr2e3',\n",
       " 'ZEB1',\n",
       " 'YY1',\n",
       " 'En1',\n",
       " 'Znf281',\n",
       " 'RXRA::VDR',\n",
       " 'SOX13',\n",
       " 'Nkx2-5',\n",
       " 'Rarb',\n",
       " 'TP53',\n",
       " 'ZNF24',\n",
       " 'Rhox11',\n",
       " 'HNF4G',\n",
       " 'GATA1',\n",
       " 'HOXB13',\n",
       " 'GATA1::TAL1',\n",
       " 'SOX10',\n",
       " 'Lhx3',\n",
       " 'Sox2',\n",
       " 'Arid3b',\n",
       " 'E2F3',\n",
       " 'BACH2(var.2)',\n",
       " 'IRF6',\n",
       " 'PAX5',\n",
       " 'NR3C1',\n",
       " 'Pax2',\n",
       " 'MAFA',\n",
       " 'ESR1',\n",
       " 'PBX3',\n",
       " 'MZF1(var.2)',\n",
       " 'HLF',\n",
       " 'HINFP',\n",
       " 'Pax5',\n",
       " 'Stat6',\n",
       " 'Spz1',\n",
       " 'NFKB1',\n",
       " 'TAL1',\n",
       " 'SOX8',\n",
       " 'Ahr::Arnt',\n",
       " 'ZBTB32',\n",
       " 'AR',\n",
       " 'PRDM1',\n",
       " 'PKNOX1',\n",
       " 'ZKSCAN5',\n",
       " 'Stat2',\n",
       " 'HLF',\n",
       " 'EGR2',\n",
       " 'IRF2',\n",
       " 'MAFG::NFE2L1',\n",
       " 'CEBPD',\n",
       " 'PAX5',\n",
       " 'Mafb',\n",
       " 'IRF8',\n",
       " 'HINFP',\n",
       " 'FOSL1::JUND(var.2)',\n",
       " 'FOSL1::JUND(var.2)',\n",
       " 'CREB1',\n",
       " 'ELK1',\n",
       " 'IRF1',\n",
       " 'TCFL5',\n",
       " 'IRF3',\n",
       " 'PRDM1',\n",
       " 'STAT1::STAT2',\n",
       " 'FOSL1::JUND',\n",
       " 'SPDEF',\n",
       " 'IRF7',\n",
       " 'FOSL1::JUND',\n",
       " 'GABPA',\n",
       " 'ETS1',\n",
       " 'IRF1',\n",
       " 'SPIB',\n",
       " 'SPI1',\n",
       " 'SPIB',\n",
       " 'IKZF1',\n",
       " 'ELF5',\n",
       " 'SPIC',\n",
       " 'SPI1']"
      ]
     },
     "execution_count": 34,
     "metadata": {},
     "output_type": "execute_result"
    }
   ],
   "source": [
    "filtered_frame.mean(axis=1).sort_values(ascending=True).index.tolist()"
   ]
  },
  {
   "cell_type": "code",
   "execution_count": 33,
   "metadata": {},
   "outputs": [
    {
     "data": {
      "text/html": [
       "<div>\n",
       "<style scoped>\n",
       "    .dataframe tbody tr th:only-of-type {\n",
       "        vertical-align: middle;\n",
       "    }\n",
       "\n",
       "    .dataframe tbody tr th {\n",
       "        vertical-align: top;\n",
       "    }\n",
       "\n",
       "    .dataframe thead th {\n",
       "        text-align: right;\n",
       "    }\n",
       "</style>\n",
       "<table border=\"1\" class=\"dataframe\">\n",
       "  <thead>\n",
       "    <tr style=\"text-align: right;\">\n",
       "      <th></th>\n",
       "      <th>all_200bp_distal</th>\n",
       "      <th>all_200bp</th>\n",
       "    </tr>\n",
       "  </thead>\n",
       "  <tbody>\n",
       "    <tr>\n",
       "      <th>ZEB1</th>\n",
       "      <td>NaN</td>\n",
       "      <td>-2.91</td>\n",
       "    </tr>\n",
       "    <tr>\n",
       "      <th>ZEB1</th>\n",
       "      <td>-15.37</td>\n",
       "      <td>-17.54</td>\n",
       "    </tr>\n",
       "    <tr>\n",
       "      <th>HLTF</th>\n",
       "      <td>-5.66</td>\n",
       "      <td>-3.05</td>\n",
       "    </tr>\n",
       "    <tr>\n",
       "      <th>Sox6</th>\n",
       "      <td>-4.00</td>\n",
       "      <td>-4.00</td>\n",
       "    </tr>\n",
       "    <tr>\n",
       "      <th>Sox2</th>\n",
       "      <td>-2.21</td>\n",
       "      <td>-1.43</td>\n",
       "    </tr>\n",
       "    <tr>\n",
       "      <th>Sox2</th>\n",
       "      <td>-4.28</td>\n",
       "      <td>-3.42</td>\n",
       "    </tr>\n",
       "    <tr>\n",
       "      <th>Nr2e3</th>\n",
       "      <td>-4.19</td>\n",
       "      <td>-1.80</td>\n",
       "    </tr>\n",
       "    <tr>\n",
       "      <th>ZEB1</th>\n",
       "      <td>NaN</td>\n",
       "      <td>-2.91</td>\n",
       "    </tr>\n",
       "    <tr>\n",
       "      <th>ZEB1</th>\n",
       "      <td>-15.37</td>\n",
       "      <td>-17.54</td>\n",
       "    </tr>\n",
       "    <tr>\n",
       "      <th>YY1</th>\n",
       "      <td>-3.57</td>\n",
       "      <td>-2.14</td>\n",
       "    </tr>\n",
       "    <tr>\n",
       "      <th>En1</th>\n",
       "      <td>-2.78</td>\n",
       "      <td>-2.53</td>\n",
       "    </tr>\n",
       "    <tr>\n",
       "      <th>Znf281</th>\n",
       "      <td>-2.84</td>\n",
       "      <td>-2.06</td>\n",
       "    </tr>\n",
       "    <tr>\n",
       "      <th>RXRA::VDR</th>\n",
       "      <td>-1.77</td>\n",
       "      <td>-2.80</td>\n",
       "    </tr>\n",
       "    <tr>\n",
       "      <th>SOX13</th>\n",
       "      <td>-2.18</td>\n",
       "      <td>NaN</td>\n",
       "    </tr>\n",
       "    <tr>\n",
       "      <th>Nkx2-5</th>\n",
       "      <td>-1.91</td>\n",
       "      <td>-2.28</td>\n",
       "    </tr>\n",
       "    <tr>\n",
       "      <th>Rarb</th>\n",
       "      <td>NaN</td>\n",
       "      <td>-2.08</td>\n",
       "    </tr>\n",
       "    <tr>\n",
       "      <th>TP53</th>\n",
       "      <td>-1.99</td>\n",
       "      <td>-2.14</td>\n",
       "    </tr>\n",
       "    <tr>\n",
       "      <th>ZNF24</th>\n",
       "      <td>-2.15</td>\n",
       "      <td>-1.98</td>\n",
       "    </tr>\n",
       "    <tr>\n",
       "      <th>Rhox11</th>\n",
       "      <td>-1.58</td>\n",
       "      <td>-2.53</td>\n",
       "    </tr>\n",
       "    <tr>\n",
       "      <th>HNF4G</th>\n",
       "      <td>-1.93</td>\n",
       "      <td>-2.14</td>\n",
       "    </tr>\n",
       "  </tbody>\n",
       "</table>\n",
       "</div>"
      ],
      "text/plain": [
       "           all_200bp_distal  all_200bp\n",
       "ZEB1                    NaN      -2.91\n",
       "ZEB1                 -15.37     -17.54\n",
       "HLTF                  -5.66      -3.05\n",
       "Sox6                  -4.00      -4.00\n",
       "Sox2                  -2.21      -1.43\n",
       "Sox2                  -4.28      -3.42\n",
       "Nr2e3                 -4.19      -1.80\n",
       "ZEB1                    NaN      -2.91\n",
       "ZEB1                 -15.37     -17.54\n",
       "YY1                   -3.57      -2.14\n",
       "En1                   -2.78      -2.53\n",
       "Znf281                -2.84      -2.06\n",
       "RXRA::VDR             -1.77      -2.80\n",
       "SOX13                 -2.18        NaN\n",
       "Nkx2-5                -1.91      -2.28\n",
       "Rarb                    NaN      -2.08\n",
       "TP53                  -1.99      -2.14\n",
       "ZNF24                 -2.15      -1.98\n",
       "Rhox11                -1.58      -2.53\n",
       "HNF4G                 -1.93      -2.14"
      ]
     },
     "execution_count": 33,
     "metadata": {},
     "output_type": "execute_result"
    }
   ],
   "source": [
    "tmp_frame.head(20)"
   ]
  },
  {
   "cell_type": "code",
   "execution_count": 39,
   "metadata": {},
   "outputs": [
    {
     "data": {
      "text/plain": [
       "<matplotlib.axes._subplots.AxesSubplot at 0x7fbccc2abf10>"
      ]
     },
     "execution_count": 39,
     "metadata": {},
     "output_type": "execute_result"
    },
    {
     "data": {
      "image/png": "[encoded data removed]",
      "text/plain": [
       "<Figure size 288x720 with 2 Axes>"
      ]
     },
     "metadata": {
      "needs_background": "light"
     },
     "output_type": "display_data"
    }
   ],
   "source": [
    "fig, ax = plt.subplots(figsize=(4,10))\n",
    "# sort by new mean\n",
    "tmp_frame = filtered_frame.loc[\n",
    "    filtered_frame.mean(axis=1).sort_values(ascending=True).index.drop_duplicates().tolist(), :]\n",
    "\n",
    "\n",
    "sns.heatmap(\n",
    "    tmp_frame.head(20),\n",
    "    cmap='Blues_r',\n",
    "    linewidths=1,\n",
    "    linecolor='k',\n",
    "    annot=True,\n",
    "    cbar_kws={'label': '-log10(pval)'},\n",
    "    # col_cluster=False,\n",
    "    # square=True,\n",
    "    vmax=0,\n",
    "    ax=ax,\n",
    "    # col_colors=['#31a354', '#3182bd', '#de2d26']\n",
    "    )"
   ]
  },
  {
   "cell_type": "markdown",
   "metadata": {},
   "source": [
    "# Plot motifs horizontally"
   ]
  },
  {
   "cell_type": "code",
   "execution_count": 40,
   "metadata": {},
   "outputs": [
    {
     "data": {
      "image/png": "[encoded data removed]",
      "text/plain": [
       "<Figure size 720x144 with 2 Axes>"
      ]
     },
     "metadata": {
      "needs_background": "light"
     },
     "output_type": "display_data"
    }
   ],
   "source": [
    "fig, ax = plt.subplots(figsize=(10,2))\n",
    "\n",
    "filtered_frame = filtered_frame.sort_values('all_200bp', ascending=False)\n",
    "\n",
    "cm = sns.heatmap(\n",
    "    filtered_frame.loc[:, ['all_200bp']].iloc[:20, :].T,\n",
    "    cmap='RdBu_r',\n",
    "    linewidths=1,\n",
    "    linecolor='k',\n",
    "    # annot=True,\n",
    "    cbar_kws={'label': '-log10(pval)'},\n",
    "    # square=True,\n",
    "    center=0,\n",
    "    ax=ax)\n",
    "\n",
    "ax.set_xticklabels(filtered_frame.index.tolist()[:20], rotation=45, ha='right')\n",
    "ax.set_yticklabels('', rotation=0, ha='center')\n",
    "\n",
    "plt.savefig('./figures/maggie_distal_activated_motifs_merged_all.png', bbox_inches='tight')"
   ]
  },
  {
   "cell_type": "code",
   "execution_count": 41,
   "metadata": {},
   "outputs": [
    {
     "data": {
      "image/png": "[encoded data removed]",
      "text/plain": [
       "<Figure size 720x144 with 2 Axes>"
      ]
     },
     "metadata": {
      "needs_background": "light"
     },
     "output_type": "display_data"
    }
   ],
   "source": [
    "fig, ax = plt.subplots(figsize=(10,2))\n",
    "\n",
    "filtered_frame = filtered_frame.sort_values('all_200bp', ascending=True)\n",
    "\n",
    "cm = sns.heatmap(\n",
    "    filtered_frame.loc[:, ['all_200bp']].iloc[:20, :].T,\n",
    "    cmap='Blues_r',\n",
    "    linewidths=1,\n",
    "    linecolor='k',\n",
    "    # annot=True,\n",
    "    cbar_kws={'label': '-log10(pval)'},\n",
    "    # square=True,\n",
    "    center=0,\n",
    "    vmin=-5,\n",
    "    ax=ax)\n",
    "\n",
    "ax.set_xticklabels(filtered_frame.index.tolist()[:20], rotation=45, ha='right')\n",
    "ax.set_yticklabels('', rotation=0, ha='center')\n",
    "\n",
    "plt.savefig('./figures/maggie_distal_activated_inverse_motifs_merged_all.png', bbox_inches='tight')"
   ]
  },
  {
   "cell_type": "markdown",
   "metadata": {},
   "source": [
    "# Look at TF Expression levels"
   ]
  },
  {
   "cell_type": "code",
   "execution_count": null,
   "metadata": {},
   "outputs": [],
   "source": [
    "fig, axs = plt.subplots(3,3,figsize=(12,12), sharex=True, sharey=True)\n",
    "\n",
    "count=0\n",
    "\n",
    "for i in rpkm.loc[rpkm.index.str.contains('Pax[1-9]$'), :].index.tolist():\n",
    "    survey_strain_gene_exp(i, ax=axs.flatten()[count])\n",
    "    count+=1"
   ]
  },
  {
   "cell_type": "code",
   "execution_count": null,
   "metadata": {},
   "outputs": [],
   "source": [
    "rpkm = survey_strain_amln_gene_exp('Nr6a1')"
   ]
  },
  {
   "cell_type": "code",
   "execution_count": null,
   "metadata": {},
   "outputs": [],
   "source": [
    "fig, axs = plt.subplots(1,3,figsize=(12,4), sharex=True, sharey=True)\n",
    "\n",
    "count=0\n",
    "\n",
    "for i in ['Mitf', 'Tfeb', 'Tfec']:\n",
    "    survey_strain_gene_exp(i, ax=axs.flatten()[count])\n",
    "    count+=1"
   ]
  },
  {
   "cell_type": "code",
   "execution_count": null,
   "metadata": {},
   "outputs": [],
   "source": [
    "fig, axs = plt.subplots(2,2,figsize=(6,6), sharex=True, sharey=True)\n",
    "\n",
    "count=0\n",
    "\n",
    "for i in ['Pbx3', 'Pbx2', 'Meis1', 'Pknox1']:\n",
    "    survey_strain_gene_exp(i, ax=axs.flatten()[count])\n",
    "    count+=1"
   ]
  },
  {
   "cell_type": "code",
   "execution_count": null,
   "metadata": {},
   "outputs": [],
   "source": [
    "rpkm.loc[rpkm.index.str.contains('Bach'), :]"
   ]
  },
  {
   "cell_type": "code",
   "execution_count": null,
   "metadata": {},
   "outputs": [],
   "source": [
    "fig, axs = plt.subplots(1,2,figsize=(6,4), sharex=True, sharey=True)\n",
    "\n",
    "count=0\n",
    "\n",
    "for i in ['Prdm15', 'Arid5a']:\n",
    "    survey_strain_gene_exp(i, ax=axs.flatten()[count])\n",
    "    count+=1"
   ]
  },
  {
   "cell_type": "code",
   "execution_count": null,
   "metadata": {},
   "outputs": [],
   "source": []
  }
 ],
 "metadata": {
  "kernelspec": {
   "display_name": "dataviz",
   "language": "python",
   "name": "dataviz"
  },
  "language_info": {
   "codemirror_mode": {
    "name": "ipython",
    "version": 3
   },
   "file_extension": ".py",
   "mimetype": "text/x-python",
   "name": "python",
   "nbconvert_exporter": "python",
   "pygments_lexer": "ipython3",
   "version": "3.7.5"
  }
 },
 "nbformat": 4,
 "nbformat_minor": 2
}
