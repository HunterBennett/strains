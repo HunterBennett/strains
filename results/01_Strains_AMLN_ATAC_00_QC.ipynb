{
 "cells": [
  {
   "cell_type": "markdown",
   "metadata": {},
   "source": [
    "Hunter Bennett | Glass Lab | Kupffer Strains Project | 05 Feb 2021  "
   ]
  },
  {
   "cell_type": "code",
   "execution_count": 13,
   "metadata": {},
   "outputs": [
    {
     "name": "stdout",
     "output_type": "stream",
     "text": [
      "The autoreload extension is already loaded. To reload it, use:\n",
      "  %reload_ext autoreload\n"
     ]
    }
   ],
   "source": [
    "### header ###\n",
    "__author__ = \"Hunter Bennett\"\n",
    "__license__ = \"BSD\"\n",
    "__email__ = \"hunter.r.bennett@gmail.com\"\n",
    "%load_ext autoreload\n",
    "%autoreload 2\n",
    "### imports ###\n",
    "import sys\n",
    "%matplotlib inline\n",
    "import os\n",
    "import re\n",
    "import glob\n",
    "import pandas as pd\n",
    "import numpy as np\n",
    "import matplotlib\n",
    "import matplotlib.pyplot as plt \n",
    "import seaborn as sns\n",
    "matplotlib.rcParams['savefig.dpi'] = 200\n",
    "sns.set(font_scale=1)\n",
    "sns.set_context('talk')\n",
    "sns.set_style('white')\n",
    "\n",
    "# import custom functions\n",
    "import sys\n",
    "sys.path.insert(0, '/home/h1bennet/code/')\n",
    "from hbUtils import ngs_qc, quantile_normalize_df"
   ]
  },
  {
   "cell_type": "markdown",
   "metadata": {},
   "source": [
    "Set working directory"
   ]
  },
  {
   "cell_type": "code",
   "execution_count": 15,
   "metadata": {},
   "outputs": [],
   "source": [
    "dataDirectory = '/gpfs/data01/glasslab/home/h1bennet/strains/data/ATAC/AMLN_30week/'\n",
    "workingDirectory = '/home/h1bennet/strains/results/01_Strains_AMLN_ATAC/'\n",
    "if not os.path.isdir(workingDirectory):\n",
    "    os.mkdir(workingDirectory)\n",
    "os.chdir(workingDirectory)"
   ]
  },
  {
   "cell_type": "markdown",
   "metadata": {},
   "source": [
    "# Quality control"
   ]
  },
  {
   "cell_type": "code",
   "execution_count": 16,
   "metadata": {},
   "outputs": [
    {
     "name": "stdout",
     "output_type": "stream",
     "text": [
      "/gpfs/data01/glasslab/home/h1bennet/strains/data/ATAC/AMLN_30week//\n",
      "./AMLN_30week_qc/\n"
     ]
    },
    {
     "data": {
      "text/plain": [
       "<Figure size 432x288 with 0 Axes>"
      ]
     },
     "metadata": {},
     "output_type": "display_data"
    }
   ],
   "source": [
    "qc = ngs_qc(dataDirectory, 'atac')"
   ]
  },
  {
   "cell_type": "code",
   "execution_count": 17,
   "metadata": {},
   "outputs": [
    {
     "data": {
      "text/html": [
       "<div>\n",
       "<style scoped>\n",
       "    .dataframe tbody tr th:only-of-type {\n",
       "        vertical-align: middle;\n",
       "    }\n",
       "\n",
       "    .dataframe tbody tr th {\n",
       "        vertical-align: top;\n",
       "    }\n",
       "\n",
       "    .dataframe thead th {\n",
       "        text-align: right;\n",
       "    }\n",
       "</style>\n",
       "<table border=\"1\" class=\"dataframe\">\n",
       "  <thead>\n",
       "    <tr style=\"text-align: right;\">\n",
       "      <th></th>\n",
       "      <th>uniquePositions</th>\n",
       "      <th>fragmentLengthEstimate</th>\n",
       "      <th>tagsPerBP</th>\n",
       "      <th>clonality</th>\n",
       "      <th>GC_Content</th>\n",
       "      <th>totalReads</th>\n",
       "      <th>uniquelyMappedReads</th>\n",
       "      <th>multiMappedReads</th>\n",
       "      <th>unmappedReads</th>\n",
       "      <th>uniquelyMappedFraction</th>\n",
       "      <th>mappedFraction</th>\n",
       "    </tr>\n",
       "  </thead>\n",
       "  <tbody>\n",
       "    <tr>\n",
       "      <th>00_NCoRWT_Kupffer_ATAC_AMLNDiet_20week_LN203D_JSS_TDT_180425</th>\n",
       "      <td>8237700.0</td>\n",
       "      <td>56.0</td>\n",
       "      <td>0.004158</td>\n",
       "      <td>1.376</td>\n",
       "      <td>-1.0</td>\n",
       "      <td>19361182.0</td>\n",
       "      <td>13365320.0</td>\n",
       "      <td>5454120.0</td>\n",
       "      <td>541742.0</td>\n",
       "      <td>0.690315</td>\n",
       "      <td>0.972019</td>\n",
       "    </tr>\n",
       "    <tr>\n",
       "      <th>00_NCoRWT_Kupffer_ATAC_AMLNDiet_21week_LN170C_JSS_TDT_160919</th>\n",
       "      <td>6253498.0</td>\n",
       "      <td>58.0</td>\n",
       "      <td>0.003473</td>\n",
       "      <td>1.514</td>\n",
       "      <td>-1.0</td>\n",
       "      <td>20727593.0</td>\n",
       "      <td>12236737.0</td>\n",
       "      <td>4621242.0</td>\n",
       "      <td>3869614.0</td>\n",
       "      <td>0.590360</td>\n",
       "      <td>0.813311</td>\n",
       "    </tr>\n",
       "    <tr>\n",
       "      <th>00_NCoRWT_Kupffer_ATAC_AMLNDiet_30week_LN136C_JSS_TDT_160919</th>\n",
       "      <td>9064736.0</td>\n",
       "      <td>59.0</td>\n",
       "      <td>0.004248</td>\n",
       "      <td>1.277</td>\n",
       "      <td>-1.0</td>\n",
       "      <td>20234157.0</td>\n",
       "      <td>13531151.0</td>\n",
       "      <td>4727738.0</td>\n",
       "      <td>1975268.0</td>\n",
       "      <td>0.668728</td>\n",
       "      <td>0.902380</td>\n",
       "    </tr>\n",
       "    <tr>\n",
       "      <th>00_NCoRWT_Kupffer_ATAC_AMLNDiet_30week_LN141A_JSS_TDT_160921</th>\n",
       "      <td>7779856.0</td>\n",
       "      <td>58.0</td>\n",
       "      <td>0.003661</td>\n",
       "      <td>1.283</td>\n",
       "      <td>-1.0</td>\n",
       "      <td>22718210.0</td>\n",
       "      <td>13730589.0</td>\n",
       "      <td>4646877.0</td>\n",
       "      <td>4340744.0</td>\n",
       "      <td>0.604387</td>\n",
       "      <td>0.808931</td>\n",
       "    </tr>\n",
       "    <tr>\n",
       "      <th>01_balbc_Kupffer_ATAC_AMLNDiet_30week_Balb3C_JSS_TDT_160926</th>\n",
       "      <td>6057305.0</td>\n",
       "      <td>57.0</td>\n",
       "      <td>0.003482</td>\n",
       "      <td>1.565</td>\n",
       "      <td>-1.0</td>\n",
       "      <td>18190097.0</td>\n",
       "      <td>10509313.0</td>\n",
       "      <td>4289298.0</td>\n",
       "      <td>3391486.0</td>\n",
       "      <td>0.577749</td>\n",
       "      <td>0.813553</td>\n",
       "    </tr>\n",
       "    <tr>\n",
       "      <th>01_balbc_Kupffer_ATAC_AMLNDiet_30week_Balb3D_JSS_TDT_160928</th>\n",
       "      <td>9527141.0</td>\n",
       "      <td>56.0</td>\n",
       "      <td>0.006185</td>\n",
       "      <td>1.768</td>\n",
       "      <td>-1.0</td>\n",
       "      <td>31141068.0</td>\n",
       "      <td>19077862.0</td>\n",
       "      <td>6833961.0</td>\n",
       "      <td>5229245.0</td>\n",
       "      <td>0.612627</td>\n",
       "      <td>0.832079</td>\n",
       "    </tr>\n",
       "    <tr>\n",
       "      <th>02_aj_Kupffer_ATAC_AMLNDiet_30week_AJ3A_JSS_TDT_160926</th>\n",
       "      <td>12016776.0</td>\n",
       "      <td>56.0</td>\n",
       "      <td>0.005644</td>\n",
       "      <td>1.279</td>\n",
       "      <td>-1.0</td>\n",
       "      <td>26107220.0</td>\n",
       "      <td>16762661.0</td>\n",
       "      <td>5535162.0</td>\n",
       "      <td>3809397.0</td>\n",
       "      <td>0.642070</td>\n",
       "      <td>0.854086</td>\n",
       "    </tr>\n",
       "    <tr>\n",
       "      <th>02_aj_Kupffer_ATAC_AMLNDiet_30week_AJ3B_JSS_TDT_160926</th>\n",
       "      <td>11315706.0</td>\n",
       "      <td>56.0</td>\n",
       "      <td>0.005187</td>\n",
       "      <td>1.248</td>\n",
       "      <td>-1.0</td>\n",
       "      <td>25726029.0</td>\n",
       "      <td>16002703.0</td>\n",
       "      <td>5275659.0</td>\n",
       "      <td>4447667.0</td>\n",
       "      <td>0.622043</td>\n",
       "      <td>0.827114</td>\n",
       "    </tr>\n",
       "  </tbody>\n",
       "</table>\n",
       "</div>"
      ],
      "text/plain": [
       "                                                    uniquePositions  \\\n",
       "00_NCoRWT_Kupffer_ATAC_AMLNDiet_20week_LN203D_J...        8237700.0   \n",
       "00_NCoRWT_Kupffer_ATAC_AMLNDiet_21week_LN170C_J...        6253498.0   \n",
       "00_NCoRWT_Kupffer_ATAC_AMLNDiet_30week_LN136C_J...        9064736.0   \n",
       "00_NCoRWT_Kupffer_ATAC_AMLNDiet_30week_LN141A_J...        7779856.0   \n",
       "01_balbc_Kupffer_ATAC_AMLNDiet_30week_Balb3C_JS...        6057305.0   \n",
       "01_balbc_Kupffer_ATAC_AMLNDiet_30week_Balb3D_JS...        9527141.0   \n",
       "02_aj_Kupffer_ATAC_AMLNDiet_30week_AJ3A_JSS_TDT...       12016776.0   \n",
       "02_aj_Kupffer_ATAC_AMLNDiet_30week_AJ3B_JSS_TDT...       11315706.0   \n",
       "\n",
       "                                                    fragmentLengthEstimate  \\\n",
       "00_NCoRWT_Kupffer_ATAC_AMLNDiet_20week_LN203D_J...                    56.0   \n",
       "00_NCoRWT_Kupffer_ATAC_AMLNDiet_21week_LN170C_J...                    58.0   \n",
       "00_NCoRWT_Kupffer_ATAC_AMLNDiet_30week_LN136C_J...                    59.0   \n",
       "00_NCoRWT_Kupffer_ATAC_AMLNDiet_30week_LN141A_J...                    58.0   \n",
       "01_balbc_Kupffer_ATAC_AMLNDiet_30week_Balb3C_JS...                    57.0   \n",
       "01_balbc_Kupffer_ATAC_AMLNDiet_30week_Balb3D_JS...                    56.0   \n",
       "02_aj_Kupffer_ATAC_AMLNDiet_30week_AJ3A_JSS_TDT...                    56.0   \n",
       "02_aj_Kupffer_ATAC_AMLNDiet_30week_AJ3B_JSS_TDT...                    56.0   \n",
       "\n",
       "                                                    tagsPerBP  clonality  \\\n",
       "00_NCoRWT_Kupffer_ATAC_AMLNDiet_20week_LN203D_J...   0.004158      1.376   \n",
       "00_NCoRWT_Kupffer_ATAC_AMLNDiet_21week_LN170C_J...   0.003473      1.514   \n",
       "00_NCoRWT_Kupffer_ATAC_AMLNDiet_30week_LN136C_J...   0.004248      1.277   \n",
       "00_NCoRWT_Kupffer_ATAC_AMLNDiet_30week_LN141A_J...   0.003661      1.283   \n",
       "01_balbc_Kupffer_ATAC_AMLNDiet_30week_Balb3C_JS...   0.003482      1.565   \n",
       "01_balbc_Kupffer_ATAC_AMLNDiet_30week_Balb3D_JS...   0.006185      1.768   \n",
       "02_aj_Kupffer_ATAC_AMLNDiet_30week_AJ3A_JSS_TDT...   0.005644      1.279   \n",
       "02_aj_Kupffer_ATAC_AMLNDiet_30week_AJ3B_JSS_TDT...   0.005187      1.248   \n",
       "\n",
       "                                                    GC_Content  totalReads  \\\n",
       "00_NCoRWT_Kupffer_ATAC_AMLNDiet_20week_LN203D_J...        -1.0  19361182.0   \n",
       "00_NCoRWT_Kupffer_ATAC_AMLNDiet_21week_LN170C_J...        -1.0  20727593.0   \n",
       "00_NCoRWT_Kupffer_ATAC_AMLNDiet_30week_LN136C_J...        -1.0  20234157.0   \n",
       "00_NCoRWT_Kupffer_ATAC_AMLNDiet_30week_LN141A_J...        -1.0  22718210.0   \n",
       "01_balbc_Kupffer_ATAC_AMLNDiet_30week_Balb3C_JS...        -1.0  18190097.0   \n",
       "01_balbc_Kupffer_ATAC_AMLNDiet_30week_Balb3D_JS...        -1.0  31141068.0   \n",
       "02_aj_Kupffer_ATAC_AMLNDiet_30week_AJ3A_JSS_TDT...        -1.0  26107220.0   \n",
       "02_aj_Kupffer_ATAC_AMLNDiet_30week_AJ3B_JSS_TDT...        -1.0  25726029.0   \n",
       "\n",
       "                                                    uniquelyMappedReads  \\\n",
       "00_NCoRWT_Kupffer_ATAC_AMLNDiet_20week_LN203D_J...           13365320.0   \n",
       "00_NCoRWT_Kupffer_ATAC_AMLNDiet_21week_LN170C_J...           12236737.0   \n",
       "00_NCoRWT_Kupffer_ATAC_AMLNDiet_30week_LN136C_J...           13531151.0   \n",
       "00_NCoRWT_Kupffer_ATAC_AMLNDiet_30week_LN141A_J...           13730589.0   \n",
       "01_balbc_Kupffer_ATAC_AMLNDiet_30week_Balb3C_JS...           10509313.0   \n",
       "01_balbc_Kupffer_ATAC_AMLNDiet_30week_Balb3D_JS...           19077862.0   \n",
       "02_aj_Kupffer_ATAC_AMLNDiet_30week_AJ3A_JSS_TDT...           16762661.0   \n",
       "02_aj_Kupffer_ATAC_AMLNDiet_30week_AJ3B_JSS_TDT...           16002703.0   \n",
       "\n",
       "                                                    multiMappedReads  \\\n",
       "00_NCoRWT_Kupffer_ATAC_AMLNDiet_20week_LN203D_J...         5454120.0   \n",
       "00_NCoRWT_Kupffer_ATAC_AMLNDiet_21week_LN170C_J...         4621242.0   \n",
       "00_NCoRWT_Kupffer_ATAC_AMLNDiet_30week_LN136C_J...         4727738.0   \n",
       "00_NCoRWT_Kupffer_ATAC_AMLNDiet_30week_LN141A_J...         4646877.0   \n",
       "01_balbc_Kupffer_ATAC_AMLNDiet_30week_Balb3C_JS...         4289298.0   \n",
       "01_balbc_Kupffer_ATAC_AMLNDiet_30week_Balb3D_JS...         6833961.0   \n",
       "02_aj_Kupffer_ATAC_AMLNDiet_30week_AJ3A_JSS_TDT...         5535162.0   \n",
       "02_aj_Kupffer_ATAC_AMLNDiet_30week_AJ3B_JSS_TDT...         5275659.0   \n",
       "\n",
       "                                                    unmappedReads  \\\n",
       "00_NCoRWT_Kupffer_ATAC_AMLNDiet_20week_LN203D_J...       541742.0   \n",
       "00_NCoRWT_Kupffer_ATAC_AMLNDiet_21week_LN170C_J...      3869614.0   \n",
       "00_NCoRWT_Kupffer_ATAC_AMLNDiet_30week_LN136C_J...      1975268.0   \n",
       "00_NCoRWT_Kupffer_ATAC_AMLNDiet_30week_LN141A_J...      4340744.0   \n",
       "01_balbc_Kupffer_ATAC_AMLNDiet_30week_Balb3C_JS...      3391486.0   \n",
       "01_balbc_Kupffer_ATAC_AMLNDiet_30week_Balb3D_JS...      5229245.0   \n",
       "02_aj_Kupffer_ATAC_AMLNDiet_30week_AJ3A_JSS_TDT...      3809397.0   \n",
       "02_aj_Kupffer_ATAC_AMLNDiet_30week_AJ3B_JSS_TDT...      4447667.0   \n",
       "\n",
       "                                                    uniquelyMappedFraction  \\\n",
       "00_NCoRWT_Kupffer_ATAC_AMLNDiet_20week_LN203D_J...                0.690315   \n",
       "00_NCoRWT_Kupffer_ATAC_AMLNDiet_21week_LN170C_J...                0.590360   \n",
       "00_NCoRWT_Kupffer_ATAC_AMLNDiet_30week_LN136C_J...                0.668728   \n",
       "00_NCoRWT_Kupffer_ATAC_AMLNDiet_30week_LN141A_J...                0.604387   \n",
       "01_balbc_Kupffer_ATAC_AMLNDiet_30week_Balb3C_JS...                0.577749   \n",
       "01_balbc_Kupffer_ATAC_AMLNDiet_30week_Balb3D_JS...                0.612627   \n",
       "02_aj_Kupffer_ATAC_AMLNDiet_30week_AJ3A_JSS_TDT...                0.642070   \n",
       "02_aj_Kupffer_ATAC_AMLNDiet_30week_AJ3B_JSS_TDT...                0.622043   \n",
       "\n",
       "                                                    mappedFraction  \n",
       "00_NCoRWT_Kupffer_ATAC_AMLNDiet_20week_LN203D_J...        0.972019  \n",
       "00_NCoRWT_Kupffer_ATAC_AMLNDiet_21week_LN170C_J...        0.813311  \n",
       "00_NCoRWT_Kupffer_ATAC_AMLNDiet_30week_LN136C_J...        0.902380  \n",
       "00_NCoRWT_Kupffer_ATAC_AMLNDiet_30week_LN141A_J...        0.808931  \n",
       "01_balbc_Kupffer_ATAC_AMLNDiet_30week_Balb3C_JS...        0.813553  \n",
       "01_balbc_Kupffer_ATAC_AMLNDiet_30week_Balb3D_JS...        0.832079  \n",
       "02_aj_Kupffer_ATAC_AMLNDiet_30week_AJ3A_JSS_TDT...        0.854086  \n",
       "02_aj_Kupffer_ATAC_AMLNDiet_30week_AJ3B_JSS_TDT...        0.827114  "
      ]
     },
     "execution_count": 17,
     "metadata": {},
     "output_type": "execute_result"
    }
   ],
   "source": [
    "qc"
   ]
  },
  {
   "cell_type": "markdown",
   "metadata": {},
   "source": [
    "### Plot tag count distribution"
   ]
  },
  {
   "cell_type": "code",
   "execution_count": 5,
   "metadata": {
    "scrolled": false
   },
   "outputs": [
    {
     "data": {
      "image/png": "[encoded data removed]",
      "text/plain": [
       "<Figure size 1080x720 with 6 Axes>"
      ]
     },
     "metadata": {
      "needs_background": "light"
     },
     "output_type": "display_data"
    }
   ],
   "source": [
    "tds = glob.glob(dataDirectory+'/*')\n",
    "tds = np.sort(tds)\n",
    "\n",
    "fig, axs = plt.subplots(3,2, figsize=(15, 10), sharex=True, sharey=True)\n",
    "\n",
    "for ax, td in zip(axs.flatten(), tds):\n",
    "    df = pd.read_csv(td+'/tagCountDistribution.txt', sep='\\t', index_col=0)\n",
    "    df.loc[1:10, :].plot.bar(ax=ax, legend=False)\n",
    "    ax.set_xlabel('Tags per position')\n",
    "    ax.set_ylabel('Fraction of Positions')\n",
    "    ax.set_title(td.split('/')[-1].split('_AL')[0], fontsize=8)"
   ]
  },
  {
   "cell_type": "markdown",
   "metadata": {},
   "source": [
    "### make browser hub (run on command line for now)"
   ]
  },
  {
   "cell_type": "markdown",
   "metadata": {},
   "source": [
    "|Colors:|      |\n",
    "|------|------|\n",
    "|AJ:| 228,26,28|  \n",
    "|Balb:| 55,126,184| \n",
    "|C57:| 77,175,74|\n",
    "\n"
   ]
  },
  {
   "cell_type": "code",
   "execution_count": 6,
   "metadata": {},
   "outputs": [
    {
     "ename": "SyntaxError",
     "evalue": "invalid syntax (<ipython-input-6-45e2a747b012>, line 1)",
     "output_type": "error",
     "traceback": [
      "\u001b[0;36m  File \u001b[0;32m\"<ipython-input-6-45e2a747b012>\"\u001b[0;36m, line \u001b[0;32m1\u001b[0m\n\u001b[0;31m    makeMultiWigHub.pl hrb_strains_atac_amln_30weeks mm10 -force -color \\\u001b[0m\n\u001b[0m                                                   ^\u001b[0m\n\u001b[0;31mSyntaxError\u001b[0m\u001b[0;31m:\u001b[0m invalid syntax\n"
     ]
    }
   ],
   "source": [
    "makeMultiWigHub.pl hrb_strains_atac_amln_30weeks mm10 -force -color \\\n",
    "77,175,74 77,175,74 \\\n",
    "55,126,184 55,126,184 \\\n",
    "228,26,28 228,26,28 \\\n",
    "-d /gpfs/data01/glasslab/home/h1bennet/strains/data/ATAC/AMLN_30week/*"
   ]
  },
  {
   "cell_type": "markdown",
   "metadata": {},
   "source": [
    "# Call Peaks"
   ]
  },
  {
   "cell_type": "code",
   "execution_count": 7,
   "metadata": {},
   "outputs": [
    {
     "name": "stderr",
     "output_type": "stream",
     "text": [
      "rm: cannot remove ‘./peakCalling_homer.sh’: No such file or directory\n"
     ]
    }
   ],
   "source": [
    "%%bash\n",
    "# delete the existing script file\n",
    "rm ./peakCalling_homer.sh\n",
    "# create a script file\n",
    "touch ./peakCalling_homer.sh\n",
    "\n",
    "# if directories don't exist, create them\n",
    "if [ ! -d ./atac_peak_files/ ]; then mkdir ./atac_peak_files; fi"
   ]
  },
  {
   "cell_type": "code",
   "execution_count": 8,
   "metadata": {},
   "outputs": [],
   "source": [
    "with open('./peakCalling_homer.sh', 'w') as f:\n",
    "    for tagdir in os.listdir(dataDirectory):\n",
    "        find_peaks_idr = ['findPeaks', dataDirectory + '/' + tagdir,\n",
    "                          '-L', '0', '-C', '0', '-fdr', '0.9', '-style',\n",
    "                          'factor', '-size', '200', '>',\n",
    "                          workingDirectory + '/atac_peak_files/' + tagdir + '_peaks.tsv',\n",
    "                          '&', '\\n']\n",
    "        find_peaks = ['findPeaks', dataDirectory + '/' + tagdir,\n",
    "                      '-style', 'factor', '-size', '200', '>',\n",
    "                      workingDirectory + '/atac_peak_files/' + tagdir + '_default_peaks.tsv',\n",
    "                      '&', '\\n']\n",
    "        # write commands to file\n",
    "        f.write(' '.join(find_peaks_idr))\n",
    "        f.write(' '.join(find_peaks))\n",
    "f.close()"
   ]
  },
  {
   "cell_type": "markdown",
   "metadata": {},
   "source": [
    "### compile peak stats for QC"
   ]
  },
  {
   "cell_type": "code",
   "execution_count": 9,
   "metadata": {},
   "outputs": [],
   "source": [
    "peak_stats={}\n",
    "\n",
    "for td in os.listdir('./atac_peak_files/'):\n",
    "\n",
    "    peak_dict = {'total_peaks': 0,\n",
    "                 'ip_eff': 0.0,\n",
    "                 'peaks_filt_input': 0,\n",
    "                 'peaks_filt_local': 0,\n",
    "                 'peaks_filt_clonal':0}\n",
    "\n",
    "    with open('./atac_peak_files/'+td, 'r') as f:\n",
    "        for line in f.readlines():\n",
    "            if \"total peaks\" in line:\n",
    "                peak_dict['total_peaks'] = int(line.split(' = ')[-1])\n",
    "            if \"Approximate IP efficiency\" in line:\n",
    "                peak_dict['ip_eff'] = float(line.replace('%\\n', '').split(' = ')[-1])\n",
    "            if \"Putative peaks filtered by input\" in line:\n",
    "                peak_dict['peaks_filt_input'] = int(line.split(' = ')[-1])\n",
    "            if \"Putative peaks filtered by local signal\" in line:\n",
    "                peak_dict['peaks_filt_local'] = int(line.split(' = ')[-1])\n",
    "            if \"Putative peaks filtered for being too clonal\" in line:\n",
    "                peak_dict['peaks_filt_clonal'] = int(line.split(' = ')[-1])\n",
    "                \n",
    "    peak_stats[td] = peak_dict\n",
    "            \n",
    "df = pd.DataFrame(peak_stats).T"
   ]
  },
  {
   "cell_type": "code",
   "execution_count": 10,
   "metadata": {},
   "outputs": [],
   "source": [
    "df.sort_index(inplace=True)"
   ]
  },
  {
   "cell_type": "markdown",
   "metadata": {},
   "source": [
    "### Save to file"
   ]
  },
  {
   "cell_type": "code",
   "execution_count": 11,
   "metadata": {},
   "outputs": [],
   "source": [
    "df.loc[df.index.str.contains('default'), :].to_csv('./default_peak_table.txt', sep='\\t')\n",
    "df.loc[~df.index.str.contains('default'), :].to_csv('./idr_peak_table.txt', sep='\\t')"
   ]
  },
  {
   "cell_type": "code",
   "execution_count": null,
   "metadata": {},
   "outputs": [],
   "source": []
  }
 ],
 "metadata": {
  "kernelspec": {
   "display_name": "dataviz",
   "language": "python",
   "name": "dataviz"
  },
  "language_info": {
   "codemirror_mode": {
    "name": "ipython",
    "version": 3
   },
   "file_extension": ".py",
   "mimetype": "text/x-python",
   "name": "python",
   "nbconvert_exporter": "python",
   "pygments_lexer": "ipython3",
   "version": "3.7.5"
  }
 },
 "nbformat": 4,
 "nbformat_minor": 2
}
