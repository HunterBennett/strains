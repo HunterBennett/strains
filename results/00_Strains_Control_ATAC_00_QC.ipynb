{
 "cells": [
  {
   "cell_type": "markdown",
   "metadata": {},
   "source": [
    "Hunter Bennett | Glass Lab | Kupffer Strains Project | 03 Feb 2021  \n"
   ]
  },
  {
   "cell_type": "code",
   "execution_count": 1,
   "metadata": {},
   "outputs": [],
   "source": [
    "### header ###\n",
    "__author__ = \"Hunter Bennett\"\n",
    "__license__ = \"BSD\"\n",
    "__email__ = \"hunter.r.bennett@gmail.com\"\n",
    "%load_ext autoreload\n",
    "%autoreload 2\n",
    "### imports ###\n",
    "import sys\n",
    "%matplotlib inline\n",
    "import os\n",
    "import re\n",
    "import glob\n",
    "import pandas as pd\n",
    "import numpy as np\n",
    "import matplotlib\n",
    "import matplotlib.pyplot as plt \n",
    "import seaborn as sns\n",
    "matplotlib.rcParams['savefig.dpi'] = 200\n",
    "sns.set(font_scale=1)\n",
    "sns.set_context('talk')\n",
    "sns.set_style('white')\n",
    "\n",
    "# import custom functions\n",
    "import sys\n",
    "sys.path.insert(0, '/home/h1bennet/code/')\n",
    "from hbUtils import ngs_qc, quantile_normalize_df"
   ]
  },
  {
   "cell_type": "markdown",
   "metadata": {},
   "source": [
    "Set working directory"
   ]
  },
  {
   "cell_type": "code",
   "execution_count": 2,
   "metadata": {},
   "outputs": [],
   "source": [
    "dataDirectory = '/gpfs/data01/glasslab/home/h1bennet/strains/data/ATAC/control'\n",
    "workingDirectory = '/home/h1bennet/strains/results/00_Strains_Control_ATAC/'\n",
    "if not os.path.isdir(workingDirectory):\n",
    "    os.mkdir(workingDirectory)\n",
    "os.chdir(workingDirectory)"
   ]
  },
  {
   "cell_type": "markdown",
   "metadata": {},
   "source": [
    "# Quality control"
   ]
  },
  {
   "cell_type": "code",
   "execution_count": 3,
   "metadata": {},
   "outputs": [
    {
     "name": "stdout",
     "output_type": "stream",
     "text": [
      "/gpfs/data01/glasslab/home/h1bennet/strains/data/ATAC/control/\n",
      "./control_qc/\n"
     ]
    },
    {
     "data": {
      "text/plain": [
       "<Figure size 432x288 with 0 Axes>"
      ]
     },
     "metadata": {},
     "output_type": "display_data"
    }
   ],
   "source": [
    "qc = ngs_qc(dataDirectory, 'atac')"
   ]
  },
  {
   "cell_type": "code",
   "execution_count": 4,
   "metadata": {},
   "outputs": [
    {
     "data": {
      "text/html": [
       "<div>\n",
       "<style scoped>\n",
       "    .dataframe tbody tr th:only-of-type {\n",
       "        vertical-align: middle;\n",
       "    }\n",
       "\n",
       "    .dataframe tbody tr th {\n",
       "        vertical-align: top;\n",
       "    }\n",
       "\n",
       "    .dataframe thead th {\n",
       "        text-align: right;\n",
       "    }\n",
       "</style>\n",
       "<table border=\"1\" class=\"dataframe\">\n",
       "  <thead>\n",
       "    <tr style=\"text-align: right;\">\n",
       "      <th></th>\n",
       "      <th>uniquePositions</th>\n",
       "      <th>fragmentLengthEstimate</th>\n",
       "      <th>tagsPerBP</th>\n",
       "      <th>clonality</th>\n",
       "      <th>GC_Content</th>\n",
       "      <th>totalReads</th>\n",
       "      <th>uniquelyMappedReads</th>\n",
       "      <th>multiMappedReads</th>\n",
       "      <th>unmappedReads</th>\n",
       "      <th>uniquelyMappedFraction</th>\n",
       "      <th>mappedFraction</th>\n",
       "    </tr>\n",
       "  </thead>\n",
       "  <tbody>\n",
       "    <tr>\n",
       "      <th>00_NCoRWT_Kupffer_ATAC_control_young_LN12aM_JSS_150812</th>\n",
       "      <td>12134342.0</td>\n",
       "      <td>131.0</td>\n",
       "      <td>0.005059</td>\n",
       "      <td>1.136</td>\n",
       "      <td>-1.000000e+00</td>\n",
       "      <td>21893797.0</td>\n",
       "      <td>14735473.0</td>\n",
       "      <td>6846309.0</td>\n",
       "      <td>312015.0</td>\n",
       "      <td>0.673043</td>\n",
       "      <td>0.985749</td>\n",
       "    </tr>\n",
       "    <tr>\n",
       "      <th>00_NCoRWT_Kupffer_ATAC_control_young_NNaF_JSS_150811</th>\n",
       "      <td>11042244.0</td>\n",
       "      <td>141.0</td>\n",
       "      <td>0.004720</td>\n",
       "      <td>1.165</td>\n",
       "      <td>-1.000000e+00</td>\n",
       "      <td>21202476.0</td>\n",
       "      <td>14234990.0</td>\n",
       "      <td>6721118.0</td>\n",
       "      <td>246368.0</td>\n",
       "      <td>0.671383</td>\n",
       "      <td>0.988380</td>\n",
       "    </tr>\n",
       "    <tr>\n",
       "      <th>01_balbc_Kupffer_ATAC_control_young_balb10A_TDT_JSS_20161013</th>\n",
       "      <td>8207989.0</td>\n",
       "      <td>50.0</td>\n",
       "      <td>0.004177</td>\n",
       "      <td>1.385</td>\n",
       "      <td>2.722428e+09</td>\n",
       "      <td>14885694.0</td>\n",
       "      <td>10205958.0</td>\n",
       "      <td>4427211.0</td>\n",
       "      <td>252525.0</td>\n",
       "      <td>0.685622</td>\n",
       "      <td>0.983036</td>\n",
       "    </tr>\n",
       "    <tr>\n",
       "      <th>01_balbc_Kupffer_ATAC_control_young_balb10B_TDT_JSS_20161013</th>\n",
       "      <td>6162396.0</td>\n",
       "      <td>71.0</td>\n",
       "      <td>0.004554</td>\n",
       "      <td>2.012</td>\n",
       "      <td>2.722426e+09</td>\n",
       "      <td>16679204.0</td>\n",
       "      <td>11026947.0</td>\n",
       "      <td>5388661.0</td>\n",
       "      <td>263596.0</td>\n",
       "      <td>0.661119</td>\n",
       "      <td>0.984196</td>\n",
       "    </tr>\n",
       "    <tr>\n",
       "      <th>01_balbc_Kupffer_ATAC_control_young_balb10C_TDT_JSS_20161013</th>\n",
       "      <td>8183358.0</td>\n",
       "      <td>51.0</td>\n",
       "      <td>0.004359</td>\n",
       "      <td>1.450</td>\n",
       "      <td>2.722426e+09</td>\n",
       "      <td>15651344.0</td>\n",
       "      <td>10638146.0</td>\n",
       "      <td>4735837.0</td>\n",
       "      <td>277361.0</td>\n",
       "      <td>0.679695</td>\n",
       "      <td>0.982279</td>\n",
       "    </tr>\n",
       "    <tr>\n",
       "      <th>02_aj_Kupffer_ATAC_control_young_aj10A_TDT_JSS_20161013</th>\n",
       "      <td>7116976.0</td>\n",
       "      <td>57.0</td>\n",
       "      <td>0.003874</td>\n",
       "      <td>1.482</td>\n",
       "      <td>-1.000000e+00</td>\n",
       "      <td>15494123.0</td>\n",
       "      <td>10576519.0</td>\n",
       "      <td>3832827.0</td>\n",
       "      <td>1084777.0</td>\n",
       "      <td>0.682615</td>\n",
       "      <td>0.929988</td>\n",
       "    </tr>\n",
       "    <tr>\n",
       "      <th>02_aj_Kupffer_ATAC_control_young_aj10B_TDT_JSS_20161013</th>\n",
       "      <td>5337418.0</td>\n",
       "      <td>56.0</td>\n",
       "      <td>0.002723</td>\n",
       "      <td>1.389</td>\n",
       "      <td>-1.000000e+00</td>\n",
       "      <td>14591079.0</td>\n",
       "      <td>8649874.0</td>\n",
       "      <td>2995294.0</td>\n",
       "      <td>2945911.0</td>\n",
       "      <td>0.592819</td>\n",
       "      <td>0.798102</td>\n",
       "    </tr>\n",
       "    <tr>\n",
       "      <th>02_aj_Kupffer_ATAC_control_young_aj10C_TDT_JSS_20161013</th>\n",
       "      <td>4793622.0</td>\n",
       "      <td>54.0</td>\n",
       "      <td>0.002775</td>\n",
       "      <td>1.576</td>\n",
       "      <td>-1.000000e+00</td>\n",
       "      <td>14980212.0</td>\n",
       "      <td>8822754.0</td>\n",
       "      <td>3286242.0</td>\n",
       "      <td>2871216.0</td>\n",
       "      <td>0.588961</td>\n",
       "      <td>0.808333</td>\n",
       "    </tr>\n",
       "  </tbody>\n",
       "</table>\n",
       "</div>"
      ],
      "text/plain": [
       "                                                    uniquePositions  \\\n",
       "00_NCoRWT_Kupffer_ATAC_control_young_LN12aM_JSS...       12134342.0   \n",
       "00_NCoRWT_Kupffer_ATAC_control_young_NNaF_JSS_1...       11042244.0   \n",
       "01_balbc_Kupffer_ATAC_control_young_balb10A_TDT...        8207989.0   \n",
       "01_balbc_Kupffer_ATAC_control_young_balb10B_TDT...        6162396.0   \n",
       "01_balbc_Kupffer_ATAC_control_young_balb10C_TDT...        8183358.0   \n",
       "02_aj_Kupffer_ATAC_control_young_aj10A_TDT_JSS_...        7116976.0   \n",
       "02_aj_Kupffer_ATAC_control_young_aj10B_TDT_JSS_...        5337418.0   \n",
       "02_aj_Kupffer_ATAC_control_young_aj10C_TDT_JSS_...        4793622.0   \n",
       "\n",
       "                                                    fragmentLengthEstimate  \\\n",
       "00_NCoRWT_Kupffer_ATAC_control_young_LN12aM_JSS...                   131.0   \n",
       "00_NCoRWT_Kupffer_ATAC_control_young_NNaF_JSS_1...                   141.0   \n",
       "01_balbc_Kupffer_ATAC_control_young_balb10A_TDT...                    50.0   \n",
       "01_balbc_Kupffer_ATAC_control_young_balb10B_TDT...                    71.0   \n",
       "01_balbc_Kupffer_ATAC_control_young_balb10C_TDT...                    51.0   \n",
       "02_aj_Kupffer_ATAC_control_young_aj10A_TDT_JSS_...                    57.0   \n",
       "02_aj_Kupffer_ATAC_control_young_aj10B_TDT_JSS_...                    56.0   \n",
       "02_aj_Kupffer_ATAC_control_young_aj10C_TDT_JSS_...                    54.0   \n",
       "\n",
       "                                                    tagsPerBP  clonality  \\\n",
       "00_NCoRWT_Kupffer_ATAC_control_young_LN12aM_JSS...   0.005059      1.136   \n",
       "00_NCoRWT_Kupffer_ATAC_control_young_NNaF_JSS_1...   0.004720      1.165   \n",
       "01_balbc_Kupffer_ATAC_control_young_balb10A_TDT...   0.004177      1.385   \n",
       "01_balbc_Kupffer_ATAC_control_young_balb10B_TDT...   0.004554      2.012   \n",
       "01_balbc_Kupffer_ATAC_control_young_balb10C_TDT...   0.004359      1.450   \n",
       "02_aj_Kupffer_ATAC_control_young_aj10A_TDT_JSS_...   0.003874      1.482   \n",
       "02_aj_Kupffer_ATAC_control_young_aj10B_TDT_JSS_...   0.002723      1.389   \n",
       "02_aj_Kupffer_ATAC_control_young_aj10C_TDT_JSS_...   0.002775      1.576   \n",
       "\n",
       "                                                      GC_Content  totalReads  \\\n",
       "00_NCoRWT_Kupffer_ATAC_control_young_LN12aM_JSS... -1.000000e+00  21893797.0   \n",
       "00_NCoRWT_Kupffer_ATAC_control_young_NNaF_JSS_1... -1.000000e+00  21202476.0   \n",
       "01_balbc_Kupffer_ATAC_control_young_balb10A_TDT...  2.722428e+09  14885694.0   \n",
       "01_balbc_Kupffer_ATAC_control_young_balb10B_TDT...  2.722426e+09  16679204.0   \n",
       "01_balbc_Kupffer_ATAC_control_young_balb10C_TDT...  2.722426e+09  15651344.0   \n",
       "02_aj_Kupffer_ATAC_control_young_aj10A_TDT_JSS_... -1.000000e+00  15494123.0   \n",
       "02_aj_Kupffer_ATAC_control_young_aj10B_TDT_JSS_... -1.000000e+00  14591079.0   \n",
       "02_aj_Kupffer_ATAC_control_young_aj10C_TDT_JSS_... -1.000000e+00  14980212.0   \n",
       "\n",
       "                                                    uniquelyMappedReads  \\\n",
       "00_NCoRWT_Kupffer_ATAC_control_young_LN12aM_JSS...           14735473.0   \n",
       "00_NCoRWT_Kupffer_ATAC_control_young_NNaF_JSS_1...           14234990.0   \n",
       "01_balbc_Kupffer_ATAC_control_young_balb10A_TDT...           10205958.0   \n",
       "01_balbc_Kupffer_ATAC_control_young_balb10B_TDT...           11026947.0   \n",
       "01_balbc_Kupffer_ATAC_control_young_balb10C_TDT...           10638146.0   \n",
       "02_aj_Kupffer_ATAC_control_young_aj10A_TDT_JSS_...           10576519.0   \n",
       "02_aj_Kupffer_ATAC_control_young_aj10B_TDT_JSS_...            8649874.0   \n",
       "02_aj_Kupffer_ATAC_control_young_aj10C_TDT_JSS_...            8822754.0   \n",
       "\n",
       "                                                    multiMappedReads  \\\n",
       "00_NCoRWT_Kupffer_ATAC_control_young_LN12aM_JSS...         6846309.0   \n",
       "00_NCoRWT_Kupffer_ATAC_control_young_NNaF_JSS_1...         6721118.0   \n",
       "01_balbc_Kupffer_ATAC_control_young_balb10A_TDT...         4427211.0   \n",
       "01_balbc_Kupffer_ATAC_control_young_balb10B_TDT...         5388661.0   \n",
       "01_balbc_Kupffer_ATAC_control_young_balb10C_TDT...         4735837.0   \n",
       "02_aj_Kupffer_ATAC_control_young_aj10A_TDT_JSS_...         3832827.0   \n",
       "02_aj_Kupffer_ATAC_control_young_aj10B_TDT_JSS_...         2995294.0   \n",
       "02_aj_Kupffer_ATAC_control_young_aj10C_TDT_JSS_...         3286242.0   \n",
       "\n",
       "                                                    unmappedReads  \\\n",
       "00_NCoRWT_Kupffer_ATAC_control_young_LN12aM_JSS...       312015.0   \n",
       "00_NCoRWT_Kupffer_ATAC_control_young_NNaF_JSS_1...       246368.0   \n",
       "01_balbc_Kupffer_ATAC_control_young_balb10A_TDT...       252525.0   \n",
       "01_balbc_Kupffer_ATAC_control_young_balb10B_TDT...       263596.0   \n",
       "01_balbc_Kupffer_ATAC_control_young_balb10C_TDT...       277361.0   \n",
       "02_aj_Kupffer_ATAC_control_young_aj10A_TDT_JSS_...      1084777.0   \n",
       "02_aj_Kupffer_ATAC_control_young_aj10B_TDT_JSS_...      2945911.0   \n",
       "02_aj_Kupffer_ATAC_control_young_aj10C_TDT_JSS_...      2871216.0   \n",
       "\n",
       "                                                    uniquelyMappedFraction  \\\n",
       "00_NCoRWT_Kupffer_ATAC_control_young_LN12aM_JSS...                0.673043   \n",
       "00_NCoRWT_Kupffer_ATAC_control_young_NNaF_JSS_1...                0.671383   \n",
       "01_balbc_Kupffer_ATAC_control_young_balb10A_TDT...                0.685622   \n",
       "01_balbc_Kupffer_ATAC_control_young_balb10B_TDT...                0.661119   \n",
       "01_balbc_Kupffer_ATAC_control_young_balb10C_TDT...                0.679695   \n",
       "02_aj_Kupffer_ATAC_control_young_aj10A_TDT_JSS_...                0.682615   \n",
       "02_aj_Kupffer_ATAC_control_young_aj10B_TDT_JSS_...                0.592819   \n",
       "02_aj_Kupffer_ATAC_control_young_aj10C_TDT_JSS_...                0.588961   \n",
       "\n",
       "                                                    mappedFraction  \n",
       "00_NCoRWT_Kupffer_ATAC_control_young_LN12aM_JSS...        0.985749  \n",
       "00_NCoRWT_Kupffer_ATAC_control_young_NNaF_JSS_1...        0.988380  \n",
       "01_balbc_Kupffer_ATAC_control_young_balb10A_TDT...        0.983036  \n",
       "01_balbc_Kupffer_ATAC_control_young_balb10B_TDT...        0.984196  \n",
       "01_balbc_Kupffer_ATAC_control_young_balb10C_TDT...        0.982279  \n",
       "02_aj_Kupffer_ATAC_control_young_aj10A_TDT_JSS_...        0.929988  \n",
       "02_aj_Kupffer_ATAC_control_young_aj10B_TDT_JSS_...        0.798102  \n",
       "02_aj_Kupffer_ATAC_control_young_aj10C_TDT_JSS_...        0.808333  "
      ]
     },
     "execution_count": 4,
     "metadata": {},
     "output_type": "execute_result"
    }
   ],
   "source": [
    "qc"
   ]
  },
  {
   "cell_type": "markdown",
   "metadata": {},
   "source": [
    "Balbc and AJ are undersequenced compared to C57 - this could effect downstream differential peak calling although we don't use that for much in this case"
   ]
  },
  {
   "cell_type": "markdown",
   "metadata": {},
   "source": [
    "### Plot tag count distribution"
   ]
  },
  {
   "cell_type": "code",
   "execution_count": 5,
   "metadata": {},
   "outputs": [
    {
     "data": {
      "image/png": "[encoded data removed]",
      "text/plain": [
       "<Figure size 1080x720 with 9 Axes>"
      ]
     },
     "metadata": {
      "needs_background": "light"
     },
     "output_type": "display_data"
    }
   ],
   "source": [
    "tds = glob.glob(dataDirectory+'/*')\n",
    "tds = np.sort(tds)\n",
    "\n",
    "fig, axs = plt.subplots(3,3, figsize=(15, 10), sharex=True, sharey=True)\n",
    "\n",
    "for ax, td in zip(axs.flatten(), tds):\n",
    "    df = pd.read_csv(td+'/tagCountDistribution.txt', sep='\\t', index_col=0)\n",
    "    df.loc[1:10, :].plot.bar(ax=ax, legend=False)\n",
    "    ax.set_xlabel('Tags per position')\n",
    "    ax.set_ylabel('Fraction of Positions')\n",
    "    ax.set_title(td.split('/')[-1].split('_AL')[0], fontsize=8)"
   ]
  },
  {
   "cell_type": "markdown",
   "metadata": {},
   "source": [
    "### make browser hub (run on command line for now)"
   ]
  },
  {
   "cell_type": "markdown",
   "metadata": {},
   "source": [
    "|Colors:|      |\n",
    "|------|------|\n",
    "|AJ:| 228,26,28|  \n",
    "|Balb:| 55,126,184| \n",
    "|C57:| 77,175,74|\n",
    "\n"
   ]
  },
  {
   "cell_type": "code",
   "execution_count": 6,
   "metadata": {},
   "outputs": [],
   "source": [
    "# makeMultiWigHub.pl hrb_strains_atac_control_young mm10 -force -color \\\n",
    "# 77,175,74 77,175,74 \\\n",
    "# 55,126,184 55,126,184 55,126,184 \\\n",
    "# 228,26,28 228,26,28 228,26,28 \\\n",
    "# -d /gpfs/data01/glasslab/home/h1bennet/strains/data/ATAC/control/*"
   ]
  },
  {
   "cell_type": "markdown",
   "metadata": {},
   "source": [
    "# Call Peaks"
   ]
  },
  {
   "cell_type": "code",
   "execution_count": 7,
   "metadata": {},
   "outputs": [],
   "source": [
    "%%bash\n",
    "# delete the existing script file\n",
    "rm ./peakCalling_homer.sh\n",
    "# create a script file\n",
    "touch ./peakCalling_homer.sh\n",
    "\n",
    "# if directories don't exist, create them\n",
    "if [ ! -d ./atac_peak_files/ ]; then mkdir ./atac_peak_files; fi"
   ]
  },
  {
   "cell_type": "code",
   "execution_count": 8,
   "metadata": {},
   "outputs": [],
   "source": [
    "with open('./peakCalling_homer.sh', 'w') as f:\n",
    "    for tagdir in os.listdir(dataDirectory):\n",
    "        find_peaks_idr = ['findPeaks', dataDirectory + '/' + tagdir,\n",
    "                          '-L', '0', '-C', '0', '-fdr', '0.9', '-style',\n",
    "                          'factor', '-size', '200', '>',\n",
    "                          workingDirectory + '/atac_peak_files/' + tagdir + '_peaks.tsv',\n",
    "                          '&', '\\n']\n",
    "        find_peaks = ['findPeaks', dataDirectory + '/' + tagdir,\n",
    "                      '-style', 'factor', '-size', '200', '>',\n",
    "                      workingDirectory + '/atac_peak_files/' + tagdir + '_default_peaks.tsv',\n",
    "                      '&', '\\n']\n",
    "        # write commands to file\n",
    "        f.write(' '.join(find_peaks_idr))\n",
    "        f.write(' '.join(find_peaks))\n",
    "f.close()"
   ]
  },
  {
   "cell_type": "markdown",
   "metadata": {},
   "source": [
    "### compile peak stats for QC"
   ]
  },
  {
   "cell_type": "code",
   "execution_count": 9,
   "metadata": {},
   "outputs": [],
   "source": [
    "peak_stats={}\n",
    "\n",
    "for td in os.listdir('./atac_peak_files/'):\n",
    "\n",
    "    peak_dict = {'total_peaks': 0,\n",
    "                 'ip_eff': 0.0,\n",
    "                 'peaks_filt_input': 0,\n",
    "                 'peaks_filt_local': 0,\n",
    "                 'peaks_filt_clonal':0}\n",
    "\n",
    "    with open('./atac_peak_files/'+td, 'r') as f:\n",
    "        for line in f.readlines():\n",
    "            if \"total peaks\" in line:\n",
    "                peak_dict['total_peaks'] = int(line.split(' = ')[-1])\n",
    "            if \"Approximate IP efficiency\" in line:\n",
    "                peak_dict['ip_eff'] = float(line.replace('%\\n', '').split(' = ')[-1])\n",
    "            if \"Putative peaks filtered by input\" in line:\n",
    "                peak_dict['peaks_filt_input'] = int(line.split(' = ')[-1])\n",
    "            if \"Putative peaks filtered by local signal\" in line:\n",
    "                peak_dict['peaks_filt_local'] = int(line.split(' = ')[-1])\n",
    "            if \"Putative peaks filtered for being too clonal\" in line:\n",
    "                peak_dict['peaks_filt_clonal'] = int(line.split(' = ')[-1])\n",
    "                \n",
    "    peak_stats[td] = peak_dict\n",
    "            \n",
    "df = pd.DataFrame(peak_stats).T"
   ]
  },
  {
   "cell_type": "code",
   "execution_count": 10,
   "metadata": {},
   "outputs": [],
   "source": [
    "df.sort_index(inplace=True)"
   ]
  },
  {
   "cell_type": "markdown",
   "metadata": {},
   "source": [
    "### Save to file"
   ]
  },
  {
   "cell_type": "code",
   "execution_count": 16,
   "metadata": {},
   "outputs": [
    {
     "name": "stdout",
     "output_type": "stream",
     "text": [
      "annotatePeaks_homer.sh\tdifferential_peaks  mergePeaks_homer.sh\r\n",
      "atac_idr\t\tfigures\t\t    motif_calling\r\n",
      "atac_peak_files\t\tidr_peaks\t    peakCalling_homer.sh\r\n",
      "bed_files_ucsc\t\tidr_peak_table.txt  run_idr.sh\r\n",
      "control_qc\t\tmaggie_output\t    runMaggie.sh\r\n",
      "default_peak_table.txt\tmerged_peaks\r\n",
      "differential_fasta\tmerged_tagdirs\r\n"
     ]
    }
   ],
   "source": [
    "!ls"
   ]
  },
  {
   "cell_type": "code",
   "execution_count": 15,
   "metadata": {},
   "outputs": [],
   "source": [
    "df.loc[df.index.str.contains('default'), :].to_csv('./default_peak_table.txt', sep='\\t')\n",
    "df.loc[~df.index.str.contains('default'), :].to_csv('./idr_peak_table.txt', sep='\\t')"
   ]
  },
  {
   "cell_type": "code",
   "execution_count": 12,
   "metadata": {},
   "outputs": [
    {
     "data": {
      "text/html": [
       "<div>\n",
       "<style scoped>\n",
       "    .dataframe tbody tr th:only-of-type {\n",
       "        vertical-align: middle;\n",
       "    }\n",
       "\n",
       "    .dataframe tbody tr th {\n",
       "        vertical-align: top;\n",
       "    }\n",
       "\n",
       "    .dataframe thead th {\n",
       "        text-align: right;\n",
       "    }\n",
       "</style>\n",
       "<table border=\"1\" class=\"dataframe\">\n",
       "  <thead>\n",
       "    <tr style=\"text-align: right;\">\n",
       "      <th></th>\n",
       "      <th>total_peaks</th>\n",
       "      <th>ip_eff</th>\n",
       "      <th>peaks_filt_input</th>\n",
       "      <th>peaks_filt_local</th>\n",
       "      <th>peaks_filt_clonal</th>\n",
       "    </tr>\n",
       "  </thead>\n",
       "  <tbody>\n",
       "    <tr>\n",
       "      <th>00_NCoRWT_Kupffer_ATAC_control_young_LN12aM_JSS_150812_default_peaks.tsv</th>\n",
       "      <td>43972.0</td>\n",
       "      <td>11.38</td>\n",
       "      <td>0.0</td>\n",
       "      <td>10309.0</td>\n",
       "      <td>28.0</td>\n",
       "    </tr>\n",
       "    <tr>\n",
       "      <th>00_NCoRWT_Kupffer_ATAC_control_young_NNaF_JSS_150811_default_peaks.tsv</th>\n",
       "      <td>49840.0</td>\n",
       "      <td>13.90</td>\n",
       "      <td>0.0</td>\n",
       "      <td>12054.0</td>\n",
       "      <td>28.0</td>\n",
       "    </tr>\n",
       "    <tr>\n",
       "      <th>01_balbc_Kupffer_ATAC_control_young_balb10A_TDT_JSS_20161013_default_peaks.tsv</th>\n",
       "      <td>27016.0</td>\n",
       "      <td>6.13</td>\n",
       "      <td>0.0</td>\n",
       "      <td>3527.0</td>\n",
       "      <td>42.0</td>\n",
       "    </tr>\n",
       "    <tr>\n",
       "      <th>01_balbc_Kupffer_ATAC_control_young_balb10B_TDT_JSS_20161013_default_peaks.tsv</th>\n",
       "      <td>43612.0</td>\n",
       "      <td>14.94</td>\n",
       "      <td>0.0</td>\n",
       "      <td>5777.0</td>\n",
       "      <td>26.0</td>\n",
       "    </tr>\n",
       "    <tr>\n",
       "      <th>01_balbc_Kupffer_ATAC_control_young_balb10C_TDT_JSS_20161013_default_peaks.tsv</th>\n",
       "      <td>22752.0</td>\n",
       "      <td>4.96</td>\n",
       "      <td>0.0</td>\n",
       "      <td>3633.0</td>\n",
       "      <td>41.0</td>\n",
       "    </tr>\n",
       "    <tr>\n",
       "      <th>02_aj_Kupffer_ATAC_control_young_aj10A_TDT_JSS_20161013_default_peaks.tsv</th>\n",
       "      <td>31627.0</td>\n",
       "      <td>8.89</td>\n",
       "      <td>0.0</td>\n",
       "      <td>5872.0</td>\n",
       "      <td>21.0</td>\n",
       "    </tr>\n",
       "    <tr>\n",
       "      <th>02_aj_Kupffer_ATAC_control_young_aj10B_TDT_JSS_20161013_default_peaks.tsv</th>\n",
       "      <td>20238.0</td>\n",
       "      <td>5.81</td>\n",
       "      <td>0.0</td>\n",
       "      <td>1828.0</td>\n",
       "      <td>20.0</td>\n",
       "    </tr>\n",
       "    <tr>\n",
       "      <th>02_aj_Kupffer_ATAC_control_young_aj10C_TDT_JSS_20161013_default_peaks.tsv</th>\n",
       "      <td>19243.0</td>\n",
       "      <td>5.04</td>\n",
       "      <td>0.0</td>\n",
       "      <td>1589.0</td>\n",
       "      <td>20.0</td>\n",
       "    </tr>\n",
       "  </tbody>\n",
       "</table>\n",
       "</div>"
      ],
      "text/plain": [
       "                                                    total_peaks  ip_eff  \\\n",
       "00_NCoRWT_Kupffer_ATAC_control_young_LN12aM_JSS...      43972.0   11.38   \n",
       "00_NCoRWT_Kupffer_ATAC_control_young_NNaF_JSS_1...      49840.0   13.90   \n",
       "01_balbc_Kupffer_ATAC_control_young_balb10A_TDT...      27016.0    6.13   \n",
       "01_balbc_Kupffer_ATAC_control_young_balb10B_TDT...      43612.0   14.94   \n",
       "01_balbc_Kupffer_ATAC_control_young_balb10C_TDT...      22752.0    4.96   \n",
       "02_aj_Kupffer_ATAC_control_young_aj10A_TDT_JSS_...      31627.0    8.89   \n",
       "02_aj_Kupffer_ATAC_control_young_aj10B_TDT_JSS_...      20238.0    5.81   \n",
       "02_aj_Kupffer_ATAC_control_young_aj10C_TDT_JSS_...      19243.0    5.04   \n",
       "\n",
       "                                                    peaks_filt_input  \\\n",
       "00_NCoRWT_Kupffer_ATAC_control_young_LN12aM_JSS...               0.0   \n",
       "00_NCoRWT_Kupffer_ATAC_control_young_NNaF_JSS_1...               0.0   \n",
       "01_balbc_Kupffer_ATAC_control_young_balb10A_TDT...               0.0   \n",
       "01_balbc_Kupffer_ATAC_control_young_balb10B_TDT...               0.0   \n",
       "01_balbc_Kupffer_ATAC_control_young_balb10C_TDT...               0.0   \n",
       "02_aj_Kupffer_ATAC_control_young_aj10A_TDT_JSS_...               0.0   \n",
       "02_aj_Kupffer_ATAC_control_young_aj10B_TDT_JSS_...               0.0   \n",
       "02_aj_Kupffer_ATAC_control_young_aj10C_TDT_JSS_...               0.0   \n",
       "\n",
       "                                                    peaks_filt_local  \\\n",
       "00_NCoRWT_Kupffer_ATAC_control_young_LN12aM_JSS...           10309.0   \n",
       "00_NCoRWT_Kupffer_ATAC_control_young_NNaF_JSS_1...           12054.0   \n",
       "01_balbc_Kupffer_ATAC_control_young_balb10A_TDT...            3527.0   \n",
       "01_balbc_Kupffer_ATAC_control_young_balb10B_TDT...            5777.0   \n",
       "01_balbc_Kupffer_ATAC_control_young_balb10C_TDT...            3633.0   \n",
       "02_aj_Kupffer_ATAC_control_young_aj10A_TDT_JSS_...            5872.0   \n",
       "02_aj_Kupffer_ATAC_control_young_aj10B_TDT_JSS_...            1828.0   \n",
       "02_aj_Kupffer_ATAC_control_young_aj10C_TDT_JSS_...            1589.0   \n",
       "\n",
       "                                                    peaks_filt_clonal  \n",
       "00_NCoRWT_Kupffer_ATAC_control_young_LN12aM_JSS...               28.0  \n",
       "00_NCoRWT_Kupffer_ATAC_control_young_NNaF_JSS_1...               28.0  \n",
       "01_balbc_Kupffer_ATAC_control_young_balb10A_TDT...               42.0  \n",
       "01_balbc_Kupffer_ATAC_control_young_balb10B_TDT...               26.0  \n",
       "01_balbc_Kupffer_ATAC_control_young_balb10C_TDT...               41.0  \n",
       "02_aj_Kupffer_ATAC_control_young_aj10A_TDT_JSS_...               21.0  \n",
       "02_aj_Kupffer_ATAC_control_young_aj10B_TDT_JSS_...               20.0  \n",
       "02_aj_Kupffer_ATAC_control_young_aj10C_TDT_JSS_...               20.0  "
      ]
     },
     "execution_count": 12,
     "metadata": {},
     "output_type": "execute_result"
    }
   ],
   "source": [
    "df.loc[df.index.str.contains('default'), :]"
   ]
  },
  {
   "cell_type": "code",
   "execution_count": null,
   "metadata": {},
   "outputs": [],
   "source": []
  }
 ],
 "metadata": {
  "kernelspec": {
   "display_name": "dataviz",
   "language": "python",
   "name": "dataviz"
  },
  "language_info": {
   "codemirror_mode": {
    "name": "ipython",
    "version": 3
   },
   "file_extension": ".py",
   "mimetype": "text/x-python",
   "name": "python",
   "nbconvert_exporter": "python",
   "pygments_lexer": "ipython3",
   "version": "3.7.5"
  }
 },
 "nbformat": 4,
 "nbformat_minor": 2
}
