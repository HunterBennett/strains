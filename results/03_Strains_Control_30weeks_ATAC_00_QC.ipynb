{
 "cells": [
  {
   "cell_type": "markdown",
   "metadata": {},
   "source": [
    "Hunter Bennett | Glass Lab | Kupffer Strains | 07 Feb 2021\n",
    "_____\n",
    "Note that this has an ATAC TBA script at the end that we can use to help us implement TBA"
   ]
  },
  {
   "cell_type": "code",
   "execution_count": 2,
   "metadata": {},
   "outputs": [],
   "source": [
    "### header ###\n",
    "__author__ = \"Hunter Bennett\"\n",
    "__license__ = \"BSD\"\n",
    "__email__ = \"hunter.r.bennett@gmail.com\"\n",
    "%load_ext autoreload\n",
    "%autoreload 2\n",
    "### imports ###\n",
    "import sys\n",
    "%matplotlib inline\n",
    "import os\n",
    "import re\n",
    "import glob\n",
    "import pandas as pd\n",
    "import numpy as np\n",
    "import matplotlib\n",
    "import matplotlib.pyplot as plt \n",
    "import seaborn as sns\n",
    "matplotlib.rcParams['savefig.dpi'] = 200\n",
    "sns.set(font_scale=1)\n",
    "sns.set_context('talk')\n",
    "sns.set_style('white')\n",
    "\n",
    "# import custom functions\n",
    "import sys\n",
    "sys.path.insert(0, '/home/h1bennet/code/')\n",
    "from hbUtils import ngs_qc, quantile_normalize_df"
   ]
  },
  {
   "cell_type": "markdown",
   "metadata": {},
   "source": [
    "Set working directory"
   ]
  },
  {
   "cell_type": "code",
   "execution_count": 3,
   "metadata": {},
   "outputs": [],
   "source": [
    "dataDirectory = '/gpfs/data01/glasslab/home/h1bennet/strains/data/ATAC/control_30week/'\n",
    "workingDirectory = '/home/h1bennet/strains/results/03_Strains_Control_30weeks_ATAC/'\n",
    "if not os.path.isdir(workingDirectory):\n",
    "    os.mkdir(workingDirectory)\n",
    "os.chdir(workingDirectory)"
   ]
  },
  {
   "cell_type": "markdown",
   "metadata": {},
   "source": [
    "# Quality control"
   ]
  },
  {
   "cell_type": "code",
   "execution_count": 4,
   "metadata": {},
   "outputs": [
    {
     "name": "stdout",
     "output_type": "stream",
     "text": [
      "/gpfs/data01/glasslab/home/h1bennet/strains/data/ATAC/control_30week//\n",
      "./control_30week_qc/\n"
     ]
    },
    {
     "data": {
      "text/plain": [
       "<Figure size 432x288 with 0 Axes>"
      ]
     },
     "metadata": {},
     "output_type": "display_data"
    }
   ],
   "source": [
    "qc = ngs_qc(dataDirectory, 'atac')"
   ]
  },
  {
   "cell_type": "code",
   "execution_count": 5,
   "metadata": {},
   "outputs": [
    {
     "data": {
      "text/html": [
       "<div>\n",
       "<style scoped>\n",
       "    .dataframe tbody tr th:only-of-type {\n",
       "        vertical-align: middle;\n",
       "    }\n",
       "\n",
       "    .dataframe tbody tr th {\n",
       "        vertical-align: top;\n",
       "    }\n",
       "\n",
       "    .dataframe thead th {\n",
       "        text-align: right;\n",
       "    }\n",
       "</style>\n",
       "<table border=\"1\" class=\"dataframe\">\n",
       "  <thead>\n",
       "    <tr style=\"text-align: right;\">\n",
       "      <th></th>\n",
       "      <th>uniquePositions</th>\n",
       "      <th>fragmentLengthEstimate</th>\n",
       "      <th>tagsPerBP</th>\n",
       "      <th>clonality</th>\n",
       "      <th>GC_Content</th>\n",
       "      <th>totalReads</th>\n",
       "      <th>uniquelyMappedReads</th>\n",
       "      <th>multiMappedReads</th>\n",
       "      <th>unmappedReads</th>\n",
       "      <th>uniquelyMappedFraction</th>\n",
       "      <th>mappedFraction</th>\n",
       "    </tr>\n",
       "  </thead>\n",
       "  <tbody>\n",
       "    <tr>\n",
       "      <th>00_NCoRWT_Kupffer_ATAC_ControlDiet_30week_LN134B_JSS_TDT_160921</th>\n",
       "      <td>6078794.0</td>\n",
       "      <td>57.0</td>\n",
       "      <td>0.003394</td>\n",
       "      <td>1.522</td>\n",
       "      <td>-1.0</td>\n",
       "      <td>24458167.0</td>\n",
       "      <td>14418539.0</td>\n",
       "      <td>5462867.0</td>\n",
       "      <td>4576761.0</td>\n",
       "      <td>0.589518</td>\n",
       "      <td>0.812874</td>\n",
       "    </tr>\n",
       "    <tr>\n",
       "      <th>00_NCoRWT_Kupffer_ATAC_ControlDiet_30week_LN134D_JSS_TDT_160921</th>\n",
       "      <td>5725028.0</td>\n",
       "      <td>56.0</td>\n",
       "      <td>0.003223</td>\n",
       "      <td>1.534</td>\n",
       "      <td>-1.0</td>\n",
       "      <td>27264743.0</td>\n",
       "      <td>13520493.0</td>\n",
       "      <td>4869915.0</td>\n",
       "      <td>8874335.0</td>\n",
       "      <td>0.495897</td>\n",
       "      <td>0.674512</td>\n",
       "    </tr>\n",
       "    <tr>\n",
       "      <th>01_balbc_Kupffer_ATAC_ControlDiet_30week_Balb1A_JSS_TDT_160926</th>\n",
       "      <td>11386065.0</td>\n",
       "      <td>56.0</td>\n",
       "      <td>0.005321</td>\n",
       "      <td>1.272</td>\n",
       "      <td>-1.0</td>\n",
       "      <td>28663067.0</td>\n",
       "      <td>16710298.0</td>\n",
       "      <td>6139465.0</td>\n",
       "      <td>5813304.0</td>\n",
       "      <td>0.582991</td>\n",
       "      <td>0.797185</td>\n",
       "    </tr>\n",
       "    <tr>\n",
       "      <th>01_balbc_Kupffer_ATAC_ControlDiet_30week_Balb1B_JSS_TDT_160926</th>\n",
       "      <td>9460597.0</td>\n",
       "      <td>57.0</td>\n",
       "      <td>0.004760</td>\n",
       "      <td>1.370</td>\n",
       "      <td>-1.0</td>\n",
       "      <td>25446368.0</td>\n",
       "      <td>14965517.0</td>\n",
       "      <td>4921559.0</td>\n",
       "      <td>5559292.0</td>\n",
       "      <td>0.588120</td>\n",
       "      <td>0.781529</td>\n",
       "    </tr>\n",
       "    <tr>\n",
       "      <th>02_aj_Kupffer_ATAC_ControlDiet_30week_AJ1B_JSS_TDT_160926</th>\n",
       "      <td>7089383.0</td>\n",
       "      <td>57.0</td>\n",
       "      <td>0.004712</td>\n",
       "      <td>1.810</td>\n",
       "      <td>-1.0</td>\n",
       "      <td>24833625.0</td>\n",
       "      <td>14500170.0</td>\n",
       "      <td>5329546.0</td>\n",
       "      <td>5003909.0</td>\n",
       "      <td>0.583893</td>\n",
       "      <td>0.798503</td>\n",
       "    </tr>\n",
       "    <tr>\n",
       "      <th>02_aj_Kupffer_ATAC_ControlDiet_30week_AJ1C_JSS_TDT_160928</th>\n",
       "      <td>8986714.0</td>\n",
       "      <td>57.0</td>\n",
       "      <td>0.004854</td>\n",
       "      <td>1.470</td>\n",
       "      <td>-1.0</td>\n",
       "      <td>24162167.0</td>\n",
       "      <td>14863398.0</td>\n",
       "      <td>5383653.0</td>\n",
       "      <td>3915116.0</td>\n",
       "      <td>0.615152</td>\n",
       "      <td>0.837965</td>\n",
       "    </tr>\n",
       "  </tbody>\n",
       "</table>\n",
       "</div>"
      ],
      "text/plain": [
       "                                                    uniquePositions  \\\n",
       "00_NCoRWT_Kupffer_ATAC_ControlDiet_30week_LN134...        6078794.0   \n",
       "00_NCoRWT_Kupffer_ATAC_ControlDiet_30week_LN134...        5725028.0   \n",
       "01_balbc_Kupffer_ATAC_ControlDiet_30week_Balb1A...       11386065.0   \n",
       "01_balbc_Kupffer_ATAC_ControlDiet_30week_Balb1B...        9460597.0   \n",
       "02_aj_Kupffer_ATAC_ControlDiet_30week_AJ1B_JSS_...        7089383.0   \n",
       "02_aj_Kupffer_ATAC_ControlDiet_30week_AJ1C_JSS_...        8986714.0   \n",
       "\n",
       "                                                    fragmentLengthEstimate  \\\n",
       "00_NCoRWT_Kupffer_ATAC_ControlDiet_30week_LN134...                    57.0   \n",
       "00_NCoRWT_Kupffer_ATAC_ControlDiet_30week_LN134...                    56.0   \n",
       "01_balbc_Kupffer_ATAC_ControlDiet_30week_Balb1A...                    56.0   \n",
       "01_balbc_Kupffer_ATAC_ControlDiet_30week_Balb1B...                    57.0   \n",
       "02_aj_Kupffer_ATAC_ControlDiet_30week_AJ1B_JSS_...                    57.0   \n",
       "02_aj_Kupffer_ATAC_ControlDiet_30week_AJ1C_JSS_...                    57.0   \n",
       "\n",
       "                                                    tagsPerBP  clonality  \\\n",
       "00_NCoRWT_Kupffer_ATAC_ControlDiet_30week_LN134...   0.003394      1.522   \n",
       "00_NCoRWT_Kupffer_ATAC_ControlDiet_30week_LN134...   0.003223      1.534   \n",
       "01_balbc_Kupffer_ATAC_ControlDiet_30week_Balb1A...   0.005321      1.272   \n",
       "01_balbc_Kupffer_ATAC_ControlDiet_30week_Balb1B...   0.004760      1.370   \n",
       "02_aj_Kupffer_ATAC_ControlDiet_30week_AJ1B_JSS_...   0.004712      1.810   \n",
       "02_aj_Kupffer_ATAC_ControlDiet_30week_AJ1C_JSS_...   0.004854      1.470   \n",
       "\n",
       "                                                    GC_Content  totalReads  \\\n",
       "00_NCoRWT_Kupffer_ATAC_ControlDiet_30week_LN134...        -1.0  24458167.0   \n",
       "00_NCoRWT_Kupffer_ATAC_ControlDiet_30week_LN134...        -1.0  27264743.0   \n",
       "01_balbc_Kupffer_ATAC_ControlDiet_30week_Balb1A...        -1.0  28663067.0   \n",
       "01_balbc_Kupffer_ATAC_ControlDiet_30week_Balb1B...        -1.0  25446368.0   \n",
       "02_aj_Kupffer_ATAC_ControlDiet_30week_AJ1B_JSS_...        -1.0  24833625.0   \n",
       "02_aj_Kupffer_ATAC_ControlDiet_30week_AJ1C_JSS_...        -1.0  24162167.0   \n",
       "\n",
       "                                                    uniquelyMappedReads  \\\n",
       "00_NCoRWT_Kupffer_ATAC_ControlDiet_30week_LN134...           14418539.0   \n",
       "00_NCoRWT_Kupffer_ATAC_ControlDiet_30week_LN134...           13520493.0   \n",
       "01_balbc_Kupffer_ATAC_ControlDiet_30week_Balb1A...           16710298.0   \n",
       "01_balbc_Kupffer_ATAC_ControlDiet_30week_Balb1B...           14965517.0   \n",
       "02_aj_Kupffer_ATAC_ControlDiet_30week_AJ1B_JSS_...           14500170.0   \n",
       "02_aj_Kupffer_ATAC_ControlDiet_30week_AJ1C_JSS_...           14863398.0   \n",
       "\n",
       "                                                    multiMappedReads  \\\n",
       "00_NCoRWT_Kupffer_ATAC_ControlDiet_30week_LN134...         5462867.0   \n",
       "00_NCoRWT_Kupffer_ATAC_ControlDiet_30week_LN134...         4869915.0   \n",
       "01_balbc_Kupffer_ATAC_ControlDiet_30week_Balb1A...         6139465.0   \n",
       "01_balbc_Kupffer_ATAC_ControlDiet_30week_Balb1B...         4921559.0   \n",
       "02_aj_Kupffer_ATAC_ControlDiet_30week_AJ1B_JSS_...         5329546.0   \n",
       "02_aj_Kupffer_ATAC_ControlDiet_30week_AJ1C_JSS_...         5383653.0   \n",
       "\n",
       "                                                    unmappedReads  \\\n",
       "00_NCoRWT_Kupffer_ATAC_ControlDiet_30week_LN134...      4576761.0   \n",
       "00_NCoRWT_Kupffer_ATAC_ControlDiet_30week_LN134...      8874335.0   \n",
       "01_balbc_Kupffer_ATAC_ControlDiet_30week_Balb1A...      5813304.0   \n",
       "01_balbc_Kupffer_ATAC_ControlDiet_30week_Balb1B...      5559292.0   \n",
       "02_aj_Kupffer_ATAC_ControlDiet_30week_AJ1B_JSS_...      5003909.0   \n",
       "02_aj_Kupffer_ATAC_ControlDiet_30week_AJ1C_JSS_...      3915116.0   \n",
       "\n",
       "                                                    uniquelyMappedFraction  \\\n",
       "00_NCoRWT_Kupffer_ATAC_ControlDiet_30week_LN134...                0.589518   \n",
       "00_NCoRWT_Kupffer_ATAC_ControlDiet_30week_LN134...                0.495897   \n",
       "01_balbc_Kupffer_ATAC_ControlDiet_30week_Balb1A...                0.582991   \n",
       "01_balbc_Kupffer_ATAC_ControlDiet_30week_Balb1B...                0.588120   \n",
       "02_aj_Kupffer_ATAC_ControlDiet_30week_AJ1B_JSS_...                0.583893   \n",
       "02_aj_Kupffer_ATAC_ControlDiet_30week_AJ1C_JSS_...                0.615152   \n",
       "\n",
       "                                                    mappedFraction  \n",
       "00_NCoRWT_Kupffer_ATAC_ControlDiet_30week_LN134...        0.812874  \n",
       "00_NCoRWT_Kupffer_ATAC_ControlDiet_30week_LN134...        0.674512  \n",
       "01_balbc_Kupffer_ATAC_ControlDiet_30week_Balb1A...        0.797185  \n",
       "01_balbc_Kupffer_ATAC_ControlDiet_30week_Balb1B...        0.781529  \n",
       "02_aj_Kupffer_ATAC_ControlDiet_30week_AJ1B_JSS_...        0.798503  \n",
       "02_aj_Kupffer_ATAC_ControlDiet_30week_AJ1C_JSS_...        0.837965  "
      ]
     },
     "execution_count": 5,
     "metadata": {},
     "output_type": "execute_result"
    }
   ],
   "source": [
    "qc"
   ]
  },
  {
   "cell_type": "markdown",
   "metadata": {},
   "source": [
    "### Plot tag count distribution"
   ]
  },
  {
   "cell_type": "code",
   "execution_count": 5,
   "metadata": {},
   "outputs": [
    {
     "data": {
      "image/png": "[encoded data removed]",
      "text/plain": [
       "<Figure size 1080x720 with 9 Axes>"
      ]
     },
     "metadata": {
      "needs_background": "light"
     },
     "output_type": "display_data"
    }
   ],
   "source": [
    "tds = glob.glob(dataDirectory+'/*')\n",
    "tds = np.sort(tds)\n",
    "\n",
    "fig, axs = plt.subplots(3,3, figsize=(15, 10), sharex=True, sharey=True)\n",
    "\n",
    "for ax, td in zip(axs.flatten(), tds):\n",
    "    df = pd.read_csv(td+'/tagCountDistribution.txt', sep='\\t', index_col=0)\n",
    "    df.loc[1:10, :].plot.bar(ax=ax, legend=False)\n",
    "    ax.set_xlabel('Tags per position')\n",
    "    ax.set_ylabel('Fraction of Positions')\n",
    "    ax.set_title(td.split('/')[-1].split('_AL')[0], fontsize=8)\n",
    "\n",
    "plt.savefig('./control_30week_qc/tag_count_distribution.png', bbox_inches='tight')"
   ]
  },
  {
   "cell_type": "markdown",
   "metadata": {},
   "source": [
    "### make browser hub (run on command line for now)"
   ]
  },
  {
   "cell_type": "markdown",
   "metadata": {},
   "source": [
    "|Colors:|      |\n",
    "|------|------|\n",
    "|AJ:| 228,26,28|  \n",
    "|Balb:| 55,126,184| \n",
    "|C57:| 77,175,74|\n",
    "\n"
   ]
  },
  {
   "cell_type": "code",
   "execution_count": 8,
   "metadata": {},
   "outputs": [
    {
     "ename": "SyntaxError",
     "evalue": "invalid syntax (<ipython-input-8-2a8ec57607b8>, line 1)",
     "output_type": "error",
     "traceback": [
      "\u001b[0;36m  File \u001b[0;32m\"<ipython-input-8-2a8ec57607b8>\"\u001b[0;36m, line \u001b[0;32m1\u001b[0m\n\u001b[0;31m    makeMultiWigHub.pl hrb_strains_atac_ccl4_6wks mm10 -force -color \\\u001b[0m\n\u001b[0m                                                ^\u001b[0m\n\u001b[0;31mSyntaxError\u001b[0m\u001b[0;31m:\u001b[0m invalid syntax\n"
     ]
    }
   ],
   "source": [
    "makeMultiWigHub.pl hrb_strains_atac_control_30weeks mm10 -force -color \\\n",
    "77,175,74 77,175,74 \\\n",
    "55,126,184 55,126,184 \\\n",
    "228,26,28 228,26,28 \\\n",
    "-d /gpfs/data01/glasslab/home/h1bennet/strains/data/ATAC/control_30week/*"
   ]
  },
  {
   "cell_type": "markdown",
   "metadata": {},
   "source": [
    "# Call Peaks"
   ]
  },
  {
   "cell_type": "code",
   "execution_count": 6,
   "metadata": {},
   "outputs": [
    {
     "name": "stderr",
     "output_type": "stream",
     "text": [
      "rm: cannot remove ‘./peakCalling_homer.sh’: No such file or directory\n"
     ]
    }
   ],
   "source": [
    "%%bash\n",
    "# delete the existing script file\n",
    "rm ./peakCalling_homer.sh\n",
    "# create a script file\n",
    "touch ./peakCalling_homer.sh\n",
    "\n",
    "# if directories don't exist, create them\n",
    "if [ ! -d ./atac_peak_files/ ]; then mkdir ./atac_peak_files; fi"
   ]
  },
  {
   "cell_type": "code",
   "execution_count": 7,
   "metadata": {},
   "outputs": [],
   "source": [
    "with open('./peakCalling_homer.sh', 'w') as f:\n",
    "    for tagdir in os.listdir(dataDirectory):\n",
    "        find_peaks_idr = ['findPeaks', dataDirectory + '/' + tagdir,\n",
    "                          '-L', '0', '-C', '0', '-fdr', '0.9', '-style',\n",
    "                          'factor', '-size', '200', '>',\n",
    "                          workingDirectory + '/atac_peak_files/' + tagdir + '_peaks.tsv',\n",
    "                          '&', '\\n']\n",
    "        find_peaks = ['findPeaks', dataDirectory + '/' + tagdir,\n",
    "                      '-style', 'factor', '-size', '200', '>',\n",
    "                      workingDirectory + '/atac_peak_files/' + tagdir + '_default_peaks.tsv',\n",
    "                      '&', '\\n']\n",
    "        # write commands to file\n",
    "        f.write(' '.join(find_peaks_idr))\n",
    "        f.write(' '.join(find_peaks))\n",
    "f.close()"
   ]
  },
  {
   "cell_type": "markdown",
   "metadata": {},
   "source": [
    "### compile peak stats for QC"
   ]
  },
  {
   "cell_type": "code",
   "execution_count": 8,
   "metadata": {},
   "outputs": [],
   "source": [
    "peak_stats={}\n",
    "\n",
    "for td in os.listdir('./atac_peak_files/'):\n",
    "\n",
    "    peak_dict = {'total_peaks': 0,\n",
    "                 'ip_eff': 0.0,\n",
    "                 'peaks_filt_input': 0,\n",
    "                 'peaks_filt_local': 0,\n",
    "                 'peaks_filt_clonal':0}\n",
    "\n",
    "    with open('./atac_peak_files/'+td, 'r') as f:\n",
    "        for line in f.readlines():\n",
    "            if \"total peaks\" in line:\n",
    "                peak_dict['total_peaks'] = int(line.split(' = ')[-1])\n",
    "            if \"Approximate IP efficiency\" in line:\n",
    "                peak_dict['ip_eff'] = float(line.replace('%\\n', '').split(' = ')[-1])\n",
    "            if \"Putative peaks filtered by input\" in line:\n",
    "                peak_dict['peaks_filt_input'] = int(line.split(' = ')[-1])\n",
    "            if \"Putative peaks filtered by local signal\" in line:\n",
    "                peak_dict['peaks_filt_local'] = int(line.split(' = ')[-1])\n",
    "            if \"Putative peaks filtered for being too clonal\" in line:\n",
    "                peak_dict['peaks_filt_clonal'] = int(line.split(' = ')[-1])\n",
    "                \n",
    "    peak_stats[td] = peak_dict\n",
    "            \n",
    "df = pd.DataFrame(peak_stats).T"
   ]
  },
  {
   "cell_type": "code",
   "execution_count": 9,
   "metadata": {},
   "outputs": [],
   "source": [
    "df.sort_index(inplace=True)"
   ]
  },
  {
   "cell_type": "markdown",
   "metadata": {},
   "source": [
    "### Save to file"
   ]
  },
  {
   "cell_type": "code",
   "execution_count": 11,
   "metadata": {},
   "outputs": [],
   "source": [
    "df.loc[df.index.str.contains('default'), :].to_csv('./default_peak_table.txt', sep='\\t')\n",
    "df.loc[~df.index.str.contains('default'), :].to_csv('./idr_peak_table.txt', sep='\\t')"
   ]
  },
  {
   "cell_type": "markdown",
   "metadata": {},
   "source": [
    "# Run IDR"
   ]
  },
  {
   "cell_type": "code",
   "execution_count": 19,
   "metadata": {
    "scrolled": true
   },
   "outputs": [],
   "source": [
    "%%bash\n",
    "# delete the existing script file\n",
    "rm ./run_idr.sh\n",
    "# create a script file\n",
    "touch ./run_idr.sh\n",
    "\n",
    "# if directories don't exist, create them\n",
    "if [ ! -d ./atac_idr/ ]; then mkdir ./atac_idr; fi"
   ]
  },
  {
   "cell_type": "code",
   "execution_count": 23,
   "metadata": {},
   "outputs": [],
   "source": [
    "import itertools\n",
    "mylist = os.listdir(dataDirectory)\n",
    "mylist.sort()\n",
    "# use pattern to extract cell type\n",
    "with open('./run_idr.sh', 'w') as f:\n",
    "    for i, j in itertools.combinations(mylist, r=2):\n",
    "        run_idr = ['python', '/home/jtao/code/seq_merge_pipe/run_idr_homerPeaks.py',\n",
    "                             workingDirectory + '/atac_peak_files/' + i + '_peaks.tsv',\n",
    "                             workingDirectory + '/atac_peak_files/' + j + '_peaks.tsv',\n",
    "                             './atac_idr/', '-threshold', '0.01', '&\\n']\n",
    "        # run on samples in same group\n",
    "        m = [i.split('_')[0] + '_' + i.split('_')[1],\n",
    "             j.split('_')[0] + '_' + j.split('_')[1]]\n",
    "        # if same cell type and not same sample run idr on them\n",
    "        if (m[0] == m[1]) & (i != j):\n",
    "            # ('i:', i, 'j:', j)\n",
    "            f.write(' '.join(run_idr))\n",
    "        "
   ]
  },
  {
   "cell_type": "markdown",
   "metadata": {},
   "source": [
    "### in terminal select IDR replicates with highest number of peaks\n",
    "\n",
    "Then rename to a more tractable title and move into idr_peaks folder"
   ]
  },
  {
   "cell_type": "markdown",
   "metadata": {},
   "source": [
    "  26873 atac_idr/00_NCoRWT_Kupffer_ATAC_ControlDiet_30week_LN134B_JSS_TDT_160921_peaks_00_NCoRWT_Kupffer_ATAC_ControlDiet_30week_LN134D_JSS_TDT_160921_peaks_idr.tsv\n",
    "  26778 atac_idr/01_balbc_Kupffer_ATAC_ControlDiet_30week_Balb1A_JSS_TDT_160926_peaks_01_balbc_Kupffer_ATAC_ControlDiet_30week_Balb1B_JSS_TDT_160926_peaks_idr.tsv\n",
    "  36183 atac_idr/02_aj_Kupffer_ATAC_ControlDiet_30week_AJ1B_JSS_TDT_160926_peaks_02_aj_Kupffer_ATAC_ControlDiet_30week_AJ1C_JSS_TDT_160928_peaks_idr.tsv"
   ]
  },
  {
   "cell_type": "code",
   "execution_count": 24,
   "metadata": {},
   "outputs": [],
   "source": [
    "%%bash\n",
    "\n",
    "# if directories don't exist, create them\n",
    "if [ ! -d ./idr_peaks/ ]; then mkdir ./idr_peaks; fi\n",
    "\n",
    "cp ./atac_idr/00_NCoRWT_Kupffer_ATAC_ControlDiet_30week_LN134B_JSS_TDT_160921_peaks_00_NCoRWT_Kupffer_ATAC_ControlDiet_30week_LN134D_JSS_TDT_160921_peaks_idr.tsv \\\n",
    "./idr_peaks/00_NCoRWT_Kupffer_ATAC_ControlDiet_30weeks_idr_peaks.tsv\n",
    "\n",
    "cp ./atac_idr/01_balbc_Kupffer_ATAC_ControlDiet_30week_Balb1A_JSS_TDT_160926_peaks_01_balbc_Kupffer_ATAC_ControlDiet_30week_Balb1B_JSS_TDT_160926_peaks_idr.tsv \\\n",
    "./idr_peaks/01_balbc_Kupffer_ATAC_ControlDiet_30weeks_idr_peaks.tsv\n",
    "\n",
    "cp ./atac_idr/02_aj_Kupffer_ATAC_ControlDiet_30week_AJ1B_JSS_TDT_160926_peaks_02_aj_Kupffer_ATAC_ControlDiet_30week_AJ1C_JSS_TDT_160928_peaks_idr.tsv \\\n",
    "./idr_peaks/02_aj_Kupffer_ATAC_CCl4_6wk_idr_peaks.tsv"
   ]
  },
  {
   "cell_type": "markdown",
   "metadata": {},
   "source": [
    "### Next move on to annotation section or to running TBA"
   ]
  },
  {
   "cell_type": "code",
   "execution_count": 26,
   "metadata": {},
   "outputs": [],
   "source": [
    "%%bash\n",
    "# delete the existing script file\n",
    "rm ./run_tba.sh\n",
    "# create a script file\n",
    "touch ./run_tba.sh\n",
    "\n",
    "# if directories don't exist, create them\n",
    "if [ ! -d ./bed_files/ ]; then mkdir ./bed_files; fi\n",
    "if [ ! -d ./peak_sequences/ ]; then mkdir ./peak_sequences; fi\n",
    "if [ ! -d ./background_files/ ]; then mkdir ./background_files; fi\n",
    "if [ ! -d ./tba_output/ ]; then mkdir ./tba_output; fi\n",
    "\n",
    "# for each peak file create several commands\n",
    "for peak_file in ./idr_peaks/*;\n",
    "\n",
    "# generate name of bed file\n",
    "do bed_file=${peak_file/tsv/bed};\n",
    "bed_file=${bed_file/idr_peaks/bed_files}\n",
    "# call Homer pos2bed.pl to create bed file\n",
    "echo \"pos2bed.pl $peak_file > $bed_file\" >> ./run_tba.sh\n",
    "\n",
    "# generate peak sequence fasta file name\n",
    "seq_file=${bed_file/peaks.bed/peaks.fasta};\n",
    "seq_file=${seq_file/bed_files/peak_sequences};\n",
    "\n",
    "# execute command to extract sequences\n",
    "echo \"/home/h1bennet/code/tba/model_training/extract_sequences.py $bed_file mm10 $seq_file\">> ./run_tba.sh\n",
    "\n",
    "# generate background coordinates\n",
    "echo \"/home/h1bennet/code/tba/model_training/generate_background_coordinates.py $bed_file mm10 ./background_files/\">> ./run_tba.sh\n",
    "\n",
    "# rename background file\n",
    "bg_seq_file=${seq_file/peak_sequences/background_files};\n",
    "bg_seq_file=${bg_seq_file/peaks.fasta/background.fasta};\n",
    "echo \"mv ./background_files/background.fasta $bg_seq_file\">> ./run_tba.sh\n",
    "echo \"/home/h1bennet/code/tba/model_training/create_features.py -num_procs 40 $seq_file $bg_seq_file ./tba_output /home/h1bennet/code/tba/default_motifs/*\">> ./run_tba.sh\n",
    "\n",
    "# calculate motif scores for peaks and background\n",
    "combined_features=${seq_file/peak_sequences/tba_output}\n",
    "combined_features=${combined_features/.fasta/_combined_features.tsv}\n",
    "labels=${combined_features/combined_features.tsv/labels.txt}\n",
    "echo \"/home/h1bennet/code/tba/model_training/train_classifier.py $combined_features $labels ./tba_output/\">> ./run_tba.sh\n",
    "coeff_path=${combined_features/combined_features.tsv/coefficients.tsv}\n",
    "performance_path=${combined_features/combined_features.tsv/performance.tsv}\n",
    "echo \"mv ./tba_output/coefficients.tsv $coeff_path\">> ./run_tba.sh\n",
    "echo \"mv ./tba_output/performance.tsv $performance_path\">> ./run_tba.sh\n",
    "\n",
    "# perform insilico mutagenesis\n",
    "echo \"/home/h1bennet/code/tba/model_training/calc_feature_significance.py $combined_features $labels ./tba_output/ -num_iterations 1\">> ./run_tba.sh\n",
    "significance_path=${combined_features/combined_features.tsv/significance.tsv}\n",
    "echo mv ./tba_output/significance.tsv $significance_path>> ./run_tba.sh\n",
    "\n",
    "done"
   ]
  },
  {
   "cell_type": "code",
   "execution_count": null,
   "metadata": {},
   "outputs": [],
   "source": []
  }
 ],
 "metadata": {
  "kernelspec": {
   "display_name": "dataviz",
   "language": "python",
   "name": "dataviz"
  },
  "language_info": {
   "codemirror_mode": {
    "name": "ipython",
    "version": 3
   },
   "file_extension": ".py",
   "mimetype": "text/x-python",
   "name": "python",
   "nbconvert_exporter": "python",
   "pygments_lexer": "ipython3",
   "version": "3.7.5"
  }
 },
 "nbformat": 4,
 "nbformat_minor": 2
}
