{
 "cells": [
  {
   "cell_type": "markdown",
   "metadata": {},
   "source": [
    "Hunter Bennett | Kupffer Strains | Glass Lab | 27 April 2021\n",
    "\n",
    "Goal of this notebook is to make figure formatted analyses of homer motif enrichment heatmaps for placement in figures. One outstanding issue is how we will select the TFs to be plotted. Manual curation will probably end up being the strategy."
   ]
  },
  {
   "cell_type": "code",
   "execution_count": 51,
   "metadata": {
    "scrolled": true
   },
   "outputs": [
    {
     "name": "stdout",
     "output_type": "stream",
     "text": [
      "The autoreload extension is already loaded. To reload it, use:\n",
      "  %reload_ext autoreload\n"
     ]
    }
   ],
   "source": [
    "### header ###\n",
    "__author__ = \"Hunter Bennett\"\n",
    "__license__ = \"BSD\"\n",
    "__email__ = \"hunter.r.bennett@gmail.com\"\n",
    "%load_ext autoreload\n",
    "%autoreload 2\n",
    "### imports ###\n",
    "import sys\n",
    "%matplotlib inline\n",
    "import os\n",
    "import re\n",
    "import glob\n",
    "import pandas as pd\n",
    "import numpy as np\n",
    "import matplotlib\n",
    "import matplotlib.pyplot as plt \n",
    "import seaborn as sns\n",
    "matplotlib.rcParams['savefig.dpi'] = 200\n",
    "sns.set(font_scale=1)\n",
    "sns.set_context('talk')\n",
    "sns.set_style('ticks')\n",
    "\n",
    "# import custom functions\n",
    "import sys\n",
    "sys.path.insert(0, '/home/h1bennet/code/')\n",
    "from hbUtils import ngs_qc, quantile_normalize_df\n",
    "from plotting_scripts import label_point, pca_rpkm_mat, get_diff_volcano\n",
    "from homer_preprocessing import read_annotated_peaks, import_homer_diffpeak, pull_comparisons_get_diff\n",
    "from gene_expression_plots import survey_strain_amln_gene_exp, survey_strain_ccl4_gene_exp"
   ]
  },
  {
   "cell_type": "code",
   "execution_count": null,
   "metadata": {},
   "outputs": [],
   "source": [
    "#### PLOTTING PARAMETERS FOR MANUSCRIPT ####\n",
    "# # get matplotlib to save readable fonts\n",
    "matplotlib.rcParams['pdf.fonttype'] = 42\n",
    "matplotlib.rcParams['ps.fonttype'] = 42\n",
    "matplotlib.rcParams['font.size'] = 6\n",
    "\n",
    "# line widths\n",
    "matplotlib.rcParams['axes.linewidth'] = 1\n",
    "matplotlib.rcParams['xtick.major.width'] = 1\n",
    "matplotlib.rcParams['ytick.major.width'] = 1\n",
    "\n",
    "# adjust defualt color for plots to black\n",
    "# normal default is a dark gray\n",
    "COLOR = 'black'\n",
    "matplotlib.rcParams['text.color'] = COLOR\n",
    "matplotlib.rcParams['axes.labelcolor'] = COLOR\n",
    "matplotlib.rcParams['xtick.color'] = COLOR\n",
    "matplotlib.rcParams['ytick.color'] = COLOR\n",
    "matplotlib.rcParams['axes.edgecolor'] = COLOR\n",
    "\n",
    "#### PLOT PARAMETERS FOR THIS PLOT ####\n",
    "plt.rcParams[\"axes.labelsize\"] = 10\n",
    "plt.rcParams[\"xtick.labelsize\"] = 8\n",
    "plt.rcParams[\"ytick.labelsize\"] = 8"
   ]
  },
  {
   "cell_type": "code",
   "execution_count": 34,
   "metadata": {},
   "outputs": [],
   "source": [
    "dataDirectory = ''\n",
    "workingDirectory = '/home/h1bennet/strains/results/06_Strains_Control_Cohort2_ATAC/'\n",
    "if not os.path.isdir(workingDirectory):\n",
    "    os.mkdir(workingDirectory)\n",
    "os.chdir(workingDirectory)"
   ]
  },
  {
   "cell_type": "markdown",
   "metadata": {},
   "source": [
    "# Aggregate results - Homer"
   ]
  },
  {
   "cell_type": "code",
   "execution_count": 35,
   "metadata": {
    "scrolled": true
   },
   "outputs": [],
   "source": [
    "known_motif_pval_frame = pd.read_csv('./homer_known_motifs_log.txt', sep='\\t', index_col=0)"
   ]
  },
  {
   "cell_type": "code",
   "execution_count": 36,
   "metadata": {
    "scrolled": true
   },
   "outputs": [
    {
     "data": {
      "text/html": [
       "<div>\n",
       "<style scoped>\n",
       "    .dataframe tbody tr th:only-of-type {\n",
       "        vertical-align: middle;\n",
       "    }\n",
       "\n",
       "    .dataframe tbody tr th {\n",
       "        vertical-align: top;\n",
       "    }\n",
       "\n",
       "    .dataframe thead th {\n",
       "        text-align: right;\n",
       "    }\n",
       "</style>\n",
       "<table border=\"1\" class=\"dataframe\">\n",
       "  <thead>\n",
       "    <tr style=\"text-align: right;\">\n",
       "      <th></th>\n",
       "      <th>aj_intersection_distal_motifs</th>\n",
       "      <th>aj_intersection_motifs</th>\n",
       "      <th>aj_union_distal_motifs</th>\n",
       "      <th>aj_union_motifs</th>\n",
       "      <th>balbcj_intersection_distal_motifs</th>\n",
       "      <th>balbcj_intersection_motifs</th>\n",
       "      <th>balbcj_union_distal_motifs</th>\n",
       "      <th>balbcj_union_motifs</th>\n",
       "      <th>c57bl6j_intersection_distal_motifs</th>\n",
       "      <th>c57bl6j_intersection_motifs</th>\n",
       "      <th>c57bl6j_union_distal_motifs</th>\n",
       "      <th>c57bl6j_union_motifs</th>\n",
       "    </tr>\n",
       "  </thead>\n",
       "  <tbody>\n",
       "    <tr>\n",
       "      <th>Atf3(bZIP)/GBM-ATF3-ChIP-Seq(GSE33912)/Homer</th>\n",
       "      <td>-0.1893</td>\n",
       "      <td>-0.2784</td>\n",
       "      <td>-0.06170</td>\n",
       "      <td>-0.11110</td>\n",
       "      <td>-17.66</td>\n",
       "      <td>-20.13</td>\n",
       "      <td>-26.69</td>\n",
       "      <td>-41.44</td>\n",
       "      <td>-9.216</td>\n",
       "      <td>-10.080</td>\n",
       "      <td>-28.54</td>\n",
       "      <td>-33.05</td>\n",
       "    </tr>\n",
       "    <tr>\n",
       "      <th>BATF(bZIP)/Th17-BATF-ChIP-Seq(GSE39756)/Homer</th>\n",
       "      <td>-0.3253</td>\n",
       "      <td>-0.4464</td>\n",
       "      <td>-0.04732</td>\n",
       "      <td>-0.08393</td>\n",
       "      <td>-15.32</td>\n",
       "      <td>-17.82</td>\n",
       "      <td>-20.39</td>\n",
       "      <td>-34.17</td>\n",
       "      <td>-11.150</td>\n",
       "      <td>-12.390</td>\n",
       "      <td>-34.03</td>\n",
       "      <td>-41.07</td>\n",
       "    </tr>\n",
       "    <tr>\n",
       "      <th>AP-1(bZIP)/ThioMac-PU.1-ChIP-Seq(GSE21512)/Homer</th>\n",
       "      <td>-0.4899</td>\n",
       "      <td>-0.5361</td>\n",
       "      <td>-0.30370</td>\n",
       "      <td>-0.45420</td>\n",
       "      <td>-13.04</td>\n",
       "      <td>-14.75</td>\n",
       "      <td>-25.97</td>\n",
       "      <td>-39.52</td>\n",
       "      <td>-8.304</td>\n",
       "      <td>-8.379</td>\n",
       "      <td>-27.76</td>\n",
       "      <td>-33.46</td>\n",
       "    </tr>\n",
       "    <tr>\n",
       "      <th>Fra1(bZIP)/BT549-Fra1-ChIP-Seq(GSE46166)/Homer</th>\n",
       "      <td>-0.3670</td>\n",
       "      <td>-0.4244</td>\n",
       "      <td>-0.02089</td>\n",
       "      <td>-0.05112</td>\n",
       "      <td>-15.19</td>\n",
       "      <td>-17.62</td>\n",
       "      <td>-19.54</td>\n",
       "      <td>-33.55</td>\n",
       "      <td>-8.266</td>\n",
       "      <td>-9.179</td>\n",
       "      <td>-29.93</td>\n",
       "      <td>-35.89</td>\n",
       "    </tr>\n",
       "    <tr>\n",
       "      <th>JunB(bZIP)/DendriticCells-Junb-ChIP-Seq(GSE36099)/Homer</th>\n",
       "      <td>-0.3219</td>\n",
       "      <td>-0.4474</td>\n",
       "      <td>-0.01978</td>\n",
       "      <td>-0.04437</td>\n",
       "      <td>-16.95</td>\n",
       "      <td>-20.13</td>\n",
       "      <td>-21.73</td>\n",
       "      <td>-36.98</td>\n",
       "      <td>-6.551</td>\n",
       "      <td>-7.375</td>\n",
       "      <td>-24.61</td>\n",
       "      <td>-31.20</td>\n",
       "    </tr>\n",
       "  </tbody>\n",
       "</table>\n",
       "</div>"
      ],
      "text/plain": [
       "                                                    aj_intersection_distal_motifs  \\\n",
       "Atf3(bZIP)/GBM-ATF3-ChIP-Seq(GSE33912)/Homer                              -0.1893   \n",
       "BATF(bZIP)/Th17-BATF-ChIP-Seq(GSE39756)/Homer                             -0.3253   \n",
       "AP-1(bZIP)/ThioMac-PU.1-ChIP-Seq(GSE21512)/Homer                          -0.4899   \n",
       "Fra1(bZIP)/BT549-Fra1-ChIP-Seq(GSE46166)/Homer                            -0.3670   \n",
       "JunB(bZIP)/DendriticCells-Junb-ChIP-Seq(GSE3609...                        -0.3219   \n",
       "\n",
       "                                                    aj_intersection_motifs  \\\n",
       "Atf3(bZIP)/GBM-ATF3-ChIP-Seq(GSE33912)/Homer                       -0.2784   \n",
       "BATF(bZIP)/Th17-BATF-ChIP-Seq(GSE39756)/Homer                      -0.4464   \n",
       "AP-1(bZIP)/ThioMac-PU.1-ChIP-Seq(GSE21512)/Homer                   -0.5361   \n",
       "Fra1(bZIP)/BT549-Fra1-ChIP-Seq(GSE46166)/Homer                     -0.4244   \n",
       "JunB(bZIP)/DendriticCells-Junb-ChIP-Seq(GSE3609...                 -0.4474   \n",
       "\n",
       "                                                    aj_union_distal_motifs  \\\n",
       "Atf3(bZIP)/GBM-ATF3-ChIP-Seq(GSE33912)/Homer                      -0.06170   \n",
       "BATF(bZIP)/Th17-BATF-ChIP-Seq(GSE39756)/Homer                     -0.04732   \n",
       "AP-1(bZIP)/ThioMac-PU.1-ChIP-Seq(GSE21512)/Homer                  -0.30370   \n",
       "Fra1(bZIP)/BT549-Fra1-ChIP-Seq(GSE46166)/Homer                    -0.02089   \n",
       "JunB(bZIP)/DendriticCells-Junb-ChIP-Seq(GSE3609...                -0.01978   \n",
       "\n",
       "                                                    aj_union_motifs  \\\n",
       "Atf3(bZIP)/GBM-ATF3-ChIP-Seq(GSE33912)/Homer               -0.11110   \n",
       "BATF(bZIP)/Th17-BATF-ChIP-Seq(GSE39756)/Homer              -0.08393   \n",
       "AP-1(bZIP)/ThioMac-PU.1-ChIP-Seq(GSE21512)/Homer           -0.45420   \n",
       "Fra1(bZIP)/BT549-Fra1-ChIP-Seq(GSE46166)/Homer             -0.05112   \n",
       "JunB(bZIP)/DendriticCells-Junb-ChIP-Seq(GSE3609...         -0.04437   \n",
       "\n",
       "                                                    balbcj_intersection_distal_motifs  \\\n",
       "Atf3(bZIP)/GBM-ATF3-ChIP-Seq(GSE33912)/Homer                                   -17.66   \n",
       "BATF(bZIP)/Th17-BATF-ChIP-Seq(GSE39756)/Homer                                  -15.32   \n",
       "AP-1(bZIP)/ThioMac-PU.1-ChIP-Seq(GSE21512)/Homer                               -13.04   \n",
       "Fra1(bZIP)/BT549-Fra1-ChIP-Seq(GSE46166)/Homer                                 -15.19   \n",
       "JunB(bZIP)/DendriticCells-Junb-ChIP-Seq(GSE3609...                             -16.95   \n",
       "\n",
       "                                                    balbcj_intersection_motifs  \\\n",
       "Atf3(bZIP)/GBM-ATF3-ChIP-Seq(GSE33912)/Homer                            -20.13   \n",
       "BATF(bZIP)/Th17-BATF-ChIP-Seq(GSE39756)/Homer                           -17.82   \n",
       "AP-1(bZIP)/ThioMac-PU.1-ChIP-Seq(GSE21512)/Homer                        -14.75   \n",
       "Fra1(bZIP)/BT549-Fra1-ChIP-Seq(GSE46166)/Homer                          -17.62   \n",
       "JunB(bZIP)/DendriticCells-Junb-ChIP-Seq(GSE3609...                      -20.13   \n",
       "\n",
       "                                                    balbcj_union_distal_motifs  \\\n",
       "Atf3(bZIP)/GBM-ATF3-ChIP-Seq(GSE33912)/Homer                            -26.69   \n",
       "BATF(bZIP)/Th17-BATF-ChIP-Seq(GSE39756)/Homer                           -20.39   \n",
       "AP-1(bZIP)/ThioMac-PU.1-ChIP-Seq(GSE21512)/Homer                        -25.97   \n",
       "Fra1(bZIP)/BT549-Fra1-ChIP-Seq(GSE46166)/Homer                          -19.54   \n",
       "JunB(bZIP)/DendriticCells-Junb-ChIP-Seq(GSE3609...                      -21.73   \n",
       "\n",
       "                                                    balbcj_union_motifs  \\\n",
       "Atf3(bZIP)/GBM-ATF3-ChIP-Seq(GSE33912)/Homer                     -41.44   \n",
       "BATF(bZIP)/Th17-BATF-ChIP-Seq(GSE39756)/Homer                    -34.17   \n",
       "AP-1(bZIP)/ThioMac-PU.1-ChIP-Seq(GSE21512)/Homer                 -39.52   \n",
       "Fra1(bZIP)/BT549-Fra1-ChIP-Seq(GSE46166)/Homer                   -33.55   \n",
       "JunB(bZIP)/DendriticCells-Junb-ChIP-Seq(GSE3609...               -36.98   \n",
       "\n",
       "                                                    c57bl6j_intersection_distal_motifs  \\\n",
       "Atf3(bZIP)/GBM-ATF3-ChIP-Seq(GSE33912)/Homer                                    -9.216   \n",
       "BATF(bZIP)/Th17-BATF-ChIP-Seq(GSE39756)/Homer                                  -11.150   \n",
       "AP-1(bZIP)/ThioMac-PU.1-ChIP-Seq(GSE21512)/Homer                                -8.304   \n",
       "Fra1(bZIP)/BT549-Fra1-ChIP-Seq(GSE46166)/Homer                                  -8.266   \n",
       "JunB(bZIP)/DendriticCells-Junb-ChIP-Seq(GSE3609...                              -6.551   \n",
       "\n",
       "                                                    c57bl6j_intersection_motifs  \\\n",
       "Atf3(bZIP)/GBM-ATF3-ChIP-Seq(GSE33912)/Homer                            -10.080   \n",
       "BATF(bZIP)/Th17-BATF-ChIP-Seq(GSE39756)/Homer                           -12.390   \n",
       "AP-1(bZIP)/ThioMac-PU.1-ChIP-Seq(GSE21512)/Homer                         -8.379   \n",
       "Fra1(bZIP)/BT549-Fra1-ChIP-Seq(GSE46166)/Homer                           -9.179   \n",
       "JunB(bZIP)/DendriticCells-Junb-ChIP-Seq(GSE3609...                       -7.375   \n",
       "\n",
       "                                                    c57bl6j_union_distal_motifs  \\\n",
       "Atf3(bZIP)/GBM-ATF3-ChIP-Seq(GSE33912)/Homer                             -28.54   \n",
       "BATF(bZIP)/Th17-BATF-ChIP-Seq(GSE39756)/Homer                            -34.03   \n",
       "AP-1(bZIP)/ThioMac-PU.1-ChIP-Seq(GSE21512)/Homer                         -27.76   \n",
       "Fra1(bZIP)/BT549-Fra1-ChIP-Seq(GSE46166)/Homer                           -29.93   \n",
       "JunB(bZIP)/DendriticCells-Junb-ChIP-Seq(GSE3609...                       -24.61   \n",
       "\n",
       "                                                    c57bl6j_union_motifs  \n",
       "Atf3(bZIP)/GBM-ATF3-ChIP-Seq(GSE33912)/Homer                      -33.05  \n",
       "BATF(bZIP)/Th17-BATF-ChIP-Seq(GSE39756)/Homer                     -41.07  \n",
       "AP-1(bZIP)/ThioMac-PU.1-ChIP-Seq(GSE21512)/Homer                  -33.46  \n",
       "Fra1(bZIP)/BT549-Fra1-ChIP-Seq(GSE46166)/Homer                    -35.89  \n",
       "JunB(bZIP)/DendriticCells-Junb-ChIP-Seq(GSE3609...                -31.20  "
      ]
     },
     "execution_count": 36,
     "metadata": {},
     "output_type": "execute_result"
    }
   ],
   "source": [
    "known_motif_pval_frame.head()"
   ]
  },
  {
   "cell_type": "markdown",
   "metadata": {},
   "source": [
    "# Plot known motif results"
   ]
  },
  {
   "cell_type": "markdown",
   "metadata": {},
   "source": [
    "## Option for future: set custom motif list"
   ]
  },
  {
   "cell_type": "code",
   "execution_count": 70,
   "metadata": {},
   "outputs": [],
   "source": [
    "motif_list = ['Atf3(bZIP)/GBM-ATF3-ChIP-Seq(GSE33912)/Homer',\n",
    "              'MITF(bHLH)/MastCells-MITF-ChIP-Seq(GSE48085)/Homer',\n",
    "              'IRF2(IRF)/Erythroblas-IRF2-ChIP-Seq(GSE36985)/Homer',\n",
    "              'Mef2d(MADS)/Retina-Mef2d-ChIP-Seq(GSE61391)/Homer',\n",
    "              'ISRE(IRF)/ThioMac-LPS-Expression(GSE23622)/Homer',\n",
    "              'NFkB-p65(RHD)/GM12787-p65-ChIP-Seq(GSE19485)/Homer',\n",
    "              'Nrf2(bZIP)/Lymphoblast-Nrf2-ChIP-Seq(GSE37589)/Homer']\n",
    "\n",
    "# we will make this plot using 'union' differential enhancer set\n",
    "# we will also use all enhancers to raise our power.\n",
    "\n",
    "tmp_frame = known_motif_pval_frame.loc[:, known_motif_pval_frame.columns.str.contains('union')]\n",
    "tmp_frame = tmp_frame.loc[:, ~tmp_frame.columns.str.contains('distal')]\n",
    "tmp_frame = tmp_frame.loc[motif_list, :]\n",
    "\n",
    "#clean up rows for tmp frame\n",
    "tmp_frame.index = tmp_frame.index.str.split('/').str[0].str.split('(').str[0].str.upper()\n",
    "\n",
    "# convert to log10 p value\n",
    "tmp_frame = np.log10(np.e**(tmp_frame))\n",
    "\n",
    "# clean up columns\n",
    "tmp_frame.columns = ['A/J', 'BALB/cJ', 'C57BL/6J']"
   ]
  },
  {
   "cell_type": "code",
   "execution_count": 71,
   "metadata": {},
   "outputs": [],
   "source": [
    "mm_conv = 25.4"
   ]
  },
  {
   "cell_type": "code",
   "execution_count": 72,
   "metadata": {
    "scrolled": true
   },
   "outputs": [
    {
     "data": {
      "image/png": "[encoded data removed]",
      "text/plain": [
       "<Figure size 170.079x113.386 with 2 Axes>"
      ]
     },
     "metadata": {},
     "output_type": "display_data"
    }
   ],
   "source": [
    "# set plot size\n",
    "fig, ax = plt.subplots(figsize=(60/mm_conv, 40/mm_conv))\n",
    "\n",
    "# convert to a log2 frame\n",
    "tmp_frame = np.log10(np.e**(tmp_frame))\n",
    "\n",
    "cm = sns.heatmap(\n",
    "    -tmp_frame,\n",
    "    cmap='Reds',\n",
    "    linewidths=1,\n",
    "    linecolor='k',\n",
    "    # annot=True,\n",
    "    cbar_kws={'label': '-log10(pval)'})\n",
    "    #square=True)\n",
    "\n",
    "plt.savefig('./fancy_figures/homer_enrichedmotifs_custommotifs_intersection_enhancers.pdf',\n",
    "            bbox_inches='tight')"
   ]
  },
  {
   "cell_type": "code",
   "execution_count": 73,
   "metadata": {},
   "outputs": [
    {
     "data": {
      "image/png": "[encoded data removed]",
      "text/plain": [
       "<Figure size 170.079x113.386 with 2 Axes>"
      ]
     },
     "metadata": {},
     "output_type": "display_data"
    }
   ],
   "source": [
    "# set plot size\n",
    "fig, ax = plt.subplots(figsize=(60/mm_conv, 40/mm_conv))\n",
    "\n",
    "cm = sns.heatmap(\n",
    "    -tmp_frame,\n",
    "    cmap='Reds',\n",
    "    linewidths=1,\n",
    "    linecolor='black',\n",
    "    # annot=True,\n",
    "    cbar_kws={'label': '-log10(pval)'},\n",
    "    square=True)\n",
    "\n",
    "plt.savefig('./fancy_figures/homer_enrichedmotifs_custommotifs_intersection_enhancers_square.pdf',\n",
    "            bbox_inches='tight')"
   ]
  },
  {
   "cell_type": "code",
   "execution_count": null,
   "metadata": {},
   "outputs": [],
   "source": []
  }
 ],
 "metadata": {
  "kernelspec": {
   "display_name": "dataviz",
   "language": "python",
   "name": "dataviz"
  },
  "language_info": {
   "codemirror_mode": {
    "name": "ipython",
    "version": 3
   },
   "file_extension": ".py",
   "mimetype": "text/x-python",
   "name": "python",
   "nbconvert_exporter": "python",
   "pygments_lexer": "ipython3",
   "version": "3.7.5"
  }
 },
 "nbformat": 4,
 "nbformat_minor": 2
}
