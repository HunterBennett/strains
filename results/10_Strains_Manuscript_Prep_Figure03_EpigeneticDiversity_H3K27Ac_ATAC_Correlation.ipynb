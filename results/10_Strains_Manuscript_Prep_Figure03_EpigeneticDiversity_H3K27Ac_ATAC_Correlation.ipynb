{
 "cells": [
  {
   "cell_type": "markdown",
   "metadata": {},
   "source": [
    "Hunter Bennett | Glass Lab | Kupffer Strains Project | May 03 2021  \n",
    "\n",
    "This notebook is for making fancier figure level plots describing differential gene expression for the strains NASH paper. It generates the following plots:\n",
    "1. Clustered heatmap of differential peaks"
   ]
  },
  {
   "cell_type": "code",
   "execution_count": 1,
   "metadata": {},
   "outputs": [],
   "source": [
    "### header ###\n",
    "__author__ = \"Hunter Bennett\"\n",
    "__license__ = \"BSD\"\n",
    "__email__ = \"hunter.r.bennett@gmail.com\"\n",
    "%load_ext autoreload\n",
    "%autoreload 2\n",
    "### imports ###\n",
    "import sys\n",
    "%matplotlib inline\n",
    "import os\n",
    "import re\n",
    "import glob\n",
    "import pandas as pd\n",
    "import numpy as np\n",
    "import matplotlib\n",
    "import matplotlib.pyplot as plt \n",
    "from matplotlib_venn import venn2\n",
    "import seaborn as sns\n",
    "matplotlib.rcParams['savefig.dpi'] = 500\n",
    "\n",
    "# clustering packages\n",
    "import scipy\n",
    "import scipy.cluster.hierarchy as sch\n",
    "import scipy.spatial.distance as dist\n",
    "\n",
    "# import custom functions\n",
    "import sys\n",
    "sys.path.insert(0, '/home/h1bennet/code/')\n",
    "from hbUtils import ngs_qc, quantile_normalize_df\n",
    "from plotting_scripts import label_point, pca_rpkm_mat, get_diff_volcano\n",
    "from homer_preprocessing import read_annotated_peaks, import_homer_diffpeak, pull_comparisons_get_diff"
   ]
  },
  {
   "cell_type": "code",
   "execution_count": 2,
   "metadata": {},
   "outputs": [],
   "source": [
    "#### PLOTTING PARAMETERS FOR MANUSCRIPT ####\n",
    "# # get matplotlib to save readable fonts\n",
    "matplotlib.rcParams['pdf.fonttype'] = 42\n",
    "matplotlib.rcParams['ps.fonttype'] = 42\n",
    "matplotlib.rcParams['font.size'] = 6\n",
    "\n",
    "# line widths\n",
    "matplotlib.rcParams['axes.linewidth'] = 1\n",
    "matplotlib.rcParams['xtick.major.width'] = 1\n",
    "matplotlib.rcParams['ytick.major.width'] = 1\n",
    "\n",
    "# adjust defualt color for plots to black\n",
    "# normal default is a dark gray\n",
    "COLOR = 'black'\n",
    "matplotlib.rcParams['text.color'] = COLOR\n",
    "matplotlib.rcParams['axes.labelcolor'] = COLOR\n",
    "matplotlib.rcParams['xtick.color'] = COLOR\n",
    "matplotlib.rcParams['ytick.color'] = COLOR\n",
    "matplotlib.rcParams['axes.edgecolor'] = COLOR\n",
    "\n",
    "#### PLOT PARAMETERS FOR THIS PLOT ####"
   ]
  },
  {
   "cell_type": "code",
   "execution_count": 3,
   "metadata": {},
   "outputs": [],
   "source": [
    "atacDirectory = '/home/h1bennet/strains/results/06_Strains_Control_Cohort2_ATAC/'\n",
    "h3k27acDirectory = '/home/h1bennet/strains/results/06b_Strains_Control_Combined_H3K27Ac/'\n",
    "workingDirectory = '/home/h1bennet/strains/results/10_Strains_Manuscript_Prep/'\n",
    "if not os.path.isdir(workingDirectory):\n",
    "    os.mkdir(workingDirectory)\n",
    "os.chdir(workingDirectory)"
   ]
  },
  {
   "cell_type": "markdown",
   "metadata": {},
   "source": [
    "# Make folder for \"fancy figures\" for manuscript"
   ]
  },
  {
   "cell_type": "code",
   "execution_count": 4,
   "metadata": {},
   "outputs": [],
   "source": [
    "if not os.path.isdir('./h3k27ac_atac_correlation/'):\n",
    "    os.mkdir('./h3k27ac_atac_correlation/')"
   ]
  },
  {
   "cell_type": "markdown",
   "metadata": {},
   "source": [
    "### Import differential peaks"
   ]
  },
  {
   "cell_type": "code",
   "execution_count": 5,
   "metadata": {},
   "outputs": [
    {
     "name": "stdout",
     "output_type": "stream",
     "text": [
      "annotatePeaks all peaks (86301, 27)\n",
      "getDiffExpression selected transcripts (84264, 36)\n",
      "annotatePeaks selected peaks (84264, 27)\n"
     ]
    }
   ],
   "source": [
    "diff_peak, peaks, peak_mat, peak_mat_quant = import_homer_diffpeak(\n",
    "    h3k27acDirectory+'/merged_peaks/diff_output.txt',\n",
    "    h3k27acDirectory+'/merged_peaks/ann_norm_kc_control_atac_peaks_all.txt')"
   ]
  },
  {
   "cell_type": "code",
   "execution_count": 6,
   "metadata": {},
   "outputs": [
    {
     "name": "stdout",
     "output_type": "stream",
     "text": [
      "annotatePeaks all peaks (86301, 30)\n",
      "getDiffExpression selected transcripts (84264, 39)\n",
      "annotatePeaks selected peaks (84264, 30)\n"
     ]
    }
   ],
   "source": [
    "diff_peak_atac, peaks_atac, peak_mat_atac, peak_mat_quant_atac = import_homer_diffpeak(\n",
    "    atacDirectory+'/merged_peaks/diff_output.txt',\n",
    "    atacDirectory+'/merged_peaks/ann_norm_idr_peaks_merged.txt')"
   ]
  },
  {
   "cell_type": "code",
   "execution_count": 7,
   "metadata": {},
   "outputs": [],
   "source": [
    "greps = ['aj.*ATAC',\n",
    "         'balbc.*ATAC',\n",
    "         'c57bl6j.*ATAC',\n",
    "         'aj.*H3K27',\n",
    "         'balb.*H3K27',\n",
    "         '57.*H3K27']\n",
    "\n",
    "colnames = ['aj_atac_average',\n",
    "            'balbcj_atac_average',\n",
    "            'c57bl6j_atac_average',\n",
    "            'aj_h3k27ac_average',\n",
    "            'balbcj_h3k27ac_average',\n",
    "            'c57bl6j_h3k27ac_average']"
   ]
  },
  {
   "cell_type": "markdown",
   "metadata": {},
   "source": [
    "## Extract average atac and h3k27ac tags"
   ]
  },
  {
   "cell_type": "code",
   "execution_count": 8,
   "metadata": {},
   "outputs": [],
   "source": [
    "avg_tags_atac_dict = {}\n",
    "for colname, grep in zip(colnames[:3], greps[:3]):\n",
    "    avg_tags_atac_dict[colname] = peak_mat_atac.loc[:, peak_mat_atac.columns.str.contains(grep)].mean(1)\n",
    "    \n",
    "avg_tags_atac_df = pd.DataFrame(avg_tags_atac_dict)"
   ]
  },
  {
   "cell_type": "code",
   "execution_count": 9,
   "metadata": {},
   "outputs": [],
   "source": [
    "avg_tags_h3k27ac_dict = {}\n",
    "for colname, grep in zip(colnames[3:], greps[3:]):\n",
    "    avg_tags_h3k27ac_dict[colname] = peak_mat.loc[:, peak_mat.columns.str.contains(grep)].mean(1)\n",
    "    \n",
    "avg_tags_h3k27ac_df = pd.DataFrame(avg_tags_h3k27ac_dict)"
   ]
  },
  {
   "cell_type": "code",
   "execution_count": 10,
   "metadata": {},
   "outputs": [],
   "source": [
    "avg_tags_df = avg_tags_atac_df.merge(avg_tags_h3k27ac_df, left_index=True, right_index=True)"
   ]
  },
  {
   "cell_type": "code",
   "execution_count": 11,
   "metadata": {},
   "outputs": [],
   "source": [
    "color_dict = {'aj': ('#de2d26', '#a50f15'),\n",
    "              'balbcj': ('#3182bd', '#08519c'),\n",
    "              'c57bl6j': ('#31a354', '#006d2c')}"
   ]
  },
  {
   "cell_type": "code",
   "execution_count": 18,
   "metadata": {},
   "outputs": [
    {
     "data": {
      "image/png": "[encoded data removed]",
      "text/plain": [
       "<Figure size 288x72 with 3 Axes>"
      ]
     },
     "metadata": {
      "needs_background": "light"
     },
     "output_type": "display_data"
    }
   ],
   "source": [
    "strains = ['aj', 'balbcj', 'c57bl6j']\n",
    "\n",
    "fig, axs = plt.subplots(1, 3, figsize=(4,1))\n",
    "plt.subplots_adjust(wspace=0.5)\n",
    "\n",
    "for ax, strain in zip(axs, strains):\n",
    "    ax.scatter(np.log2(avg_tags_df.loc[:, strain+'_atac_average']+1),\n",
    "               np.log2(avg_tags_df.loc[:, strain+'_h3k27ac_average']+1),\n",
    "               s=1,\n",
    "               c=color_dict[strain][0],\n",
    "               rasterized=True)\n",
    "    \n",
    "    # set title\n",
    "    ax.set_title(strain.upper())\n",
    "    \n",
    "    # set x label and y label\n",
    "    ax.set_xlabel('Log ATAC Tags')\n",
    "    ax.set_ylabel('Log H3K27Ac Tags')\n",
    "    \n",
    "    # Hide the right and top spines\n",
    "    ax.spines['right'].set_visible(False)\n",
    "    ax.spines['top'].set_visible(False)\n",
    "\n",
    "    \n",
    "    # annotate with corr\n",
    "    # set axis text\n",
    "    ax.text(7, 0, 'Rho=%.3f' % (avg_tags_df.corr(method='spearman').loc[\n",
    "                                   strain+'_atac_average',\n",
    "                                   strain+'_h3k27ac_average']) )\n",
    "    \n",
    "\n",
    "plt.savefig('./h3k27ac_atac_correlation/scatter_plot.pdf',\n",
    "            bbox_inches='tight')"
   ]
  },
  {
   "cell_type": "code",
   "execution_count": 19,
   "metadata": {},
   "outputs": [
    {
     "data": {
      "image/png": "[encoded data removed]",
      "text/plain": [
       "<Figure size 288x72 with 3 Axes>"
      ]
     },
     "metadata": {
      "needs_background": "light"
     },
     "output_type": "display_data"
    }
   ],
   "source": [
    "strains = ['aj', 'balbcj', 'c57bl6j']\n",
    "\n",
    "fig, axs = plt.subplots(1, 3, figsize=(4,1))\n",
    "plt.subplots_adjust(wspace=0.5)\n",
    "\n",
    "for ax, strain in zip(axs, strains):\n",
    "    kde = sns.kdeplot(np.log2(avg_tags_df.loc[:, strain+'_atac_average']+1),\n",
    "                np.log2(avg_tags_df.loc[:, strain+'_h3k27ac_average']+1),\n",
    "                # s=1,\n",
    "                shade=True,\n",
    "                color=color_dict[strain][0],\n",
    "                ax=ax)\n",
    "    \n",
    "    kde.collections[0].set_alpha(0)\n",
    "    \n",
    "    # set title\n",
    "    ax.set_title(strain.upper())\n",
    "    \n",
    "    # set x label and y label\n",
    "    ax.set_xlabel('Log ATAC Tags')\n",
    "    ax.set_ylabel('Log H3K27Ac Tags')\n",
    "    \n",
    "    # Hide the right and top spines\n",
    "    ax.spines['right'].set_visible(False)\n",
    "    ax.spines['top'].set_visible(False)\n",
    "\n",
    "    \n",
    "    # annotate with corr\n",
    "    # set axis text\n",
    "    ax.text(7, 0, 'Rho=%.3f' % (avg_tags_df.corr(method='spearman').loc[\n",
    "                                   strain+'_atac_average',\n",
    "                                   strain+'_h3k27ac_average']) )\n",
    "    \n",
    "\n",
    "plt.savefig('./h3k27ac_atac_correlation/kde_plot.pdf',\n",
    "            bbox_inches='tight')"
   ]
  },
  {
   "cell_type": "code",
   "execution_count": null,
   "metadata": {},
   "outputs": [],
   "source": []
  }
 ],
 "metadata": {
  "kernelspec": {
   "display_name": "dataviz",
   "language": "python",
   "name": "dataviz"
  },
  "language_info": {
   "codemirror_mode": {
    "name": "ipython",
    "version": 3
   },
   "file_extension": ".py",
   "mimetype": "text/x-python",
   "name": "python",
   "nbconvert_exporter": "python",
   "pygments_lexer": "ipython3",
   "version": "3.7.5"
  }
 },
 "nbformat": 4,
 "nbformat_minor": 2
}
