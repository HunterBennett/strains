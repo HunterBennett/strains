{
 "cells": [
  {
   "cell_type": "markdown",
   "metadata": {},
   "source": [
    "Hunter Bennett | Glass Lab | Kupffer Strains Project | April 27 2021  \n",
    "\n",
    "This series of notebooks is for manuscript preparation of \"final\" figures for import into Adobe Illustrator.\n",
    "\n",
    "This notebook in particular prepares the ATAC and H3K27Ac scatter plots as one large figure."
   ]
  },
  {
   "cell_type": "code",
   "execution_count": 1,
   "metadata": {},
   "outputs": [],
   "source": [
    "### header ###\n",
    "__author__ = \"Hunter Bennett\"\n",
    "__license__ = \"BSD\"\n",
    "__email__ = \"hunter.r.bennett@gmail.com\"\n",
    "%load_ext autoreload\n",
    "%autoreload 2\n",
    "### imports ###\n",
    "import sys\n",
    "%matplotlib inline\n",
    "import os\n",
    "import re\n",
    "import glob\n",
    "import pandas as pd\n",
    "import numpy as np\n",
    "import matplotlib\n",
    "import matplotlib.pyplot as plt \n",
    "import seaborn as sns\n",
    "\n",
    "# import custom functions\n",
    "import sys\n",
    "sys.path.insert(0, '/home/h1bennet/code/')\n",
    "from hbUtils import ngs_qc, quantile_normalize_df\n",
    "from plotting_scripts import label_point, pca_rpkm_mat, get_diff_volcano\n",
    "from homer_preprocessing import read_annotated_peaks, import_homer_diffpeak, pull_comparisons_get_diff"
   ]
  },
  {
   "cell_type": "code",
   "execution_count": 2,
   "metadata": {},
   "outputs": [],
   "source": [
    "#### PLOTTING PARAMETERS FOR MANUSCRIPT ####\n",
    "# # get matplotlib to save readable fonts\n",
    "matplotlib.rcParams['pdf.fonttype'] = 42\n",
    "matplotlib.rcParams['ps.fonttype'] = 42\n",
    "matplotlib.rcParams['font.size'] = 6\n",
    "matplotlib.rcParams['savefig.dpi'] = 500\n",
    "\n",
    "# line widths\n",
    "matplotlib.rcParams['axes.linewidth'] = 1\n",
    "matplotlib.rcParams['xtick.major.width'] = 1\n",
    "matplotlib.rcParams['ytick.major.width'] = 1\n",
    "\n",
    "# adjust defualt color for plots to black\n",
    "# normal default is a dark gray\n",
    "COLOR = 'black'\n",
    "matplotlib.rcParams['text.color'] = COLOR\n",
    "matplotlib.rcParams['axes.labelcolor'] = COLOR\n",
    "matplotlib.rcParams['xtick.color'] = COLOR\n",
    "matplotlib.rcParams['ytick.color'] = COLOR\n",
    "matplotlib.rcParams['axes.edgecolor'] = COLOR\n",
    "\n",
    "#### PLOT PARAMETERS FOR THIS PLOT ####"
   ]
  },
  {
   "cell_type": "code",
   "execution_count": 3,
   "metadata": {},
   "outputs": [],
   "source": [
    "dataDirectory = '/home/h1bennet/strains/results/11_Strains_Leptin_6h_ATAC/'\n",
    "workingDirectory = '/home/h1bennet/strains/results/10_Strains_Manuscript_Prep/'\n",
    "if not os.path.isdir(workingDirectory):\n",
    "    os.mkdir(workingDirectory)\n",
    "os.chdir(workingDirectory)"
   ]
  },
  {
   "cell_type": "markdown",
   "metadata": {},
   "source": [
    "# Make folder for these figures"
   ]
  },
  {
   "cell_type": "code",
   "execution_count": 4,
   "metadata": {},
   "outputs": [],
   "source": [
    "if not os.path.isdir('./leptin_atac_figure/'):\n",
    "    os.mkdir('./leptin_atac_figure/')"
   ]
  },
  {
   "cell_type": "markdown",
   "metadata": {},
   "source": [
    "# Import ATAC data"
   ]
  },
  {
   "cell_type": "code",
   "execution_count": 5,
   "metadata": {},
   "outputs": [
    {
     "name": "stdout",
     "output_type": "stream",
     "text": [
      "annotatePeaks all peaks (89968, 38)\n",
      "getDiffExpression selected transcripts (84876, 28)\n",
      "annotatePeaks selected peaks (84876, 38)\n"
     ]
    },
    {
     "data": {
      "text/plain": [
       "dict_keys(['00_aj_control vs. 01_aj_leptin6h'])"
      ]
     },
     "execution_count": 5,
     "metadata": {},
     "output_type": "execute_result"
    }
   ],
   "source": [
    "diff_peak, peaks, peak_mat, peak_mat_quant = import_homer_diffpeak(\n",
    "    dataDirectory+'./peakQuan/aj_diff_output.txt',\n",
    "    dataDirectory+'./peakQuan/allRawTags.txt')\n",
    "\n",
    "comp_dict = pull_comparisons_get_diff(diff_peak, seq_type='Peak')\n",
    "comp_dict.keys()"
   ]
  },
  {
   "cell_type": "code",
   "execution_count": 6,
   "metadata": {},
   "outputs": [],
   "source": [
    "comps = ['00_aj_control vs. 01_aj_leptin6h']\n",
    "labels = ['AJ Control\\nLog2(Norm. Tags)',\n",
    "          'AJ Leptin 6h\\nLog2(Norm. Tags)']\n",
    "\n",
    "groups = [[[13,14,15,16],\n",
    "         [17,18,19]]]\n",
    "\n",
    "cols = []\n",
    "for i in groups:\n",
    "    for j in i:\n",
    "        cols.extend(j)\n",
    "cols = [cols]\n",
    "\n",
    "colors = [['#a50f15', '#a50f15']]\n",
    "log2fc = np.log2(2)\n",
    "pval = 0.05"
   ]
  },
  {
   "cell_type": "code",
   "execution_count": 7,
   "metadata": {},
   "outputs": [
    {
     "name": "stdout",
     "output_type": "stream",
     "text": [
      "00_aj_control vs. 01_aj_leptin6h\n",
      "N peaks downregulated 3927\n",
      "N peaks upregulated 2018\n",
      "\n"
     ]
    },
    {
     "data": {
      "image/png": "[encoded data removed]",
      "text/plain": [
       "<Figure size 144x144 with 1 Axes>"
      ]
     },
     "metadata": {
      "needs_background": "light"
     },
     "output_type": "display_data"
    }
   ],
   "source": [
    "for key, col, group, color in zip(comps, cols, groups, colors):\n",
    "    \n",
    "    # make columns for plotting\n",
    "    de = comp_dict[key]\n",
    "    de['logtpm'] = np.log2(peak_mat.iloc[:, col].mean(1)+1)\n",
    "    de['log10p'] = -np.log10(de.adj_pval + 10**(-50))\n",
    "    de['g0_mean'] = np.log2(peak_mat.iloc[:, group[0]].mean(1)+1)\n",
    "    de['g1_mean'] = np.log2(peak_mat.iloc[:, group[1]].mean(1)+1)\n",
    "    de = de.reindex(de.index[(de.g0_mean >= 3) | (de.g1_mean >= 3)])\n",
    "    \n",
    "    dot_colors = []\n",
    "    dot_sizes = []\n",
    "    \n",
    "    # create dot size list\n",
    "    for index, row in de.iterrows():\n",
    "        if (row.adj_pval <= pval) & (-row.log2fc < -log2fc):\n",
    "            dot_colors.append(color[1])\n",
    "            dot_sizes.append(row.log10p)\n",
    "        elif (row.adj_pval <= pval) & (-row.log2fc > log2fc):\n",
    "            dot_colors.append(color[0])\n",
    "            dot_sizes.append(row.log10p)\n",
    "        else:\n",
    "            dot_colors.append('#bdbdbd')\n",
    "            dot_sizes.append(0.5)\n",
    "    \n",
    "    # print DE peaks\n",
    "    print(key)\n",
    "    print('N peaks downregulated', np.sum((de.adj_pval <= pval) & (de.log2fc < -log2fc)))\n",
    "    print('N peaks upregulated', np.sum((de.adj_pval <= pval) & (de.log2fc > log2fc)))\n",
    "    print('')\n",
    "    \n",
    "    fig, ax = plt.subplots(figsize=(2,2))\n",
    "    \n",
    "        # plot group by group scatter:\n",
    "    ax.scatter(\n",
    "        x=de.g0_mean,\n",
    "        y=de.g1_mean,\n",
    "        s=0.5, #de.log10p+0.05,\n",
    "        c=dot_colors,\n",
    "        rasterized=True)\n",
    "    \n",
    "    \n",
    "    # set labels\n",
    "    ax.set_xlabel(labels[0])\n",
    "    ax.set_ylabel(labels[1])\n",
    "    \n",
    "    # Hide the right and top spines\n",
    "    ax.spines['right'].set_visible(False)\n",
    "    ax.spines['top'].set_visible(False)\n",
    "    \n",
    "    #set max and min\n",
    "    countmax = np.max([np.max(de.g0_mean), np.max(de.g1_mean)])\n",
    "    ax.set_xlim([0,np.ceil(countmax)])\n",
    "    ax.set_ylim([0,np.ceil(countmax)])\n",
    "    \n",
    "    ax.text(0.5,13,\n",
    "        s='%i' % (np.sum((de.adj_pval <= 0.05) & (de.log2fc > 1))),\n",
    "        fontsize=6,\n",
    "        c='k')\n",
    "    ax.text(13,0.5,\n",
    "        s='%i' % (np.sum((de.adj_pval <= 0.05) & (de.log2fc < -1))),\n",
    "        fontsize=6,\n",
    "        c='k',\n",
    "        rotation=0)\n",
    "    \n",
    "    plt.savefig('./leptin_atac_figure/aj_leptin_6h_atac_scatter_notext.pdf', bbox_inches='tight')\n",
    "    # plt.close()"
   ]
  },
  {
   "cell_type": "markdown",
   "metadata": {},
   "source": [
    "# Motif enrichment..."
   ]
  },
  {
   "cell_type": "code",
   "execution_count": 8,
   "metadata": {},
   "outputs": [],
   "source": [
    "known_motif_pval_dict = {}\n",
    "for f in np.sort(glob.glob(dataDirectory+'/motif_calling/*/knownResults.txt')):\n",
    "    # read in signifance values using pandas\n",
    "    frame = pd.read_csv(f, sep='\\t', index_col=0)\n",
    "    \n",
    "    # remove duplicates\n",
    "    frame = frame[~frame.index.duplicated(keep='first')]\n",
    "    pval = frame.iloc[:, 2]\n",
    "    \n",
    "    # extract name of sample\n",
    "    sample = f.split('/')[-2]\n",
    "    \n",
    "    # store in dict\n",
    "    known_motif_pval_dict[sample] = pval    \n",
    "    \n",
    "# create data frame\n",
    "known_motif_pval_frame = pd.DataFrame(known_motif_pval_dict)\n",
    "\n",
    "# sort by average p value\n",
    "known_motif_pval_frame = known_motif_pval_frame.reindex(known_motif_pval_frame.mean(axis=1).sort_values().index.tolist())\n",
    "\n",
    "known_motif_pval_frame.to_csv(dataDirectory+'/homer_known_motifs_differential_log.txt', sep='\\t')"
   ]
  },
  {
   "cell_type": "markdown",
   "metadata": {},
   "source": [
    "Filter for aj only."
   ]
  },
  {
   "cell_type": "code",
   "execution_count": 9,
   "metadata": {},
   "outputs": [],
   "source": [
    "df = known_motif_pval_frame.loc[:, known_motif_pval_frame.columns.str.contains('aj')]\n",
    "df = df.loc[:, df.columns.str.contains('distal')]\n",
    "df = df.loc[:, ~df.columns.str.contains('nobg_nodenovo')]"
   ]
  },
  {
   "cell_type": "code",
   "execution_count": 10,
   "metadata": {},
   "outputs": [],
   "source": [
    "motifs = []\n",
    "top_n = 5\n",
    "for col in df.columns:\n",
    "    motifs.extend(df.sort_values(col, ascending=True).index.tolist()[:top_n])\n",
    "    "
   ]
  },
  {
   "cell_type": "code",
   "execution_count": 11,
   "metadata": {},
   "outputs": [
    {
     "data": {
      "image/png": "[encoded data removed]",
      "text/plain": [
       "<Figure size 72x216 with 2 Axes>"
      ]
     },
     "metadata": {
      "needs_background": "light"
     },
     "output_type": "display_data"
    }
   ],
   "source": [
    "fig, ax = plt.subplots(figsize=(1,3))\n",
    "\n",
    "tmp_df = -df.loc[motifs]\n",
    "tmp_df.index = tmp_df.index.str.split('/').str[0]\n",
    "\n",
    "sns.heatmap(tmp_df,\n",
    "            cmap='Reds',\n",
    "            linewidth=1,\n",
    "            linecolor='k',\n",
    "            vmax=25,\n",
    "            annot=True,\n",
    "            fmt='.1f',\n",
    "            xticklabels=0,\n",
    "            cbar_kws={'orientation':'horizontal',\n",
    "                      'pad':0.05})\n",
    "\n",
    "plt.savefig('./leptin_atac_figure/aj_leptin_6h_atac_top5_motifs.pdf', bbox_inches='tight')\n"
   ]
  },
  {
   "cell_type": "code",
   "execution_count": 12,
   "metadata": {},
   "outputs": [
    {
     "data": {
      "text/plain": [
       "<matplotlib.axes._subplots.AxesSubplot at 0x7f9d5a880110>"
      ]
     },
     "execution_count": 12,
     "metadata": {},
     "output_type": "execute_result"
    },
    {
     "data": {
      "image/png": "[encoded data removed]",
      "text/plain": [
       "<Figure size 72x216 with 2 Axes>"
      ]
     },
     "metadata": {
      "needs_background": "light"
     },
     "output_type": "display_data"
    }
   ],
   "source": [
    "fig, ax = plt.subplots(figsize=(1,3))\n",
    "\n",
    "tmp_df = -df.loc[motifs]\n",
    "tmp_df.index = tmp_df.index.str.split('/').str[0]\n",
    "\n",
    "sns.heatmap(tmp_df,\n",
    "            cmap='Reds',\n",
    "            linewidth=1,\n",
    "            linecolor='k',\n",
    "            vmax=25,\n",
    "            annot=True,\n",
    "            fmt='.1f',\n",
    "            xticklabels=1,\n",
    "            cbar_kws={'orientation':'horizontal',\n",
    "                      'pad':0.05})\n"
   ]
  },
  {
   "cell_type": "code",
   "execution_count": null,
   "metadata": {},
   "outputs": [],
   "source": []
  }
 ],
 "metadata": {
  "kernelspec": {
   "display_name": "dataviz",
   "language": "python",
   "name": "dataviz"
  },
  "language_info": {
   "codemirror_mode": {
    "name": "ipython",
    "version": 3
   },
   "file_extension": ".py",
   "mimetype": "text/x-python",
   "name": "python",
   "nbconvert_exporter": "python",
   "pygments_lexer": "ipython3",
   "version": "3.7.5"
  }
 },
 "nbformat": 4,
 "nbformat_minor": 2
}
