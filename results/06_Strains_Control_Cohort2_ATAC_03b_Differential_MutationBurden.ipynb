{
 "cells": [
  {
   "cell_type": "markdown",
   "metadata": {},
   "source": [
    "Hunter Bennett | Glass Lab | Kupffer Strains Project | 19 April 2021\n",
    "\n",
    "In addition to calling differential peaks we want to examine the mutational burden in enhancers with different log2fc between strains (similar to analysis done in our other strains papers)"
   ]
  },
  {
   "cell_type": "code",
   "execution_count": 4,
   "metadata": {},
   "outputs": [],
   "source": [
    "### header ###\n",
    "__author__ = \"Hunter Bennett\"\n",
    "__license__ = \"BSD\"\n",
    "__email__ = \"hunter.r.bennett@gmail.com\"\n",
    "%load_ext autoreload\n",
    "%autoreload 2\n",
    "### imports ###\n",
    "import sys\n",
    "%matplotlib inline\n",
    "import os\n",
    "import re\n",
    "import glob\n",
    "import pandas as pd\n",
    "import numpy as np\n",
    "import matplotlib\n",
    "import matplotlib.pyplot as plt \n",
    "import seaborn as sns\n",
    "matplotlib.rcParams['savefig.dpi'] = 200\n",
    "sns.set(font_scale=1)\n",
    "sns.set_context('talk')\n",
    "sns.set_style('white')\n",
    "\n",
    "# import custom functions\n",
    "import sys\n",
    "sys.path.insert(0, '/home/h1bennet/code/')\n",
    "from hbUtils import ngs_qc, quantile_normalize_df\n",
    "from plotting_scripts import label_point, pca_rpkm_mat, get_diff_volcano\n",
    "from homer_preprocessing import read_annotated_peaks, import_homer_diffpeak, pull_comparisons_get_diff"
   ]
  },
  {
   "cell_type": "code",
   "execution_count": 5,
   "metadata": {},
   "outputs": [],
   "source": [
    "dataDirectory = ''\n",
    "workingDirectory = '/home/h1bennet/strains/results/06_Strains_Control_Cohort2_ATAC/'\n",
    "if not os.path.isdir(workingDirectory):\n",
    "    os.mkdir(workingDirectory)\n",
    "os.chdir(workingDirectory)"
   ]
  },
  {
   "cell_type": "code",
   "execution_count": 10,
   "metadata": {},
   "outputs": [],
   "source": [
    "best_reps = [\n",
    "       '/home/h1bennet/strains/data/ATAC/control_cohort2/tag_mouse_aj_Male_Kupffer_ATAC_Chow_healthyoung_AJ1_TDT_l20210213_GTAGAGAG_CTATTAAG_S11_L001_trim30.aj.bowtie2_shifted_from_AJ.sam',\n",
    "       '/home/h1bennet/strains/data/ATAC/control_cohort2/tag_mouse_aj_Male_Kupffer_ATAC_Chow_healthyoung_AJ2_TDT_l20210213_CAGCCTCG_AAGGCTAT_S12_L001_trim30.aj.bowtie2_shifted_from_AJ.sam',\n",
    "       '/home/h1bennet/strains/data/ATAC/control_cohort2/tag_mouse_aj_Male_Kupffer_ATAC_Chow_healthyoung_AJ3_TDT_l20210213_TGCCTCTT_GAGCCTTA_S13_L001_trim30.aj.bowtie2_shifted_from_AJ.sam',\n",
    "       '/home/h1bennet/strains/data/ATAC/control_cohort2/tag_mouse_aj_Male_Kupffer_ATAC_Chow_healthyoung_AJ4_TDT_l20210213_TCCTCTAC_TTATGCGA_S14_L001_trim30.aj.bowtie2_shifted_from_AJ.sam',\n",
    "       '/home/h1bennet/strains/data/ATAC/control_cohort2/tag_mouse_balbcj_Male_Kupffer_ATAC_Chow_healthyoung_BALB1_TDT_l20210213_TCATGAGC_CTCTCTAT_S15_L001_trim30.balbcj.bowtie2_shifted_from_BALBCJ.sam',\n",
    "       '/home/h1bennet/strains/data/ATAC/control_cohort2/tag_mouse_balbcj_Male_Kupffer_ATAC_Chow_healthyoung_BALB2_TDT_l20210213_CCTGAGAT_TATCCTCT_S16_L001_trim30.balbcj.bowtie2_shifted_from_BALBCJ.sam',\n",
    "       '/home/h1bennet/strains/data/ATAC/control_cohort2/tag_mouse_balbcj_Male_Kupffer_ATAC_Chow_healthyoung_BALB3_TDT_l20210213_TAGCGAGT_GTAAGGAG_S17_L001_trim30.balbcj.bowtie2_shifted_from_BALBCJ.sam',\n",
    "       '/home/h1bennet/strains/data/ATAC/control_cohort2/tag_mouse_balbcj_Male_Kupffer_ATAC_Chow_healthyoung_BALB4_TDT_l20210213_GTAGCTCC_ACTGCATA_S18_L001_trim30.balbcj.bowtie2_shifted_from_BALBCJ.sam',\n",
    "       '/home/h1bennet/strains/data/ATAC/control_cohort2/tag_mouse_c57bl6j_Male_Kupffer_ATAC_Chow_healthyoung_C571_TDT_l20210213_TACTACGC_AAGGAGTA_S19_L001_trim30',\n",
    "       '/home/h1bennet/strains/data/ATAC/control_cohort2/tag_mouse_c57bl6j_Male_Kupffer_ATAC_Chow_healthyoung_C572_TDT_l20210213_AGGCTCCG_CTAAGCCT_S20_L001_trim30',\n",
    "       '/home/h1bennet/strains/data/ATAC/control_cohort2/tag_mouse_c57bl6j_Male_Kupffer_ATAC_Chow_healthyoung_C573_TDT_l20210213_GCAGCGTA_CGTCTAAT_S21_L001_trim30',\n",
    "       '/home/h1bennet/strains/data/ATAC/control_cohort2/tag_mouse_c57bl6j_Male_Kupffer_ATAC_Chow_healthyoung_C574_TDT_l20210213_CTGCGCAT_TCTCTCCG_S22_L001_trim30']"
   ]
  },
  {
   "cell_type": "markdown",
   "metadata": {},
   "source": [
    "# Save differential peaks for MMARGE mutational burden analysis."
   ]
  },
  {
   "cell_type": "code",
   "execution_count": 11,
   "metadata": {},
   "outputs": [
    {
     "name": "stdout",
     "output_type": "stream",
     "text": [
      "annotatePeaks all peaks (86301, 30)\n",
      "getDiffExpression selected transcripts (84264, 39)\n",
      "annotatePeaks selected peaks (84264, 30)\n"
     ]
    }
   ],
   "source": [
    "diff_peak, peaks, peak_mat, peak_mat_quant = import_homer_diffpeak(\n",
    "    './merged_peaks/diff_output.txt',\n",
    "    './merged_peaks/ann_norm_idr_peaks_merged.txt')"
   ]
  },
  {
   "cell_type": "code",
   "execution_count": 16,
   "metadata": {},
   "outputs": [],
   "source": [
    "# pull out selected samples\n",
    "cols = np.append(np.asarray([True]*18, 'bool'), peak_mat.columns.str.contains('|'.join(best_reps)))\n",
    "tst = np.append(np.asarray([True]*18, 'bool'), peak_mat.columns.str.contains('|'.join(best_reps)))\n",
    "peaks = peaks.loc[:, tst]\n",
    "peak_mat = peak_mat.loc[:, peak_mat.columns.str.contains('|'.join(best_reps))]"
   ]
  },
  {
   "cell_type": "code",
   "execution_count": 17,
   "metadata": {},
   "outputs": [],
   "source": [
    "comp_dict = pull_comparisons_get_diff(diff_peak, seq_type='Peak')"
   ]
  },
  {
   "cell_type": "code",
   "execution_count": 18,
   "metadata": {
    "scrolled": true
   },
   "outputs": [
    {
     "data": {
      "text/plain": [
       "dict_keys(['aj vs. balbcj', 'aj vs. c57bl6j', 'balbcj vs. c57bl6j'])"
      ]
     },
     "execution_count": 18,
     "metadata": {},
     "output_type": "execute_result"
    }
   ],
   "source": [
    "comp_dict.keys()"
   ]
  },
  {
   "cell_type": "code",
   "execution_count": 24,
   "metadata": {},
   "outputs": [],
   "source": [
    "if not os.path.isdir('./marge_mutational_burden/'):\n",
    "    os.mkdir('./marge_mutational_burden/')"
   ]
  },
  {
   "cell_type": "code",
   "execution_count": 36,
   "metadata": {},
   "outputs": [],
   "source": [
    "pval = 0.05\n",
    "fcs = [1,2,4]\n",
    "peak_list_dict = {}"
   ]
  },
  {
   "cell_type": "code",
   "execution_count": 37,
   "metadata": {},
   "outputs": [],
   "source": [
    "for fc in fcs:   \n",
    "    for key in comp_dict.keys():\n",
    "        # select get diff data frame.\n",
    "        df = comp_dict[key]\n",
    "        deg = df.index[(df.loc[:, 'adj_pval'] < pval) & (np.abs(df.loc[:, 'log2fc']) >= fc)]\n",
    "        peak_list_dict[key+'_de_peaks_fc_'+str(fc)] = deg\n",
    "        \n",
    "        # add list for nonsig peaks\n",
    "        nondeg = df.index[(df.loc[:, 'adj_pval'] >= pval) & (np.abs(df.loc[:, 'log2fc']) < fc)]\n",
    "        peak_list_dict[key+'_nonsig'] = nondeg"
   ]
  },
  {
   "cell_type": "markdown",
   "metadata": {},
   "source": [
    "if np.NaN get introduced into the matrix then it converts 'int' type columns to 'float' type columns, this is not ideal and interferes with downstream peak analysis so we create a dict to change the start and end columns back to integers just in case"
   ]
  },
  {
   "cell_type": "code",
   "execution_count": 38,
   "metadata": {},
   "outputs": [],
   "source": [
    "convert_dict = {'Start': int,\n",
    "                'End': int}\n",
    "\n",
    "for key in peak_list_dict.keys():\n",
    "    # save cell specific promoters\n",
    "    tmp = diff_peak.reindex(peak_list_dict[key]).dropna(how='all').iloc[:, :4]\n",
    "    tmp = tmp.astype(convert_dict)\n",
    "    tmp.to_csv('./marge_mutational_burden/'+key.replace(' vs. ','_vs_')+'.txt',\n",
    "               sep='\\t')"
   ]
  },
  {
   "cell_type": "markdown",
   "metadata": {},
   "source": [
    "Annoate mutations with MMARGE"
   ]
  },
  {
   "cell_type": "code",
   "execution_count": 42,
   "metadata": {},
   "outputs": [],
   "source": [
    "with open('./marge_annotate_mutations.sh', 'w') as f:\n",
    "    for peakfile in glob.glob('./marge_mutational_burden/aj*c57*.txt'):\n",
    "        anno_mut = ['MMARGE.pl annotate_mutations', '-file', peakfile,\n",
    "                    '-output', peakfile.replace('.txt', '_anno_muts.txt'),\n",
    "                    '-ind', 'aj\\n\\n']\n",
    "        f.write(' '.join(anno_mut))\n",
    "        \n",
    "    for peakfile in glob.glob('./marge_mutational_burden/balbcj*c57*.txt'):\n",
    "        anno_mut = ['MMARGE.pl annotate_mutations', '-file', peakfile,\n",
    "                    '-output', peakfile.replace('.txt', '_anno_muts.txt'),\n",
    "                    '-ind', 'balbcj\\n\\n']\n",
    "        f.write(' '.join(anno_mut))\n",
    "        \n",
    "    for peakfile in glob.glob('./marge_mutational_burden/aj*balbcj*.txt'):\n",
    "        anno_mut = ['MMARGE.pl annotate_mutations', '-file', peakfile,\n",
    "                    '-output', peakfile.replace('.txt', '_anno_muts.txt'),\n",
    "                    '-ind', 'balbcj\\n\\n']\n",
    "        f.write(' '.join(anno_mut))"
   ]
  },
  {
   "cell_type": "markdown",
   "metadata": {},
   "source": [
    "Calculate number of mutations in each file"
   ]
  },
  {
   "cell_type": "code",
   "execution_count": 65,
   "metadata": {},
   "outputs": [
    {
     "data": {
      "text/plain": [
       "array(['./marge_mutational_burden/aj_vs_c57bl6j_de_peaks_fc_1_anno_muts.txt',\n",
       "       './marge_mutational_burden/aj_vs_c57bl6j_de_peaks_fc_2_anno_muts.txt',\n",
       "       './marge_mutational_burden/aj_vs_c57bl6j_de_peaks_fc_4_anno_muts.txt',\n",
       "       './marge_mutational_burden/aj_vs_c57bl6j_nonsig_anno_muts.txt',\n",
       "       './marge_mutational_burden/balbcj_vs_c57bl6j_de_peaks_fc_1_anno_muts.txt',\n",
       "       './marge_mutational_burden/balbcj_vs_c57bl6j_de_peaks_fc_2_anno_muts.txt',\n",
       "       './marge_mutational_burden/balbcj_vs_c57bl6j_de_peaks_fc_4_anno_muts.txt',\n",
       "       './marge_mutational_burden/balbcj_vs_c57bl6j_nonsig_anno_muts.txt'],\n",
       "      dtype='<U71')"
      ]
     },
     "execution_count": 65,
     "metadata": {},
     "output_type": "execute_result"
    }
   ],
   "source": [
    "np.sort(glob.glob('./marge_mutational_burden/*anno_muts.txt'))"
   ]
  },
  {
   "cell_type": "code",
   "execution_count": 60,
   "metadata": {},
   "outputs": [
    {
     "name": "stdout",
     "output_type": "stream",
     "text": [
      "Help on built-in function round in module builtins:\n",
      "\n",
      "round(number, ndigits=None)\n",
      "    Round a number to a given precision in decimal digits.\n",
      "    \n",
      "    The return value is an integer if ndigits is omitted or None.  Otherwise\n",
      "    the return value has the same type as the number.  ndigits may be negative.\n",
      "\n"
     ]
    }
   ],
   "source": [
    "help(round)"
   ]
  },
  {
   "cell_type": "code",
   "execution_count": 81,
   "metadata": {},
   "outputs": [],
   "source": [
    "mut_frac_dict = {}\n",
    "for peakfile in np.sort(glob.glob('./marge_mutational_burden/*anno_muts.txt')):\n",
    "    mutfile = pd.read_csv(peakfile, index_col=0, sep='\\t')\n",
    "     #print(mutfile.iloc[:, -1].isna().value_counts())\n",
    "    nomut = mutfile.iloc[:, -1].isna().sum()\n",
    "    total_peaks = mutfile.iloc[:, -1].shape[0]\n",
    "    mut_frac_dict[peakfile.split('/')[-1]] = round((total_peaks-nomut)/(total_peaks),\n",
    "                                                   ndigits=3)"
   ]
  },
  {
   "cell_type": "code",
   "execution_count": 82,
   "metadata": {},
   "outputs": [
    {
     "data": {
      "text/plain": [
       "aj_vs_c57bl6j_de_peaks_fc_1_anno_muts.txt        0.552\n",
       "aj_vs_c57bl6j_de_peaks_fc_2_anno_muts.txt        0.641\n",
       "aj_vs_c57bl6j_de_peaks_fc_4_anno_muts.txt        0.654\n",
       "aj_vs_c57bl6j_nonsig_anno_muts.txt               0.166\n",
       "balbcj_vs_c57bl6j_de_peaks_fc_1_anno_muts.txt    0.491\n",
       "balbcj_vs_c57bl6j_de_peaks_fc_2_anno_muts.txt    0.593\n",
       "balbcj_vs_c57bl6j_de_peaks_fc_4_anno_muts.txt    0.641\n",
       "balbcj_vs_c57bl6j_nonsig_anno_muts.txt           0.148\n",
       "dtype: float64"
      ]
     },
     "execution_count": 82,
     "metadata": {},
     "output_type": "execute_result"
    }
   ],
   "source": [
    "pd.Series(mut_frac_dict)"
   ]
  },
  {
   "cell_type": "markdown",
   "metadata": {},
   "source": [
    "This can be put into a fancy table for publication"
   ]
  },
  {
   "cell_type": "code",
   "execution_count": null,
   "metadata": {},
   "outputs": [],
   "source": []
  }
 ],
 "metadata": {
  "kernelspec": {
   "display_name": "dataviz",
   "language": "python",
   "name": "dataviz"
  },
  "language_info": {
   "codemirror_mode": {
    "name": "ipython",
    "version": 3
   },
   "file_extension": ".py",
   "mimetype": "text/x-python",
   "name": "python",
   "nbconvert_exporter": "python",
   "pygments_lexer": "ipython3",
   "version": "3.7.5"
  }
 },
 "nbformat": 4,
 "nbformat_minor": 2
}
