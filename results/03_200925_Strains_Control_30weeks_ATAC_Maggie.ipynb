{
 "cells": [
  {
   "cell_type": "markdown",
   "metadata": {},
   "source": [
    "Goal is to make a clear pipeline to run Zeyang's maggie script with the strains data"
   ]
  },
  {
   "cell_type": "code",
   "execution_count": 5,
   "metadata": {},
   "outputs": [
    {
     "name": "stdout",
     "output_type": "stream",
     "text": [
      "The autoreload extension is already loaded. To reload it, use:\n",
      "  %reload_ext autoreload\n"
     ]
    }
   ],
   "source": [
    "### header ###\n",
    "__author__ = \"Hunter Bennett\"\n",
    "__license__ = \"BSD\"\n",
    "__email__ = \"hunter.r.bennett@gmail.com\"\n",
    "%load_ext autoreload\n",
    "%autoreload 2\n",
    "### imports ###\n",
    "import sys\n",
    "%matplotlib inline\n",
    "import os\n",
    "import re\n",
    "import glob\n",
    "import pandas as pd\n",
    "import numpy as np\n",
    "import matplotlib\n",
    "import matplotlib.pyplot as plt \n",
    "import seaborn as sns\n",
    "matplotlib.rcParams['savefig.dpi'] = 200\n",
    "sns.set(font_scale=1)\n",
    "sns.set_context('talk')\n",
    "sns.set_style('white')\n",
    "\n",
    "# import custom functions\n",
    "import sys\n",
    "sys.path.insert(0, '/home/h1bennet/code/')\n",
    "# from hbUtils import ngs_qc, quantile_normalize_df"
   ]
  },
  {
   "cell_type": "code",
   "execution_count": 6,
   "metadata": {},
   "outputs": [],
   "source": [
    "dataDirectory = '/gpfs/data01/glasslab/home/h1bennet/strains/data/ATAC/control_30week/'\n",
    "workingDirectory = '/home/h1bennet/strains/results/200925_Strains_Control_30weeks_ATAC_Maggie/'\n",
    "if not os.path.isdir(workingDirectory):\n",
    "    os.mkdir(workingDirectory)\n",
    "os.chdir(workingDirectory)"
   ]
  },
  {
   "cell_type": "markdown",
   "metadata": {},
   "source": [
    "# 1. Pull IDR ATAC Peaks from O'Young's peakPipe and convert to BED files"
   ]
  },
  {
   "cell_type": "code",
   "execution_count": 9,
   "metadata": {},
   "outputs": [
    {
     "name": "stderr",
     "output_type": "stream",
     "text": [
      "\tOutput File: ./bed_files/aj_kupffer_control_30weeks_peaks.bed\n",
      "\n",
      "\tConverted 48985 peaks total\n",
      "\n",
      "\tOutput File: ./bed_files/balbc_kupffer_control_30weeks_peaks.bed\n",
      "\n",
      "\tConverted 32868 peaks total\n",
      "\n",
      "\tOutput File: ./bed_files/c57_kupffer_control_30weeks_peaks.bed\n",
      "\n",
      "\tConverted 38018 peaks total\n",
      "\n"
     ]
    }
   ],
   "source": [
    "%%bash\n",
    "\n",
    "if [ ! -d ./bed_files/ ]; then mkdir ./bed_files; fi\n",
    "\n",
    "#copy peakIDR\n",
    "cp -r ../200923_Strains_Control_30weeks_ATAC_PeakPipe/peakIDR/ ../\n",
    "\n",
    "# convert each idr peak file into a bed file\n",
    "for peak_file in ./peakIDR/*idr;\n",
    "do bed_file=${peak_file/.idr/_peaks.bed}\n",
    "bed_file=${bed_file/peakIDR/bed_files}\n",
    "\n",
    "pos2bed.pl $peak_file -o $bed_file\n",
    "\n",
    "done"
   ]
  },
  {
   "cell_type": "markdown",
   "metadata": {},
   "source": [
    "# 2. Find differential regions using Zeyang's tool"
   ]
  },
  {
   "cell_type": "markdown",
   "metadata": {},
   "source": [
    "make directory for analysis"
   ]
  },
  {
   "cell_type": "code",
   "execution_count": 5,
   "metadata": {},
   "outputs": [],
   "source": [
    "!if [ ! -d ./balb_c57_maggie/ ]; then mkdir ./balb_c57_maggie; fi"
   ]
  },
  {
   "cell_type": "code",
   "execution_count": 10,
   "metadata": {},
   "outputs": [],
   "source": [
    "%%bash\n",
    "source activate maggie\n",
    "\n",
    "# find_differential.py \\\n",
    "# -i1 ./bed_files/balbc_kupffer_control_30weeks_peaks.bed \\\n",
    "# -i2 ./bed_files/c57_kupffer_control_30weeks_peaks.bed \\\n",
    "# -o1 ./balb_c57_maggie/balbc_specific_peaks_c57bg.txt \\\n",
    "# -o2 ./balb_c57_maggie/c57_specific_peaks_balbcbg.txt"
   ]
  },
  {
   "cell_type": "code",
   "execution_count": 16,
   "metadata": {},
   "outputs": [
    {
     "name": "stderr",
     "output_type": "stream",
     "text": [
      "rm: cannot remove ‘./find_differential.sh’: No such file or directory\n"
     ]
    }
   ],
   "source": [
    "%%bash\n",
    "# delete the existing script file\n",
    "rm ./find_differential.sh\n",
    "# create a script file\n",
    "touch ./find_differential.sh\n",
    "\n",
    "# if directories don't exist, create them\n",
    "if [ ! -d ./differential_peaks/ ]; then mkdir ./differential_peaks; fi"
   ]
  },
  {
   "cell_type": "code",
   "execution_count": null,
   "metadata": {},
   "outputs": [],
   "source": []
  },
  {
   "cell_type": "code",
   "execution_count": 20,
   "metadata": {},
   "outputs": [
    {
     "name": "stdout",
     "output_type": "stream",
     "text": [
      "aj_kupffer_control_30weeks_peaks.bed balbc_kupffer_control_30weeks_peaks.bed\n",
      "aj_kupffer_control_30weeks_peaks.bed c57_kupffer_control_30weeks_peaks.bed\n",
      "balbc_kupffer_control_30weeks_peaks.bed aj_kupffer_control_30weeks_peaks.bed\n",
      "balbc_kupffer_control_30weeks_peaks.bed c57_kupffer_control_30weeks_peaks.bed\n",
      "c57_kupffer_control_30weeks_peaks.bed aj_kupffer_control_30weeks_peaks.bed\n",
      "c57_kupffer_control_30weeks_peaks.bed balbc_kupffer_control_30weeks_peaks.bed\n"
     ]
    }
   ],
   "source": [
    "import itertools\n",
    "mylist = glob.glob('./bed_files/*peaks.bed')\n",
    "mylist = [i.split('/')[-1] for i in mylist]\n",
    "mylist.sort()\n",
    "# use pattern to extract cell type\n",
    "with open('./find_differential.sh', 'w') as f:\n",
    "    for i, j in itertools.permutations(mylist, r=2):\n",
    "        print(i,j)\n",
    "        find_dif = ['bedtools', 'intersect', '-v',\n",
    "                    '-a', './bed_files/'+i, '-b', './bed_files/'+j,\n",
    "                    '>', './differential_peaks/'+i.split('_')[0]+'_spec_'+j.split('_')[0]+'.bed',\n",
    "                   '\\n']\n",
    "        f.write(' '.join(find_dif))\n"
   ]
  },
  {
   "cell_type": "markdown",
   "metadata": {},
   "source": [
    "Convert bed to peaks"
   ]
  },
  {
   "cell_type": "code",
   "execution_count": 31,
   "metadata": {},
   "outputs": [
    {
     "name": "stderr",
     "output_type": "stream",
     "text": [
      "\tOutput File: ./differential_peaks/aj_spec_balbc.txt\n",
      "\tOutput File: ./differential_peaks/aj_spec_c57.txt\n",
      "\tOutput File: ./differential_peaks/balbc_spec_aj.txt\n",
      "\tOutput File: ./differential_peaks/balbc_spec_c57.txt\n",
      "\tOutput File: ./differential_peaks/c57_spec_aj.txt\n",
      "\tOutput File: ./differential_peaks/c57_spec_balbc.txt\n"
     ]
    }
   ],
   "source": [
    "%%bash\n",
    "for bed_file in ./differential_peaks/*bed;\n",
    "do peak_file=${bed_file/bed/txt}\n",
    "bed2pos.pl $bed_file -o $peak_file\n",
    "done"
   ]
  },
  {
   "cell_type": "markdown",
   "metadata": {},
   "source": [
    "Currently the find_differential.py is hanging with my toy example - trying to workaround with bedtools intersect followed by bed2pos.pl"
   ]
  },
  {
   "cell_type": "markdown",
   "metadata": {},
   "source": [
    "# 3. Extract sequences with MMarge"
   ]
  },
  {
   "cell_type": "code",
   "execution_count": 7,
   "metadata": {},
   "outputs": [],
   "source": [
    "if not os.path.isdir('./differential_fasta/'):\n",
    "    os.mkdir('./differential_fasta/')"
   ]
  },
  {
   "cell_type": "markdown",
   "metadata": {},
   "source": [
    "BALB vs C57"
   ]
  },
  {
   "cell_type": "code",
   "execution_count": null,
   "metadata": {},
   "outputs": [],
   "source": [
    "marge extract_sequences -ind BALBCJ -file ./differential_peaks/balbc_spec_c57.txt -data_dir . -genome_dir ~/genomes/ -output ./differential_fasta/balbc_spec_c57_ref.fa\n",
    "marge extract_sequences -ind C57BL6J -file ./differential_peaks/balbc_spec_c57.txt -data_dir . -genome_dir ~/genomes/ -output ./differential_fasta/balbc_spec_c57_mut.fa\n",
    "\n",
    "marge extract_sequences -ind C57BL6J -file ./differential_peaks/c57_spec_balbc.txt -data_dir . -genome_dir ~/genomes/ -output ./differential_fasta/c57_spec_balbc_ref.fa\n",
    "marge extract_sequences -ind BALBCJ -file ./differential_peaks/c57_spec_balbc.txt -data_dir . -genome_dir ~/genomes/ -output ./differential_fasta/c57_spec_balbc_mut.fa\n"
   ]
  },
  {
   "cell_type": "markdown",
   "metadata": {},
   "source": [
    "BALB vs AJ"
   ]
  },
  {
   "cell_type": "code",
   "execution_count": null,
   "metadata": {},
   "outputs": [],
   "source": [
    "marge extract_sequences -ind BALBCJ -file ./differential_peaks/balbc_spec_aj.txt -data_dir . -genome_dir ~/genomes/ -output ./differential_fasta/balbc_spec_aj_ref.fa\n",
    "marge extract_sequences -ind AJ -file ./differential_peaks/balbc_spec_aj.txt -data_dir . -genome_dir ~/genomes/ -output ./differential_fasta/balbc_spec_aj_mut.fa\n",
    "\n",
    "marge extract_sequences -ind AJ -file ./differential_peaks/aj_spec_balbc.txt -data_dir . -genome_dir ~/genomes/ -output ./differential_fasta/aj_spec_balbc_ref.fa\n",
    "marge extract_sequences -ind BALBCJ -file ./differential_peaks/aj_spec_balbc.txt -data_dir . -genome_dir ~/genomes/ -output ./differential_fasta/aj_spec_balbc_mut.fa\n"
   ]
  },
  {
   "cell_type": "markdown",
   "metadata": {},
   "source": [
    "AJ vs. C57"
   ]
  },
  {
   "cell_type": "code",
   "execution_count": null,
   "metadata": {},
   "outputs": [],
   "source": [
    "marge extract_sequences -ind C57BL6J -file ./differential_peaks/c57_spec_aj.txt -data_dir . -genome_dir ~/genomes/ -output ./differential_fasta/c57_spec_aj_ref.fa\n",
    "marge extract_sequences -ind AJ -file ./differential_peaks/c57_spec_aj.txt -data_dir . -genome_dir ~/genomes/ -output ./differential_fasta/c57_spec_aj_mut.fa\n",
    "\n",
    "marge extract_sequences -ind AJ -file ./differential_peaks/aj_spec_c57.txt -data_dir . -genome_dir ~/genomes/ -output ./differential_fasta/aj_spec_c57_ref.fa\n",
    "marge extract_sequences -ind C57BL6J -file ./differential_peaks/aj_spec_c57.txt -data_dir . -genome_dir ~/genomes/ -output ./differential_fasta/aj_spec_c57_mut.fa\n"
   ]
  },
  {
   "cell_type": "markdown",
   "metadata": {},
   "source": [
    "# 4. Run MAGGIE"
   ]
  },
  {
   "cell_type": "code",
   "execution_count": 10,
   "metadata": {},
   "outputs": [],
   "source": [
    "if not os.path.isdir('./maggie_output/'):\n",
    "    os.mkdir('./maggie_output/')"
   ]
  },
  {
   "cell_type": "markdown",
   "metadata": {},
   "source": [
    "BALB vs C57"
   ]
  },
  {
   "cell_type": "code",
   "execution_count": 11,
   "metadata": {},
   "outputs": [],
   "source": [
    "if not os.path.isdir('./maggie_output/balb_c57'):\n",
    "    os.mkdir('./maggie_output/balb_c57')"
   ]
  },
  {
   "cell_type": "code",
   "execution_count": null,
   "metadata": {},
   "outputs": [],
   "source": [
    "/home/h1bennet/anaconda3/envs/maggie/bin/python ~/maggie/bin/maggie_fasta_input.py \\\n",
    "./differential_fasta/balbc_spec_c57_ref.fa,./differential_fasta/c57_spec_balbc_ref.fa \\\n",
    "./differential_fasta/balbc_spec_c57_mut.fa,./differential_fasta/c57_spec_balbc_mut.fa \\\n",
    "-o ./maggie_output/balbc_c57/ \\\n",
    "-p 20"
   ]
  },
  {
   "cell_type": "markdown",
   "metadata": {},
   "source": [
    "BALB vs AJ"
   ]
  },
  {
   "cell_type": "code",
   "execution_count": 12,
   "metadata": {},
   "outputs": [],
   "source": [
    "if not os.path.isdir('./maggie_output/balb_aj'):\n",
    "    os.mkdir('./maggie_output/balb_aj')"
   ]
  },
  {
   "cell_type": "code",
   "execution_count": null,
   "metadata": {},
   "outputs": [],
   "source": [
    "/home/h1bennet/anaconda3/envs/maggie/bin/python ~/maggie/bin/maggie_fasta_input.py \\\n",
    "./differential_fasta/balbc_spec_aj_ref.fa,./differential_fasta/aj_spec_balbc_ref.fa \\\n",
    "./differential_fasta/balbc_spec_aj_mut.fa,./differential_fasta/aj_spec_balbc_mut.fa \\\n",
    "-o ./maggie_output/balbc_aj/ \\\n",
    "-p 20"
   ]
  },
  {
   "cell_type": "markdown",
   "metadata": {},
   "source": [
    "AJ vs. C57"
   ]
  },
  {
   "cell_type": "code",
   "execution_count": 13,
   "metadata": {},
   "outputs": [],
   "source": [
    "if not os.path.isdir('./maggie_output/aj_c57'):\n",
    "    os.mkdir('./maggie_output/aj_c57')"
   ]
  },
  {
   "cell_type": "code",
   "execution_count": null,
   "metadata": {},
   "outputs": [],
   "source": [
    "/home/h1bennet/anaconda3/envs/maggie/bin/python ~/maggie/bin/maggie_fasta_input.py \\\n",
    "./differential_fasta/aj_spec_c57_ref.fa,./differential_fasta/c57_spec_aj_ref.fa \\\n",
    "./differential_fasta/aj_spec_c57_mut.fa,./differential_fasta/c57_spec_aj_mut.fa \\\n",
    "-o ./maggie_output/aj_c57/ \\\n",
    "-p 20"
   ]
  }
 ],
 "metadata": {
  "kernelspec": {
   "display_name": "dataviz",
   "language": "python",
   "name": "dataviz"
  },
  "language_info": {
   "codemirror_mode": {
    "name": "ipython",
    "version": 3
   },
   "file_extension": ".py",
   "mimetype": "text/x-python",
   "name": "python",
   "nbconvert_exporter": "python",
   "pygments_lexer": "ipython3",
   "version": "3.7.5"
  }
 },
 "nbformat": 4,
 "nbformat_minor": 2
}
