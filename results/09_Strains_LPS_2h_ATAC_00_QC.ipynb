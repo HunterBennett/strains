{
 "cells": [
  {
   "cell_type": "markdown",
   "metadata": {},
   "source": [
    "Hunter Bennett | Glass Lab | Kupffer Strains Project | 04 June 2021"
   ]
  },
  {
   "cell_type": "code",
   "execution_count": 1,
   "metadata": {},
   "outputs": [],
   "source": [
    "### header ###\n",
    "__author__ = \"Hunter Bennett\"\n",
    "__license__ = \"BSD\"\n",
    "__email__ = \"hunter.r.bennett@gmail.com\"\n",
    "%load_ext autoreload\n",
    "%autoreload 2\n",
    "### imports ###\n",
    "import sys\n",
    "%matplotlib inline\n",
    "import os\n",
    "import re\n",
    "import glob\n",
    "import pandas as pd\n",
    "import numpy as np\n",
    "import matplotlib\n",
    "import matplotlib.pyplot as plt \n",
    "import seaborn as sns\n",
    "matplotlib.rcParams['savefig.dpi'] = 200\n",
    "sns.set(font_scale=1)\n",
    "sns.set_context('talk')\n",
    "sns.set_style('white')\n",
    "\n",
    "# import custom functions\n",
    "import sys\n",
    "sys.path.insert(0, '/home/h1bennet/code/')\n",
    "from hbUtils import ngs_qc, quantile_normalize_df"
   ]
  },
  {
   "cell_type": "markdown",
   "metadata": {},
   "source": [
    "Set working directory"
   ]
  },
  {
   "cell_type": "code",
   "execution_count": 2,
   "metadata": {},
   "outputs": [],
   "source": [
    "lpsDirectory = '/gpfs/data01/glasslab/home/h1bennet/strains/data/ATAC/LPS_2hours/'\n",
    "controlDirectory = '/gpfs/data01/glasslab/home/h1bennet/strains/data/ATAC/control_cohort2/'\n",
    "workingDirectory = '/home/h1bennet/strains/results/09_Strains_LPS_2h_ATAC'\n",
    "if not os.path.isdir(workingDirectory):\n",
    "    os.mkdir(workingDirectory)\n",
    "os.chdir(workingDirectory)"
   ]
  },
  {
   "cell_type": "markdown",
   "metadata": {},
   "source": [
    "### Make multiwighub for QC"
   ]
  },
  {
   "cell_type": "code",
   "execution_count": 4,
   "metadata": {
    "scrolled": true
   },
   "outputs": [
    {
     "data": {
      "text/plain": [
       "['c57bl6j_Male_Kupffer_ATAC_Chow_healthyoung_C571_TDT_l20210213_TACTACGC_AAGGAGTA_S19_L001_trim30',\n",
       " 'c57bl6j_Male_Kupffer_ATAC_Chow_healthyoung_C574_TDT_l20210213_CTGCGCAT_TCTCTCCG_S22_L001_trim30',\n",
       " '._.DS_Store',\n",
       " 'balbcj_Male_Kupffer_ATAC_Chow_healthyoung_BALB2_TDT_l20210213_CCTGAGAT_TATCCTCT_S16_L001_trim30.balbcj.bowtie2_shifted_from_BALBCJ.sam',\n",
       " 'c57bl6j_Male_Kupffer_ATAC_Chow_healthyoung_C573_TDT_l20210213_GCAGCGTA_CGTCTAAT_S21_L001_trim30',\n",
       " 'balbcj_Male_Kupffer_ATAC_Chow_healthyoung_BALB4_TDT_l20210213_GTAGCTCC_ACTGCATA_S18_L001_trim30.balbcj.bowtie2_shifted_from_BALBCJ.sam',\n",
       " 'aj_Male_Kupffer_ATAC_Chow_healthyoung_AJ1_TDT_l20210213_GTAGAGAG_CTATTAAG_S11_L001_trim30.aj.bowtie2_shifted_from_AJ.sam',\n",
       " 'aj_Male_Kupffer_ATAC_Chow_healthyoung_AJ2_TDT_l20210213_CAGCCTCG_AAGGCTAT_S12_L001_trim30.aj.bowtie2_shifted_from_AJ.sam',\n",
       " 'balbcj_Male_Kupffer_ATAC_Chow_healthyoung_BALB3_TDT_l20210213_TAGCGAGT_GTAAGGAG_S17_L001_trim30.balbcj.bowtie2_shifted_from_BALBCJ.sam',\n",
       " '.DS_Store',\n",
       " 'balbcj_Male_Kupffer_ATAC_Chow_healthyoung_BALB1_TDT_l20210213_TCATGAGC_CTCTCTAT_S15_L001_trim30.balbcj.bowtie2_shifted_from_BALBCJ.sam',\n",
       " 'aj_Male_Kupffer_ATAC_Chow_healthyoung_AJ3_TDT_l20210213_TGCCTCTT_GAGCCTTA_S13_L001_trim30.aj.bowtie2_shifted_from_AJ.sam',\n",
       " 'aj_Male_Kupffer_ATAC_Chow_healthyoung_AJ4_TDT_l20210213_TCCTCTAC_TTATGCGA_S14_L001_trim30.aj.bowtie2_shifted_from_AJ.sam',\n",
       " 'c57bl6j_Male_Kupffer_ATAC_Chow_healthyoung_C572_TDT_l20210213_AGGCTCCG_CTAAGCCT_S20_L001_trim30']"
      ]
     },
     "execution_count": 4,
     "metadata": {},
     "output_type": "execute_result"
    }
   ],
   "source": [
    "os.listdir(controlDirectory)"
   ]
  },
  {
   "cell_type": "markdown",
   "metadata": {},
   "source": [
    "    makeMultiWigHub.pl hrb_strains_lps_2h_qc mm10 \\\n",
    "    -color 49,130,189 49,130,189 49,130,189 49,130,189 \\\n",
    "    8,81,156 8,81,156 \\\n",
    "    49,163,84 49,163,84 49,163,84 49,163,84 \\\n",
    "    0,109,44 0,109,44 0,109,44 \\\n",
    "    -force -d /gpfs/data01/glasslab/home/h1bennet/strains/data/ATAC/control_cohort2/balbcj_Male_Kupffer_ATAC_Chow_healthyoung_BALB1_TDT_l20210213_TCATGAGC_CTCTCTAT_S15_L001_trim30.balbcj.bowtie2_shifted_from_BALBCJ.sam \\\n",
    "    /gpfs/data01/glasslab/home/h1bennet/strains/data/ATAC/control_cohort2/balbcj_Male_Kupffer_ATAC_Chow_healthyoung_BALB2_TDT_l20210213_CCTGAGAT_TATCCTCT_S16_L001_trim30.balbcj.bowtie2_shifted_from_BALBCJ.sam \\\n",
    "    /gpfs/data01/glasslab/home/h1bennet/strains/data/ATAC/control_cohort2/balbcj_Male_Kupffer_ATAC_Chow_healthyoung_BALB3_TDT_l20210213_TAGCGAGT_GTAAGGAG_S17_L001_trim30.balbcj.bowtie2_shifted_from_BALBCJ.sam \\\n",
    "    /gpfs/data01/glasslab/home/h1bennet/strains/data/ATAC/control_cohort2/balbcj_Male_Kupffer_ATAC_Chow_healthyoung_BALB4_TDT_l20210213_GTAGCTCC_ACTGCATA_S18_L001_trim30.balbcj.bowtie2_shifted_from_BALBCJ.sam \\\n",
    "    /gpfs/data01/glasslab/home/h1bennet/strains/data/ATAC/LPS_2hours/balbcj_Male_Kupffer_ATAC_LPS2hrFasted_20210331C_TDT_s20210331_TCCTGAGC_CCTAGAGT.balbcj.bowtie2_shifted_from_BALBCJ.sam \\\n",
    "    /gpfs/data01/glasslab/home/h1bennet/strains/data/ATAC/LPS_2hours/balbcj_Male_Kupffer_ATAC_LPS2hrFasted_20210331D_TDT_s20210331_GGACTCCT_GCGTAAGA.balbcj.bowtie2_shifted_from_BALBCJ.sam \\\n",
    "    /gpfs/data01/glasslab/home/h1bennet/strains/data/ATAC/control_cohort2/c57bl6j_Male_Kupffer_ATAC_Chow_healthyoung_C571_TDT_l20210213_TACTACGC_AAGGAGTA_S19_L001_trim30 \\\n",
    "    /gpfs/data01/glasslab/home/h1bennet/strains/data/ATAC/control_cohort2/c57bl6j_Male_Kupffer_ATAC_Chow_healthyoung_C572_TDT_l20210213_AGGCTCCG_CTAAGCCT_S20_L001_trim30 \\\n",
    "    /gpfs/data01/glasslab/home/h1bennet/strains/data/ATAC/control_cohort2/c57bl6j_Male_Kupffer_ATAC_Chow_healthyoung_C573_TDT_l20210213_GCAGCGTA_CGTCTAAT_S21_L001_trim30 \\\n",
    "    /gpfs/data01/glasslab/home/h1bennet/strains/data/ATAC/control_cohort2/c57bl6j_Male_Kupffer_ATAC_Chow_healthyoung_C574_TDT_l20210213_CTGCGCAT_TCTCTCCG_S22_L001_trim30 \\\n",
    "    /gpfs/data01/glasslab/home/h1bennet/strains/data/ATAC/LPS_2hours/c57bl6j_Male_Kupffer_ATAC_LPS2hrFasted_20210407D_TDT_s20210407_GTAGAGGA_TTATGCGA.c57bl6j.bowtie2_shifted_from_C57BL6J.sam \\\n",
    "    /gpfs/data01/glasslab/home/h1bennet/strains/data/ATAC/LPS_2hours/c57bl6j_Male_Kupffer_ATAC_LPS2hrFasted_20210407E_TDT_s20210407_GCTCATGA_CTCTCTAT.c57bl6j.bowtie2_shifted_from_C57BL6J.sam \\\n",
    "    /gpfs/data01/glasslab/home/h1bennet/strains/data/ATAC/LPS_2hours/c57bl6j_Male_Kupffer_ATAC_LPS2hrFasted_20210407F_TDT_s20210407_ATCTCAGG_TATCCTCT.c57bl6j.bowtie2_shifted_from_C57BL6J.sam"
   ]
  },
  {
   "cell_type": "markdown",
   "metadata": {},
   "source": [
    "# Define samples"
   ]
  },
  {
   "cell_type": "code",
   "execution_count": 5,
   "metadata": {},
   "outputs": [],
   "source": [
    "c57_control_paths = list(np.sort(glob.glob(controlDirectory+'/c57*')))\n",
    "balbc_control_paths = list(np.sort(glob.glob(controlDirectory+'/balb*')))\n",
    "aj_control_paths = list(np.sort(glob.glob(controlDirectory+'/aj*')))\n",
    "\n",
    "c57_control_ids = [i.split('/')[-1].split('_')[6] for i in c57_control_paths]\n",
    "balbc_control_ids = [i.split('/')[-1].split('_')[6] for i in balbc_control_paths]\n",
    "aj_control_ids = [i.split('/')[-1].split('_')[6] for i in aj_control_paths]"
   ]
  },
  {
   "cell_type": "code",
   "execution_count": 6,
   "metadata": {},
   "outputs": [],
   "source": [
    "c57_lps_paths = list(np.sort(glob.glob(lpsDirectory+'/*c57*.sam')))\n",
    "balbc_lps_paths = list(np.sort(glob.glob(lpsDirectory+'/*balb*.sam')))\n",
    "aj_lps_paths = list(np.sort(glob.glob(lpsDirectory+'/aj*')))\n",
    "\n",
    "c57_lps_ids = [i.split('/')[-1].split('_')[5] for i in c57_lps_paths]\n",
    "balbc_lps_ids = [i.split('/')[-1].split('_')[5] for i in balbc_lps_paths]\n",
    "aj_lps_ids = [i.split('/')[-1].split('_')[5] for i in aj_lps_paths]"
   ]
  },
  {
   "cell_type": "code",
   "execution_count": 7,
   "metadata": {},
   "outputs": [],
   "source": [
    "ids = ['c57_kupffer_control_atac',\n",
    "       'c57_kupffer_lps_2hours_atac',\n",
    "       'balbc_kupffer_control_atac',\n",
    "       'balbc_kupffer_lps_2hours_atac',\n",
    "       # 'aj_kupffer_control',\n",
    "       # 'aj_kupffer_lps_2hours'\n",
    "      ]\n",
    "\n",
    "colors = ['#74c476',\n",
    "          '#006d2c',\n",
    "          '#6baed6',\n",
    "          '#08519c',\n",
    "          # '#de2d26',\n",
    "          # '#a50f15'\n",
    "         ]\n",
    "\n",
    "paths = [';'.join(c57_control_paths),\n",
    "         ';'.join(c57_lps_paths),\n",
    "         ';'.join(balbc_control_paths),\n",
    "         ';'.join(balbc_lps_paths),\n",
    "         # ';'.join(aj_control_paths),\n",
    "         # ';'.join(aj_lps_paths)\n",
    "        ]\n",
    "\n",
    "short_ids = [';'.join(c57_control_ids),\n",
    "             ';'.join(c57_lps_ids),\n",
    "             ';'.join(balbc_control_ids),\n",
    "             ';'.join(balbc_lps_ids),\n",
    "             # ';'.join(aj_control_ids),\n",
    "             # ';'.join(aj_lps_ids)\n",
    "            ]\n",
    "\n",
    "pd.DataFrame([ids,colors,paths,short_ids]).T.to_csv('./sampleDef.txt',\n",
    "                                                    sep='\\t',\n",
    "                                                    header=False,\n",
    "                                                    index=False)"
   ]
  },
  {
   "cell_type": "code",
   "execution_count": 8,
   "metadata": {},
   "outputs": [],
   "source": [
    "pd.DataFrame([ids,colors,paths,short_ids]).T.to_csv('./sampleDef.txt',\n",
    "                                                    sep='\\t',\n",
    "                                                    header=False,\n",
    "                                                    index=False)"
   ]
  },
  {
   "cell_type": "code",
   "execution_count": 9,
   "metadata": {},
   "outputs": [
    {
     "data": {
      "text/html": [
       "<div>\n",
       "<style scoped>\n",
       "    .dataframe tbody tr th:only-of-type {\n",
       "        vertical-align: middle;\n",
       "    }\n",
       "\n",
       "    .dataframe tbody tr th {\n",
       "        vertical-align: top;\n",
       "    }\n",
       "\n",
       "    .dataframe thead th {\n",
       "        text-align: right;\n",
       "    }\n",
       "</style>\n",
       "<table border=\"1\" class=\"dataframe\">\n",
       "  <thead>\n",
       "    <tr style=\"text-align: right;\">\n",
       "      <th></th>\n",
       "      <th>0</th>\n",
       "      <th>1</th>\n",
       "      <th>2</th>\n",
       "      <th>3</th>\n",
       "    </tr>\n",
       "  </thead>\n",
       "  <tbody>\n",
       "    <tr>\n",
       "      <th>0</th>\n",
       "      <td>c57_kupffer_control_atac</td>\n",
       "      <td>#74c476</td>\n",
       "      <td>/gpfs/data01/glasslab/home/h1bennet/strains/da...</td>\n",
       "      <td>C571;C572;C573;C574</td>\n",
       "    </tr>\n",
       "    <tr>\n",
       "      <th>1</th>\n",
       "      <td>c57_kupffer_lps_2hours_atac</td>\n",
       "      <td>#006d2c</td>\n",
       "      <td>/gpfs/data01/glasslab/home/h1bennet/strains/da...</td>\n",
       "      <td>20210407D;20210407E;20210407F</td>\n",
       "    </tr>\n",
       "    <tr>\n",
       "      <th>2</th>\n",
       "      <td>balbc_kupffer_control_atac</td>\n",
       "      <td>#6baed6</td>\n",
       "      <td>/gpfs/data01/glasslab/home/h1bennet/strains/da...</td>\n",
       "      <td>BALB1;BALB2;BALB3;BALB4</td>\n",
       "    </tr>\n",
       "    <tr>\n",
       "      <th>3</th>\n",
       "      <td>balbc_kupffer_lps_2hours_atac</td>\n",
       "      <td>#08519c</td>\n",
       "      <td>/gpfs/data01/glasslab/home/h1bennet/strains/da...</td>\n",
       "      <td>20210331C;20210331D</td>\n",
       "    </tr>\n",
       "  </tbody>\n",
       "</table>\n",
       "</div>"
      ],
      "text/plain": [
       "                               0        1  \\\n",
       "0       c57_kupffer_control_atac  #74c476   \n",
       "1    c57_kupffer_lps_2hours_atac  #006d2c   \n",
       "2     balbc_kupffer_control_atac  #6baed6   \n",
       "3  balbc_kupffer_lps_2hours_atac  #08519c   \n",
       "\n",
       "                                                   2  \\\n",
       "0  /gpfs/data01/glasslab/home/h1bennet/strains/da...   \n",
       "1  /gpfs/data01/glasslab/home/h1bennet/strains/da...   \n",
       "2  /gpfs/data01/glasslab/home/h1bennet/strains/da...   \n",
       "3  /gpfs/data01/glasslab/home/h1bennet/strains/da...   \n",
       "\n",
       "                               3  \n",
       "0            C571;C572;C573;C574  \n",
       "1  20210407D;20210407E;20210407F  \n",
       "2        BALB1;BALB2;BALB3;BALB4  \n",
       "3            20210331C;20210331D  "
      ]
     },
     "execution_count": 9,
     "metadata": {},
     "output_type": "execute_result"
    }
   ],
   "source": [
    "pd.DataFrame([ids,colors,paths,short_ids]).T"
   ]
  },
  {
   "cell_type": "markdown",
   "metadata": {},
   "source": [
    "    source activate r-ouyangPipe\n",
    "\n",
    "    alignStats.R sampleDef.txt > qcStats.txt"
   ]
  },
  {
   "cell_type": "markdown",
   "metadata": {},
   "source": [
    "# Quality control"
   ]
  },
  {
   "cell_type": "code",
   "execution_count": 25,
   "metadata": {},
   "outputs": [],
   "source": [
    "qc = pd.read_csv('./qcStats.txt', sep='\\t', index_col=0)\n",
    "qc.index.rename('sample', inplace=True)\n",
    "qc = qc.reset_index()"
   ]
  },
  {
   "cell_type": "code",
   "execution_count": 26,
   "metadata": {},
   "outputs": [
    {
     "data": {
      "text/html": [
       "<div>\n",
       "<style scoped>\n",
       "    .dataframe tbody tr th:only-of-type {\n",
       "        vertical-align: middle;\n",
       "    }\n",
       "\n",
       "    .dataframe tbody tr th {\n",
       "        vertical-align: top;\n",
       "    }\n",
       "\n",
       "    .dataframe thead th {\n",
       "        text-align: right;\n",
       "    }\n",
       "</style>\n",
       "<table border=\"1\" class=\"dataframe\">\n",
       "  <thead>\n",
       "    <tr style=\"text-align: right;\">\n",
       "      <th></th>\n",
       "      <th>sample</th>\n",
       "      <th>alignerTotal</th>\n",
       "      <th>alignerUnique</th>\n",
       "      <th>alignerUniqueRate</th>\n",
       "      <th>alignerMulti</th>\n",
       "      <th>homerUniPos</th>\n",
       "      <th>homerTotal</th>\n",
       "      <th>tagPosition</th>\n",
       "      <th>FragLength</th>\n",
       "      <th>peakSize</th>\n",
       "      <th>homerAvgLength</th>\n",
       "      <th>mitoNum</th>\n",
       "      <th>mitoRate</th>\n",
       "    </tr>\n",
       "  </thead>\n",
       "  <tbody>\n",
       "    <tr>\n",
       "      <th>0</th>\n",
       "      <td>c57_kupffer_control_atac_C571</td>\n",
       "      <td>40717020.0</td>\n",
       "      <td>29183836.0</td>\n",
       "      <td>0.716748</td>\n",
       "      <td>10950844.0</td>\n",
       "      <td>22032157</td>\n",
       "      <td>25420959.5</td>\n",
       "      <td>1.153812</td>\n",
       "      <td>34</td>\n",
       "      <td>36</td>\n",
       "      <td>29.995</td>\n",
       "      <td>8334604.0</td>\n",
       "      <td>0.246911</td>\n",
       "    </tr>\n",
       "    <tr>\n",
       "      <th>1</th>\n",
       "      <td>c57_kupffer_control_atac_C572</td>\n",
       "      <td>15895013.0</td>\n",
       "      <td>11384442.0</td>\n",
       "      <td>0.716227</td>\n",
       "      <td>4235763.0</td>\n",
       "      <td>12046557</td>\n",
       "      <td>9958063.5</td>\n",
       "      <td>0.826632</td>\n",
       "      <td>34</td>\n",
       "      <td>36</td>\n",
       "      <td>29.995</td>\n",
       "      <td>3180287.0</td>\n",
       "      <td>0.242061</td>\n",
       "    </tr>\n",
       "    <tr>\n",
       "      <th>2</th>\n",
       "      <td>c57_kupffer_control_atac_C573</td>\n",
       "      <td>17002269.0</td>\n",
       "      <td>11964130.0</td>\n",
       "      <td>0.703678</td>\n",
       "      <td>4772198.0</td>\n",
       "      <td>12964463</td>\n",
       "      <td>9950593.0</td>\n",
       "      <td>0.767528</td>\n",
       "      <td>34</td>\n",
       "      <td>36</td>\n",
       "      <td>29.995</td>\n",
       "      <td>4006860.0</td>\n",
       "      <td>0.287077</td>\n",
       "    </tr>\n",
       "    <tr>\n",
       "      <th>3</th>\n",
       "      <td>c57_kupffer_control_atac_C574</td>\n",
       "      <td>21867726.0</td>\n",
       "      <td>16443013.0</td>\n",
       "      <td>0.751931</td>\n",
       "      <td>5013015.0</td>\n",
       "      <td>18068942</td>\n",
       "      <td>15960846.5</td>\n",
       "      <td>0.883330</td>\n",
       "      <td>34</td>\n",
       "      <td>36</td>\n",
       "      <td>29.995</td>\n",
       "      <td>2571956.5</td>\n",
       "      <td>0.138779</td>\n",
       "    </tr>\n",
       "    <tr>\n",
       "      <th>4</th>\n",
       "      <td>c57_kupffer_lps_2hours_atac_20210407D</td>\n",
       "      <td>23999845.0</td>\n",
       "      <td>16346576.0</td>\n",
       "      <td>0.681112</td>\n",
       "      <td>7342905.0</td>\n",
       "      <td>10705181</td>\n",
       "      <td>18316132.0</td>\n",
       "      <td>1.710960</td>\n",
       "      <td>57</td>\n",
       "      <td>83</td>\n",
       "      <td>29.997</td>\n",
       "      <td>3348051.0</td>\n",
       "      <td>0.182792</td>\n",
       "    </tr>\n",
       "    <tr>\n",
       "      <th>5</th>\n",
       "      <td>c57_kupffer_lps_2hours_atac_20210407E</td>\n",
       "      <td>21496759.0</td>\n",
       "      <td>15066555.0</td>\n",
       "      <td>0.700876</td>\n",
       "      <td>6143765.0</td>\n",
       "      <td>6887089</td>\n",
       "      <td>16774510.0</td>\n",
       "      <td>2.435646</td>\n",
       "      <td>72</td>\n",
       "      <td>72</td>\n",
       "      <td>29.997</td>\n",
       "      <td>4106447.0</td>\n",
       "      <td>0.244803</td>\n",
       "    </tr>\n",
       "    <tr>\n",
       "      <th>6</th>\n",
       "      <td>c57_kupffer_lps_2hours_atac_20210407F</td>\n",
       "      <td>22275479.0</td>\n",
       "      <td>15805465.0</td>\n",
       "      <td>0.709545</td>\n",
       "      <td>6043896.0</td>\n",
       "      <td>5105400</td>\n",
       "      <td>17508317.0</td>\n",
       "      <td>3.429372</td>\n",
       "      <td>70</td>\n",
       "      <td>75</td>\n",
       "      <td>29.997</td>\n",
       "      <td>3785952.0</td>\n",
       "      <td>0.216237</td>\n",
       "    </tr>\n",
       "    <tr>\n",
       "      <th>7</th>\n",
       "      <td>balbc_kupffer_control_atac_BALB1</td>\n",
       "      <td>14616626.0</td>\n",
       "      <td>10751577.0</td>\n",
       "      <td>0.735572</td>\n",
       "      <td>3588930.0</td>\n",
       "      <td>11919580</td>\n",
       "      <td>12221846.0</td>\n",
       "      <td>1.025359</td>\n",
       "      <td>109</td>\n",
       "      <td>135</td>\n",
       "      <td>29.986</td>\n",
       "      <td>2588544.0</td>\n",
       "      <td>0.211796</td>\n",
       "    </tr>\n",
       "    <tr>\n",
       "      <th>8</th>\n",
       "      <td>balbc_kupffer_control_atac_BALB2</td>\n",
       "      <td>19331277.0</td>\n",
       "      <td>13924139.0</td>\n",
       "      <td>0.720291</td>\n",
       "      <td>4841758.0</td>\n",
       "      <td>12546825</td>\n",
       "      <td>15945259.0</td>\n",
       "      <td>1.270860</td>\n",
       "      <td>110</td>\n",
       "      <td>128</td>\n",
       "      <td>29.987</td>\n",
       "      <td>4070300.5</td>\n",
       "      <td>0.255267</td>\n",
       "    </tr>\n",
       "    <tr>\n",
       "      <th>9</th>\n",
       "      <td>balbc_kupffer_control_atac_BALB3</td>\n",
       "      <td>18399559.0</td>\n",
       "      <td>13051326.0</td>\n",
       "      <td>0.709328</td>\n",
       "      <td>4904196.0</td>\n",
       "      <td>12908985</td>\n",
       "      <td>15052491.5</td>\n",
       "      <td>1.166048</td>\n",
       "      <td>172</td>\n",
       "      <td>172</td>\n",
       "      <td>29.987</td>\n",
       "      <td>3789267.5</td>\n",
       "      <td>0.251737</td>\n",
       "    </tr>\n",
       "    <tr>\n",
       "      <th>10</th>\n",
       "      <td>balbc_kupffer_control_atac_BALB4</td>\n",
       "      <td>NaN</td>\n",
       "      <td>NaN</td>\n",
       "      <td>NaN</td>\n",
       "      <td>NaN</td>\n",
       "      <td>16576468</td>\n",
       "      <td>178332619.0</td>\n",
       "      <td>10.758180</td>\n",
       "      <td>109</td>\n",
       "      <td>126</td>\n",
       "      <td>29.997</td>\n",
       "      <td>51531075.0</td>\n",
       "      <td>0.288960</td>\n",
       "    </tr>\n",
       "    <tr>\n",
       "      <th>11</th>\n",
       "      <td>balbc_kupffer_lps_2hours_atac_20210331C</td>\n",
       "      <td>21597276.0</td>\n",
       "      <td>14354942.0</td>\n",
       "      <td>0.664664</td>\n",
       "      <td>6951772.0</td>\n",
       "      <td>6325233</td>\n",
       "      <td>16172767.0</td>\n",
       "      <td>2.556865</td>\n",
       "      <td>71</td>\n",
       "      <td>71</td>\n",
       "      <td>29.996</td>\n",
       "      <td>5567772.0</td>\n",
       "      <td>0.344268</td>\n",
       "    </tr>\n",
       "    <tr>\n",
       "      <th>12</th>\n",
       "      <td>balbc_kupffer_lps_2hours_atac_20210331D</td>\n",
       "      <td>17182410.0</td>\n",
       "      <td>12432809.0</td>\n",
       "      <td>0.723578</td>\n",
       "      <td>4523873.0</td>\n",
       "      <td>3281999</td>\n",
       "      <td>13612534.0</td>\n",
       "      <td>4.147635</td>\n",
       "      <td>56</td>\n",
       "      <td>80</td>\n",
       "      <td>29.995</td>\n",
       "      <td>3099506.0</td>\n",
       "      <td>0.227695</td>\n",
       "    </tr>\n",
       "  </tbody>\n",
       "</table>\n",
       "</div>"
      ],
      "text/plain": [
       "                                     sample  alignerTotal  alignerUnique  \\\n",
       "0             c57_kupffer_control_atac_C571    40717020.0     29183836.0   \n",
       "1             c57_kupffer_control_atac_C572    15895013.0     11384442.0   \n",
       "2             c57_kupffer_control_atac_C573    17002269.0     11964130.0   \n",
       "3             c57_kupffer_control_atac_C574    21867726.0     16443013.0   \n",
       "4     c57_kupffer_lps_2hours_atac_20210407D    23999845.0     16346576.0   \n",
       "5     c57_kupffer_lps_2hours_atac_20210407E    21496759.0     15066555.0   \n",
       "6     c57_kupffer_lps_2hours_atac_20210407F    22275479.0     15805465.0   \n",
       "7          balbc_kupffer_control_atac_BALB1    14616626.0     10751577.0   \n",
       "8          balbc_kupffer_control_atac_BALB2    19331277.0     13924139.0   \n",
       "9          balbc_kupffer_control_atac_BALB3    18399559.0     13051326.0   \n",
       "10         balbc_kupffer_control_atac_BALB4           NaN            NaN   \n",
       "11  balbc_kupffer_lps_2hours_atac_20210331C    21597276.0     14354942.0   \n",
       "12  balbc_kupffer_lps_2hours_atac_20210331D    17182410.0     12432809.0   \n",
       "\n",
       "    alignerUniqueRate  alignerMulti  homerUniPos   homerTotal  tagPosition  \\\n",
       "0            0.716748    10950844.0     22032157   25420959.5     1.153812   \n",
       "1            0.716227     4235763.0     12046557    9958063.5     0.826632   \n",
       "2            0.703678     4772198.0     12964463    9950593.0     0.767528   \n",
       "3            0.751931     5013015.0     18068942   15960846.5     0.883330   \n",
       "4            0.681112     7342905.0     10705181   18316132.0     1.710960   \n",
       "5            0.700876     6143765.0      6887089   16774510.0     2.435646   \n",
       "6            0.709545     6043896.0      5105400   17508317.0     3.429372   \n",
       "7            0.735572     3588930.0     11919580   12221846.0     1.025359   \n",
       "8            0.720291     4841758.0     12546825   15945259.0     1.270860   \n",
       "9            0.709328     4904196.0     12908985   15052491.5     1.166048   \n",
       "10                NaN           NaN     16576468  178332619.0    10.758180   \n",
       "11           0.664664     6951772.0      6325233   16172767.0     2.556865   \n",
       "12           0.723578     4523873.0      3281999   13612534.0     4.147635   \n",
       "\n",
       "    FragLength  peakSize  homerAvgLength     mitoNum  mitoRate  \n",
       "0           34        36          29.995   8334604.0  0.246911  \n",
       "1           34        36          29.995   3180287.0  0.242061  \n",
       "2           34        36          29.995   4006860.0  0.287077  \n",
       "3           34        36          29.995   2571956.5  0.138779  \n",
       "4           57        83          29.997   3348051.0  0.182792  \n",
       "5           72        72          29.997   4106447.0  0.244803  \n",
       "6           70        75          29.997   3785952.0  0.216237  \n",
       "7          109       135          29.986   2588544.0  0.211796  \n",
       "8          110       128          29.987   4070300.5  0.255267  \n",
       "9          172       172          29.987   3789267.5  0.251737  \n",
       "10         109       126          29.997  51531075.0  0.288960  \n",
       "11          71        71          29.996   5567772.0  0.344268  \n",
       "12          56        80          29.995   3099506.0  0.227695  "
      ]
     },
     "execution_count": 26,
     "metadata": {},
     "output_type": "execute_result"
    }
   ],
   "source": [
    "qc"
   ]
  },
  {
   "cell_type": "code",
   "execution_count": 27,
   "metadata": {},
   "outputs": [
    {
     "data": {
      "text/plain": [
       "Index(['sample', 'alignerTotal', 'alignerUnique', 'alignerUniqueRate',\n",
       "       'alignerMulti', 'homerUniPos', 'homerTotal', 'tagPosition',\n",
       "       'FragLength', 'peakSize', 'homerAvgLength', 'mitoNum', 'mitoRate'],\n",
       "      dtype='object')"
      ]
     },
     "execution_count": 27,
     "metadata": {},
     "output_type": "execute_result"
    }
   ],
   "source": [
    "qc.columns"
   ]
  },
  {
   "cell_type": "code",
   "execution_count": 28,
   "metadata": {},
   "outputs": [
    {
     "data": {
      "image/png": "[encoded data removed]",
      "text/plain": [
       "<Figure size 1152x864 with 12 Axes>"
      ]
     },
     "metadata": {
      "needs_background": "light"
     },
     "output_type": "display_data"
    }
   ],
   "source": [
    "fig, axs = plt.subplots(3, 4, figsize=(16, 12), sharex=True)\n",
    "plt.subplots_adjust(wspace=0.4)\n",
    "\n",
    "for col, ax in zip(qc.columns[1:], axs.flat):\n",
    "    sns.barplot(x='sample', y=col, data=qc, ax=ax)"
   ]
  },
  {
   "cell_type": "markdown",
   "metadata": {},
   "source": [
    "### Plot tag count distribution"
   ]
  },
  {
   "cell_type": "code",
   "execution_count": 29,
   "metadata": {},
   "outputs": [
    {
     "data": {
      "image/png": "[encoded data removed]",
      "text/plain": [
       "<Figure size 1080x720 with 9 Axes>"
      ]
     },
     "metadata": {
      "needs_background": "light"
     },
     "output_type": "display_data"
    }
   ],
   "source": [
    "tds = glob.glob(s+'/*')\n",
    "tds = np.sort(tds)\n",
    "\n",
    "fig, axs = plt.subplots(3,3, figsize=(15, 10), sharex=True, sharey=True)\n",
    "\n",
    "for ax, td in zip(axs.flatten(), tds):\n",
    "    df = pd.read_csv(td+'/tagCountDistribution.txt', sep='\\t', index_col=0)\n",
    "    df.loc[1:10, :].plot.bar(ax=ax, legend=False)\n",
    "    ax.set_xlabel('Tags per position')\n",
    "    ax.set_ylabel('Fraction of Positions')\n",
    "    ax.set_title(td.split('/')[-1].split('_AL')[0], fontsize=8)"
   ]
  },
  {
   "cell_type": "markdown",
   "metadata": {},
   "source": [
    "# Call Peaks"
   ]
  },
  {
   "cell_type": "code",
   "execution_count": 30,
   "metadata": {},
   "outputs": [
    {
     "name": "stderr",
     "output_type": "stream",
     "text": [
      "rm: cannot remove ‘./peakCalling_homer.sh’: No such file or directory\n"
     ]
    }
   ],
   "source": [
    "%%bash\n",
    "# delete the existing script file\n",
    "rm ./peakCalling_homer.sh\n",
    "# create a script file\n",
    "touch ./peakCalling_homer.sh\n",
    "\n",
    "# if directories don't exist, create them\n",
    "if [ ! -d ./atac_peak_files/ ]; then mkdir ./atac_peak_files; fi"
   ]
  },
  {
   "cell_type": "code",
   "execution_count": 31,
   "metadata": {},
   "outputs": [],
   "source": [
    "with open('./peakCalling_homer.sh', 'w') as f:\n",
    "    for tagdir in os.listdir(dataDirectory):\n",
    "        find_peaks_idr = ['findPeaks', dataDirectory + '/' + tagdir,\n",
    "                          '-L', '0', '-C', '0', '-fdr', '0.9', '-style',\n",
    "                          'factor', '-size', '200', '>',\n",
    "                          workingDirectory + '/atac_peak_files/' + tagdir + '_peaks.tsv',\n",
    "                          '&', '\\n']\n",
    "        find_peaks = ['findPeaks', dataDirectory + '/' + tagdir,\n",
    "                      '-style', 'factor', '-size', '200', '>',\n",
    "                      workingDirectory + '/atac_peak_files/' + tagdir + '_default_peaks.tsv',\n",
    "                      '&', '\\n']\n",
    "        # write commands to file\n",
    "        f.write(' '.join(find_peaks_idr))\n",
    "        f.write(' '.join(find_peaks))\n",
    "f.close()"
   ]
  },
  {
   "cell_type": "markdown",
   "metadata": {},
   "source": [
    "### compile peak stats for QC"
   ]
  },
  {
   "cell_type": "code",
   "execution_count": 33,
   "metadata": {},
   "outputs": [],
   "source": [
    "peak_stats={}\n",
    "\n",
    "for td in os.listdir('./atac_peak_files/'):\n",
    "\n",
    "    peak_dict = {'total_peaks': 0,\n",
    "                 'ip_eff': 0.0,\n",
    "                 'peaks_filt_input': 0,\n",
    "                 'peaks_filt_local': 0,\n",
    "                 'peaks_filt_clonal':0}\n",
    "\n",
    "    with open('./atac_peak_files/'+td, 'r') as f:\n",
    "        for line in f.readlines():\n",
    "            if \"total peaks\" in line:\n",
    "                peak_dict['total_peaks'] = int(line.split(' = ')[-1])\n",
    "            if \"Approximate IP efficiency\" in line:\n",
    "                peak_dict['ip_eff'] = float(line.replace('%\\n', '').split(' = ')[-1])\n",
    "            if \"Putative peaks filtered by input\" in line:\n",
    "                peak_dict['peaks_filt_input'] = int(line.split(' = ')[-1])\n",
    "            if \"Putative peaks filtered by local signal\" in line:\n",
    "                peak_dict['peaks_filt_local'] = int(line.split(' = ')[-1])\n",
    "            if \"Putative peaks filtered for being too clonal\" in line:\n",
    "                peak_dict['peaks_filt_clonal'] = int(line.split(' = ')[-1])\n",
    "                \n",
    "    peak_stats[td] = peak_dict\n",
    "            \n",
    "df = pd.DataFrame(peak_stats).T"
   ]
  },
  {
   "cell_type": "code",
   "execution_count": 34,
   "metadata": {},
   "outputs": [],
   "source": [
    "df.sort_index(inplace=True)"
   ]
  },
  {
   "cell_type": "markdown",
   "metadata": {},
   "source": [
    "### Save to file"
   ]
  },
  {
   "cell_type": "code",
   "execution_count": 35,
   "metadata": {},
   "outputs": [],
   "source": [
    "df.loc[df.index.str.contains('default'), :].to_csv('./default_peak_table.txt', sep='\\t')\n",
    "df.loc[~df.index.str.contains('default'), :].to_csv('./idr_peak_table.txt', sep='\\t')"
   ]
  },
  {
   "cell_type": "code",
   "execution_count": 36,
   "metadata": {},
   "outputs": [
    {
     "data": {
      "text/html": [
       "<div>\n",
       "<style scoped>\n",
       "    .dataframe tbody tr th:only-of-type {\n",
       "        vertical-align: middle;\n",
       "    }\n",
       "\n",
       "    .dataframe tbody tr th {\n",
       "        vertical-align: top;\n",
       "    }\n",
       "\n",
       "    .dataframe thead th {\n",
       "        text-align: right;\n",
       "    }\n",
       "</style>\n",
       "<table border=\"1\" class=\"dataframe\">\n",
       "  <thead>\n",
       "    <tr style=\"text-align: right;\">\n",
       "      <th></th>\n",
       "      <th>total_peaks</th>\n",
       "      <th>ip_eff</th>\n",
       "      <th>peaks_filt_input</th>\n",
       "      <th>peaks_filt_local</th>\n",
       "      <th>peaks_filt_clonal</th>\n",
       "    </tr>\n",
       "  </thead>\n",
       "  <tbody>\n",
       "    <tr>\n",
       "      <th>.DS_Store_default_peaks.tsv</th>\n",
       "      <td>0.0</td>\n",
       "      <td>0.00</td>\n",
       "      <td>0.0</td>\n",
       "      <td>0.0</td>\n",
       "      <td>0.0</td>\n",
       "    </tr>\n",
       "    <tr>\n",
       "      <th>._.DS_Store_default_peaks.tsv</th>\n",
       "      <td>0.0</td>\n",
       "      <td>0.00</td>\n",
       "      <td>0.0</td>\n",
       "      <td>0.0</td>\n",
       "      <td>0.0</td>\n",
       "    </tr>\n",
       "    <tr>\n",
       "      <th>balbcj_Male_Kupffer_ATAC_LPS2hrFasted_20210331C_TDT_s20210331_TCCTGAGC_CCTAGAGT.balbcj.bowtie2_shifted_from_BALBCJ.sam_default_peaks.tsv</th>\n",
       "      <td>76222.0</td>\n",
       "      <td>28.88</td>\n",
       "      <td>0.0</td>\n",
       "      <td>19277.0</td>\n",
       "      <td>6.0</td>\n",
       "    </tr>\n",
       "    <tr>\n",
       "      <th>balbcj_Male_Kupffer_ATAC_LPS2hrFasted_20210331D_TDT_s20210331_GGACTCCT_GCGTAAGA.balbcj.bowtie2_shifted_from_BALBCJ.sam_default_peaks.tsv</th>\n",
       "      <td>60575.0</td>\n",
       "      <td>33.40</td>\n",
       "      <td>0.0</td>\n",
       "      <td>9731.0</td>\n",
       "      <td>5.0</td>\n",
       "    </tr>\n",
       "    <tr>\n",
       "      <th>c57bl6j_Male_Kupffer_ATAC_LPS2hrFasted_20210407D_TDT_s20210407_GTAGAGGA_TTATGCGA.c57bl6j.bowtie2_shifted_from_C57BL6J.sam_default_peaks.tsv</th>\n",
       "      <td>49517.0</td>\n",
       "      <td>14.54</td>\n",
       "      <td>0.0</td>\n",
       "      <td>10011.0</td>\n",
       "      <td>30.0</td>\n",
       "    </tr>\n",
       "    <tr>\n",
       "      <th>c57bl6j_Male_Kupffer_ATAC_LPS2hrFasted_20210407E_TDT_s20210407_GCTCATGA_CTCTCTAT.c57bl6j.bowtie2_shifted_from_C57BL6J.sam_default_peaks.tsv</th>\n",
       "      <td>64549.0</td>\n",
       "      <td>28.47</td>\n",
       "      <td>0.0</td>\n",
       "      <td>14849.0</td>\n",
       "      <td>9.0</td>\n",
       "    </tr>\n",
       "    <tr>\n",
       "      <th>c57bl6j_Male_Kupffer_ATAC_LPS2hrFasted_20210407F_TDT_s20210407_ATCTCAGG_TATCCTCT.c57bl6j.bowtie2_shifted_from_C57BL6J.sam_default_peaks.tsv</th>\n",
       "      <td>61313.0</td>\n",
       "      <td>29.06</td>\n",
       "      <td>0.0</td>\n",
       "      <td>12038.0</td>\n",
       "      <td>12.0</td>\n",
       "    </tr>\n",
       "  </tbody>\n",
       "</table>\n",
       "</div>"
      ],
      "text/plain": [
       "                                                    total_peaks  ip_eff  \\\n",
       ".DS_Store_default_peaks.tsv                                 0.0    0.00   \n",
       "._.DS_Store_default_peaks.tsv                               0.0    0.00   \n",
       "balbcj_Male_Kupffer_ATAC_LPS2hrFasted_20210331C...      76222.0   28.88   \n",
       "balbcj_Male_Kupffer_ATAC_LPS2hrFasted_20210331D...      60575.0   33.40   \n",
       "c57bl6j_Male_Kupffer_ATAC_LPS2hrFasted_20210407...      49517.0   14.54   \n",
       "c57bl6j_Male_Kupffer_ATAC_LPS2hrFasted_20210407...      64549.0   28.47   \n",
       "c57bl6j_Male_Kupffer_ATAC_LPS2hrFasted_20210407...      61313.0   29.06   \n",
       "\n",
       "                                                    peaks_filt_input  \\\n",
       ".DS_Store_default_peaks.tsv                                      0.0   \n",
       "._.DS_Store_default_peaks.tsv                                    0.0   \n",
       "balbcj_Male_Kupffer_ATAC_LPS2hrFasted_20210331C...               0.0   \n",
       "balbcj_Male_Kupffer_ATAC_LPS2hrFasted_20210331D...               0.0   \n",
       "c57bl6j_Male_Kupffer_ATAC_LPS2hrFasted_20210407...               0.0   \n",
       "c57bl6j_Male_Kupffer_ATAC_LPS2hrFasted_20210407...               0.0   \n",
       "c57bl6j_Male_Kupffer_ATAC_LPS2hrFasted_20210407...               0.0   \n",
       "\n",
       "                                                    peaks_filt_local  \\\n",
       ".DS_Store_default_peaks.tsv                                      0.0   \n",
       "._.DS_Store_default_peaks.tsv                                    0.0   \n",
       "balbcj_Male_Kupffer_ATAC_LPS2hrFasted_20210331C...           19277.0   \n",
       "balbcj_Male_Kupffer_ATAC_LPS2hrFasted_20210331D...            9731.0   \n",
       "c57bl6j_Male_Kupffer_ATAC_LPS2hrFasted_20210407...           10011.0   \n",
       "c57bl6j_Male_Kupffer_ATAC_LPS2hrFasted_20210407...           14849.0   \n",
       "c57bl6j_Male_Kupffer_ATAC_LPS2hrFasted_20210407...           12038.0   \n",
       "\n",
       "                                                    peaks_filt_clonal  \n",
       ".DS_Store_default_peaks.tsv                                       0.0  \n",
       "._.DS_Store_default_peaks.tsv                                     0.0  \n",
       "balbcj_Male_Kupffer_ATAC_LPS2hrFasted_20210331C...                6.0  \n",
       "balbcj_Male_Kupffer_ATAC_LPS2hrFasted_20210331D...                5.0  \n",
       "c57bl6j_Male_Kupffer_ATAC_LPS2hrFasted_20210407...               30.0  \n",
       "c57bl6j_Male_Kupffer_ATAC_LPS2hrFasted_20210407...                9.0  \n",
       "c57bl6j_Male_Kupffer_ATAC_LPS2hrFasted_20210407...               12.0  "
      ]
     },
     "execution_count": 36,
     "metadata": {},
     "output_type": "execute_result"
    }
   ],
   "source": [
    "df.loc[df.index.str.contains('default'), :]"
   ]
  },
  {
   "cell_type": "code",
   "execution_count": null,
   "metadata": {},
   "outputs": [],
   "source": []
  }
 ],
 "metadata": {
  "kernelspec": {
   "display_name": "dataviz",
   "language": "python",
   "name": "dataviz"
  },
  "language_info": {
   "codemirror_mode": {
    "name": "ipython",
    "version": 3
   },
   "file_extension": ".py",
   "mimetype": "text/x-python",
   "name": "python",
   "nbconvert_exporter": "python",
   "pygments_lexer": "ipython3",
   "version": "3.7.5"
  }
 },
 "nbformat": 4,
 "nbformat_minor": 2
}
