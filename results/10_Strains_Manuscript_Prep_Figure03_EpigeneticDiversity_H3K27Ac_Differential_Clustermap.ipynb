{
 "cells": [
  {
   "cell_type": "markdown",
   "metadata": {},
   "source": [
    "Hunter Bennett | Glass Lab | Kupffer Strains Project | May 03 2021  \n",
    "\n",
    "This notebook is for making fancier figure level plots describing differential gene expression for the strains NASH paper. It generates the following plots:\n",
    "1. Clustered heatmap of differential peaks"
   ]
  },
  {
   "cell_type": "code",
   "execution_count": 12,
   "metadata": {},
   "outputs": [
    {
     "name": "stdout",
     "output_type": "stream",
     "text": [
      "The autoreload extension is already loaded. To reload it, use:\n",
      "  %reload_ext autoreload\n"
     ]
    }
   ],
   "source": [
    "### header ###\n",
    "__author__ = \"Hunter Bennett\"\n",
    "__license__ = \"BSD\"\n",
    "__email__ = \"hunter.r.bennett@gmail.com\"\n",
    "%load_ext autoreload\n",
    "%autoreload 2\n",
    "### imports ###\n",
    "import sys\n",
    "%matplotlib inline\n",
    "import os\n",
    "import re\n",
    "import glob\n",
    "import pandas as pd\n",
    "import numpy as np\n",
    "import matplotlib\n",
    "import matplotlib.pyplot as plt \n",
    "import seaborn as sns\n",
    "matplotlib.rcParams['savefig.dpi'] = 500\n",
    "\n",
    "# clustering packages\n",
    "import scipy\n",
    "import scipy.cluster.hierarchy as sch\n",
    "import scipy.spatial.distance as dist\n",
    "\n",
    "# import custom functions\n",
    "import sys\n",
    "sys.path.insert(0, '/home/h1bennet/code/')\n",
    "from hbUtils import ngs_qc, quantile_normalize_df\n",
    "from plotting_scripts import label_point, pca_rpkm_mat, get_diff_volcano\n",
    "from homer_preprocessing import read_annotated_peaks, import_homer_diffpeak, pull_comparisons_get_diff"
   ]
  },
  {
   "cell_type": "code",
   "execution_count": 13,
   "metadata": {},
   "outputs": [],
   "source": [
    "#### PLOTTING PARAMETERS FOR MANUSCRIPT ####\n",
    "# # get matplotlib to save readable fonts\n",
    "matplotlib.rcParams['pdf.fonttype'] = 42\n",
    "matplotlib.rcParams['ps.fonttype'] = 42\n",
    "matplotlib.rcParams['font.size'] = 8\n",
    "\n",
    "# line widths\n",
    "matplotlib.rcParams['axes.linewidth'] = 1\n",
    "matplotlib.rcParams['xtick.major.width'] = 1\n",
    "matplotlib.rcParams['ytick.major.width'] = 1\n",
    "\n",
    "# adjust defualt color for plots to black\n",
    "# normal default is a dark gray\n",
    "COLOR = 'black'\n",
    "matplotlib.rcParams['text.color'] = COLOR\n",
    "matplotlib.rcParams['axes.labelcolor'] = COLOR\n",
    "matplotlib.rcParams['xtick.color'] = COLOR\n",
    "matplotlib.rcParams['ytick.color'] = COLOR\n",
    "matplotlib.rcParams['axes.edgecolor'] = COLOR\n",
    "\n",
    "#### PLOT PARAMETERS FOR THIS PLOT ####"
   ]
  },
  {
   "cell_type": "code",
   "execution_count": 14,
   "metadata": {},
   "outputs": [],
   "source": [
    "atacDirectory = '/home/h1bennet/strains/results/06_Strains_Control_Cohort2_ATAC/'\n",
    "h3k27acDirectory = '/home/h1bennet/strains/results/06b_Strains_Control_Combined_H3K27Ac/'\n",
    "workingDirectory = '/home/h1bennet/strains/results/10_Strains_Manuscript_Prep/'\n",
    "if not os.path.isdir(workingDirectory):\n",
    "    os.mkdir(workingDirectory)\n",
    "os.chdir(workingDirectory)"
   ]
  },
  {
   "cell_type": "markdown",
   "metadata": {},
   "source": [
    "# Make folder for \"fancy figures\" for manuscript"
   ]
  },
  {
   "cell_type": "code",
   "execution_count": 22,
   "metadata": {},
   "outputs": [],
   "source": [
    "if not os.path.isdir('./h3k27ac_differential_clustermap/'):\n",
    "    os.mkdir('./h3k27ac_differential_clustermap/')"
   ]
  },
  {
   "cell_type": "markdown",
   "metadata": {},
   "source": [
    "### Import differential peaks"
   ]
  },
  {
   "cell_type": "code",
   "execution_count": 16,
   "metadata": {},
   "outputs": [
    {
     "name": "stdout",
     "output_type": "stream",
     "text": [
      "annotatePeaks all peaks (86301, 27)\n",
      "getDiffExpression selected transcripts (84264, 36)\n",
      "annotatePeaks selected peaks (84264, 27)\n"
     ]
    }
   ],
   "source": [
    "diff_peak, peaks, peak_mat, peak_mat_quant = import_homer_diffpeak(\n",
    "    h3k27acDirectory+'/merged_peaks/diff_output.txt',\n",
    "    h3k27acDirectory+'/merged_peaks/ann_norm_kc_control_atac_peaks_all.txt')"
   ]
  },
  {
   "cell_type": "code",
   "execution_count": 17,
   "metadata": {},
   "outputs": [],
   "source": [
    "comp_dict = pull_comparisons_get_diff(diff_peak, seq_type='Peak')"
   ]
  },
  {
   "cell_type": "code",
   "execution_count": 18,
   "metadata": {},
   "outputs": [],
   "source": [
    "# set conversion between inches and mm\n",
    "mm_conv = 25.4\n",
    "\n",
    "# set significance thresholds\n",
    "pval = 0.05\n",
    "fc = 1"
   ]
  },
  {
   "cell_type": "code",
   "execution_count": 19,
   "metadata": {},
   "outputs": [
    {
     "name": "stdout",
     "output_type": "stream",
     "text": [
      "5465\n"
     ]
    }
   ],
   "source": [
    "# grab differential enhancers for each comparison\n",
    "sig_peaks_id = []\n",
    "for comp in comp_dict:\n",
    "    de = comp_dict[comp]\n",
    "    sig_peaks_bool = (((de.adj_pval <= pval) & (np.abs(de.log2fc) >= fc)) & (np.abs(de.TSS_dist) >= 3000))\n",
    "    sig_peaks_id.extend(de.loc[sig_peaks_bool, :].index.tolist())\n",
    "\n",
    "sig_peaks_id = np.unique(sig_peaks_id)\n",
    "print(len(sig_peaks_id))\n",
    "sig_peaks = peak_mat.reindex(sig_peaks_id)\n",
    "sig_peaks.columns = sig_peaks.columns.str.split('/').str[-1].str.split(' Tag Count').str[0]\n"
   ]
  },
  {
   "cell_type": "markdown",
   "metadata": {},
   "source": [
    "### Z-score by row for plotting"
   ]
  },
  {
   "cell_type": "code",
   "execution_count": 20,
   "metadata": {},
   "outputs": [],
   "source": [
    "# z-score by row\n",
    "sd = np.std(sig_peaks, 1)\n",
    "mean = np.mean(sig_peaks, 1)\n",
    "z_frame = sig_peaks.subtract(mean, axis='rows').divide(sd, axis='rows')\n",
    "# z_frame.columns = z_frame.columns.str.split('_').str[0]"
   ]
  },
  {
   "cell_type": "markdown",
   "metadata": {},
   "source": [
    "### We will cluster the z-score peaks because this yields a visually appealing plot"
   ]
  },
  {
   "cell_type": "code",
   "execution_count": 21,
   "metadata": {},
   "outputs": [
    {
     "name": "stderr",
     "output_type": "stream",
     "text": [
      "/gpfs/data01/glasslab/home/h1bennet/.conda/envs/dataviz/lib/python3.7/site-packages/ipykernel_launcher.py:3: ClusterWarning: scipy.cluster: The symmetric non-negative hollow observation matrix looks suspiciously like an uncondensed distance matrix\n",
      "  This is separate from the ipykernel package so we can avoid doing imports until\n"
     ]
    }
   ],
   "source": [
    "d2 = dist.pdist(z_frame)\n",
    "D2 = dist.squareform(d2)\n",
    "Y2 = sch.linkage(D2, method='average', metric='euclidean') ### array-clustering metric - 'average', 'single', 'centroid', 'complete'\n",
    "Z2 = sch.dendrogram(Y2, no_plot=True)"
   ]
  },
  {
   "cell_type": "code",
   "execution_count": 25,
   "metadata": {},
   "outputs": [
    {
     "data": {
      "image/png": "[encoded data removed]",
      "text/plain": [
       "<Figure size 141.732x283.465 with 2 Axes>"
      ]
     },
     "metadata": {
      "needs_background": "light"
     },
     "output_type": "display_data"
    }
   ],
   "source": [
    "fig, ax = plt.subplots(1, 1, figsize=(50/mm_conv, 100/mm_conv))\n",
    "\n",
    "hm = sns.heatmap(z_frame.iloc[Z2['leaves'], :],\n",
    "               # z_score=0,\n",
    "                 xticklabels=0,\n",
    "                 yticklabels=0,\n",
    "                 vmin=-2,\n",
    "                 vmax=2,\n",
    "                 cmap='RdBu_r',\n",
    "                 cbar=False,\n",
    "                 ax=ax)\n",
    "\n",
    "ax.set_ylabel('', fontsize=10)  \n",
    "\n",
    "# # Create colorbar\n",
    "cmap = matplotlib.cm.RdBu_r\n",
    "norm = matplotlib.colors.Normalize(vmin=-2, vmax=2)\n",
    "cb = fig.colorbar(matplotlib.cm.ScalarMappable(norm=norm,  cmap='RdBu_r'),\n",
    "                  ax=ax,\n",
    "                  use_gridspec=True,\n",
    "                  shrink=1,\n",
    "                  pad=0.05,\n",
    "                  fraction=0.075,\n",
    "                  aspect=26)\n",
    "cb.ax.tick_params(labelsize=8)\n",
    "cb.set_label('H3K27Ac\\nZ-Score', fontsize=10, rotation=90)\n",
    "plt.savefig('./h3k27ac_differential_clustermap/distal_peaks_clustered_heatmap.png',\n",
    "            dpi=500,\n",
    "            bbox_inches='tight')"
   ]
  },
  {
   "cell_type": "code",
   "execution_count": 26,
   "metadata": {},
   "outputs": [
    {
     "data": {
      "image/png": "[encoded data removed]",
      "text/plain": [
       "<Figure size 141.732x283.465 with 2 Axes>"
      ]
     },
     "metadata": {
      "needs_background": "light"
     },
     "output_type": "display_data"
    }
   ],
   "source": [
    "fig, ax = plt.subplots(1, 1, figsize=(50/mm_conv, 100/mm_conv))\n",
    "\n",
    "hm = sns.heatmap(z_frame.iloc[Z2['leaves'], :],\n",
    "               # z_score=0,\n",
    "                 xticklabels=0,\n",
    "                 yticklabels=0,\n",
    "                 vmin=-2,\n",
    "                 vmax=2,\n",
    "                 cmap='RdBu_r',\n",
    "                 cbar=False,\n",
    "                 ax=ax)\n",
    "\n",
    "ax.set_ylabel('', fontsize=10)  \n",
    "\n",
    "# # Create colorbar\n",
    "cmap = matplotlib.cm.RdBu_r\n",
    "norm = matplotlib.colors.Normalize(vmin=-2, vmax=2)\n",
    "cb = fig.colorbar(matplotlib.cm.ScalarMappable(norm=norm,  cmap='RdBu_r'),\n",
    "                  ax=ax,\n",
    "                  use_gridspec=True,\n",
    "                  shrink=1,\n",
    "                  pad=0.05,\n",
    "                  fraction=0.075,\n",
    "                  aspect=26)\n",
    "cb.ax.tick_params(labelsize=8)\n",
    "cb.set_label('H3K27Ac\\nZ-Score', fontsize=10, rotation=90)\n",
    "# cbar.ax.set_ylabel(cbarlabel, rotation=-90, va=\"bottom\")\n",
    "\n",
    "plt.savefig('./h3k27ac_differential_clustermap/distal_peaks_clustered_heatmap.pdf',\n",
    "            dpi=500,\n",
    "            bbox_inches='tight')"
   ]
  },
  {
   "cell_type": "code",
   "execution_count": null,
   "metadata": {},
   "outputs": [],
   "source": []
  },
  {
   "cell_type": "code",
   "execution_count": null,
   "metadata": {},
   "outputs": [],
   "source": []
  }
 ],
 "metadata": {
  "kernelspec": {
   "display_name": "dataviz",
   "language": "python",
   "name": "dataviz"
  },
  "language_info": {
   "codemirror_mode": {
    "name": "ipython",
    "version": 3
   },
   "file_extension": ".py",
   "mimetype": "text/x-python",
   "name": "python",
   "nbconvert_exporter": "python",
   "pygments_lexer": "ipython3",
   "version": "3.7.5"
  }
 },
 "nbformat": 4,
 "nbformat_minor": 2
}
